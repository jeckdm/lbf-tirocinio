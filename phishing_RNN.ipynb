{
 "cells": [
  {
   "cell_type": "code",
   "execution_count": 3,
   "metadata": {
    "colab": {
     "base_uri": "https://localhost:8080/"
    },
    "id": "7H3jyNpSHD49",
    "outputId": "b3815eab-97d3-4bfc-ba99-54a1341b345e"
   },
   "outputs": [
    {
     "name": "stderr",
     "output_type": "stream",
     "text": [
      "C:\\Users\\Giacomo\\AppData\\Roaming\\Python\\Python38\\site-packages\\wheel\\pep425tags.py:80: RuntimeWarning: Config variable 'Py_DEBUG' is unset, Python ABI tag may be incorrect\n",
      "  if get_flag('Py_DEBUG',\n"
     ]
    }
   ],
   "source": [
    "from os.path import exists\n",
    "from wheel.pep425tags import get_abbr_impl, get_impl_ver, get_abi_tag\n",
    "platform = '{}{}-{}'.format(get_abbr_impl(), get_impl_ver(), get_abi_tag())\n",
    "cuda_output = !ldconfig -p|grep cudart.so|sed -e 's/.*\\.\\([0-9]*\\)\\.\\([0-9]*\\)$/cu\\1\\2/'\n",
    "import torch"
   ]
  },
  {
   "cell_type": "code",
   "execution_count": 1,
   "metadata": {
    "id": "SuuuJZd7ZuIU"
   },
   "outputs": [],
   "source": [
    "# Libraries\n",
    "import torch\n",
    "import torch.nn as nn\n",
    "import torch.nn.functional as F\n",
    "import numpy as np\n",
    "import os\n",
    "import time\n",
    "import pandas as pd\n",
    "import matplotlib.pyplot as plt\n",
    "import seaborn as sns\n",
    "\n",
    "# GPU\n",
    "device = torch.device('cpu')   #use CUDA if you have NVIDIA"
   ]
  },
  {
   "cell_type": "code",
   "execution_count": 4,
   "metadata": {},
   "outputs": [],
   "source": [
    "accelerator = cuda_output[0] if exists('/dev/nvidia0') else 'cpu' "
   ]
  },
  {
   "cell_type": "markdown",
   "metadata": {
    "id": "Cx8AbI2LjfE7"
   },
   "source": [
    "# Load and clean data"
   ]
  },
  {
   "cell_type": "code",
   "execution_count": 32,
   "metadata": {
    "id": "VOE9X9BTxOvw"
   },
   "outputs": [],
   "source": [
    "# Download data\n",
    "legitimate_URLs = np.load(\"small_data/legitimate_URLs.npy\")\n",
    "# legitimate_URLs = np.concatenate((legitimate_URLs,np.load(\"/content/gdrive/My Drive/legitimate_URLs2.npy\")))\n",
    "phishing_URLs = np.load(\"small_data/phishing_URLs.npy\")\n",
    "# phishing_URLs = np.concatenate((phishing_URLs,np.load(\"/content/gdrive/My Drive/phishing_URLs2.npy\")))\n",
    "\n",
    "# randomly permute URLs\n",
    "np.random.seed(0)\n",
    "legitimate_URLs = list(legitimate_URLs[np.random.permutation(len(legitimate_URLs))])\n",
    "phishing_URLs = list(phishing_URLs[np.random.permutation(len(phishing_URLs))])\n",
    "\n",
    "# clean URLs\n",
    "legitimate_URLs = [l.split('http://')[-1].split('www.')[-1].split('https://')[-1] for l in legitimate_URLs]\n",
    "phishing_URLs = [p.split('http://')[-1].split('www.')[-1].split('https://')[-1] for p in phishing_URLs]\n",
    "phishing_URLs = list(set(phishing_URLs) - set(legitimate_URLs))"
   ]
  },
  {
   "cell_type": "code",
   "execution_count": 62,
   "metadata": {
    "colab": {
     "base_uri": "https://localhost:8080/"
    },
    "id": "8vMg_EszoYdJ",
    "outputId": "66765996-bf40-40e3-fab6-d7b98c23c0e9"
   },
   "outputs": [
    {
     "data": {
      "text/plain": [
       "(14999, 5334)"
      ]
     },
     "execution_count": 62,
     "metadata": {},
     "output_type": "execute_result"
    }
   ],
   "source": [
    "len(legitimate_URLs), len(phishing_URLs)\n",
    "\n",
    "# Phishing > Legit, Dataset troppo piccolo"
   ]
  },
  {
   "cell_type": "code",
   "execution_count": 61,
   "metadata": {},
   "outputs": [],
   "source": [
    "phishing_URLs.remove('')"
   ]
  },
  {
   "cell_type": "code",
   "execution_count": 63,
   "metadata": {
    "id": "faSrZGAEK7wr"
   },
   "outputs": [],
   "source": [
    "# map to numbers\n",
    "letters = ''.join(legitimate_URLs+phishing_URLs) #String unica di URL senza spazi\n",
    "from collections import Counter\n",
    "c = Counter(letters) # Dizionario con occorrenze delle lettere\n",
    "d = {}\n",
    "for i, (l, _) in enumerate(c.most_common(128)):\n",
    "    d[l] = i + 1 # Dizionario ordinato per numero di occorrenze"
   ]
  },
  {
   "cell_type": "code",
   "execution_count": 64,
   "metadata": {
    "id": "W5dbZ30soiBV"
   },
   "outputs": [
    {
     "data": {
      "text/plain": [
       "torch.Size([12833, 150])"
      ]
     },
     "execution_count": 64,
     "metadata": {},
     "output_type": "execute_result"
    }
   ],
   "source": [
    "# training set: all keys plus non-keys\n",
    "# testing set: remaining non-keys \n",
    "training_list = legitimate_URLs[:int(len(legitimate_URLs)/2)]+phishing_URLs\n",
    "testing_list = legitimate_URLs[int(len(legitimate_URLs)/2):]\n",
    "    \n",
    "# cut off at 150 chars\n",
    "char_cutoff = 150\n",
    "\n",
    "# Matrice con entry i vari URL del training set portati a 150 char con eventuale padding/troncatura.\n",
    "# Gli URL vengono rappresentati sostiuendo ad ogni lettera l'int rappresentante la posizione nelle occorrenze\n",
    "X_train = torch.tensor([[d.get(l,0) for l in url[:min([len(url),char_cutoff])]]+[0 for l in range(char_cutoff-len(url))] \n",
    "                        for url in training_list])\n",
    "y_train = torch.tensor([0]*int(len(legitimate_URLs)/2)+[1]*int(len(phishing_URLs)))\n",
    "\n",
    "X_test = torch.tensor([[d.get(l,0) for l in url[:min([len(url),char_cutoff])]]+[0 for l in range(char_cutoff-len(url))] \n",
    "                        for url in testing_list])\n",
    "y_test = torch.tensor([0]*(len(testing_list)))\n",
    "\n",
    "X_train.size()"
   ]
  },
  {
   "cell_type": "code",
   "execution_count": 65,
   "metadata": {
    "id": "RSiIBBk2e8-s"
   },
   "outputs": [],
   "source": [
    "# Batch data\n",
    "def make_batch_train(X_t, y_t, B):\n",
    "  sample = torch.randint(0, X_t.shape[0], [B]).long()\n",
    "  batch_X0 = torch.stack([X_t[s] for s in sample])\n",
    "  batch_X = batch_X0.to(device)\n",
    "  batch_y0 = torch.stack([y_t[s]*torch.ones(len(X_t[s])).long() for s in sample]).to(device)     #\n",
    "  batch_y = batch_y0.to(device)\n",
    "  return batch_X, batch_y\n",
    "  \n",
    "def make_batch_test(X_t, y_t, B):\n",
    "  sample = torch.randint(0, X_t.shape[0], [B]).long()\n",
    "  batch_X0 = torch.stack([X_t[s] for s in sample])\n",
    "  batch_X = batch_X0.to(device)\n",
    "  batch_y0 = torch.stack([y_t[s] for s in sample]).to(device)\n",
    "  batch_y = batch_y0.to(device)\n",
    "  return batch_X, batch_y\n"
   ]
  },
  {
   "cell_type": "code",
   "execution_count": 66,
   "metadata": {
    "id": "IydI_DuQzvQj"
   },
   "outputs": [],
   "source": [
    "class RNN(nn.Module):\n",
    "    def __init__(self, input_size=150, output_size=2, emb_size=128, h_size=128, layers=1, dropout=0.3):\n",
    "        super(RNN, self).__init__()\n",
    "        self.embedding = nn.Embedding(input_size, emb_size)\n",
    "        self.rnn = nn.GRU(emb_size, h_size, num_layers=layers, batch_first=True)\n",
    "        self.dropout = nn.Dropout(dropout)\n",
    "        self.linear = nn.Linear(h_size, output_size)\n",
    "        \n",
    "    def forward(self, x, h=None):\n",
    "        x = self.embedding(x)\n",
    "        x, h = self.rnn(x, h)\n",
    "        x = self.linear(x)\n",
    "        return x, h"
   ]
  },
  {
   "cell_type": "code",
   "execution_count": 67,
   "metadata": {
    "id": "k4jkGELPzx72"
   },
   "outputs": [],
   "source": [
    "def val(model, X_t, y_t):\n",
    "    model.eval()\n",
    "    with torch.no_grad():\n",
    "        total = 0\n",
    "        total_right = 0\n",
    "        total_loss = 0\n",
    "        for batch in range(50):\n",
    "            x,y = make_batch_test(X_t, y_t, 256)\n",
    "            y_hat, _ = model(x)\n",
    "            #optimizer.zero_grad()\n",
    "            preds = y_hat.max(dim=2)[1][:,149]\n",
    "            preds_eq = preds.eq(y)\n",
    "            total_right += preds_eq.sum().item()\n",
    "            total += preds_eq.numel()\n",
    "            loss = criterion(y_hat[:,149].view(-1,2), y.view(-1).long()).detach().item()\n",
    "            total_loss += loss\n",
    "    return total_right / total, total_loss / 50"
   ]
  },
  {
   "cell_type": "code",
   "execution_count": 68,
   "metadata": {
    "id": "iUpOjBikzzi3"
   },
   "outputs": [],
   "source": [
    "def train(model):\n",
    "    model.train()\n",
    "    total_loss = 0\n",
    "    for batch in range(50):\n",
    "        x, y = make_batch_train(X_train, y_train, 256)\n",
    "        y_hat, _ = model(x)\n",
    "        optimizer.zero_grad()\n",
    "        y_hat = y_hat.view(-1,2)\n",
    "        y = y.view(-1).long()\n",
    "        loss = criterion(y_hat, y)\n",
    "        loss.backward()\n",
    "        optimizer.step()\n",
    "    total_loss += loss.item()\n",
    "    return total_loss / 50"
   ]
  },
  {
   "cell_type": "code",
   "execution_count": 69,
   "metadata": {
    "id": "MRU8Nn49Q_3-"
   },
   "outputs": [],
   "source": [
    "emb_size=5\n",
    "h_sizes = [16,8,4]\n",
    "layers = 1\n",
    "criterion = nn.CrossEntropyLoss()\n",
    "#loc = \"/content/gdrive/My Drive/College/current classes/CS 222 fall 2018/CS222 Project/simulations/\"\n",
    "loc = \"trained_NN/simulations/\"\n",
    "#plot_loc = \"/content/gdrive/My Drive/College/current classes/CS 222 fall 2018/CS222 Project/plots/\"\n",
    "plot_loc = \"/content/gdrive/My Drive/trained_NN/plots/\""
   ]
  },
  {
   "cell_type": "markdown",
   "metadata": {
    "id": "ttM9ANfpjlVn"
   },
   "source": [
    "# Train (don't need to run this)"
   ]
  },
  {
   "cell_type": "code",
   "execution_count": 70,
   "metadata": {
    "colab": {
     "base_uri": "https://localhost:8080/"
    },
    "id": "mrO8gtMOz1tw",
    "outputId": "e943f287-f597-48cc-f76d-9f257bdf889a"
   },
   "outputs": [
    {
     "name": "stdout",
     "output_type": "stream",
     "text": [
      "[E   0] Loss: 0.6829 | Acc: 0.6153\n",
      "[E  10] Loss: 0.0649 | Acc: 0.9870\n",
      "[E  20] Loss: 0.0233 | Acc: 0.9960\n",
      "276.8093385696411\n",
      "[E   0] Loss: 0.6814 | Acc: 0.5950\n",
      "[E  10] Loss: 0.0181 | Acc: 0.9984\n",
      "[E  20] Loss: 0.0119 | Acc: 0.9986\n",
      "238.7603759765625\n",
      "[E   0] Loss: 0.6796 | Acc: 0.6117\n",
      "[E  10] Loss: 0.0393 | Acc: 0.9968\n",
      "[E  20] Loss: 0.0114 | Acc: 0.9989\n",
      "216.4069368839264\n"
     ]
    }
   ],
   "source": [
    "models = {}\n",
    "for i in range(3):\n",
    "  h_size = h_sizes[i]\n",
    "  # Create model, loss function, optimizer\n",
    "  models[i] = RNN(emb_size=emb_size, h_size=h_size, layers=layers).to(device)\n",
    "  optimizer = torch.optim.Adamax(models[i].parameters())\n",
    "\n",
    "  # Train and validate\n",
    "  start = time.time()\n",
    "  for epoch in range(30):\n",
    "      train_loss = train(models[i])\n",
    "      val_acc, val_loss = val(models[i],X_train,y_train)\n",
    "      if(epoch%10 == 0):\n",
    "        print('[E{:4d}] Loss: {:.4f} | Acc: {:.4f}'.format(epoch, val_loss, val_acc))\n",
    "  end = time.time()\n",
    "  print(end-start)\n",
    "  torch.save(models[i].state_dict(), loc+\"RNN_emb\"+str(emb_size)+\"_hid\"+str(h_size))  "
   ]
  },
  {
   "cell_type": "markdown",
   "metadata": {
    "id": "r1M9slR3joT1"
   },
   "source": [
    "# Load trained RNNs and evaluate (change paths)"
   ]
  },
  {
   "cell_type": "code",
   "execution_count": 71,
   "metadata": {
    "colab": {
     "base_uri": "https://localhost:8080/"
    },
    "id": "pYcTnDiDZyBq",
    "outputId": "f9e9b186-6c18-4143-b961-fa49b8058fc5"
   },
   "outputs": [
    {
     "name": "stdout",
     "output_type": "stream",
     "text": [
      "hidden size 16\n",
      "model size (bytes) 10151\n",
      "(0.998125, 0.006046581794507801)\n",
      "time to evaluate 0.009284141063690186\n",
      "==============================\n",
      "hidden size 8\n",
      "model size (bytes) 7079\n",
      "(1.0, 0.0011393458116799593)\n",
      "time to evaluate 0.009328255653381348\n",
      "==============================\n",
      "hidden size 4\n",
      "model size (bytes) 6055\n",
      "(1.0, 0.001392344944179058)\n",
      "time to evaluate 0.009404251575469971\n",
      "==============================\n"
     ]
    }
   ],
   "source": [
    "# sizes of RNN models\n",
    "models = {}\n",
    "model_sizes = {}\n",
    "for i,h_size in enumerate(h_sizes):\n",
    "  print(\"hidden size\", h_size)\n",
    "  model_sizes[i] = os.path.getsize(loc+\"RNN_emb\"+str(emb_size)+\"_hid\"+str(h_size))\n",
    "  print(\"model size (bytes)\", model_sizes[i])\n",
    "  models[i] = RNN(emb_size=emb_size, h_size=h_size, layers=layers).to(device)\n",
    "  models[i].load_state_dict(torch.load(loc+\"RNN_emb\"+str(emb_size)+\"_hid\"+str(h_size)))\n",
    "  models[i].eval()\n",
    "  print(val(models[i], X_test,y_test))\n",
    "  \n",
    "  avg_time = 0\n",
    "  for t in range(100):\n",
    "    x,y = make_batch_test(X_test, y_test,1)\n",
    "    start = time.time()\n",
    "    models[i](x)\n",
    "    total = time.time()-start\n",
    "    avg_time += total\n",
    "  avg_time /= 100\n",
    "  print(\"time to evaluate\", avg_time)\n",
    "  print(\"=\"*30)"
   ]
  },
  {
   "cell_type": "markdown",
   "metadata": {
    "id": "5FnUFpczkQG4"
   },
   "source": [
    "# Bloom Filter Class"
   ]
  },
  {
   "cell_type": "code",
   "execution_count": 72,
   "metadata": {
    "id": "Ce4oNOg9XKJr"
   },
   "outputs": [],
   "source": [
    "import mmh3\n",
    "import math\n",
    "import torch\n",
    "from bitarray import bitarray \n",
    "\n",
    "class BloomFilter(object): \n",
    "  \n",
    "    def __init__(self, items_count,fp_prob): \n",
    "        ''' \n",
    "        items_count : int \n",
    "            Number of items expected to be stored in bloom filter \n",
    "        fp_prob : float \n",
    "            False Positive probability in decimal \n",
    "        '''\n",
    "        # False posible probability in decimal \n",
    "        self.fp_prob = fp_prob \n",
    "  \n",
    "        # Size of bit array to use \n",
    "        self.size = self.get_size(items_count,fp_prob) \n",
    "  \n",
    "        # number of hash functions to use \n",
    "        self.hash_count = self.get_hash_count(self.size,items_count) \n",
    "  \n",
    "        # Bit array of given size \n",
    "        self.bit_array = bitarray(self.size) \n",
    "  \n",
    "        # initialize all bits as 0 \n",
    "        self.bit_array.setall(0) \n",
    "  \n",
    "    def add(self, item): \n",
    "        ''' \n",
    "        Add an item in the filter \n",
    "        '''\n",
    "        digests = [] \n",
    "        for i in range(self.hash_count): \n",
    "            # i works as seed to mmh3.hash() function \n",
    "            digest = mmh3.hash(item,i) % self.size \n",
    "            digests.append(digest) \n",
    "  \n",
    "            # set the bit True in bit_array \n",
    "            self.bit_array[digest] = True\n",
    "  \n",
    "    def check(self, item): \n",
    "        ''' \n",
    "        Check for existence of an item in filter \n",
    "        '''\n",
    "        for i in range(self.hash_count): \n",
    "            digest = mmh3.hash(item,i) % self.size \n",
    "            if self.bit_array[digest] == False: \n",
    "  \n",
    "                # if any of bit is False then,its not present \n",
    "                # in filter \n",
    "                # else there is probability that it exist \n",
    "                return False\n",
    "        return True\n",
    "  \n",
    "    @classmethod\n",
    "    def get_size(self,n,p): \n",
    "        ''' \n",
    "        Return the size of bit array(m) to used using \n",
    "        following formula \n",
    "        m = -(n * lg(p)) / (lg(2)^2) \n",
    "        n : int \n",
    "            number of items expected to be stored in filter \n",
    "        p : float \n",
    "            False Positive probability in decimal \n",
    "        '''\n",
    "        m = -(n * math.log(p))/(math.log(2)**2) \n",
    "        return int(m) \n",
    "  \n",
    "    @classmethod\n",
    "    def get_hash_count(self, m, n): \n",
    "        ''' \n",
    "        Return the hash function(k) to be used using \n",
    "        following formula \n",
    "        k = (m/n) * lg(2) \n",
    "  \n",
    "        m : int \n",
    "            size of bit array \n",
    "        n : int \n",
    "            number of items expected to be stored in filter \n",
    "        '''\n",
    "\n",
    "        k = (m/n) * math.log(2) \n",
    "        return int(k)"
   ]
  },
  {
   "cell_type": "markdown",
   "metadata": {
    "id": "kAhcFnszkflF"
   },
   "source": [
    "# BF"
   ]
  },
  {
   "cell_type": "code",
   "execution_count": 73,
   "metadata": {
    "id": "aNrQv0I2kxJp"
   },
   "outputs": [],
   "source": [
    "def run_BF(FPR):\n",
    "  # Crea BF su un set di Key pari al numero di phishing e con target FPR\n",
    "  BF = BloomFilter(len(phishing_URLs), FPR)\n",
    "  for url in phishing_URLs:\n",
    "    BF.add(url)\n",
    "  \n",
    "  \n",
    "  fps = 0\n",
    "  total = 0\n",
    "  total_time = 0\n",
    "  # Testa il filtro di bloom su l'insieme dei legit per calcolare il tasso di FPR\n",
    "  for url in testing_list:\n",
    "    total += 1\n",
    "    start = time.time()\n",
    "    result = BF.check(url)\n",
    "    end = time.time()\n",
    "    total_time += (end-start)\n",
    "    # Se elemento presente allora falso positivo\n",
    "    if result == True:\n",
    "      fps += 1\n",
    "  \n",
    "  avg_fp = fps/total\n",
    "\n",
    "  # returns empirical FPR, BF size in bytes, and access time per element\n",
    "  return avg_fp, BF.size/8, (total_time)/len(testing_list)"
   ]
  },
  {
   "cell_type": "code",
   "execution_count": 74,
   "metadata": {
    "colab": {
     "base_uri": "https://localhost:8080/"
    },
    "id": "Geiultr4yIQe",
    "outputId": "dabf2d32-a4cf-450b-a41b-5ea8e6c1e9cd"
   },
   "outputs": [
    {
     "name": "stdout",
     "output_type": "stream",
     "text": [
      "FPR 0.020933333333333335 size 5428.875 time 1.200262705485026e-06\n"
     ]
    }
   ],
   "source": [
    "FPR, BF_size, t = run_BF(0.02)\n",
    "print(\"FPR\", FPR, \"size\", BF_size, \"time\", t)\n",
    "BF = {\"FPR\": FPR, \"size\": BF_size, \"time\": t}\n",
    "np.save(loc+\"BF\", BF)"
   ]
  },
  {
   "cell_type": "code",
   "execution_count": 75,
   "metadata": {
    "colab": {
     "base_uri": "https://localhost:8080/"
    },
    "id": "JnWwuu0lvXbO",
    "outputId": "795e0d50-b6e3-4275-a418-8506ffa8ceae"
   },
   "outputs": [
    {
     "name": "stdout",
     "output_type": "stream",
     "text": [
      "{0.001: 9586.25, 0.005: 7352.75, 0.01: 6390.75, 0.02: 5428.875}\n"
     ]
    }
   ],
   "source": [
    "BF_sizes = {}\n",
    "# Aggiungo alcuni fpr\n",
    "fprs = [0.001,0.005,0.01,0.02]\n",
    "# Stampa grandezza del filtro in relazione al target fpr\n",
    "for fpr in fprs:\n",
    "  BF = BloomFilter(len(phishing_URLs), fpr)\n",
    "  BF_sizes[fpr] = BF.size / 8\n",
    "  \n",
    "print(BF_sizes)"
   ]
  },
  {
   "cell_type": "markdown",
   "metadata": {
    "id": "XGPXONP--51O"
   },
   "source": [
    "# Classifier"
   ]
  },
  {
   "cell_type": "code",
   "execution_count": 76,
   "metadata": {
    "id": "jtyF49pSjvFv"
   },
   "outputs": [],
   "source": [
    "# Esegue modello in input precedentemente addestrato suddividendo i risultati in due liste \n",
    "# probs1 contiene risultati per le entry phishing\n",
    "# probs0 contiene risultati per le entru legit\n",
    "def get_classifier_probs(model):\n",
    "    probs1 = []\n",
    "    probs0 = []\n",
    "    # Divisione in batch da 100\n",
    "    for i in range(int(len(y_train)/100)+1):\n",
    "        x0 = torch.stack([X_train[s] for s in range(100*i, min(100*(i+1), len(y_train)))])\n",
    "        x = x0.to(device)\n",
    "        y0 = torch.stack([y_train[s] for s in range(100*i, min(100*(i+1), len(y_train)))])\n",
    "        y = y0.to(device)  \n",
    "        y_hat, _ = model(x)\n",
    "        ps = torch.sigmoid(y_hat[:,:,1])[:,149]\n",
    "        # Squeeze causa errori con conversione in lista se fatto con tensor di dimensione 1\n",
    "        # Aggiunto if else\n",
    "        if(len(ps[y==1]) != 1):\n",
    "            probs1 += list(ps[y==1].squeeze().detach().cpu().numpy()) \n",
    "        else:\n",
    "            probs1 += list(ps[y==1].detach().cpu().numpy()) \n",
    "        if(len(ps[y==0]) != 1):\n",
    "            probs0 += list(ps[y==0].squeeze().detach().cpu().numpy())\n",
    "        else:\n",
    "            probs0 += list(ps[y==0].detach().cpu().numpy())\n",
    "    return probs1, probs0"
   ]
  },
  {
   "cell_type": "code",
   "execution_count": 77,
   "metadata": {
    "id": "4rI1KgZQe6U8"
   },
   "outputs": [],
   "source": [
    "# Grafici precedentemente commentati, non molto significativi?\n",
    "probs = {}\n",
    "urls = {}\n",
    "probs[0] = get_classifier_probs(models[0])\n",
    "probs[1] = get_classifier_probs(models[1])\n",
    "probs[2] = get_classifier_probs(models[2])"
   ]
  },
  {
   "cell_type": "code",
   "execution_count": 80,
   "metadata": {
    "colab": {
     "base_uri": "https://localhost:8080/",
     "height": 1000
    },
    "id": "GL782j87fPXW",
    "outputId": "6b448ca1-d126-4771-e6e7-5ae596d6d170"
   },
   "outputs": [
    {
     "data": {
      "image/png": "[encoded data removed]",
      "text/plain": [
       "<Figure size 402.375x360 with 1 Axes>"
      ]
     },
     "metadata": {
      "needs_background": "light"
     },
     "output_type": "display_data"
    },
    {
     "data": {
      "image/png": "[encoded data removed]",
      "text/plain": [
       "<Figure size 402.375x360 with 1 Axes>"
      ]
     },
     "metadata": {
      "needs_background": "light"
     },
     "output_type": "display_data"
    },
    {
     "data": {
      "image/png": "[encoded data removed]",
      "text/plain": [
       "<Figure size 402.375x360 with 1 Axes>"
      ]
     },
     "metadata": {
      "needs_background": "light"
     },
     "output_type": "display_data"
    }
   ],
   "source": [
    "sns.displot(probs[0], label = \"GRU, 128 dimensions\")\n",
    "sns.displot(probs[1], label = \"GRU, 32 dimensions\")\n",
    "sns.displot(probs[2], label = \"GRU, 16 dimensions\")\n",
    "plt.title(\"Distribution of classifier output probabilities for non-keys\")\n",
    "plt.legend()\n",
    "plt.show()"
   ]
  },
  {
   "cell_type": "code",
   "execution_count": 78,
   "metadata": {
    "id": "jffNHR2fgdRI"
   },
   "outputs": [],
   "source": [
    "def determine_tau(FPR_tau, prob_list):\n",
    "  return np.percentile(np.array(prob_list),100*(1.-FPR_tau))"
   ]
  },
  {
   "cell_type": "markdown",
   "metadata": {
    "id": "wskpqti-kGxL"
   },
   "source": [
    "# LBF"
   ]
  },
  {
   "cell_type": "code",
   "execution_count": 79,
   "metadata": {
    "id": "c0VjG9_Yj8Ym"
   },
   "outputs": [],
   "source": [
    "# Costruisce classificatore per LBF e ritorna relativo numero di falsi negativi e tau ottimale\n",
    "def build_LBF_classifier(model,FPR_tau):\n",
    "  probs1, probs0 = get_classifier_probs(model)\n",
    "  tau = determine_tau(FPR_tau,probs0)\n",
    "  false_negs = []\n",
    "  for i,url in enumerate(phishing_URLs):\n",
    "    if(probs1[i] < tau):\n",
    "      false_negs += [url]\n",
    "  return false_negs, tau"
   ]
  },
  {
   "cell_type": "code",
   "execution_count": 80,
   "metadata": {
    "id": "rjycaqWhPQsC"
   },
   "outputs": [],
   "source": [
    "def build_LBF_backup(false_negs, FPR, FPR_tau):\n",
    "  num_false_negs = len(false_negs)\n",
    "  FPR_B = (FPR-FPR_tau)/(1-FPR_tau)\n",
    "  if(FPR_B <= 0):\n",
    "    return \"error\"\n",
    "  LBF_backup = BloomFilter(num_false_negs, FPR_B)\n",
    "  for url in false_negs:\n",
    "    LBF_backup.add(url)\n",
    "  return LBF_backup"
   ]
  },
  {
   "cell_type": "code",
   "execution_count": 110,
   "metadata": {
    "id": "XLuM9cKq-kD4"
   },
   "outputs": [],
   "source": [
    "def test_LBF(model, LBF_backup, tau):\n",
    "  # test on testing data\n",
    "  fps = 0\n",
    "  total = 0\n",
    "  total_time = 0\n",
    "  for i in range(int(len(y_test)/100)+1):\n",
    "    # Aggiunto if per evitare eccezioni da stack se la lista é vuota\n",
    "    if(len([X_test[s] for s in range(100*i, min(100*(i+1), len(y_test)))]) > 0):\n",
    "        x0 = torch.stack([X_test[s] for s in range(100*i, min(100*(i+1), len(y_test)))])\n",
    "        x = x0.to(device)\n",
    "        y0 = torch.stack([y_test[s] for s in range(100*i, min(100*(i+1), len(y_test)))])\n",
    "        y = y0.to(device)  \n",
    "        total += len(y)\n",
    "\n",
    "        start = time.time()\n",
    "        y_hat, _ = model(x)\n",
    "        ps = torch.sigmoid(y_hat[:,:,1])[:,149].squeeze().detach().cpu().numpy()\n",
    "        for ix, p in enumerate(ps):\n",
    "          if(p > tau):\n",
    "            result = True        \n",
    "          else:\n",
    "            result = LBF_backup.check(testing_list[100*i+ix])\n",
    "          if(result):\n",
    "            fps += 1\n",
    "        end = time.time()\n",
    "        total_time += (end-start)\n",
    "\n",
    "  avg_fp = fps/total\n",
    "  \n",
    "  # returns empirical FPR, BF size, and avg access time\n",
    "  return avg_fp, LBF_backup.size / 8, (total_time)/len(y_test)"
   ]
  },
  {
   "cell_type": "markdown",
   "metadata": {
    "id": "xVTsU-kgOEMn"
   },
   "source": [
    "# SBF.py equivalent"
   ]
  },
  {
   "cell_type": "code",
   "execution_count": 82,
   "metadata": {
    "id": "aH-aAi8aOJgM"
   },
   "outputs": [],
   "source": [
    "def build_SLBF_initial(false_negs, FPR, FPR_tau):\n",
    "  num_false_negs = len(false_negs)\n",
    "  FPR_B0 = FPR/FPR_tau*(1.-num_false_negs/len(phishing_URLs))\n",
    "  if(FPR_B0 <= 0 or FPR_B0 >= 1):\n",
    "    return \"error\"\n",
    "  SLBF_initial = BloomFilter(len(phishing_URLs), FPR_B0)\n",
    "  for url in phishing_URLs:\n",
    "    SLBF_initial.add(url)\n",
    "  return SLBF_initial"
   ]
  },
  {
   "cell_type": "code",
   "execution_count": 83,
   "metadata": {
    "id": "F1bQENYNShk3"
   },
   "outputs": [],
   "source": [
    "def build_SLBF_backup(false_negs, FPR_tau):\n",
    "  num_false_negs = len(false_negs)\n",
    "  FPR_B = FPR_tau/((1-FPR_tau)*(len(phishing_URLs)/num_false_negs - 1))\n",
    "  if(FPR_B <= 0):\n",
    "    return \"error\"\n",
    "  SLBF_backup = BloomFilter(num_false_negs, FPR_B)\n",
    "  for url in false_negs:\n",
    "    SLBF_backup.add(url)\n",
    "  return SLBF_backup"
   ]
  },
  {
   "cell_type": "code",
   "execution_count": 84,
   "metadata": {
    "id": "UF-srG_ZW0vP"
   },
   "outputs": [],
   "source": [
    "def test_SLBF(SLBF_initial, model, SLBF_backup, tau):\n",
    "  # test on testing data\n",
    "  fps = 0\n",
    "  total = 0\n",
    "  total_time = 0\n",
    "  for i in range(int(len(y_test)/100)+1):\n",
    "    x0 = torch.stack([X_test[s] for s in range(100*i, min(100*(i+1), len(y_test)))])\n",
    "    x = x0.to(device)\n",
    "    y0 = torch.stack([y_test[s] for s in range(100*i, min(100*(i+1), len(y_test)))])\n",
    "    y = y0.to(device)  \n",
    "    total += len(y)\n",
    "    \n",
    "    start = time.time()\n",
    "    y_hat, _ = model(x)\n",
    "    ps = torch.sigmoid(y_hat[:,:,1])[:,149].squeeze().detach().cpu().numpy()\n",
    "    for ix, p in enumerate(ps):\n",
    "      result = SLBF_initial.check(testing_list[100*i+ix])\n",
    "      if(result):\n",
    "        if(p>tau):\n",
    "          result = True\n",
    "        else:\n",
    "          result = SLBF_backup.check(testing_list[100*i+ix])\n",
    "      if(result):\n",
    "        fps += 1\n",
    "    end = time.time()\n",
    "    total_time += (end-start)\n",
    "\n",
    "  avg_fp = fps/total\n",
    "  \n",
    "  # returns empirical FPR, BF size, and avg access time\n",
    "  return avg_fp, (SLBF_initial.size+SLBF_backup.size) / 8, (total_time)/len(y_test)"
   ]
  },
  {
   "cell_type": "markdown",
   "metadata": {
    "id": "heV-YOqpOJ1R"
   },
   "source": [
    "# $\\tau$ analysis for LBF"
   ]
  },
  {
   "cell_type": "code",
   "execution_count": 85,
   "metadata": {
    "colab": {
     "base_uri": "https://localhost:8080/"
    },
    "id": "19IzVQ40ODJ4",
    "outputId": "faca231f-a115-43c5-afec-48c77ac0a2f7"
   },
   "outputs": [
    {
     "name": "stdout",
     "output_type": "stream",
     "text": [
      "Modello 0: 0.001, 0.10, 0.02005999250093738404, 0.8877972820\n",
      "Modello 0: 0.001, 0.20, 0.01256092988376452876, 0.8661635620\n",
      "Modello 0: 0.001, 0.30, 0.01031121109861267426, 0.8514304202\n",
      "Modello 0: 0.001, 0.40, 0.01012373453318335219, 0.8497680281\n",
      "Modello 0: 0.001, 0.50, 0.01012373453318335219, 0.8487637761\n",
      "Modello 0: 0.001, 0.60, 0.00974878140232470977, 0.8450033795\n",
      "Modello 0: 0.001, 0.70, 0.00843644544431946045, 0.8376207600\n",
      "Modello 0: 0.001, 0.80, 0.00731158605174353233, 0.8257322680\n",
      "Modello 0: 0.001, 0.90, 0.00674915635545556784, 0.8159802906\n",
      "Modello 0: 0.001, 1.00, 0.00543682039745031851, 0.8075417292\n",
      "Modello 0: 0.005, 0.10, 0.01012373453318335219, 0.8487637761\n",
      "Modello 0: 0.005, 0.20, 0.00543682039745031851, 0.8075417292\n",
      "Modello 0: 0.005, 0.30, 0.00318710161229846271, 0.5684785098\n",
      "Modello 0: 0.005, 0.40, 0.00281214848143981986, 0.0485124902\n",
      "Modello 0: 0.005, 0.50, 0.00281214848143981986, 0.0280070336\n",
      "Modello 0: 0.005, 0.60, 0.00262467191601049865, 0.0241809990\n",
      "Modello 0: 0.005, 0.70, 0.00262467191601049865, 0.0233502873\n",
      "Modello 0: 0.005, 0.80, 0.00262467191601049865, 0.0226204381\n",
      "Modello 0: 0.005, 0.90, 0.00262467191601049865, 0.0224719436\n",
      "Modello 0: 0.005, 1.00, 0.00262467191601049865, 0.0223827602\n",
      "Modello 0: 0.010, 0.10, 0.00543682039745031851, 0.8075417292\n",
      "Modello 0: 0.010, 0.20, 0.00281214848143981986, 0.0485124902\n",
      "Modello 0: 0.010, 0.30, 0.00262467191601049865, 0.0241809990\n",
      "Modello 0: 0.010, 0.40, 0.00262467191601049865, 0.0226204381\n",
      "Modello 0: 0.010, 0.50, 0.00262467191601049865, 0.0223827602\n",
      "Modello 0: 0.010, 0.60, 0.00262467191601049865, 0.0220769744\n",
      "Modello 0: 0.010, 0.70, 0.00262467191601049865, 0.0219667040\n",
      "Modello 0: 0.010, 0.80, 0.00262467191601049865, 0.0218831173\n",
      "Modello 0: 0.010, 0.90, 0.00243719535058117744, 0.0218052136\n",
      "Modello 0: 0.010, 1.00, 0.00224971878515185623, 0.0217510585\n",
      "Modello 0: 0.020, 0.10, 0.00281214848143981986, 0.0485124902\n",
      "Modello 0: 0.020, 0.20, 0.00262467191601049865, 0.0226204381\n",
      "Modello 0: 0.020, 0.30, 0.00262467191601049865, 0.0220769744\n",
      "Modello 0: 0.020, 0.40, 0.00262467191601049865, 0.0218831173\n",
      "Modello 0: 0.020, 0.50, 0.00224971878515185623, 0.0217510585\n",
      "Modello 0: 0.020, 0.60, 0.00224971878515185623, 0.0216938420\n",
      "Modello 0: 0.020, 0.70, 0.00224971878515185623, 0.0216518246\n",
      "Modello 0: 0.020, 0.80, 0.00224971878515185623, 0.0216177682\n",
      "Modello 0: 0.020, 0.90, 0.00224971878515185623, 0.0215941603\n",
      "Modello 0: 0.020, 1.00, 0.00224971878515185623, 0.0215699085\n",
      "Modello 1: 0.001, 0.10, 0.00000000000000000000, 0.0283527933\n",
      "Modello 1: 0.001, 0.20, 0.00000000000000000000, 0.0283527933\n",
      "Modello 1: 0.001, 0.30, 0.00000000000000000000, 0.0283527933\n",
      "Modello 1: 0.001, 0.40, 0.00000000000000000000, 0.0283527933\n",
      "Modello 1: 0.001, 0.50, 0.00000000000000000000, 0.0283527933\n",
      "Modello 1: 0.001, 0.60, 0.00000000000000000000, 0.0283527933\n",
      "Modello 1: 0.001, 0.70, 0.00000000000000000000, 0.0283527933\n",
      "Modello 1: 0.001, 0.80, 0.00000000000000000000, 0.0283527933\n",
      "Modello 1: 0.001, 0.90, 0.00000000000000000000, 0.0283527933\n",
      "Modello 1: 0.001, 1.00, 0.00000000000000000000, 0.0283527933\n",
      "Modello 1: 0.005, 0.10, 0.00000000000000000000, 0.0283527933\n",
      "Modello 1: 0.005, 0.20, 0.00000000000000000000, 0.0283527933\n",
      "Modello 1: 0.005, 0.30, 0.00000000000000000000, 0.0283527933\n",
      "Modello 1: 0.005, 0.40, 0.00000000000000000000, 0.0283527933\n",
      "Modello 1: 0.005, 0.50, 0.00000000000000000000, 0.0283527933\n",
      "Modello 1: 0.005, 0.60, 0.00000000000000000000, 0.0283527933\n",
      "Modello 1: 0.005, 0.70, 0.00000000000000000000, 0.0283527933\n",
      "Modello 1: 0.005, 0.80, 0.00000000000000000000, 0.0283527933\n",
      "Modello 1: 0.005, 0.90, 0.00000000000000000000, 0.0283527933\n",
      "Modello 1: 0.005, 1.00, 0.00000000000000000000, 0.0283527933\n",
      "Modello 1: 0.010, 0.10, 0.00000000000000000000, 0.0283527933\n",
      "Modello 1: 0.010, 0.20, 0.00000000000000000000, 0.0283527933\n",
      "Modello 1: 0.010, 0.30, 0.00000000000000000000, 0.0283527933\n",
      "Modello 1: 0.010, 0.40, 0.00000000000000000000, 0.0283527933\n",
      "Modello 1: 0.010, 0.50, 0.00000000000000000000, 0.0283527933\n",
      "Modello 1: 0.010, 0.60, 0.00000000000000000000, 0.0283527933\n",
      "Modello 1: 0.010, 0.70, 0.00000000000000000000, 0.0283527933\n",
      "Modello 1: 0.010, 0.80, 0.00000000000000000000, 0.0283527933\n",
      "Modello 1: 0.010, 0.90, 0.00000000000000000000, 0.0283527933\n",
      "Modello 1: 0.010, 1.00, 0.00000000000000000000, 0.0283527933\n",
      "Modello 1: 0.020, 0.10, 0.00000000000000000000, 0.0283527933\n",
      "Modello 1: 0.020, 0.20, 0.00000000000000000000, 0.0283527933\n",
      "Modello 1: 0.020, 0.30, 0.00000000000000000000, 0.0283527933\n",
      "Modello 1: 0.020, 0.40, 0.00000000000000000000, 0.0283527933\n",
      "Modello 1: 0.020, 0.50, 0.00000000000000000000, 0.0283527933\n",
      "Modello 1: 0.020, 0.60, 0.00000000000000000000, 0.0283527933\n",
      "Modello 1: 0.020, 0.70, 0.00000000000000000000, 0.0283527933\n",
      "Modello 1: 0.020, 0.80, 0.00000000000000000000, 0.0283527933\n",
      "Modello 1: 0.020, 0.90, 0.00000000000000000000, 0.0283527933\n",
      "Modello 1: 0.020, 1.00, 0.00000000000000000000, 0.0283527933\n",
      "Modello 2: 0.001, 0.10, 0.00000000000000000000, 0.0244090389\n",
      "Modello 2: 0.001, 0.20, 0.00000000000000000000, 0.0244090389\n",
      "Modello 2: 0.001, 0.30, 0.00000000000000000000, 0.0244090389\n",
      "Modello 2: 0.001, 0.40, 0.00000000000000000000, 0.0244090389\n",
      "Modello 2: 0.001, 0.50, 0.00000000000000000000, 0.0244090389\n",
      "Modello 2: 0.001, 0.60, 0.00000000000000000000, 0.0244090389\n",
      "Modello 2: 0.001, 0.70, 0.00000000000000000000, 0.0244090389\n",
      "Modello 2: 0.001, 0.80, 0.00000000000000000000, 0.0244090389\n",
      "Modello 2: 0.001, 0.90, 0.00000000000000000000, 0.0244090389\n",
      "Modello 2: 0.001, 1.00, 0.00000000000000000000, 0.0244090389\n",
      "Modello 2: 0.005, 0.10, 0.00000000000000000000, 0.0244090389\n",
      "Modello 2: 0.005, 0.20, 0.00000000000000000000, 0.0244090389\n",
      "Modello 2: 0.005, 0.30, 0.00000000000000000000, 0.0244090389\n",
      "Modello 2: 0.005, 0.40, 0.00000000000000000000, 0.0244090389\n",
      "Modello 2: 0.005, 0.50, 0.00000000000000000000, 0.0244090389\n",
      "Modello 2: 0.005, 0.60, 0.00000000000000000000, 0.0244090389\n",
      "Modello 2: 0.005, 0.70, 0.00000000000000000000, 0.0244090389\n",
      "Modello 2: 0.005, 0.80, 0.00000000000000000000, 0.0244090389\n",
      "Modello 2: 0.005, 0.90, 0.00000000000000000000, 0.0244090389\n",
      "Modello 2: 0.005, 1.00, 0.00000000000000000000, 0.0244090389\n",
      "Modello 2: 0.010, 0.10, 0.00000000000000000000, 0.0244090389\n",
      "Modello 2: 0.010, 0.20, 0.00000000000000000000, 0.0244090389\n",
      "Modello 2: 0.010, 0.30, 0.00000000000000000000, 0.0244090389\n",
      "Modello 2: 0.010, 0.40, 0.00000000000000000000, 0.0244090389\n",
      "Modello 2: 0.010, 0.50, 0.00000000000000000000, 0.0244090389\n",
      "Modello 2: 0.010, 0.60, 0.00000000000000000000, 0.0244090389\n",
      "Modello 2: 0.010, 0.70, 0.00000000000000000000, 0.0244090389\n",
      "Modello 2: 0.010, 0.80, 0.00000000000000000000, 0.0244090389\n",
      "Modello 2: 0.010, 0.90, 0.00000000000000000000, 0.0244090389\n",
      "Modello 2: 0.010, 1.00, 0.00000000000000000000, 0.0244090389\n",
      "Modello 2: 0.020, 0.10, 0.00000000000000000000, 0.0244090389\n",
      "Modello 2: 0.020, 0.20, 0.00000000000000000000, 0.0244090389\n",
      "Modello 2: 0.020, 0.30, 0.00000000000000000000, 0.0244090389\n",
      "Modello 2: 0.020, 0.40, 0.00000000000000000000, 0.0244090389\n",
      "Modello 2: 0.020, 0.50, 0.00000000000000000000, 0.0244090389\n",
      "Modello 2: 0.020, 0.60, 0.00000000000000000000, 0.0244090389\n",
      "Modello 2: 0.020, 0.70, 0.00000000000000000000, 0.0244090389\n",
      "Modello 2: 0.020, 0.80, 0.00000000000000000000, 0.0244090389\n",
      "Modello 2: 0.020, 0.90, 0.00000000000000000000, 0.0244090389\n",
      "Modello 2: 0.020, 1.00, 0.00000000000000000000, 0.0244090389\n"
     ]
    }
   ],
   "source": [
    "fprs = [0.001,0.005,0.01,0.02]\n",
    "fpr_ratios = [0.1*i for i in range(1,11)]\n",
    "false_negs = {}\n",
    "taus = {}\n",
    "\n",
    "# Per ognuno dei modelli salvo numero di falsi negativi del classificatore e tau ottimale nelle relative strutture sulla\n",
    "# base del fprs e fpr_ratio target.\n",
    "for i in range(3):\n",
    "  false_negs[i] = {}\n",
    "  taus[i] = {}\n",
    "  for fpr in fprs:\n",
    "    for fpr_ratio in fpr_ratios:\n",
    "      false_negs[i][(fpr,fpr_ratio)], taus[i][(fpr,fpr_ratio)] = build_LBF_classifier(models[i], fpr*fpr_ratio)\n",
    "      # Cambiata print\n",
    "      print(\"Modello %d: %.3f, %.2f, %.20f, %.10f\" % (i, fpr, fpr_ratio, len(false_negs[i][(fpr,fpr_ratio)])/len(phishing_URLs), taus[i][(fpr,fpr_ratio)]))\n",
    "      # print(len(false_negs[i][(fpr,fpr_ratio)])/len(phishing_URLs), taus[i][(fpr,fpr_ratio)])"
   ]
  },
  {
   "cell_type": "code",
   "execution_count": 86,
   "metadata": {
    "id": "OYaqTtedNTmR"
   },
   "outputs": [],
   "source": [
    "# Salva risultati della cella precedente, ma poi li usa?\n",
    "np.save(loc+\"false_negs\", false_negs)\n",
    "np.save(loc+\"taus\", taus)"
   ]
  },
  {
   "cell_type": "code",
   "execution_count": 111,
   "metadata": {
    "colab": {
     "base_uri": "https://localhost:8080/"
    },
    "id": "sPpIL6MEVW_A",
    "outputId": "64e2b502-ee55-4022-abb2-361596b4d9d3"
   },
   "outputs": [
    {
     "name": "stdout",
     "output_type": "stream",
     "text": [
      "0.001 0.0012 195.125 0.0002040519078572591\n",
      "0.001 0.0005333333333333334 124.25 0.0002031123161315918\n",
      "0.001 0.0016 103.875 0.00021271549860636395\n",
      "0.001 0.0008 104.125 0.0002139151891072591\n",
      "0.001 0.0004 106.75 0.0002064642906188965\n",
      "0.001 0.0002666666666666667 105.75 0.0002073769251505534\n",
      "0.001 0.0002666666666666667 94.875 0.000204436461130778\n",
      "0.001 0.0009333333333333333 86.375 0.00020314083099365234\n",
      "0.001 0.0004 86.25 0.00019811792373657227\n",
      "0.005 0.0032 75.875 0.00020446907679239908\n",
      "0.005 0.0034666666666666665 41.625 0.0002037117640177409\n",
      "0.005 0.004933333333333333 25.0 0.00020817159016927084\n",
      "0.005 0.005866666666666667 22.625 0.0002037277857462565\n",
      "0.005 0.0052 23.25 0.0001983174959818522\n",
      "0.005 0.0064 22.625 0.00020393546422322592\n",
      "0.005 0.0064 23.625 0.00020196447372436524\n",
      "0.005 0.005066666666666666 25.125 0.00020263236363728842\n",
      "0.005 0.0061333333333333335 27.625 0.00020392576853434246\n",
      "0.01 0.0112 35.5 0.00020044759114583332\n",
      "0.01 0.005733333333333333 18.75 0.0002054859479268392\n",
      "0.01 0.014 18.0 0.00020768569310506186\n",
      "0.01 0.010666666666666666 18.5 0.0002131156285603841\n",
      "0.01 0.009066666666666667 19.25 0.0002137685775756836\n",
      "0.01 0.0136 20.0 0.0002060580571492513\n",
      "0.01 0.013466666666666667 21.125 0.00020185855229695637\n",
      "0.01 0.009866666666666666 22.5 0.0002084778149922689\n",
      "0.01 0.010933333333333333 23.25 0.00021163800557454427\n",
      "0.02 0.0164 15.625 0.00021043723424275717\n",
      "0.02 0.0188 15.0 0.00020151789983113608\n",
      "0.02 0.022533333333333332 15.5 0.00020076913833618165\n",
      "0.02 0.0248 16.0 0.00020852206548055012\n",
      "0.02 0.02266666666666667 14.25 0.00020031077067057292\n",
      "0.02 0.018133333333333335 15.0 0.00020099178949991862\n",
      "0.02 0.0228 15.875 0.00020374590555826823\n",
      "0.02 0.0232 17.125 0.00020463317235310872\n",
      "0.02 0.018933333333333333 19.25 0.00019555590947469074\n",
      "Numero falsi negativi = 0\n",
      "Numero falsi negativi = 0\n",
      "Numero falsi negativi = 0\n",
      "Numero falsi negativi = 0\n",
      "Numero falsi negativi = 0\n",
      "Numero falsi negativi = 0\n",
      "Numero falsi negativi = 0\n",
      "Numero falsi negativi = 0\n",
      "Numero falsi negativi = 0\n",
      "Numero falsi negativi = 0\n",
      "Numero falsi negativi = 0\n",
      "Numero falsi negativi = 0\n",
      "Numero falsi negativi = 0\n",
      "Numero falsi negativi = 0\n",
      "Numero falsi negativi = 0\n",
      "Numero falsi negativi = 0\n",
      "Numero falsi negativi = 0\n",
      "Numero falsi negativi = 0\n",
      "Numero falsi negativi = 0\n",
      "Numero falsi negativi = 0\n",
      "Numero falsi negativi = 0\n",
      "Numero falsi negativi = 0\n",
      "Numero falsi negativi = 0\n",
      "Numero falsi negativi = 0\n",
      "Numero falsi negativi = 0\n",
      "Numero falsi negativi = 0\n",
      "Numero falsi negativi = 0\n",
      "Numero falsi negativi = 0\n",
      "Numero falsi negativi = 0\n",
      "Numero falsi negativi = 0\n",
      "Numero falsi negativi = 0\n",
      "Numero falsi negativi = 0\n",
      "Numero falsi negativi = 0\n",
      "Numero falsi negativi = 0\n",
      "Numero falsi negativi = 0\n",
      "Numero falsi negativi = 0\n",
      "Numero falsi negativi = 0\n",
      "Numero falsi negativi = 0\n",
      "Numero falsi negativi = 0\n",
      "Numero falsi negativi = 0\n",
      "Numero falsi negativi = 0\n",
      "Numero falsi negativi = 0\n",
      "Numero falsi negativi = 0\n",
      "Numero falsi negativi = 0\n",
      "Numero falsi negativi = 0\n",
      "Numero falsi negativi = 0\n",
      "Numero falsi negativi = 0\n",
      "Numero falsi negativi = 0\n",
      "Numero falsi negativi = 0\n",
      "Numero falsi negativi = 0\n",
      "Numero falsi negativi = 0\n",
      "Numero falsi negativi = 0\n",
      "Numero falsi negativi = 0\n",
      "Numero falsi negativi = 0\n",
      "Numero falsi negativi = 0\n",
      "Numero falsi negativi = 0\n",
      "Numero falsi negativi = 0\n",
      "Numero falsi negativi = 0\n",
      "Numero falsi negativi = 0\n",
      "Numero falsi negativi = 0\n",
      "Numero falsi negativi = 0\n",
      "Numero falsi negativi = 0\n",
      "Numero falsi negativi = 0\n",
      "Numero falsi negativi = 0\n",
      "Numero falsi negativi = 0\n",
      "Numero falsi negativi = 0\n",
      "Numero falsi negativi = 0\n",
      "Numero falsi negativi = 0\n",
      "Numero falsi negativi = 0\n",
      "Numero falsi negativi = 0\n",
      "Numero falsi negativi = 0\n",
      "Numero falsi negativi = 0\n"
     ]
    }
   ],
   "source": [
    "LBF_backups = {}\n",
    "\n",
    "# Per ognuno dei modelli salvo il filtro di backup costruito sulla base del fpr e fpr_ratio target\n",
    "for i in range(3):\n",
    "  LBF_backups[i] = {}\n",
    "  for fpr in fprs:\n",
    "    for fpr_ratio in fpr_ratios:\n",
    "      try:\n",
    "        LBF_backups[i][(fpr,fpr_ratio)] = build_LBF_backup(false_negs[i][(fpr,fpr_ratio)], fpr, fpr*fpr_ratio)\n",
    "        if(LBF_backups[i][(fpr,fpr_ratio)] =='error'):\n",
    "          continue\n",
    "        fpr0, BF_size, t = test_LBF(models[i], LBF_backups[i][(fpr,fpr_ratio)], taus[i][(fpr,fpr_ratio)])\n",
    "        print(fpr, fpr0, BF_size, t)\n",
    "        LBF = {\"FPR\": fpr0, \"size\": BF_size+model_sizes[i], \"time\": t}\n",
    "        np.save(loc+\"LBF_hid\"+str(h_sizes[i])+\"_FPR\"+str(fpr)+\"_ratio\"+str(fpr_ratio), LBF)\n",
    "      except:\n",
    "        # Se il numero di falsi negativi é 0 sollevo eccezione e non salvo\n",
    "        # Non controllata inizialmente probabilbente perché é stata esclusa la possibilitá di avere fn = 0 con dataset grandi\n",
    "        print(\"Numero falsi negativi = 0\")"
   ]
  },
  {
   "cell_type": "code",
   "execution_count": 113,
   "metadata": {
    "id": "79ihIfTvvqJb"
   },
   "outputs": [],
   "source": [
    "fnrs = {}\n",
    "# Per ognuno dei modelli costruisco un dataframe in cui salvo il rate di falsi negativi per ogni fpr e fprs_ratio\n",
    "for i in range(3):\n",
    "  fnrs[i] = pd.DataFrame(index=fpr_ratios, columns=fprs)\n",
    "  for fpr in fprs:\n",
    "    for fpr_ratio in fpr_ratios:\n",
    "      fnrs[i].loc[fpr_ratio,fpr] = len(false_negs[i][(fpr,fpr_ratio)])/len(phishing_URLs)"
   ]
  },
  {
   "cell_type": "code",
   "execution_count": 114,
   "metadata": {
    "colab": {
     "base_uri": "https://localhost:8080/"
    },
    "id": "l5BO4R76ex2f",
    "outputId": "a55dd412-1096-47cb-ccbb-c80a9e415be4"
   },
   "outputs": [
    {
     "name": "stdout",
     "output_type": "stream",
     "text": [
      "0.0012 10346.125 0.0002040519078572591\n",
      "0.0005333333333333334 10275.25 0.0002031123161315918\n",
      "0.0016 10254.875 0.00021271549860636395\n",
      "0.0008 10255.125 0.0002139151891072591\n",
      "0.0004 10257.75 0.0002064642906188965\n",
      "0.0002666666666666667 10256.75 0.0002073769251505534\n",
      "0.0002666666666666667 10245.875 0.000204436461130778\n",
      "0.0009333333333333333 10237.375 0.00020314083099365234\n",
      "0.0004 10237.25 0.00019811792373657227\n",
      "File assente, numero falsi negativi 0\n",
      "0.0032 10226.875 0.00020446907679239908\n",
      "0.0034666666666666665 10192.625 0.0002037117640177409\n",
      "0.004933333333333333 10176.0 0.00020817159016927084\n",
      "0.005866666666666667 10173.625 0.0002037277857462565\n",
      "0.0052 10174.25 0.0001983174959818522\n",
      "0.0064 10173.625 0.00020393546422322592\n",
      "0.0064 10174.625 0.00020196447372436524\n",
      "0.005066666666666666 10176.125 0.00020263236363728842\n",
      "0.0061333333333333335 10178.625 0.00020392576853434246\n",
      "File assente, numero falsi negativi 0\n",
      "0.0112 10186.5 0.00020044759114583332\n",
      "0.005733333333333333 10169.75 0.0002054859479268392\n",
      "0.014 10169.0 0.00020768569310506186\n",
      "0.010666666666666666 10169.5 0.0002131156285603841\n",
      "0.009066666666666667 10170.25 0.0002137685775756836\n",
      "0.0136 10171.0 0.0002060580571492513\n",
      "0.013466666666666667 10172.125 0.00020185855229695637\n",
      "0.009866666666666666 10173.5 0.0002084778149922689\n",
      "0.010933333333333333 10174.25 0.00021163800557454427\n",
      "File assente, numero falsi negativi 0\n",
      "0.0164 10166.625 0.00021043723424275717\n",
      "0.0188 10166.0 0.00020151789983113608\n",
      "0.022533333333333332 10166.5 0.00020076913833618165\n",
      "0.0248 10167.0 0.00020852206548055012\n",
      "0.02266666666666667 10165.25 0.00020031077067057292\n",
      "0.018133333333333335 10166.0 0.00020099178949991862\n",
      "0.0228 10166.875 0.00020374590555826823\n",
      "0.0232 10168.125 0.00020463317235310872\n",
      "0.018933333333333333 10170.25 0.00019555590947469074\n",
      "File assente, numero falsi negativi 0\n",
      "File assente, numero falsi negativi 0\n",
      "File assente, numero falsi negativi 0\n",
      "File assente, numero falsi negativi 0\n",
      "File assente, numero falsi negativi 0\n",
      "File assente, numero falsi negativi 0\n",
      "File assente, numero falsi negativi 0\n",
      "File assente, numero falsi negativi 0\n",
      "File assente, numero falsi negativi 0\n",
      "File assente, numero falsi negativi 0\n",
      "File assente, numero falsi negativi 0\n",
      "File assente, numero falsi negativi 0\n",
      "File assente, numero falsi negativi 0\n",
      "File assente, numero falsi negativi 0\n",
      "File assente, numero falsi negativi 0\n",
      "File assente, numero falsi negativi 0\n",
      "File assente, numero falsi negativi 0\n",
      "File assente, numero falsi negativi 0\n",
      "File assente, numero falsi negativi 0\n",
      "File assente, numero falsi negativi 0\n",
      "File assente, numero falsi negativi 0\n",
      "File assente, numero falsi negativi 0\n",
      "File assente, numero falsi negativi 0\n",
      "File assente, numero falsi negativi 0\n",
      "File assente, numero falsi negativi 0\n",
      "File assente, numero falsi negativi 0\n",
      "File assente, numero falsi negativi 0\n",
      "File assente, numero falsi negativi 0\n",
      "File assente, numero falsi negativi 0\n",
      "File assente, numero falsi negativi 0\n",
      "File assente, numero falsi negativi 0\n",
      "File assente, numero falsi negativi 0\n",
      "File assente, numero falsi negativi 0\n",
      "File assente, numero falsi negativi 0\n",
      "File assente, numero falsi negativi 0\n",
      "File assente, numero falsi negativi 0\n",
      "File assente, numero falsi negativi 0\n",
      "File assente, numero falsi negativi 0\n",
      "File assente, numero falsi negativi 0\n",
      "File assente, numero falsi negativi 0\n",
      "File assente, numero falsi negativi 0\n",
      "File assente, numero falsi negativi 0\n",
      "File assente, numero falsi negativi 0\n",
      "File assente, numero falsi negativi 0\n",
      "File assente, numero falsi negativi 0\n",
      "File assente, numero falsi negativi 0\n",
      "File assente, numero falsi negativi 0\n",
      "File assente, numero falsi negativi 0\n",
      "File assente, numero falsi negativi 0\n",
      "File assente, numero falsi negativi 0\n",
      "File assente, numero falsi negativi 0\n",
      "File assente, numero falsi negativi 0\n",
      "File assente, numero falsi negativi 0\n",
      "File assente, numero falsi negativi 0\n",
      "File assente, numero falsi negativi 0\n",
      "File assente, numero falsi negativi 0\n",
      "File assente, numero falsi negativi 0\n",
      "File assente, numero falsi negativi 0\n",
      "File assente, numero falsi negativi 0\n",
      "File assente, numero falsi negativi 0\n",
      "File assente, numero falsi negativi 0\n",
      "File assente, numero falsi negativi 0\n",
      "File assente, numero falsi negativi 0\n",
      "File assente, numero falsi negativi 0\n",
      "File assente, numero falsi negativi 0\n",
      "File assente, numero falsi negativi 0\n",
      "File assente, numero falsi negativi 0\n",
      "File assente, numero falsi negativi 0\n",
      "File assente, numero falsi negativi 0\n",
      "File assente, numero falsi negativi 0\n",
      "File assente, numero falsi negativi 0\n",
      "File assente, numero falsi negativi 0\n",
      "File assente, numero falsi negativi 0\n",
      "File assente, numero falsi negativi 0\n",
      "File assente, numero falsi negativi 0\n",
      "File assente, numero falsi negativi 0\n",
      "File assente, numero falsi negativi 0\n",
      "File assente, numero falsi negativi 0\n",
      "File assente, numero falsi negativi 0\n",
      "File assente, numero falsi negativi 0\n",
      "File assente, numero falsi negativi 0\n"
     ]
    }
   ],
   "source": [
    "true_fpr_LBF = {}\n",
    "sizes_LBF = {}\n",
    "times_LBF = {}\n",
    "# Per ogni modello salvo in base a fpr, fpr_ratio target l'frp empirico, la grandezza ed il tempo di accesso per elemento\n",
    "# del LBF relativa\n",
    "# Utile per i grafici successivi\n",
    "for i in range(3):\n",
    "  true_fpr_LBF[i] = pd.DataFrame(index = fpr_ratios, columns = fprs)\n",
    "  sizes_LBF[i] = pd.DataFrame(index = fpr_ratios, columns = fprs)\n",
    "  times_LBF[i] = pd.DataFrame(index = fpr_ratios, columns = fprs)\n",
    "  for fpr in fprs:\n",
    "    for fpr_ratio in fpr_ratios:\n",
    "      try:\n",
    "        LBF = np.load(loc+\"LBF_hid\"+str(h_sizes[i])+\"_FPR\"+str(fpr)+\"_ratio\"+str(fpr_ratio)+\".npy\", allow_pickle=True).item()\n",
    "        true_fpr_LBF[i].loc[fpr_ratio,fpr] = LBF['FPR']\n",
    "        sizes_LBF[i].loc[fpr_ratio,fpr] = LBF['size']\n",
    "        times_LBF[i].loc[fpr_ratio,fpr] = LBF['time']\n",
    "        print(LBF['FPR'], LBF['size'], LBF['time'])\n",
    "      except:\n",
    "        # Aggiunta except utile nel caso in cui il file non fosse stato salvato perché fn = 0\n",
    "        print(\"File assente, numero falsi negativi 0\")\n",
    "        continue\n"
   ]
  },
  {
   "cell_type": "code",
   "execution_count": 115,
   "metadata": {
    "id": "S8kiqjdpZt3A"
   },
   "outputs": [],
   "source": [
    "#plot_loc = \"/content/gdrive/My Drive/College/current classes/CS 222 fall 2018/CS222 Project/plots/\"\n",
    "plot_loc = \"trained_NN/plots/\""
   ]
  },
  {
   "cell_type": "code",
   "execution_count": 116,
   "metadata": {
    "colab": {
     "base_uri": "https://localhost:8080/",
     "height": 175
    },
    "id": "DitHYBkDv1jA",
    "outputId": "e9a9a343-18f3-4af4-a936-166e2dc066ba"
   },
   "outputs": [
    {
     "data": {
      "image/png": "[encoded data removed]",
      "text/plain": [
       "<Figure size 864x216 with 3 Axes>"
      ]
     },
     "metadata": {
      "needs_background": "light"
     },
     "output_type": "display_data"
    }
   ],
   "source": [
    "f,ax = plt.subplots(1,3,figsize=(12,3))\n",
    "for i in range(3):\n",
    "  fnrs[i].plot(ax=ax[i])\n",
    "  ax[i].set_xlabel(\"Classifier FPR ratio \"+r\"$\\epsilon_\\tau/\\epsilon$\")\n",
    "  ax[i].set_ylabel(\"Classifier False Negative Rate\")\n",
    "  ax[i].set_title(\"LBF with \"+str(h_sizes[i])+\" dimensional GRU\")\n",
    "  ax[i].legend(fontsize='xx-small')\n",
    "plt.tight_layout()\n",
    "plt.show()\n",
    "f.savefig(plot_loc+\"LBF_classifier_FNR.png\")\n",
    "# FPR_tau/FPR forced to stay between 0 and 1, "
   ]
  },
  {
   "cell_type": "code",
   "execution_count": 117,
   "metadata": {
    "colab": {
     "base_uri": "https://localhost:8080/",
     "height": 175
    },
    "id": "KS1bR-N7XO9P",
    "outputId": "f07a4e8e-321e-43bc-aa2e-41d3fabdcabc"
   },
   "outputs": [
    {
     "data": {
      "image/png": "[encoded data removed]",
      "text/plain": [
       "<Figure size 864x216 with 3 Axes>"
      ]
     },
     "metadata": {
      "needs_background": "light"
     },
     "output_type": "display_data"
    }
   ],
   "source": [
    "f, ax = plt.subplots(1,3,figsize=(12,3))\n",
    "for i in range(3):\n",
    "  true_fpr_LBF[i].plot(ax=ax[i])\n",
    "  ax[i].set_xlabel(\"Classifier FPR ratio \"+r\"$\\epsilon_\\tau/\\epsilon$\")\n",
    "  ax[i].set_ylabel(\"Overall FPR\")\n",
    "  ax[i].set_title(\"LBF with \"+str(h_sizes[i])+\" dimensional GRU\")\n",
    "  ax[i].legend(fontsize='xx-small', loc='upper right')\n",
    "plt.tight_layout()\n",
    "plt.show()\n",
    "f.savefig(plot_loc+\"LBF_fpr.png\")\n",
    "#regardless of what the desired FPR is, the curve looks the same??"
   ]
  },
  {
   "cell_type": "code",
   "execution_count": 118,
   "metadata": {
    "colab": {
     "base_uri": "https://localhost:8080/",
     "height": 175
    },
    "id": "h60T3arRYVkz",
    "outputId": "63309f88-167a-4a03-a6fb-304bbd69365a"
   },
   "outputs": [
    {
     "data": {
      "image/png": "[encoded data removed]",
      "text/plain": [
       "<Figure size 864x216 with 3 Axes>"
      ]
     },
     "metadata": {
      "needs_background": "light"
     },
     "output_type": "display_data"
    }
   ],
   "source": [
    "f, ax = plt.subplots(1,3,figsize=(12,3))\n",
    "for i in range(3):\n",
    "  sizes_LBF[i].plot(ax=ax[i])\n",
    "  ax[i].set_xlabel(\"Classifier FPR ratio \"+r\"$\\epsilon_\\tau/\\epsilon$\")\n",
    "  ax[i].set_ylabel(\"Total Size of LBF\")\n",
    "  ax[i].set_title(\"LBF with \"+str(h_sizes[i])+\" dimensional GRU\")\n",
    "  ax[i].legend(fontsize='xx-small', loc='upper left')\n",
    "plt.tight_layout()\n",
    "plt.show()\n",
    "f.savefig(plot_loc+\"LBF_size.png\")\n",
    "# seems most optimal at 0.5"
   ]
  },
  {
   "cell_type": "markdown",
   "metadata": {
    "id": "RkeB2L-UXxvZ"
   },
   "source": [
    "# $\\tau$ analysis for SLBF"
   ]
  },
  {
   "cell_type": "code",
   "execution_count": 119,
   "metadata": {
    "colab": {
     "base_uri": "https://localhost:8080/"
    },
    "id": "kxM8obK41gHT",
    "outputId": "7c73f4fd-cbb3-481a-a4f9-5f6a314df1fe"
   },
   "outputs": [
    {
     "name": "stdout",
     "output_type": "stream",
     "text": [
      "Modello 0: 0.001, 1.00, 0.00543682039745031851, 0.8075417292\n",
      "Modello 0: 0.001, 2.00, 0.00281214848143981986, 0.0485124902\n",
      "Modello 0: 0.001, 3.00, 0.00262467191601049865, 0.0241809990\n",
      "Modello 0: 0.001, 4.00, 0.00262467191601049865, 0.0226204381\n",
      "Modello 0: 0.001, 5.00, 0.00262467191601049865, 0.0223827602\n",
      "Modello 0: 0.001, 6.00, 0.00262467191601049865, 0.0220769744\n",
      "Modello 0: 0.001, 7.00, 0.00262467191601049865, 0.0219667040\n",
      "Modello 0: 0.001, 8.00, 0.00262467191601049865, 0.0218831173\n",
      "Modello 0: 0.001, 9.00, 0.00243719535058117744, 0.0218052136\n",
      "Modello 0: 0.001, 10.00, 0.00224971878515185623, 0.0217510585\n",
      "Modello 0: 0.005, 1.00, 0.00262467191601049865, 0.0223827602\n",
      "Modello 0: 0.005, 2.00, 0.00224971878515185623, 0.0217510585\n",
      "Modello 0: 0.005, 3.00, 0.00224971878515185623, 0.0216268881\n",
      "Modello 0: 0.005, 4.00, 0.00224971878515185623, 0.0215699085\n",
      "Modello 0: 0.005, 5.00, 0.00224971878515185623, 0.0215214635\n",
      "Modello 0: 0.005, 6.00, 0.00206224221972253459, 0.0214838182\n",
      "Modello 0: 0.005, 7.00, 0.00206224221972253459, 0.0214598715\n",
      "Modello 0: 0.005, 8.00, 0.00187476565429321338, 0.0214372414\n",
      "Modello 0: 0.005, 9.00, 0.00187476565429321338, 0.0214171892\n",
      "Modello 0: 0.005, 10.00, 0.00187476565429321338, 0.0214008853\n",
      "Modello 0: 0.010, 1.00, 0.00224971878515185623, 0.0217510585\n",
      "Modello 0: 0.010, 2.00, 0.00224971878515185623, 0.0215699085\n",
      "Modello 0: 0.010, 3.00, 0.00206224221972253459, 0.0214838182\n",
      "Modello 0: 0.010, 4.00, 0.00187476565429321338, 0.0214372414\n",
      "Modello 0: 0.010, 5.00, 0.00187476565429321338, 0.0214008853\n",
      "Modello 0: 0.010, 6.00, 0.00149981252343457075, 0.0213734036\n",
      "Modello 0: 0.010, 7.00, 0.00131233595800524933, 0.0213526969\n",
      "Modello 0: 0.010, 8.00, 0.00131233595800524933, 0.0213376155\n",
      "Modello 0: 0.010, 9.00, 0.00131233595800524933, 0.0213239589\n",
      "Modello 0: 0.010, 10.00, 0.00131233595800524933, 0.0213131212\n",
      "Modello 0: 0.020, 1.00, 0.00224971878515185623, 0.0215699085\n",
      "Modello 0: 0.020, 2.00, 0.00187476565429321338, 0.0214372414\n",
      "Modello 0: 0.020, 3.00, 0.00149981252343457075, 0.0213734036\n",
      "Modello 0: 0.020, 4.00, 0.00131233595800524933, 0.0213376155\n",
      "Modello 0: 0.020, 5.00, 0.00131233595800524933, 0.0213131212\n",
      "Modello 0: 0.020, 6.00, 0.00093738282714660669, 0.0212905187\n",
      "Modello 0: 0.020, 7.00, 0.00074990626171728538, 0.0212755236\n",
      "Modello 0: 0.020, 8.00, 0.00074990626171728538, 0.0212625348\n",
      "Modello 0: 0.020, 9.00, 0.00074990626171728538, 0.0212515957\n",
      "Modello 0: 0.020, 10.00, 0.00074990626171728538, 0.0212416954\n",
      "Modello 1: 0.001, 1.00, 0.00000000000000000000, 0.0283527933\n",
      "Modello 1: 0.001, 2.00, 0.00000000000000000000, 0.0283527933\n",
      "Modello 1: 0.001, 3.00, 0.00000000000000000000, 0.0283527933\n",
      "Modello 1: 0.001, 4.00, 0.00000000000000000000, 0.0283527933\n",
      "Modello 1: 0.001, 5.00, 0.00000000000000000000, 0.0283527933\n",
      "Modello 1: 0.001, 6.00, 0.00000000000000000000, 0.0283527933\n",
      "Modello 1: 0.001, 7.00, 0.00000000000000000000, 0.0283527933\n",
      "Modello 1: 0.001, 8.00, 0.00000000000000000000, 0.0283527933\n",
      "Modello 1: 0.001, 9.00, 0.00000000000000000000, 0.0283527933\n",
      "Modello 1: 0.001, 10.00, 0.00000000000000000000, 0.0283527933\n",
      "Modello 1: 0.005, 1.00, 0.00000000000000000000, 0.0283527933\n",
      "Modello 1: 0.005, 2.00, 0.00000000000000000000, 0.0283527933\n",
      "Modello 1: 0.005, 3.00, 0.00000000000000000000, 0.0283527933\n",
      "Modello 1: 0.005, 4.00, 0.00000000000000000000, 0.0283527933\n",
      "Modello 1: 0.005, 5.00, 0.00000000000000000000, 0.0283527933\n",
      "Modello 1: 0.005, 6.00, 0.00000000000000000000, 0.0283527933\n",
      "Modello 1: 0.005, 7.00, 0.00000000000000000000, 0.0283527933\n",
      "Modello 1: 0.005, 8.00, 0.00000000000000000000, 0.0283527933\n",
      "Modello 1: 0.005, 9.00, 0.00000000000000000000, 0.0283527933\n",
      "Modello 1: 0.005, 10.00, 0.00000000000000000000, 0.0283527933\n",
      "Modello 1: 0.010, 1.00, 0.00000000000000000000, 0.0283527933\n",
      "Modello 1: 0.010, 2.00, 0.00000000000000000000, 0.0283527933\n",
      "Modello 1: 0.010, 3.00, 0.00000000000000000000, 0.0283527933\n",
      "Modello 1: 0.010, 4.00, 0.00000000000000000000, 0.0283527933\n",
      "Modello 1: 0.010, 5.00, 0.00000000000000000000, 0.0283527933\n",
      "Modello 1: 0.010, 6.00, 0.00000000000000000000, 0.0283527933\n",
      "Modello 1: 0.010, 7.00, 0.00000000000000000000, 0.0283527933\n",
      "Modello 1: 0.010, 8.00, 0.00000000000000000000, 0.0283527933\n",
      "Modello 1: 0.010, 9.00, 0.00000000000000000000, 0.0283527933\n",
      "Modello 1: 0.010, 10.00, 0.00000000000000000000, 0.0283527933\n",
      "Modello 1: 0.020, 1.00, 0.00000000000000000000, 0.0283527933\n",
      "Modello 1: 0.020, 2.00, 0.00000000000000000000, 0.0283527933\n",
      "Modello 1: 0.020, 3.00, 0.00000000000000000000, 0.0283527933\n",
      "Modello 1: 0.020, 4.00, 0.00000000000000000000, 0.0283527933\n",
      "Modello 1: 0.020, 5.00, 0.00000000000000000000, 0.0283527933\n",
      "Modello 1: 0.020, 6.00, 0.00000000000000000000, 0.0283527933\n",
      "Modello 1: 0.020, 7.00, 0.00000000000000000000, 0.0283527933\n",
      "Modello 1: 0.020, 8.00, 0.00000000000000000000, 0.0283527933\n",
      "Modello 1: 0.020, 9.00, 0.00000000000000000000, 0.0283527933\n",
      "Modello 1: 0.020, 10.00, 0.00000000000000000000, 0.0283527933\n",
      "Modello 2: 0.001, 1.00, 0.00000000000000000000, 0.0244090389\n",
      "Modello 2: 0.001, 2.00, 0.00000000000000000000, 0.0244090389\n",
      "Modello 2: 0.001, 3.00, 0.00000000000000000000, 0.0244090389\n",
      "Modello 2: 0.001, 4.00, 0.00000000000000000000, 0.0244090389\n",
      "Modello 2: 0.001, 5.00, 0.00000000000000000000, 0.0244090389\n",
      "Modello 2: 0.001, 6.00, 0.00000000000000000000, 0.0244090389\n",
      "Modello 2: 0.001, 7.00, 0.00000000000000000000, 0.0244090389\n",
      "Modello 2: 0.001, 8.00, 0.00000000000000000000, 0.0244090389\n",
      "Modello 2: 0.001, 9.00, 0.00000000000000000000, 0.0244090389\n",
      "Modello 2: 0.001, 10.00, 0.00000000000000000000, 0.0244090389\n",
      "Modello 2: 0.005, 1.00, 0.00000000000000000000, 0.0244090389\n",
      "Modello 2: 0.005, 2.00, 0.00000000000000000000, 0.0244090389\n",
      "Modello 2: 0.005, 3.00, 0.00000000000000000000, 0.0244090389\n",
      "Modello 2: 0.005, 4.00, 0.00000000000000000000, 0.0244090389\n",
      "Modello 2: 0.005, 5.00, 0.00000000000000000000, 0.0244090389\n",
      "Modello 2: 0.005, 6.00, 0.00000000000000000000, 0.0244090389\n",
      "Modello 2: 0.005, 7.00, 0.00000000000000000000, 0.0244090389\n",
      "Modello 2: 0.005, 8.00, 0.00000000000000000000, 0.0244090389\n",
      "Modello 2: 0.005, 9.00, 0.00000000000000000000, 0.0244090389\n",
      "Modello 2: 0.005, 10.00, 0.00000000000000000000, 0.0244090389\n",
      "Modello 2: 0.010, 1.00, 0.00000000000000000000, 0.0244090389\n",
      "Modello 2: 0.010, 2.00, 0.00000000000000000000, 0.0244090389\n",
      "Modello 2: 0.010, 3.00, 0.00000000000000000000, 0.0244090389\n",
      "Modello 2: 0.010, 4.00, 0.00000000000000000000, 0.0244090389\n",
      "Modello 2: 0.010, 5.00, 0.00000000000000000000, 0.0244090389\n",
      "Modello 2: 0.010, 6.00, 0.00000000000000000000, 0.0244090389\n",
      "Modello 2: 0.010, 7.00, 0.00000000000000000000, 0.0244090389\n",
      "Modello 2: 0.010, 8.00, 0.00000000000000000000, 0.0244090389\n",
      "Modello 2: 0.010, 9.00, 0.00000000000000000000, 0.0244090389\n",
      "Modello 2: 0.010, 10.00, 0.00000000000000000000, 0.0244090389\n",
      "Modello 2: 0.020, 1.00, 0.00000000000000000000, 0.0244090389\n",
      "Modello 2: 0.020, 2.00, 0.00000000000000000000, 0.0244090389\n",
      "Modello 2: 0.020, 3.00, 0.00000000000000000000, 0.0244090389\n",
      "Modello 2: 0.020, 4.00, 0.00000000000000000000, 0.0244090389\n",
      "Modello 2: 0.020, 5.00, 0.00000000000000000000, 0.0244090389\n",
      "Modello 2: 0.020, 6.00, 0.00000000000000000000, 0.0244090389\n",
      "Modello 2: 0.020, 7.00, 0.00000000000000000000, 0.0244090389\n",
      "Modello 2: 0.020, 8.00, 0.00000000000000000000, 0.0244090389\n",
      "Modello 2: 0.020, 9.00, 0.00000000000000000000, 0.0244090389\n",
      "Modello 2: 0.020, 10.00, 0.00000000000000000000, 0.0244090389\n"
     ]
    }
   ],
   "source": [
    "fpr_ratios2 = [1.*i for i in range(1,11)]\n",
    "\n",
    "# Per ognuno dei modelli salvo numero di falsi negativi del classificatore e tau ottimale nelle relative strutture sulla\n",
    "# base del fprs e fpr_ratio target.\n",
    "for i in range(3):\n",
    "  for fpr in fprs:\n",
    "    for fpr_ratio in fpr_ratios2:\n",
    "      false_negs[i][(fpr,fpr_ratio)], taus[i][(fpr,fpr_ratio)] = build_LBF_classifier(models[i], fpr*fpr_ratio)\n",
    "      print(\"Modello %d: %.3f, %.2f, %.20f, %.10f\" % (i, fpr, fpr_ratio, len(false_negs[i][(fpr,fpr_ratio)])/len(phishing_URLs), taus[i][(fpr,fpr_ratio)]))\n",
    "      # print(len(false_negs[i][(fpr,fpr_ratio)])/len(phishing_URLs), taus[i][(fpr,fpr_ratio)])"
   ]
  },
  {
   "cell_type": "code",
   "execution_count": 120,
   "metadata": {
    "id": "7nFKQ5xHPHzH"
   },
   "outputs": [],
   "source": [
    "np.save(loc+\"false_negs2\", false_negs)\n",
    "np.save(loc+\"taus2\", taus)"
   ]
  },
  {
   "cell_type": "code",
   "execution_count": 121,
   "metadata": {
    "colab": {
     "base_uri": "https://localhost:8080/"
    },
    "id": "_FgSypqOX0eo",
    "outputId": "622c93c9-422c-42e6-b69a-a576faa52b4d"
   },
   "outputs": [
    {
     "name": "stdout",
     "output_type": "stream",
     "text": [
      "0.1 0.001 bad fpr_tau\n",
      "0.2 0.001 bad fpr_tau\n",
      "0.30000000000000004 0.001 bad fpr_tau\n",
      "0.4 0.001 bad fpr_tau\n",
      "0.5 0.001 bad fpr_tau\n",
      "0.6000000000000001 0.001 bad fpr_tau\n",
      "0.7000000000000001 0.001 bad fpr_tau\n",
      "0.8 0.001 bad fpr_tau\n",
      "0.9 0.001 bad fpr_tau\n",
      "Numero di falsi negativi = 0\n",
      "0.1 0.005 bad fpr_tau\n",
      "0.2 0.005 bad fpr_tau\n",
      "0.30000000000000004 0.005 bad fpr_tau\n",
      "0.4 0.005 bad fpr_tau\n",
      "0.5 0.005 bad fpr_tau\n",
      "0.6000000000000001 0.005 bad fpr_tau\n",
      "0.7000000000000001 0.005 bad fpr_tau\n",
      "0.8 0.005 bad fpr_tau\n",
      "0.9 0.005 bad fpr_tau\n",
      "Numero di falsi negativi = 0\n",
      "0.1 0.01 bad fpr_tau\n",
      "0.2 0.01 bad fpr_tau\n",
      "0.30000000000000004 0.01 bad fpr_tau\n",
      "0.4 0.01 bad fpr_tau\n",
      "0.5 0.01 bad fpr_tau\n",
      "0.6000000000000001 0.01 bad fpr_tau\n",
      "0.7000000000000001 0.01 bad fpr_tau\n",
      "0.8 0.01 bad fpr_tau\n",
      "0.9 0.01 bad fpr_tau\n",
      "Numero di falsi negativi = 0\n",
      "0.1 0.02 bad fpr_tau\n",
      "0.2 0.02 bad fpr_tau\n",
      "0.30000000000000004 0.02 bad fpr_tau\n",
      "0.4 0.02 bad fpr_tau\n",
      "0.5 0.02 bad fpr_tau\n",
      "0.6000000000000001 0.02 bad fpr_tau\n",
      "0.7000000000000001 0.02 bad fpr_tau\n",
      "0.8 0.02 bad fpr_tau\n",
      "0.9 0.02 bad fpr_tau\n",
      "Numero di falsi negativi = 0\n",
      "Numero di falsi negativi = 0\n",
      "Numero di falsi negativi = 0\n",
      "Numero di falsi negativi = 0\n",
      "Numero di falsi negativi = 0\n",
      "Numero di falsi negativi = 0\n",
      "Numero di falsi negativi = 0\n",
      "Numero di falsi negativi = 0\n",
      "Numero di falsi negativi = 0\n",
      "Numero di falsi negativi = 0\n",
      "Numero di falsi negativi = 0\n",
      "Numero di falsi negativi = 0\n",
      "Numero di falsi negativi = 0\n",
      "Numero di falsi negativi = 0\n",
      "Numero di falsi negativi = 0\n",
      "Numero di falsi negativi = 0\n",
      "Numero di falsi negativi = 0\n",
      "Numero di falsi negativi = 0\n",
      "Numero di falsi negativi = 0\n",
      "Numero di falsi negativi = 0\n",
      "Numero di falsi negativi = 0\n",
      "Numero di falsi negativi = 0\n",
      "Numero di falsi negativi = 0\n",
      "Numero di falsi negativi = 0\n",
      "Numero di falsi negativi = 0\n",
      "Numero di falsi negativi = 0\n",
      "Numero di falsi negativi = 0\n",
      "Numero di falsi negativi = 0\n",
      "Numero di falsi negativi = 0\n",
      "Numero di falsi negativi = 0\n",
      "Numero di falsi negativi = 0\n",
      "Numero di falsi negativi = 0\n",
      "Numero di falsi negativi = 0\n",
      "Numero di falsi negativi = 0\n",
      "Numero di falsi negativi = 0\n",
      "Numero di falsi negativi = 0\n",
      "Numero di falsi negativi = 0\n",
      "0.1 0.001 bad fpr_tau\n",
      "0.2 0.001 bad fpr_tau\n",
      "0.30000000000000004 0.001 bad fpr_tau\n",
      "0.4 0.001 bad fpr_tau\n",
      "0.5 0.001 bad fpr_tau\n",
      "0.6000000000000001 0.001 bad fpr_tau\n",
      "0.7000000000000001 0.001 bad fpr_tau\n",
      "0.8 0.001 bad fpr_tau\n",
      "0.9 0.001 bad fpr_tau\n",
      "Numero di falsi negativi = 0\n",
      "0.1 0.005 bad fpr_tau\n",
      "0.2 0.005 bad fpr_tau\n",
      "0.30000000000000004 0.005 bad fpr_tau\n",
      "0.4 0.005 bad fpr_tau\n",
      "0.5 0.005 bad fpr_tau\n",
      "0.6000000000000001 0.005 bad fpr_tau\n",
      "0.7000000000000001 0.005 bad fpr_tau\n",
      "0.8 0.005 bad fpr_tau\n",
      "0.9 0.005 bad fpr_tau\n",
      "Numero di falsi negativi = 0\n",
      "0.1 0.01 bad fpr_tau\n",
      "0.2 0.01 bad fpr_tau\n",
      "0.30000000000000004 0.01 bad fpr_tau\n",
      "0.4 0.01 bad fpr_tau\n",
      "0.5 0.01 bad fpr_tau\n",
      "0.6000000000000001 0.01 bad fpr_tau\n",
      "0.7000000000000001 0.01 bad fpr_tau\n",
      "0.8 0.01 bad fpr_tau\n",
      "0.9 0.01 bad fpr_tau\n",
      "Numero di falsi negativi = 0\n",
      "0.1 0.02 bad fpr_tau\n",
      "0.2 0.02 bad fpr_tau\n",
      "0.30000000000000004 0.02 bad fpr_tau\n",
      "0.4 0.02 bad fpr_tau\n",
      "0.5 0.02 bad fpr_tau\n",
      "0.6000000000000001 0.02 bad fpr_tau\n",
      "0.7000000000000001 0.02 bad fpr_tau\n",
      "0.8 0.02 bad fpr_tau\n",
      "0.9 0.02 bad fpr_tau\n",
      "Numero di falsi negativi = 0\n",
      "Numero di falsi negativi = 0\n",
      "Numero di falsi negativi = 0\n",
      "Numero di falsi negativi = 0\n",
      "Numero di falsi negativi = 0\n",
      "Numero di falsi negativi = 0\n",
      "Numero di falsi negativi = 0\n",
      "Numero di falsi negativi = 0\n",
      "Numero di falsi negativi = 0\n",
      "Numero di falsi negativi = 0\n",
      "Numero di falsi negativi = 0\n",
      "Numero di falsi negativi = 0\n",
      "Numero di falsi negativi = 0\n",
      "Numero di falsi negativi = 0\n",
      "Numero di falsi negativi = 0\n",
      "Numero di falsi negativi = 0\n",
      "Numero di falsi negativi = 0\n",
      "Numero di falsi negativi = 0\n",
      "Numero di falsi negativi = 0\n",
      "Numero di falsi negativi = 0\n",
      "Numero di falsi negativi = 0\n",
      "Numero di falsi negativi = 0\n",
      "Numero di falsi negativi = 0\n",
      "Numero di falsi negativi = 0\n",
      "Numero di falsi negativi = 0\n",
      "Numero di falsi negativi = 0\n",
      "Numero di falsi negativi = 0\n",
      "Numero di falsi negativi = 0\n",
      "Numero di falsi negativi = 0\n",
      "Numero di falsi negativi = 0\n",
      "Numero di falsi negativi = 0\n",
      "Numero di falsi negativi = 0\n",
      "Numero di falsi negativi = 0\n",
      "Numero di falsi negativi = 0\n",
      "Numero di falsi negativi = 0\n",
      "Numero di falsi negativi = 0\n",
      "Numero di falsi negativi = 0\n",
      "0.1 0.001 bad fpr_tau\n",
      "0.2 0.001 bad fpr_tau\n",
      "0.30000000000000004 0.001 bad fpr_tau\n",
      "0.4 0.001 bad fpr_tau\n",
      "0.5 0.001 bad fpr_tau\n",
      "0.6000000000000001 0.001 bad fpr_tau\n",
      "0.7000000000000001 0.001 bad fpr_tau\n",
      "0.8 0.001 bad fpr_tau\n",
      "0.9 0.001 bad fpr_tau\n",
      "Numero di falsi negativi = 0\n",
      "0.1 0.005 bad fpr_tau\n",
      "0.2 0.005 bad fpr_tau\n",
      "0.30000000000000004 0.005 bad fpr_tau\n",
      "0.4 0.005 bad fpr_tau\n",
      "0.5 0.005 bad fpr_tau\n",
      "0.6000000000000001 0.005 bad fpr_tau\n",
      "0.7000000000000001 0.005 bad fpr_tau\n",
      "0.8 0.005 bad fpr_tau\n",
      "0.9 0.005 bad fpr_tau\n",
      "Numero di falsi negativi = 0\n",
      "0.1 0.01 bad fpr_tau\n",
      "0.2 0.01 bad fpr_tau\n",
      "0.30000000000000004 0.01 bad fpr_tau\n",
      "0.4 0.01 bad fpr_tau\n",
      "0.5 0.01 bad fpr_tau\n",
      "0.6000000000000001 0.01 bad fpr_tau\n",
      "0.7000000000000001 0.01 bad fpr_tau\n",
      "0.8 0.01 bad fpr_tau\n",
      "0.9 0.01 bad fpr_tau\n",
      "Numero di falsi negativi = 0\n",
      "0.1 0.02 bad fpr_tau\n",
      "0.2 0.02 bad fpr_tau\n",
      "0.30000000000000004 0.02 bad fpr_tau\n",
      "0.4 0.02 bad fpr_tau\n",
      "0.5 0.02 bad fpr_tau\n",
      "0.6000000000000001 0.02 bad fpr_tau\n",
      "0.7000000000000001 0.02 bad fpr_tau\n",
      "0.8 0.02 bad fpr_tau\n",
      "0.9 0.02 bad fpr_tau\n",
      "Numero di falsi negativi = 0\n",
      "Numero di falsi negativi = 0\n",
      "Numero di falsi negativi = 0\n",
      "Numero di falsi negativi = 0\n",
      "Numero di falsi negativi = 0\n",
      "Numero di falsi negativi = 0\n",
      "Numero di falsi negativi = 0\n",
      "Numero di falsi negativi = 0\n",
      "Numero di falsi negativi = 0\n",
      "Numero di falsi negativi = 0\n",
      "Numero di falsi negativi = 0\n",
      "Numero di falsi negativi = 0\n",
      "Numero di falsi negativi = 0\n",
      "Numero di falsi negativi = 0\n",
      "Numero di falsi negativi = 0\n",
      "Numero di falsi negativi = 0\n",
      "Numero di falsi negativi = 0\n",
      "Numero di falsi negativi = 0\n",
      "Numero di falsi negativi = 0\n",
      "Numero di falsi negativi = 0\n",
      "Numero di falsi negativi = 0\n",
      "Numero di falsi negativi = 0\n",
      "Numero di falsi negativi = 0\n",
      "Numero di falsi negativi = 0\n",
      "Numero di falsi negativi = 0\n",
      "Numero di falsi negativi = 0\n",
      "Numero di falsi negativi = 0\n",
      "Numero di falsi negativi = 0\n",
      "Numero di falsi negativi = 0\n",
      "Numero di falsi negativi = 0\n",
      "Numero di falsi negativi = 0\n",
      "Numero di falsi negativi = 0\n",
      "Numero di falsi negativi = 0\n",
      "Numero di falsi negativi = 0\n",
      "Numero di falsi negativi = 0\n",
      "Numero di falsi negativi = 0\n",
      "Numero di falsi negativi = 0\n"
     ]
    }
   ],
   "source": [
    "SLBF_initials = {}\n",
    "SLBF_backups = {}\n",
    "\n",
    "# Per ognuno dei modelli salvo il filtro di backup e quello iniziale costruito sulla base del fpr e fpr_ratio target\n",
    "for i in range(3):\n",
    "  SLBF_initials[i] = {}\n",
    "  SLBF_backups[i] = {}\n",
    "  for fpr, fpr_ratio in false_negs[i].keys():\n",
    "    c=(1.-len(false_negs[i][(fpr,fpr_ratio)])/len(phishing_URLs))\n",
    "    # Se la tau non rispetta i bound\n",
    "    if(fpr_ratio < c or fpr*fpr_ratio > c):\n",
    "      print(fpr_ratio, fpr, \"bad fpr_tau\")\n",
    "      continue\n",
    "    try:\n",
    "      SLBF_initials[i][(fpr,fpr_ratio)] = build_SLBF_initial(false_negs[i][(fpr,fpr_ratio)], fpr, fpr*fpr_ratio)\n",
    "      SLBF_backups[i][(fpr,fpr_ratio)] = build_SLBF_backup(false_negs[i][(fpr,fpr_ratio)], fpr*fpr_ratio)\n",
    "      if(SLBF_backups[i][(fpr,fpr_ratio)] =='error' or SLBF_initials[i][(fpr,fpr_ratio)]=='error'):\n",
    "        continue\n",
    "      fpr0, BF_size, t = test_SLBF(SLBF_initials[i][(fpr,fpr_ratio)], models[i], SLBF_backups[i][(fpr,fpr_ratio)], taus[i][(fpr,fpr_ratio)])\n",
    "      print(fpr, fpr0, BF_size, t)\n",
    "      SLBF = {\"FPR\": fpr0, \"size\": BF_size+model_sizes[i], \"time\": t}\n",
    "      np.save(loc+\"SLBF_hid\"+str(h_sizes[i])+\"_FPR\"+str(fpr)+\"_ratio\"+str(fpr_ratio), SLBF)\n",
    "    except:\n",
    "      # Eccezione aggiunta per fn =0\n",
    "      print(\"Numero di falsi negativi = 0\")\n",
    "\n",
    "# for fpr, fpr_ratio in false_negs2.keys():\n",
    "#   c=(1.-len(false_negs2[(fpr,fpr_ratio)])/len(phishing_URLs))\n",
    "#   if(fpr_ratio < c or fpr*fpr_ratio > c):\n",
    "#     print(fpr_ratio, fpr, \"bad fpr_tau\")\n",
    "#     continue\n",
    "#   SLBF_keys += [(fpr,fpr_ratio)]\n",
    "#   SLBF_initials[(fpr,fpr_ratio)] = build_SLBF_initial(false_negs2[(fpr,fpr_ratio)], fpr, fpr*fpr_ratio)\n",
    "#   SLBF_backups[(fpr,fpr_ratio)] = build_SLBF_backup(false_negs2[(fpr,fpr_ratio)], fpr*fpr_ratio)\n",
    "#   if(SLBF_backups[(fpr,fpr_ratio)] =='error' or SLBF_initials[(fpr,fpr_ratio)]=='error'):\n",
    "#     continue\n",
    "#   fpr0, BF_size, t = test_SLBF(SLBF_initials[(fpr,fpr_ratio)], models[2], SLBF_backups[(fpr,fpr_ratio)], taus[(fpr,fpr_ratio)])\n",
    "#   print(fpr, fpr0, BF_size, t)\n",
    "#   SLBF = {\"FPR\": fpr0, \"size\": BF_size+model_sizes[2], \"time\": t}\n",
    "#   np.save(loc+\"SLBF_hid\"+str(h_sizes[2])+\"_FPR\"+str(fpr)+\"_ratio\"+str(fpr_ratio), SLBF)"
   ]
  },
  {
   "cell_type": "code",
   "execution_count": 122,
   "metadata": {
    "id": "vHnVBihNRELn"
   },
   "outputs": [],
   "source": [
    "fnrs2 = {}\n",
    "# Per ognuno dei modelli costruisco un dataframe in cui salvo il rate di falsi negativi per ogni fpr e fprs_ratio\n",
    "for i in range(3):\n",
    "  fnrs2[i] = pd.DataFrame(index=fpr_ratios+fpr_ratios2, columns=fprs)\n",
    "  for fpr,fpr_ratio in false_negs[i].keys():\n",
    "      fnrs2[i].loc[fpr_ratio,fpr] = len(false_negs[i][(fpr,fpr_ratio)])/len(phishing_URLs)\n",
    "  # for fpr,fpr_ratio in false_negs2.keys():\n",
    "      # fnrs2[i].loc[fpr_ratio,fpr] = len(false_negs2[i][(fpr,fpr_ratio)])/len(phishing_URLs)"
   ]
  },
  {
   "cell_type": "code",
   "execution_count": 134,
   "metadata": {
    "colab": {
     "base_uri": "https://localhost:8080/"
    },
    "id": "D5GCjbHza7Fp",
    "outputId": "1be4a37f-222b-4c2d-a745-03664b303066"
   },
   "outputs": [
    {
     "name": "stdout",
     "output_type": "stream",
     "text": [
      "error 0.1 0.001\n",
      "error 0.2 0.001\n",
      "error 0.30000000000000004 0.001\n",
      "error 0.4 0.001\n",
      "error 0.5 0.001\n",
      "error 0.6000000000000001 0.001\n",
      "error 0.7000000000000001 0.001\n",
      "error 0.8 0.001\n",
      "error 0.9 0.001\n",
      "error 1.0 0.001\n",
      "error 0.1 0.005\n",
      "error 0.2 0.005\n",
      "error 0.30000000000000004 0.005\n",
      "error 0.4 0.005\n",
      "error 0.5 0.005\n",
      "error 0.6000000000000001 0.005\n",
      "error 0.7000000000000001 0.005\n",
      "error 0.8 0.005\n",
      "error 0.9 0.005\n",
      "error 1.0 0.005\n",
      "error 0.1 0.01\n",
      "error 0.2 0.01\n",
      "error 0.30000000000000004 0.01\n",
      "error 0.4 0.01\n",
      "error 0.5 0.01\n",
      "error 0.6000000000000001 0.01\n",
      "error 0.7000000000000001 0.01\n",
      "error 0.8 0.01\n",
      "error 0.9 0.01\n",
      "error 1.0 0.01\n",
      "error 0.1 0.02\n",
      "error 0.2 0.02\n",
      "error 0.30000000000000004 0.02\n",
      "error 0.4 0.02\n",
      "error 0.5 0.02\n",
      "error 0.6000000000000001 0.02\n",
      "error 0.7000000000000001 0.02\n",
      "error 0.8 0.02\n",
      "error 0.9 0.02\n",
      "error 1.0 0.02\n",
      "error 2.0 0.001\n",
      "error 3.0 0.001\n",
      "error 4.0 0.001\n",
      "error 5.0 0.001\n",
      "error 6.0 0.001\n",
      "error 7.0 0.001\n",
      "error 8.0 0.001\n",
      "error 9.0 0.001\n",
      "error 10.0 0.001\n",
      "error 2.0 0.005\n",
      "error 3.0 0.005\n",
      "error 4.0 0.005\n",
      "error 5.0 0.005\n",
      "error 6.0 0.005\n",
      "error 7.0 0.005\n",
      "error 8.0 0.005\n",
      "error 9.0 0.005\n",
      "error 10.0 0.005\n",
      "error 2.0 0.01\n",
      "error 3.0 0.01\n",
      "error 4.0 0.01\n",
      "error 5.0 0.01\n",
      "error 6.0 0.01\n",
      "error 7.0 0.01\n",
      "error 8.0 0.01\n",
      "error 9.0 0.01\n",
      "error 10.0 0.01\n",
      "error 2.0 0.02\n",
      "error 3.0 0.02\n",
      "error 4.0 0.02\n",
      "error 5.0 0.02\n",
      "error 6.0 0.02\n",
      "error 7.0 0.02\n",
      "error 8.0 0.02\n",
      "error 9.0 0.02\n",
      "error 10.0 0.02\n",
      "error 0.1 0.001\n",
      "error 0.2 0.001\n",
      "error 0.30000000000000004 0.001\n",
      "error 0.4 0.001\n",
      "error 0.5 0.001\n",
      "error 0.6000000000000001 0.001\n",
      "error 0.7000000000000001 0.001\n",
      "error 0.8 0.001\n",
      "error 0.9 0.001\n",
      "error 1.0 0.001\n",
      "error 0.1 0.005\n",
      "error 0.2 0.005\n",
      "error 0.30000000000000004 0.005\n",
      "error 0.4 0.005\n",
      "error 0.5 0.005\n",
      "error 0.6000000000000001 0.005\n",
      "error 0.7000000000000001 0.005\n",
      "error 0.8 0.005\n",
      "error 0.9 0.005\n",
      "error 1.0 0.005\n",
      "error 0.1 0.01\n",
      "error 0.2 0.01\n",
      "error 0.30000000000000004 0.01\n",
      "error 0.4 0.01\n",
      "error 0.5 0.01\n",
      "error 0.6000000000000001 0.01\n",
      "error 0.7000000000000001 0.01\n",
      "error 0.8 0.01\n",
      "error 0.9 0.01\n",
      "error 1.0 0.01\n",
      "error 0.1 0.02\n",
      "error 0.2 0.02\n",
      "error 0.30000000000000004 0.02\n",
      "error 0.4 0.02\n",
      "error 0.5 0.02\n",
      "error 0.6000000000000001 0.02\n",
      "error 0.7000000000000001 0.02\n",
      "error 0.8 0.02\n",
      "error 0.9 0.02\n",
      "error 1.0 0.02\n",
      "error 2.0 0.001\n",
      "error 3.0 0.001\n",
      "error 4.0 0.001\n",
      "error 5.0 0.001\n",
      "error 6.0 0.001\n",
      "error 7.0 0.001\n",
      "error 8.0 0.001\n",
      "error 9.0 0.001\n",
      "error 10.0 0.001\n",
      "error 2.0 0.005\n",
      "error 3.0 0.005\n",
      "error 4.0 0.005\n",
      "error 5.0 0.005\n",
      "error 6.0 0.005\n",
      "error 7.0 0.005\n",
      "error 8.0 0.005\n",
      "error 9.0 0.005\n",
      "error 10.0 0.005\n",
      "error 2.0 0.01\n",
      "error 3.0 0.01\n",
      "error 4.0 0.01\n",
      "error 5.0 0.01\n",
      "error 6.0 0.01\n",
      "error 7.0 0.01\n",
      "error 8.0 0.01\n",
      "error 9.0 0.01\n",
      "error 10.0 0.01\n",
      "error 2.0 0.02\n",
      "error 3.0 0.02\n",
      "error 4.0 0.02\n",
      "error 5.0 0.02\n",
      "error 6.0 0.02\n",
      "error 7.0 0.02\n",
      "error 8.0 0.02\n",
      "error 9.0 0.02\n",
      "error 10.0 0.02\n",
      "error 0.1 0.001\n",
      "error 0.2 0.001\n",
      "error 0.30000000000000004 0.001\n",
      "error 0.4 0.001\n",
      "error 0.5 0.001\n",
      "error 0.6000000000000001 0.001\n",
      "error 0.7000000000000001 0.001\n",
      "error 0.8 0.001\n",
      "error 0.9 0.001\n",
      "error 1.0 0.001\n",
      "error 0.1 0.005\n",
      "error 0.2 0.005\n",
      "error 0.30000000000000004 0.005\n",
      "error 0.4 0.005\n",
      "error 0.5 0.005\n",
      "error 0.6000000000000001 0.005\n",
      "error 0.7000000000000001 0.005\n",
      "error 0.8 0.005\n",
      "error 0.9 0.005\n",
      "error 1.0 0.005\n",
      "error 0.1 0.01\n",
      "error 0.2 0.01\n",
      "error 0.30000000000000004 0.01\n",
      "error 0.4 0.01\n",
      "error 0.5 0.01\n",
      "error 0.6000000000000001 0.01\n",
      "error 0.7000000000000001 0.01\n",
      "error 0.8 0.01\n",
      "error 0.9 0.01\n",
      "error 1.0 0.01\n",
      "error 0.1 0.02\n",
      "error 0.2 0.02\n",
      "error 0.30000000000000004 0.02\n",
      "error 0.4 0.02\n",
      "error 0.5 0.02\n",
      "error 0.6000000000000001 0.02\n",
      "error 0.7000000000000001 0.02\n",
      "error 0.8 0.02\n",
      "error 0.9 0.02\n",
      "error 1.0 0.02\n",
      "error 2.0 0.001\n",
      "error 3.0 0.001\n",
      "error 4.0 0.001\n",
      "error 5.0 0.001\n",
      "error 6.0 0.001\n",
      "error 7.0 0.001\n",
      "error 8.0 0.001\n",
      "error 9.0 0.001\n",
      "error 10.0 0.001\n",
      "error 2.0 0.005\n",
      "error 3.0 0.005\n",
      "error 4.0 0.005\n",
      "error 5.0 0.005\n",
      "error 6.0 0.005\n",
      "error 7.0 0.005\n",
      "error 8.0 0.005\n",
      "error 9.0 0.005\n",
      "error 10.0 0.005\n",
      "error 2.0 0.01\n",
      "error 3.0 0.01\n",
      "error 4.0 0.01\n",
      "error 5.0 0.01\n",
      "error 6.0 0.01\n",
      "error 7.0 0.01\n",
      "error 8.0 0.01\n",
      "error 9.0 0.01\n",
      "error 10.0 0.01\n",
      "error 2.0 0.02\n",
      "error 3.0 0.02\n",
      "error 4.0 0.02\n",
      "error 5.0 0.02\n",
      "error 6.0 0.02\n",
      "error 7.0 0.02\n",
      "error 8.0 0.02\n",
      "error 9.0 0.02\n",
      "error 10.0 0.02\n"
     ]
    }
   ],
   "source": [
    "true_fpr_SLBF = {}\n",
    "sizes_SLBF = {}\n",
    "times_SLBF = {}\n",
    "\n",
    "# Per ogni modello salvo in base a fpr, fpr_ratio target l'frp empirico, la grandezza ed il tempo di accesso per elemento\n",
    "# del SLBF relativo\n",
    "# Utile per i grafici successivi\n",
    "for i in range(3):\n",
    "  true_fpr_SLBF[i] = pd.DataFrame(index = fpr_ratios+fpr_ratios2, columns = fprs)\n",
    "  sizes_SLBF[i] = pd.DataFrame(index = fpr_ratios+fpr_ratios2, columns = fprs)\n",
    "  times_SLBF[i] = pd.DataFrame(index = fpr_ratios+fpr_ratios2, columns = fprs)\n",
    "  for fpr,fpr_ratio in false_negs[i].keys():\n",
    "    try:\n",
    "      SLBF = np.load(loc+\"SLBF_hid\"+str(h_sizes[i])+\"_FPR\"+str(fpr)+\"_ratio\"+str(fpr_ratio)+\".npy\", allow_pickle=True).item()\n",
    "      true_fpr_SLBF[i].loc[fpr_ratio,fpr] = SLBF['FPR']\n",
    "      sizes_SLBF[i].loc[fpr_ratio,fpr] = SLBF['size']\n",
    "      times_SLBF[i].loc[fpr_ratio,fpr] = SLBF['time']\n",
    "      print(SLBF['FPR'], SLBF['size'], SLBF['time'])\n",
    "    except:\n",
    "      print(\"error\", fpr_ratio, fpr) # Bad tau + false negs = 0\n",
    "      continue\n",
    "\n",
    "# for fpr,fpr_ratio in false_negs2.keys():\n",
    "#   try:\n",
    "#     SLBF = np.load(loc+\"SLBF_hid\"+str(h_sizes[2])+\"_FPR\"+str(fpr)+\"_ratio\"+str(fpr_ratio)+\".npy\").item()\n",
    "#     true_fpr_SLBF.loc[fpr_ratio,fpr] = SLBF['FPR']\n",
    "#     sizes_SLBF.loc[fpr_ratio,fpr] = SLBF['size']\n",
    "#     times_SLBF.loc[fpr_ratio,fpr] = SLBF['time']\n",
    "#     print(SLBF['FPR'], SLBF['size'], SLBF['time'])\n",
    "#   except:\n",
    "#     print(\"error\")\n",
    "#     continue"
   ]
  },
  {
   "cell_type": "code",
   "execution_count": 124,
   "metadata": {
    "colab": {
     "base_uri": "https://localhost:8080/",
     "height": 175
    },
    "id": "BzobK5D4_2zU",
    "outputId": "b9d572e1-1827-43d7-82d3-710c96feeea9"
   },
   "outputs": [
    {
     "data": {
      "image/png": "[encoded data removed]",
      "text/plain": [
       "<Figure size 864x216 with 3 Axes>"
      ]
     },
     "metadata": {
      "needs_background": "light"
     },
     "output_type": "display_data"
    }
   ],
   "source": [
    "f,ax = plt.subplots(1,3,figsize=(12,3))\n",
    "for i in range(3):\n",
    "  fnrs2[i].plot(ax=ax[i])\n",
    "  ax[i].legend(fontsize='xx-small')\n",
    "  ax[i].set_xlabel(\"Classifier FPR ratio\")\n",
    "  ax[i].set_ylabel(\"Classifier False Negative Rate\")\n",
    "  ax[i].set_title(\"SLBF with \"+str(h_sizes[i])+\" dimensional GRU\")\n",
    "plt.tight_layout()\n",
    "plt.show()\n",
    "f.savefig(plot_loc+\"SLBF_classifier_FNR.png\")\n",
    "\n",
    "# FPR_tau/FPR forced to stay between 0 and 1, "
   ]
  },
  {
   "cell_type": "code",
   "execution_count": 135,
   "metadata": {
    "colab": {
     "base_uri": "https://localhost:8080/",
     "height": 175
    },
    "id": "QNiur-d0a7js",
    "outputId": "52527139-4d8c-42f8-a30c-72e9ef0c5b4c"
   },
   "outputs": [
    {
     "data": {
      "image/png": "[encoded data removed]",
      "text/plain": [
       "<Figure size 864x216 with 3 Axes>"
      ]
     },
     "metadata": {
      "needs_background": "light"
     },
     "output_type": "display_data"
    }
   ],
   "source": [
    "f,ax=plt.subplots(1,3,figsize=(12,3))\n",
    "for i in range(3):\n",
    "  true_fpr_SLBF[i].plot(ax=ax[i])\n",
    "  ax[i].legend(fontsize='xx-small')\n",
    "  ax[i].set_xlabel(\"Classifier FPR ratio\")\n",
    "  ax[i].set_ylabel(\"Overall FPR\")\n",
    "  ax[i].set_title(\"SLBF with \"+str(h_sizes[i])+\" dimensional GRU\")\n",
    "plt.tight_layout()\n",
    "plt.show()\n",
    "f.savefig(plot_loc+\"SLBF_fpr.png\")\n"
   ]
  },
  {
   "cell_type": "code",
   "execution_count": 126,
   "metadata": {
    "colab": {
     "base_uri": "https://localhost:8080/",
     "height": 175
    },
    "id": "_pNg7Rysbh5c",
    "outputId": "83c31800-4a59-4960-9826-7a4a492c79e9"
   },
   "outputs": [
    {
     "data": {
      "image/png": "[encoded data removed]",
      "text/plain": [
       "<Figure size 864x216 with 3 Axes>"
      ]
     },
     "metadata": {
      "needs_background": "light"
     },
     "output_type": "display_data"
    }
   ],
   "source": [
    "f, ax = plt.subplots(1,3,figsize=(12,3))\n",
    "for i in range(3):\n",
    "  sizes_SLBF[i].plot(ax=ax[i])\n",
    "  ax[i].legend(fontsize='xx-small')\n",
    "  ax[i].set_xlabel(\"Classifier FPR ratio\")\n",
    "  ax[i].set_ylabel(\"Total Size of SLBF\")\n",
    "  ax[i].set_title(\"SLBF with \"+str(h_sizes[i])+\" dimensional GRU\")\n",
    "plt.tight_layout()\n",
    "plt.show()\n",
    "f.savefig(plot_loc+\"SLBF_size.png\")\n",
    "\n",
    "\n",
    "#size is best when ratio = 1"
   ]
  },
  {
   "cell_type": "code",
   "execution_count": 127,
   "metadata": {
    "colab": {
     "base_uri": "https://localhost:8080/"
    },
    "id": "GpK6Q5xbh87k",
    "outputId": "c54ed12e-8c6c-4188-95d1-61c8bbdf5c67"
   },
   "outputs": [
    {
     "name": "stdout",
     "output_type": "stream",
     "text": [
      "error\n",
      "error\n",
      "error\n",
      "error\n",
      "error\n",
      "error\n",
      "error\n",
      "error\n",
      "error\n",
      "error\n",
      "error\n",
      "error\n",
      "error\n",
      "error\n",
      "error\n",
      "error\n",
      "error\n",
      "error\n",
      "error\n",
      "error\n",
      "error\n",
      "error\n",
      "error\n",
      "error\n",
      "error\n",
      "error\n",
      "error\n",
      "error\n",
      "error\n",
      "error\n",
      "error\n",
      "error\n",
      "error\n",
      "error\n",
      "error\n",
      "error\n",
      "error\n",
      "error\n",
      "error\n",
      "error\n",
      "error\n",
      "error\n",
      "error\n",
      "error\n",
      "error\n",
      "error\n",
      "error\n",
      "error\n",
      "error\n",
      "error\n",
      "error\n",
      "error\n",
      "error\n",
      "error\n",
      "error\n",
      "error\n",
      "error\n",
      "error\n",
      "error\n",
      "error\n",
      "error\n",
      "error\n",
      "error\n",
      "error\n",
      "error\n",
      "error\n",
      "error\n",
      "error\n",
      "error\n",
      "error\n",
      "error\n",
      "error\n",
      "error\n",
      "error\n",
      "error\n",
      "error\n",
      "error\n",
      "error\n",
      "error\n",
      "error\n",
      "error\n",
      "error\n",
      "error\n",
      "error\n",
      "error\n",
      "error\n",
      "error\n",
      "error\n",
      "error\n",
      "error\n",
      "error\n",
      "error\n",
      "error\n",
      "error\n",
      "error\n",
      "error\n",
      "error\n",
      "error\n",
      "error\n",
      "error\n",
      "error\n",
      "error\n",
      "error\n",
      "error\n",
      "error\n",
      "error\n",
      "error\n",
      "error\n",
      "error\n",
      "error\n",
      "error\n",
      "error\n",
      "error\n",
      "error\n",
      "error\n",
      "error\n",
      "error\n",
      "error\n",
      "error\n",
      "error\n"
     ]
    }
   ],
   "source": [
    "true_fpr_LBF_LH = {}\n",
    "sizes_LBF_LH = {}\n",
    "times_LBF_LH = {}\n",
    "for i in range(3):\n",
    "  true_fpr_LBF_LH[i] = pd.DataFrame(index = fpr_ratios, columns = fprs)\n",
    "  sizes_LBF_LH[i] = pd.DataFrame(index = fpr_ratios, columns = fprs)\n",
    "  times_LBF_LH[i] = pd.DataFrame(index = fpr_ratios, columns = fprs)\n",
    "  for fpr in fprs:\n",
    "    for fpr_ratio in fpr_ratios:\n",
    "      try:\n",
    "        LBF = np.load(loc+\"LBF_LH_hid\"+str(h_sizes[i])+\"_FPR\"+str(fpr)+\"_ratio\"+str(fpr_ratio)+\".npy\", allow_pickle=True).item()\n",
    "        true_fpr_LBF_LH[i].loc[fpr_ratio,fpr] = LBF['FPR']\n",
    "        sizes_LBF_LH[i].loc[fpr_ratio,fpr] = LBF['size']\n",
    "        times_LBF_LH[i].loc[fpr_ratio,fpr] = LBF['time']\n",
    "        print(LBF['FPR'], LBF['size'], LBF['time'])\n",
    "      except:\n",
    "        print(\"error\")\n",
    "        continue\n"
   ]
  },
  {
   "cell_type": "code",
   "execution_count": null,
   "metadata": {
    "id": "n-iz_0jFgLjh"
   },
   "outputs": [],
   "source": [
    "# Grafici attualmente non funzionanti, da sistemare\n",
    "\n",
    "x_BF = []\n",
    "y_BF = []\n",
    "for b in BF_sizes.keys():\n",
    "  x_BF += [b]\n",
    "  y_BF += [BF_sizes[b]]"
   ]
  },
  {
   "cell_type": "code",
   "execution_count": null,
   "metadata": {
    "colab": {
     "base_uri": "https://localhost:8080/",
     "height": 570
    },
    "id": "yzcEpD4rsuoh",
    "outputId": "9c7a94af-6bba-44bd-d209-ee2e320ef217"
   },
   "outputs": [],
   "source": [
    "f,ax = plt.subplots(1,3,figsize=(12,3))\n",
    "for i in range(3):\n",
    "  x_LBF = []\n",
    "  y_LBF = []\n",
    "  z_LBF = []\n",
    "  x_SLBF = []\n",
    "  y_SLBF = []\n",
    "  z_SLBF = []\n",
    "  for j1 in range(true_fpr_LBF[i].shape[1]):\n",
    "    for j0 in range(true_fpr_LBF[i].shape[0]):\n",
    "      x_LBF += [true_fpr_LBF[i].iloc[j0,j1]]\n",
    "      y_LBF += [sizes_LBF[i].iloc[j0,j1]]\n",
    "    z_LBF += [min(sizes_LBF[i].iloc[:,j1])]\n",
    "  \n",
    "  for j1 in range(true_fpr_SLBF[i].shape[1]):\n",
    "    for j0 in range(true_fpr_SLBF[i].shape[0]):\n",
    "      if sizes_SLBF[i].dropna().iloc[:,j1].size != 0:\n",
    "        if(true_fpr_SLBF[i].index[j0] >= 1.):\n",
    "          x_SLBF += [true_fpr_SLBF[i].iloc[j0,j1]]\n",
    "          y_SLBF += [sizes_SLBF[i].iloc[j0,j1]]\n",
    "        z_SLBF += [min(sizes_SLBF[i].dropna().iloc[:,j1])]\n",
    "        \n",
    "  ax[i].scatter(x_LBF,y_LBF, label = 'LBF', marker='.')\n",
    "  ax[i].scatter(x_SLBF,y_SLBF, label = 'SLBF', marker='.')\n",
    "  ax[i].plot(true_fpr_LBF[i].columns,z_LBF)\n",
    "  ax[i].plot(true_fpr_SLBF[i].columns,z_SLBF)\n",
    "  ax[i].set_title(str(h_sizes[i])+\" dimensional GRU\")\n",
    "  ax[i].set_xlabel(\"Observed FPR\")\n",
    "  ax[i].set_ylabel(\"Total Size (bytes)\")\n",
    "  ax[i].set_xlim(left=0, right=0.03)\n",
    "  ax[i].legend(fontsize='xx-small')\n",
    "plt.tight_layout()\n",
    "plt.show()\n",
    "f.savefig(plot_loc+\"comparison_size_min.png\")"
   ]
  }
 ],
 "metadata": {
  "accelerator": "GPU",
  "colab": {
   "collapsed_sections": [],
   "name": "Copia di phishing_RNN.ipynb",
   "provenance": [],
   "toc_visible": true
  },
  "kernelspec": {
   "display_name": "Python 3",
   "language": "python",
   "name": "python3"
  },
  "language_info": {
   "codemirror_mode": {
    "name": "ipython",
    "version": 3
   },
   "file_extension": ".py",
   "mimetype": "text/x-python",
   "name": "python",
   "nbconvert_exporter": "python",
   "pygments_lexer": "ipython3",
   "version": "3.8.5"
  }
 },
 "nbformat": 4,
 "nbformat_minor": 1
}
