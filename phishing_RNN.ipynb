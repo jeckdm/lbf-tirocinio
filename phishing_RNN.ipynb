{
 "cells": [
  {
   "cell_type": "code",
   "execution_count": 1,
   "metadata": {
    "colab": {
     "base_uri": "https://localhost:8080/"
    },
    "id": "7H3jyNpSHD49",
    "outputId": "b3815eab-97d3-4bfc-ba99-54a1341b345e"
   },
   "outputs": [
    {
     "name": "stderr",
     "output_type": "stream",
     "text": [
      "C:\\Users\\Giacomo\\AppData\\Roaming\\Python\\Python38\\site-packages\\wheel\\pep425tags.py:80: RuntimeWarning: Config variable 'Py_DEBUG' is unset, Python ABI tag may be incorrect\n",
      "  if get_flag('Py_DEBUG',\n"
     ]
    }
   ],
   "source": [
    "from os.path import exists\n",
    "from wheel.pep425tags import get_abbr_impl, get_impl_ver, get_abi_tag\n",
    "platform = '{}{}-{}'.format(get_abbr_impl(), get_impl_ver(), get_abi_tag())\n",
    "cuda_output = !ldconfig -p|grep cudart.so|sed -e 's/.*\\.\\([0-9]*\\)\\.\\([0-9]*\\)$/cu\\1\\2/'\n",
    "import torch"
   ]
  },
  {
   "cell_type": "code",
   "execution_count": 41,
   "metadata": {
    "id": "SuuuJZd7ZuIU"
   },
   "outputs": [],
   "source": [
    "# Libraries\n",
    "import torch\n",
    "import torch.nn as nn\n",
    "import torch.nn.functional as F\n",
    "import numpy as np\n",
    "import os\n",
    "import time\n",
    "import pandas as pd\n",
    "import matplotlib.pyplot as plt\n",
    "import seaborn as sns\n",
    "\n",
    "# GPU\n",
    "device = torch.device('cuda')   #use CUDA if you have NVIDIA"
   ]
  },
  {
   "cell_type": "markdown",
   "metadata": {
    "id": "Cx8AbI2LjfE7"
   },
   "source": [
    "# Load and clean data"
   ]
  },
  {
   "cell_type": "code",
   "execution_count": 3,
   "metadata": {
    "id": "VOE9X9BTxOvw"
   },
   "outputs": [],
   "source": [
    "# Download data\n",
    "legitimate_URLs = np.load(\"small_data/legitimate_URLs.npy\")\n",
    "legitimate_URLs = np.concatenate((legitimate_URLs,np.load(\"small_data/legitimate_URLs2.npy\", allow_pickle = True)))\n",
    "phishing_URLs = np.load(\"small_data/phishing_URLs.npy\")\n",
    "phishing_URLs = np.concatenate((phishing_URLs,np.load(\"small_data/phishing_URLs2.npy\", allow_pickle = True)))\n",
    "\n",
    "# randomly permute URLs\n",
    "np.random.seed(0)\n",
    "legitimate_URLs = list(legitimate_URLs[np.random.permutation(len(legitimate_URLs))])\n",
    "phishing_URLs = list(phishing_URLs[np.random.permutation(len(phishing_URLs))])\n",
    "\n",
    "# clean URLs\n",
    "legitimate_URLs = [l.split('http://')[-1].split('www.')[-1].split('https://')[-1] for l in legitimate_URLs]\n",
    "phishing_URLs = [p.split('http://')[-1].split('www.')[-1].split('https://')[-1] for p in phishing_URLs]\n",
    "phishing_URLs = list(set(phishing_URLs) - set(legitimate_URLs))"
   ]
  },
  {
   "cell_type": "code",
   "execution_count": 4,
   "metadata": {},
   "outputs": [
    {
     "data": {
      "text/plain": [
       "(191471, 13483)"
      ]
     },
     "execution_count": 4,
     "metadata": {},
     "output_type": "execute_result"
    }
   ],
   "source": [
    "len(legitimate_URLs), len(phishing_URLs)\n",
    "\n",
    "# Legit > Phishing, molti phishing duplicati con questo dataset"
   ]
  },
  {
   "cell_type": "code",
   "execution_count": 5,
   "metadata": {
    "id": "faSrZGAEK7wr"
   },
   "outputs": [],
   "source": [
    "# map to numbers\n",
    "letters = ''.join(legitimate_URLs+phishing_URLs) #String unica di URL senza spazi\n",
    "from collections import Counter\n",
    "c = Counter(letters) # Dizionario con occorrenze delle lettere\n",
    "d = {}\n",
    "for i, (l, _) in enumerate(c.most_common(128)):\n",
    "    d[l] = i + 1 # Dizionario ordinato per numero di occorrenze"
   ]
  },
  {
   "cell_type": "code",
   "execution_count": 6,
   "metadata": {
    "id": "W5dbZ30soiBV"
   },
   "outputs": [
    {
     "data": {
      "text/plain": [
       "torch.Size([109218, 150])"
      ]
     },
     "execution_count": 6,
     "metadata": {},
     "output_type": "execute_result"
    }
   ],
   "source": [
    "# training set: all keys plus non-keys\n",
    "# testing set: remaining non-keys \n",
    "training_list = legitimate_URLs[:int(len(legitimate_URLs)/2)]+phishing_URLs\n",
    "testing_list = legitimate_URLs[int(len(legitimate_URLs)/2):]\n",
    "    \n",
    "# cut off at 150 chars\n",
    "char_cutoff = 150\n",
    "\n",
    "# Matrice con entry i vari URL del training set portati a 150 char con eventuale padding/troncatura.\n",
    "# Gli URL vengono rappresentati sostiuendo ad ogni lettera l'int rappresentante la posizione nelle occorrenze\n",
    "X_train = torch.tensor([[d.get(l,0) for l in url[:min([len(url),char_cutoff])]]+[0 for l in range(char_cutoff-len(url))] \n",
    "                        for url in training_list])\n",
    "y_train = torch.tensor([0]*int(len(legitimate_URLs)/2)+[1]*int(len(phishing_URLs)))\n",
    "\n",
    "X_test = torch.tensor([[d.get(l,0) for l in url[:min([len(url),char_cutoff])]]+[0 for l in range(char_cutoff-len(url))] \n",
    "                        for url in testing_list])\n",
    "y_test = torch.tensor([0]*(len(testing_list)))\n",
    "\n",
    "X_train.size()"
   ]
  },
  {
   "cell_type": "code",
   "execution_count": 7,
   "metadata": {
    "id": "RSiIBBk2e8-s"
   },
   "outputs": [],
   "source": [
    "# Batch data\n",
    "def make_batch_train(X_t, y_t, B):\n",
    "  sample = torch.randint(0, X_t.shape[0], [B]).long()\n",
    "  batch_X0 = torch.stack([X_t[s] for s in sample])\n",
    "  batch_X = batch_X0.to(device)\n",
    "  batch_y0 = torch.stack([y_t[s]*torch.ones(len(X_t[s])).long() for s in sample]).to(device)     #\n",
    "  batch_y = batch_y0.to(device)\n",
    "  return batch_X, batch_y\n",
    "  \n",
    "def make_batch_test(X_t, y_t, B):\n",
    "  sample = torch.randint(0, X_t.shape[0], [B]).long()\n",
    "  batch_X0 = torch.stack([X_t[s] for s in sample])\n",
    "  batch_X = batch_X0.to(device)\n",
    "  batch_y0 = torch.stack([y_t[s] for s in sample]).to(device)\n",
    "  batch_y = batch_y0.to(device)\n",
    "  return batch_X, batch_y\n"
   ]
  },
  {
   "cell_type": "code",
   "execution_count": 8,
   "metadata": {
    "id": "IydI_DuQzvQj"
   },
   "outputs": [],
   "source": [
    "class RNN(nn.Module):\n",
    "    def __init__(self, input_size=150, output_size=2, emb_size=128, h_size=128, layers=1, dropout=0.3):\n",
    "        super(RNN, self).__init__()\n",
    "        self.embedding = nn.Embedding(input_size, emb_size)\n",
    "        self.rnn = nn.GRU(emb_size, h_size, num_layers=layers, batch_first=True)\n",
    "        self.dropout = nn.Dropout(dropout)\n",
    "        self.linear = nn.Linear(h_size, output_size)\n",
    "        \n",
    "    def forward(self, x, h=None):\n",
    "        x = self.embedding(x)\n",
    "        x, h = self.rnn(x, h)\n",
    "        x = self.linear(x)\n",
    "        return x, h"
   ]
  },
  {
   "cell_type": "code",
   "execution_count": 9,
   "metadata": {
    "id": "k4jkGELPzx72"
   },
   "outputs": [],
   "source": [
    "def val(model, X_t, y_t):\n",
    "    model.eval()\n",
    "    with torch.no_grad():\n",
    "        total = 0\n",
    "        total_right = 0\n",
    "        total_loss = 0\n",
    "        for batch in range(50):\n",
    "            x,y = make_batch_test(X_t, y_t, 256)\n",
    "            y_hat, _ = model(x)\n",
    "            #optimizer.zero_grad()\n",
    "            preds = y_hat.max(dim=2)[1][:,149]\n",
    "            preds_eq = preds.eq(y)\n",
    "            total_right += preds_eq.sum().item()\n",
    "            total += preds_eq.numel()\n",
    "            loss = criterion(y_hat[:,149].view(-1,2), y.view(-1).long()).detach().item()\n",
    "            total_loss += loss\n",
    "    return total_right / total, total_loss / 50"
   ]
  },
  {
   "cell_type": "code",
   "execution_count": 10,
   "metadata": {
    "id": "iUpOjBikzzi3"
   },
   "outputs": [],
   "source": [
    "def train(model):\n",
    "    model.train()\n",
    "    total_loss = 0\n",
    "    for batch in range(50):\n",
    "        x, y = make_batch_train(X_train, y_train, 256)\n",
    "        y_hat, _ = model(x)\n",
    "        optimizer.zero_grad()\n",
    "        y_hat = y_hat.view(-1,2)\n",
    "        y = y.view(-1).long()\n",
    "        loss = criterion(y_hat, y)\n",
    "        loss.backward()\n",
    "        optimizer.step()\n",
    "    total_loss += loss.item()\n",
    "    return total_loss / 50"
   ]
  },
  {
   "cell_type": "code",
   "execution_count": 11,
   "metadata": {
    "id": "MRU8Nn49Q_3-"
   },
   "outputs": [],
   "source": [
    "emb_size=5\n",
    "h_sizes = [16,8,4]\n",
    "layers = 1\n",
    "criterion = nn.CrossEntropyLoss()\n",
    "#loc = \"/content/gdrive/My Drive/College/current classes/CS 222 fall 2018/CS222 Project/simulations/\"\n",
    "loc = \"trained_NN/simulations/\"\n",
    "#plot_loc = \"/content/gdrive/My Drive/College/current classes/CS 222 fall 2018/CS222 Project/plots/\"\n",
    "plot_loc = \"/content/gdrive/My Drive/trained_NN/plots/\""
   ]
  },
  {
   "cell_type": "markdown",
   "metadata": {
    "id": "ttM9ANfpjlVn"
   },
   "source": [
    "# Train (don't need to run this)"
   ]
  },
  {
   "cell_type": "code",
   "execution_count": 12,
   "metadata": {
    "colab": {
     "base_uri": "https://localhost:8080/"
    },
    "id": "mrO8gtMOz1tw",
    "outputId": "e943f287-f597-48cc-f76d-9f257bdf889a"
   },
   "outputs": [
    {
     "name": "stdout",
     "output_type": "stream",
     "text": [
      "[E   0] Loss: 0.3600 | Acc: 0.8786\n",
      "[E  10] Loss: 0.3663 | Acc: 0.8749\n",
      "[E  20] Loss: 0.2402 | Acc: 0.9001\n",
      "263.1554272174835\n",
      "[E   0] Loss: 0.3678 | Acc: 0.8770\n",
      "[E  10] Loss: 0.3684 | Acc: 0.8768\n",
      "[E  20] Loss: 0.3609 | Acc: 0.8733\n",
      "236.45203518867493\n",
      "[E   0] Loss: 0.3907 | Acc: 0.8795\n",
      "[E  10] Loss: 0.3615 | Acc: 0.8798\n",
      "[E  20] Loss: 0.3610 | Acc: 0.8766\n",
      "207.7974455356598\n"
     ]
    }
   ],
   "source": [
    "models = {}\n",
    "for i in range(3):\n",
    "  h_size = h_sizes[i]\n",
    "  # Create model, loss function, optimizer\n",
    "  models[i] = RNN(emb_size=emb_size, h_size=h_size, layers=layers).to(device)\n",
    "  optimizer = torch.optim.Adamax(models[i].parameters())\n",
    "\n",
    "  # Train and validate\n",
    "  start = time.time()\n",
    "  for epoch in range(30):\n",
    "      train_loss = train(models[i])\n",
    "      val_acc, val_loss = val(models[i],X_train,y_train)\n",
    "      if(epoch%10 == 0):\n",
    "        print('[E{:4d}] Loss: {:.4f} | Acc: {:.4f}'.format(epoch, val_loss, val_acc))\n",
    "  end = time.time()\n",
    "  print(end-start)\n",
    "  torch.save(models[i].state_dict(), loc+\"RNN_emb\"+str(emb_size)+\"_hid\"+str(h_size))  "
   ]
  },
  {
   "cell_type": "markdown",
   "metadata": {
    "id": "r1M9slR3joT1"
   },
   "source": [
    "# Load trained RNNs and evaluate (change paths)"
   ]
  },
  {
   "cell_type": "code",
   "execution_count": 13,
   "metadata": {
    "colab": {
     "base_uri": "https://localhost:8080/"
    },
    "id": "pYcTnDiDZyBq",
    "outputId": "f9e9b186-6c18-4143-b961-fa49b8058fc5"
   },
   "outputs": [
    {
     "name": "stdout",
     "output_type": "stream",
     "text": [
      "hidden size 16\n",
      "model size (bytes) 10215\n",
      "(0.972109375, 0.06910544820129871)\n",
      "time to evaluate 0.008493258953094482\n",
      "==============================\n",
      "hidden size 8\n",
      "model size (bytes) 7015\n",
      "(0.98234375, 0.09621992483735084)\n",
      "time to evaluate 0.008581926822662353\n",
      "==============================\n",
      "hidden size 4\n",
      "model size (bytes) 6055\n",
      "(0.993515625, 0.11199286326766014)\n",
      "time to evaluate 0.008457319736480713\n",
      "==============================\n"
     ]
    }
   ],
   "source": [
    "# sizes of RNN models\n",
    "models = {}\n",
    "model_sizes = {}\n",
    "for i,h_size in enumerate(h_sizes):\n",
    "  print(\"hidden size\", h_size)\n",
    "  model_sizes[i] = os.path.getsize(loc+\"RNN_emb\"+str(emb_size)+\"_hid\"+str(h_size))\n",
    "  print(\"model size (bytes)\", model_sizes[i])\n",
    "  models[i] = RNN(emb_size=emb_size, h_size=h_size, layers=layers).to(device)\n",
    "  models[i].load_state_dict(torch.load(loc+\"RNN_emb\"+str(emb_size)+\"_hid\"+str(h_size)))\n",
    "  models[i].eval()\n",
    "  print(val(models[i], X_test,y_test))\n",
    "  \n",
    "  avg_time = 0\n",
    "  for t in range(100):\n",
    "    x,y = make_batch_test(X_test, y_test,1)\n",
    "    start = time.time()\n",
    "    models[i](x)\n",
    "    total = time.time()-start\n",
    "    avg_time += total\n",
    "  avg_time /= 100\n",
    "  print(\"time to evaluate\", avg_time)\n",
    "  print(\"=\"*30)"
   ]
  },
  {
   "cell_type": "markdown",
   "metadata": {
    "id": "5FnUFpczkQG4"
   },
   "source": [
    "# Bloom Filter Class"
   ]
  },
  {
   "cell_type": "code",
   "execution_count": 14,
   "metadata": {
    "id": "Ce4oNOg9XKJr"
   },
   "outputs": [],
   "source": [
    "import mmh3\n",
    "import math\n",
    "import torch\n",
    "from bitarray import bitarray \n",
    "\n",
    "class BloomFilter(object): \n",
    "  \n",
    "    def __init__(self, items_count,fp_prob): \n",
    "        ''' \n",
    "        items_count : int \n",
    "            Number of items expected to be stored in bloom filter \n",
    "        fp_prob : float \n",
    "            False Positive probability in decimal \n",
    "        '''\n",
    "        # False posible probability in decimal \n",
    "        self.fp_prob = fp_prob \n",
    "  \n",
    "        # Size of bit array to use \n",
    "        self.size = self.get_size(items_count,fp_prob) \n",
    "  \n",
    "        # number of hash functions to use \n",
    "        self.hash_count = self.get_hash_count(self.size,items_count) \n",
    "  \n",
    "        # Bit array of given size \n",
    "        self.bit_array = bitarray(self.size) \n",
    "  \n",
    "        # initialize all bits as 0 \n",
    "        self.bit_array.setall(0) \n",
    "  \n",
    "    def add(self, item): \n",
    "        ''' \n",
    "        Add an item in the filter \n",
    "        '''\n",
    "        digests = [] \n",
    "        for i in range(self.hash_count): \n",
    "            # i works as seed to mmh3.hash() function \n",
    "            digest = mmh3.hash(item,i) % self.size \n",
    "            digests.append(digest) \n",
    "  \n",
    "            # set the bit True in bit_array \n",
    "            self.bit_array[digest] = True\n",
    "  \n",
    "    def check(self, item): \n",
    "        ''' \n",
    "        Check for existence of an item in filter \n",
    "        '''\n",
    "        for i in range(self.hash_count): \n",
    "            digest = mmh3.hash(item,i) % self.size \n",
    "            if self.bit_array[digest] == False: \n",
    "  \n",
    "                # if any of bit is False then,its not present \n",
    "                # in filter \n",
    "                # else there is probability that it exist \n",
    "                return False\n",
    "        return True\n",
    "  \n",
    "    @classmethod\n",
    "    def get_size(self,n,p): \n",
    "        ''' \n",
    "        Return the size of bit array(m) to used using \n",
    "        following formula \n",
    "        m = -(n * lg(p)) / (lg(2)^2) \n",
    "        n : int \n",
    "            number of items expected to be stored in filter \n",
    "        p : float \n",
    "            False Positive probability in decimal \n",
    "        '''\n",
    "        m = -(n * math.log(p))/(math.log(2)**2) \n",
    "        return int(m) \n",
    "  \n",
    "    @classmethod\n",
    "    def get_hash_count(self, m, n): \n",
    "        ''' \n",
    "        Return the hash function(k) to be used using \n",
    "        following formula \n",
    "        k = (m/n) * lg(2) \n",
    "  \n",
    "        m : int \n",
    "            size of bit array \n",
    "        n : int \n",
    "            number of items expected to be stored in filter \n",
    "        '''\n",
    "\n",
    "        k = (m/n) * math.log(2) \n",
    "        return int(k)"
   ]
  },
  {
   "cell_type": "markdown",
   "metadata": {
    "id": "kAhcFnszkflF"
   },
   "source": [
    "# BF"
   ]
  },
  {
   "cell_type": "code",
   "execution_count": 15,
   "metadata": {
    "id": "aNrQv0I2kxJp"
   },
   "outputs": [],
   "source": [
    "def run_BF(FPR):\n",
    "  # Crea BF su un set di Key pari al numero di phishing e con target FPR\n",
    "  BF = BloomFilter(len(phishing_URLs), FPR)\n",
    "  for url in phishing_URLs:\n",
    "    BF.add(url)\n",
    "  \n",
    "  \n",
    "  fps = 0\n",
    "  total = 0\n",
    "  total_time = 0\n",
    "  # Testa il filtro di bloom su l'insieme dei legit per calcolare il tasso di FPR\n",
    "  for url in testing_list:\n",
    "    total += 1\n",
    "    start = time.time()\n",
    "    result = BF.check(url)\n",
    "    end = time.time()\n",
    "    total_time += (end-start)\n",
    "    # Se elemento presente allora falso positivo\n",
    "    if result == True:\n",
    "      fps += 1\n",
    "  \n",
    "  avg_fp = fps/total\n",
    "\n",
    "  # returns empirical FPR, BF size in bytes, and access time per element\n",
    "  return avg_fp, BF.size/8, (total_time)/len(testing_list)"
   ]
  },
  {
   "cell_type": "code",
   "execution_count": 16,
   "metadata": {
    "colab": {
     "base_uri": "https://localhost:8080/"
    },
    "id": "Geiultr4yIQe",
    "outputId": "dabf2d32-a4cf-450b-a41b-5ea8e6c1e9cd"
   },
   "outputs": [
    {
     "name": "stdout",
     "output_type": "stream",
     "text": [
      "FPR 0.02482869557951032 size 13722.875 time 1.0709784687775722e-06\n"
     ]
    }
   ],
   "source": [
    "FPR, BF_size, t = run_BF(0.02)\n",
    "print(\"FPR\", FPR, \"size\", BF_size, \"time\", t)\n",
    "BF = {\"FPR\": FPR, \"size\": BF_size, \"time\": t}\n",
    "np.save(loc+\"BF\", BF)"
   ]
  },
  {
   "cell_type": "code",
   "execution_count": 17,
   "metadata": {
    "colab": {
     "base_uri": "https://localhost:8080/"
    },
    "id": "JnWwuu0lvXbO",
    "outputId": "795e0d50-b6e3-4275-a418-8506ffa8ceae"
   },
   "outputs": [
    {
     "name": "stdout",
     "output_type": "stream",
     "text": [
      "{0.001: 24231.625, 0.005: 18585.875, 0.01: 16154.375, 0.02: 13722.875}\n"
     ]
    }
   ],
   "source": [
    "BF_sizes = {}\n",
    "# Aggiungo alcuni fpr\n",
    "fprs = [0.001,0.005,0.01,0.02]\n",
    "# Stampa grandezza del filtro in relazione al target fpr\n",
    "for fpr in fprs:\n",
    "  BF = BloomFilter(len(phishing_URLs), fpr)\n",
    "  BF_sizes[fpr] = BF.size / 8\n",
    "  \n",
    "print(BF_sizes)"
   ]
  },
  {
   "cell_type": "markdown",
   "metadata": {
    "id": "XGPXONP--51O"
   },
   "source": [
    "# Classifier"
   ]
  },
  {
   "cell_type": "code",
   "execution_count": 18,
   "metadata": {
    "id": "jtyF49pSjvFv"
   },
   "outputs": [],
   "source": [
    "# Esegue modello in input precedentemente addestrato suddividendo i risultati in due liste \n",
    "# probs1 contiene risultati per le entry phishing\n",
    "# probs0 contiene risultati per le entru legit\n",
    "def get_classifier_probs(model):\n",
    "    probs1 = []\n",
    "    probs0 = []\n",
    "    # Divisione in batch da 100\n",
    "    for i in range(int(len(y_train)/100)+1):\n",
    "        x0 = torch.stack([X_train[s] for s in range(100*i, min(100*(i+1), len(y_train)))])\n",
    "        x = x0.to(device)\n",
    "        y0 = torch.stack([y_train[s] for s in range(100*i, min(100*(i+1), len(y_train)))])\n",
    "        y = y0.to(device)  \n",
    "        y_hat, _ = model(x)\n",
    "        ps = torch.sigmoid(y_hat[:,:,1])[:,149]\n",
    "        # Squeeze causa errori con conversione in lista se fatto con tensor di dimensione 1\n",
    "        probs1 += list(ps[y==1].squeeze().detach().cpu().numpy()) \n",
    "        probs0 += list(ps[y==0].squeeze().detach().cpu().numpy())\n",
    "    return probs1, probs0"
   ]
  },
  {
   "cell_type": "code",
   "execution_count": 19,
   "metadata": {
    "id": "4rI1KgZQe6U8"
   },
   "outputs": [],
   "source": [
    "# Grafici precedentemente commentati, non molto significativi?\n",
    "probs = {}\n",
    "urls = {}\n",
    "probs[0] = get_classifier_probs(models[0])\n",
    "probs[1] = get_classifier_probs(models[1])\n",
    "probs[2] = get_classifier_probs(models[2])"
   ]
  },
  {
   "cell_type": "code",
   "execution_count": 20,
   "metadata": {
    "colab": {
     "base_uri": "https://localhost:8080/",
     "height": 1000
    },
    "id": "GL782j87fPXW",
    "outputId": "6b448ca1-d126-4771-e6e7-5ae596d6d170"
   },
   "outputs": [
    {
     "data": {
      "image/png": "[encoded data removed]",
      "text/plain": [
       "<Figure size 402.375x360 with 1 Axes>"
      ]
     },
     "metadata": {
      "needs_background": "light"
     },
     "output_type": "display_data"
    },
    {
     "data": {
      "image/png": "[encoded data removed]",
      "text/plain": [
       "<Figure size 402.375x360 with 1 Axes>"
      ]
     },
     "metadata": {
      "needs_background": "light"
     },
     "output_type": "display_data"
    },
    {
     "data": {
      "image/png": "[encoded data removed]",
      "text/plain": [
       "<Figure size 402.375x360 with 1 Axes>"
      ]
     },
     "metadata": {
      "needs_background": "light"
     },
     "output_type": "display_data"
    }
   ],
   "source": [
    "sns.displot(probs[0], label = \"GRU, 128 dimensions\")\n",
    "sns.displot(probs[1], label = \"GRU, 32 dimensions\")\n",
    "sns.displot(probs[2], label = \"GRU, 16 dimensions\")\n",
    "plt.title(\"Distribution of classifier output probabilities for non-keys\")\n",
    "plt.legend()\n",
    "plt.show()"
   ]
  },
  {
   "cell_type": "code",
   "execution_count": 21,
   "metadata": {
    "id": "jffNHR2fgdRI"
   },
   "outputs": [],
   "source": [
    "def determine_tau(FPR_tau, prob_list):\n",
    "  return np.percentile(np.array(prob_list),100*(1.-FPR_tau))"
   ]
  },
  {
   "cell_type": "markdown",
   "metadata": {
    "id": "wskpqti-kGxL"
   },
   "source": [
    "# LBF"
   ]
  },
  {
   "cell_type": "code",
   "execution_count": 22,
   "metadata": {
    "id": "c0VjG9_Yj8Ym"
   },
   "outputs": [],
   "source": [
    "# Costruisce classificatore per LBF e ritorna relativo numero di falsi negativi e tau ottimale\n",
    "def build_LBF_classifier(model,FPR_tau):\n",
    "  probs1, probs0 = get_classifier_probs(model)\n",
    "  tau = determine_tau(FPR_tau,probs0)\n",
    "  false_negs = []\n",
    "  for i,url in enumerate(phishing_URLs):\n",
    "    if(probs1[i] < tau):\n",
    "      false_negs += [url]\n",
    "  return false_negs, tau"
   ]
  },
  {
   "cell_type": "code",
   "execution_count": 23,
   "metadata": {
    "id": "rjycaqWhPQsC"
   },
   "outputs": [],
   "source": [
    "def build_LBF_backup(false_negs, FPR, FPR_tau):\n",
    "  num_false_negs = len(false_negs)\n",
    "  FPR_B = (FPR-FPR_tau)/(1-FPR_tau)\n",
    "  if(FPR_B <= 0):\n",
    "    return \"error\"\n",
    "  LBF_backup = BloomFilter(num_false_negs, FPR_B)\n",
    "  for url in false_negs:\n",
    "    LBF_backup.add(url)\n",
    "  return LBF_backup"
   ]
  },
  {
   "cell_type": "code",
   "execution_count": 24,
   "metadata": {
    "id": "XLuM9cKq-kD4"
   },
   "outputs": [],
   "source": [
    "def test_LBF(model, LBF_backup, tau):\n",
    "  # test on testing data\n",
    "  fps = 0\n",
    "  total = 0\n",
    "  total_time = 0\n",
    "  for i in range(int(len(y_test)/100)+1):\n",
    "    # Aggiunto if per evitare eccezioni da stack se la lista é vuota\n",
    "    if(len([X_test[s] for s in range(100*i, min(100*(i+1), len(y_test)))]) > 0):\n",
    "        x0 = torch.stack([X_test[s] for s in range(100*i, min(100*(i+1), len(y_test)))])\n",
    "        x = x0.to(device)\n",
    "        y0 = torch.stack([y_test[s] for s in range(100*i, min(100*(i+1), len(y_test)))])\n",
    "        y = y0.to(device)  \n",
    "        total += len(y)\n",
    "\n",
    "        start = time.time()\n",
    "        y_hat, _ = model(x)\n",
    "        ps = torch.sigmoid(y_hat[:,:,1])[:,149].squeeze().detach().cpu().numpy()\n",
    "        for ix, p in enumerate(ps):\n",
    "          if(p > tau):\n",
    "            result = True        \n",
    "          else:\n",
    "            result = LBF_backup.check(testing_list[100*i+ix])\n",
    "          if(result):\n",
    "            fps += 1\n",
    "        end = time.time()\n",
    "        total_time += (end-start)\n",
    "\n",
    "  avg_fp = fps/total\n",
    "  \n",
    "  # returns empirical FPR, BF size, and avg access time\n",
    "  return avg_fp, LBF_backup.size / 8, (total_time)/len(y_test)"
   ]
  },
  {
   "cell_type": "markdown",
   "metadata": {
    "id": "xVTsU-kgOEMn"
   },
   "source": [
    "# SBF.py equivalent"
   ]
  },
  {
   "cell_type": "code",
   "execution_count": 25,
   "metadata": {
    "id": "aH-aAi8aOJgM"
   },
   "outputs": [],
   "source": [
    "def build_SLBF_initial(false_negs, FPR, FPR_tau):\n",
    "  num_false_negs = len(false_negs)\n",
    "  FPR_B0 = FPR/FPR_tau*(1.-num_false_negs/len(phishing_URLs))\n",
    "  if(FPR_B0 <= 0 or FPR_B0 >= 1):\n",
    "    return \"error\"\n",
    "  SLBF_initial = BloomFilter(len(phishing_URLs), FPR_B0)\n",
    "  for url in phishing_URLs:\n",
    "    SLBF_initial.add(url)\n",
    "  return SLBF_initial"
   ]
  },
  {
   "cell_type": "code",
   "execution_count": 26,
   "metadata": {
    "id": "F1bQENYNShk3"
   },
   "outputs": [],
   "source": [
    "def build_SLBF_backup(false_negs, FPR_tau):\n",
    "  num_false_negs = len(false_negs)\n",
    "  FPR_B = FPR_tau/((1-FPR_tau)*(len(phishing_URLs)/num_false_negs - 1))\n",
    "  if(FPR_B <= 0):\n",
    "    return \"error\"\n",
    "  SLBF_backup = BloomFilter(num_false_negs, FPR_B)\n",
    "  for url in false_negs:\n",
    "    SLBF_backup.add(url)\n",
    "  return SLBF_backup"
   ]
  },
  {
   "cell_type": "code",
   "execution_count": 27,
   "metadata": {
    "id": "UF-srG_ZW0vP"
   },
   "outputs": [],
   "source": [
    "def test_SLBF(SLBF_initial, model, SLBF_backup, tau):\n",
    "  # test on testing data\n",
    "  fps = 0\n",
    "  total = 0\n",
    "  total_time = 0\n",
    "  for i in range(int(len(y_test)/100)+1):\n",
    "    # Aggiunto if per evitare eccezioni da stack se la lista é vuota\n",
    "    if(len([X_test[s] for s in range(100*i, min(100*(i+1), len(y_test)))]) > 0):\n",
    "        x0 = torch.stack([X_test[s] for s in range(100*i, min(100*(i+1), len(y_test)))])\n",
    "        x = x0.to(device)\n",
    "        y0 = torch.stack([y_test[s] for s in range(100*i, min(100*(i+1), len(y_test)))])\n",
    "        y = y0.to(device)  \n",
    "        total += len(y)\n",
    "\n",
    "        start = time.time()\n",
    "        y_hat, _ = model(x)\n",
    "        ps = torch.sigmoid(y_hat[:,:,1])[:,149].squeeze().detach().cpu().numpy()\n",
    "        for ix, p in enumerate(ps):\n",
    "          result = SLBF_initial.check(testing_list[100*i+ix])\n",
    "          if(result):\n",
    "            if(p>tau):\n",
    "              result = True\n",
    "            else:\n",
    "              result = SLBF_backup.check(testing_list[100*i+ix])\n",
    "          if(result):\n",
    "            fps += 1\n",
    "        end = time.time()\n",
    "        total_time += (end-start)\n",
    "\n",
    "  avg_fp = fps/total\n",
    "  \n",
    "  # returns empirical FPR, BF size, and avg access time\n",
    "  return avg_fp, (SLBF_initial.size+SLBF_backup.size) / 8, (total_time)/len(y_test)"
   ]
  },
  {
   "cell_type": "markdown",
   "metadata": {
    "id": "heV-YOqpOJ1R"
   },
   "source": [
    "# $\\tau$ analysis for LBF"
   ]
  },
  {
   "cell_type": "code",
   "execution_count": 28,
   "metadata": {
    "colab": {
     "base_uri": "https://localhost:8080/"
    },
    "id": "19IzVQ40ODJ4",
    "outputId": "faca231f-a115-43c5-afec-48c77ac0a2f7"
   },
   "outputs": [
    {
     "name": "stdout",
     "output_type": "stream",
     "text": [
      "Modello 0: 0.001, 0.10, 0.98427649632871028196, 0.7385250381\n",
      "Modello 0: 0.001, 0.20, 0.96914633241860115298, 0.7014414651\n",
      "Modello 0: 0.001, 0.30, 0.96195208781428465095, 0.6876611845\n",
      "Modello 0: 0.001, 0.40, 0.95587035526218200321, 0.6792328613\n",
      "Modello 0: 0.001, 0.50, 0.94786026848624194141, 0.6697654690\n",
      "Modello 0: 0.001, 0.60, 0.93458429132982279164, 0.6623693988\n",
      "Modello 0: 0.001, 0.70, 0.91923162500927091401, 0.6586702466\n",
      "Modello 0: 0.001, 0.80, 0.91893495512868050845, 0.6585836428\n",
      "Modello 0: 0.001, 0.90, 0.90640065267373726154, 0.6556924902\n",
      "Modello 0: 0.001, 1.00, 0.88860045983831492666, 0.6523137124\n",
      "Modello 0: 0.005, 0.10, 0.94786026848624194141, 0.6697654690\n",
      "Modello 0: 0.005, 0.20, 0.88860045983831492666, 0.6523137124\n",
      "Modello 0: 0.005, 0.30, 0.85841429948824443663, 0.6471886549\n",
      "Modello 0: 0.005, 0.40, 0.83875991989913223357, 0.6434255736\n",
      "Modello 0: 0.005, 0.50, 0.82741229696655049786, 0.6412742379\n",
      "Modello 0: 0.005, 0.60, 0.82088555959356224179, 0.6398395115\n",
      "Modello 0: 0.005, 0.70, 0.81421048728027889396, 0.6382406272\n",
      "Modello 0: 0.005, 0.80, 0.80805458725802858932, 0.6369703021\n",
      "Modello 0: 0.005, 0.90, 0.80145368241489278738, 0.6352849007\n",
      "Modello 0: 0.005, 1.00, 0.79603945709411849663, 0.6337306017\n",
      "Modello 0: 0.010, 0.10, 0.88860045983831492666, 0.6523137124\n",
      "Modello 0: 0.010, 0.20, 0.83875991989913223357, 0.6434255736\n",
      "Modello 0: 0.010, 0.30, 0.82088555959356224179, 0.6398395115\n",
      "Modello 0: 0.010, 0.40, 0.80805458725802858932, 0.6369703021\n",
      "Modello 0: 0.010, 0.50, 0.79603945709411849663, 0.6337306017\n",
      "Modello 0: 0.010, 0.60, 0.78001928354223837303, 0.6295743940\n",
      "Modello 0: 0.010, 0.70, 0.75265148705777651372, 0.6236402653\n",
      "Modello 0: 0.010, 0.80, 0.72758288214788990889, 0.6187152882\n",
      "Modello 0: 0.010, 0.90, 0.70377512423051247215, 0.6142882698\n",
      "Modello 0: 0.010, 1.00, 0.67922569161165913254, 0.6087452805\n",
      "Modello 0: 0.020, 0.10, 0.83875991989913223357, 0.6434255736\n",
      "Modello 0: 0.020, 0.20, 0.80805458725802858932, 0.6369703021\n",
      "Modello 0: 0.020, 0.30, 0.78001928354223837303, 0.6295743940\n",
      "Modello 0: 0.020, 0.40, 0.72758288214788990889, 0.6187152882\n",
      "Modello 0: 0.020, 0.50, 0.67922569161165913254, 0.6087452805\n",
      "Modello 0: 0.020, 0.60, 0.63717273603797375259, 0.5970897079\n",
      "Modello 0: 0.020, 0.70, 0.59029889490469478197, 0.5816015747\n",
      "Modello 0: 0.020, 0.80, 0.55069346584587997029, 0.5642552266\n",
      "Modello 0: 0.020, 0.90, 0.51553808499592079784, 0.5488288155\n",
      "Modello 0: 0.020, 1.00, 0.46962842097456053425, 0.5272582245\n",
      "Modello 1: 0.001, 0.10, 0.98783653489579470452, 0.6878558993\n",
      "Modello 1: 0.001, 0.20, 0.96165541793369424539, 0.6697069170\n",
      "Modello 1: 0.001, 0.30, 0.93621597567306980014, 0.6639838650\n",
      "Modello 1: 0.001, 0.40, 0.93458429132982279164, 0.6634060629\n",
      "Modello 1: 0.001, 0.50, 0.93324927686716607766, 0.6626590918\n",
      "Modello 1: 0.001, 0.60, 0.93258176963583772068, 0.6622777918\n",
      "Modello 1: 0.001, 0.70, 0.93184009493436181781, 0.6618810517\n",
      "Modello 1: 0.001, 0.80, 0.92612919973299712151, 0.6587270326\n",
      "Modello 1: 0.001, 0.90, 0.92019580212118967655, 0.6564544916\n",
      "Modello 1: 0.001, 1.00, 0.91530074909144854001, 0.6548737884\n",
      "Modello 1: 0.005, 0.10, 0.93324927686716607766, 0.6626590918\n",
      "Modello 1: 0.005, 0.20, 0.91530074909144854001, 0.6548737884\n",
      "Modello 1: 0.005, 0.30, 0.89342134539790851733, 0.6488526124\n",
      "Modello 1: 0.005, 0.40, 0.88170288511458871916, 0.6460961854\n",
      "Modello 1: 0.005, 0.50, 0.86249351034636212443, 0.6424316403\n",
      "Modello 1: 0.005, 0.60, 0.84595416450344873560, 0.6387209109\n",
      "Modello 1: 0.005, 0.70, 0.82830230660832160350, 0.6348670269\n",
      "Modello 1: 0.005, 0.80, 0.82095972706370989869, 0.6328965106\n",
      "Modello 1: 0.005, 0.90, 0.81621300897426385390, 0.6314567230\n",
      "Modello 1: 0.005, 1.00, 0.81361714751909808285, 0.6306188703\n",
      "Modello 1: 0.010, 0.10, 0.91530074909144854001, 0.6548737884\n",
      "Modello 1: 0.010, 0.20, 0.88170288511458871916, 0.6460961854\n",
      "Modello 1: 0.010, 0.30, 0.84595416450344873560, 0.6387209109\n",
      "Modello 1: 0.010, 0.40, 0.82095972706370989869, 0.6328965106\n",
      "Modello 1: 0.010, 0.50, 0.81361714751909808285, 0.6306188703\n",
      "Modello 1: 0.010, 0.60, 0.81065044871319436037, 0.6295290201\n",
      "Modello 1: 0.010, 0.70, 0.80568122821330567795, 0.6277095077\n",
      "Modello 1: 0.010, 0.80, 0.80182451976563084983, 0.6259877086\n",
      "Modello 1: 0.010, 0.90, 0.79796781131795591069, 0.6244272250\n",
      "Modello 1: 0.010, 1.00, 0.78699102573611212641, 0.6197105753\n",
      "Modello 1: 0.020, 0.10, 0.88170288511458871916, 0.6460961854\n",
      "Modello 1: 0.020, 0.20, 0.82095972706370989869, 0.6328965106\n",
      "Modello 1: 0.020, 0.30, 0.81065044871319436037, 0.6295290201\n",
      "Modello 1: 0.020, 0.40, 0.80182451976563084983, 0.6259877086\n",
      "Modello 1: 0.020, 0.50, 0.78699102573611212641, 0.6197105753\n",
      "Modello 1: 0.020, 0.60, 0.75428317140102352223, 0.6071877270\n",
      "Modello 1: 0.020, 0.70, 0.70933768449158196567, 0.5980013535\n",
      "Modello 1: 0.020, 0.80, 0.66172216865682709219, 0.5891488957\n",
      "Modello 1: 0.020, 0.90, 0.62730846250834382261, 0.5809729974\n",
      "Modello 1: 0.020, 1.00, 0.62701179262775341705, 0.5808237791\n",
      "Modello 2: 0.001, 0.10, 0.99821998071645778872, 0.8059225844\n",
      "Modello 2: 0.001, 0.20, 0.99569828673143956355, 0.7945852212\n",
      "Modello 2: 0.001, 0.30, 0.99428910479863530369, 0.7899675508\n",
      "Modello 2: 0.001, 0.40, 0.99095156864199362978, 0.7810212986\n",
      "Modello 2: 0.001, 0.50, 0.98791070236594225040, 0.7724977732\n",
      "Modello 2: 0.001, 0.60, 0.98791070236594225040, 0.7724459171\n",
      "Modello 2: 0.001, 0.70, 0.98375732403767712775, 0.7630253224\n",
      "Modello 2: 0.001, 0.80, 0.98145813246310165123, 0.7587178101\n",
      "Modello 2: 0.001, 0.90, 0.97930727582882148852, 0.7548914347\n",
      "Modello 2: 0.001, 1.00, 0.97537639991099900350, 0.7477505803\n",
      "Modello 2: 0.005, 0.10, 0.98791070236594225040, 0.7724977732\n",
      "Modello 2: 0.005, 0.20, 0.97537639991099900350, 0.7477505803\n",
      "Modello 2: 0.005, 0.30, 0.97530223244085145762, 0.7476356626\n",
      "Modello 2: 0.005, 0.40, 0.97070384929170061561, 0.7393654585\n",
      "Modello 2: 0.005, 0.50, 0.97011050953051991552, 0.7380398512\n",
      "Modello 2: 0.005, 0.60, 0.95868871912779052291, 0.7162969558\n",
      "Modello 2: 0.005, 0.70, 0.95260698657568787517, 0.7065649629\n",
      "Modello 2: 0.005, 0.80, 0.94163020099384409090, 0.6877235641\n",
      "Modello 2: 0.005, 0.90, 0.93235926722539497202, 0.6749906855\n",
      "Modello 2: 0.005, 1.00, 0.92331083586738860181, 0.6618172050\n",
      "Modello 2: 0.010, 0.10, 0.97537639991099900350, 0.7477505803\n",
      "Modello 2: 0.010, 0.20, 0.97070384929170061561, 0.7393654585\n",
      "Modello 2: 0.010, 0.30, 0.95868871912779052291, 0.7162969558\n",
      "Modello 2: 0.010, 0.40, 0.94163020099384409090, 0.6877235641\n",
      "Modello 2: 0.010, 0.50, 0.92331083586738860181, 0.6618172050\n",
      "Modello 2: 0.010, 0.60, 0.91255655269598756618, 0.6489303753\n",
      "Modello 2: 0.010, 0.70, 0.90410146109916189605, 0.6407875723\n",
      "Modello 2: 0.010, 0.80, 0.89557220203218868004, 0.6354167991\n",
      "Modello 2: 0.010, 0.90, 0.79166357635541051430, 0.6297286749\n",
      "Modello 2: 0.010, 1.00, 0.77349254616925011696, 0.6242501128\n",
      "Modello 2: 0.020, 0.10, 0.97070384929170061561, 0.7393654585\n",
      "Modello 2: 0.020, 0.20, 0.94163020099384409090, 0.6877235641\n",
      "Modello 2: 0.020, 0.30, 0.91255655269598756618, 0.6489303753\n",
      "Modello 2: 0.020, 0.40, 0.89557220203218868004, 0.6354167991\n",
      "Modello 2: 0.020, 0.50, 0.77349254616925011696, 0.6242501128\n",
      "Modello 2: 0.020, 0.60, 0.75450567381146627088, 0.6182504153\n",
      "Modello 2: 0.020, 0.70, 0.74182303641622782120, 0.6140002909\n",
      "Modello 2: 0.020, 0.80, 0.73084625083438403692, 0.6096324077\n",
      "Modello 2: 0.020, 0.90, 0.72046280501372095273, 0.6052168252\n",
      "Modello 2: 0.020, 1.00, 0.71141437365571458251, 0.6015165520\n"
     ]
    }
   ],
   "source": [
    "fprs = [0.001,0.005,0.01,0.02]\n",
    "fpr_ratios = [0.1*i for i in range(1,11)] # Ma fpr ratio 1.0 non ha senso?\n",
    "false_negs = {}\n",
    "taus = {}\n",
    "\n",
    "# Per ognuno dei modelli salvo numero di falsi negativi del classificatore e tau ottimale nelle relative strutture sulla\n",
    "# base del fprs e fpr_ratio target.\n",
    "for i in range(3):\n",
    "  false_negs[i] = {}\n",
    "  taus[i] = {}\n",
    "  for fpr in fprs:\n",
    "    for fpr_ratio in fpr_ratios:\n",
    "      false_negs[i][(fpr,fpr_ratio)], taus[i][(fpr,fpr_ratio)] = build_LBF_classifier(models[i], fpr*fpr_ratio)\n",
    "      # Cambiata print\n",
    "      print(\"Modello %d: %.3f, %.2f, %.20f, %.10f\" % (i, fpr, fpr_ratio, len(false_negs[i][(fpr,fpr_ratio)])/len(phishing_URLs), taus[i][(fpr,fpr_ratio)]))\n",
    "      # print(len(false_negs[i][(fpr,fpr_ratio)])/len(phishing_URLs), taus[i][(fpr,fpr_ratio)])"
   ]
  },
  {
   "cell_type": "code",
   "execution_count": 29,
   "metadata": {
    "id": "OYaqTtedNTmR"
   },
   "outputs": [],
   "source": [
    "# Salva risultati della cella precedente, ma poi li usa?\n",
    "np.save(loc+\"false_negs\", false_negs)\n",
    "np.save(loc+\"taus\", taus)"
   ]
  },
  {
   "cell_type": "code",
   "execution_count": 30,
   "metadata": {
    "colab": {
     "base_uri": "https://localhost:8080/"
    },
    "id": "sPpIL6MEVW_A",
    "outputId": "64e2b502-ee55-4022-abb2-361596b4d9d3"
   },
   "outputs": [
    {
     "name": "stdout",
     "output_type": "stream",
     "text": [
      "0.001 0.0012743377621793265 24214.0 0.0001968804996215063\n",
      "0.001 0.000741622796022395 24241.875 0.00019950933491086925\n",
      "0.001 0.00105498454082059 24512.125 0.00019808381663893282\n",
      "0.001 0.0009296398429013119 24873.75 0.00019575102472500544\n",
      "0.001 0.00105498454082059 25271.125 0.0002039657496186718\n",
      "0.001 0.0012221108047129605 25648.5 0.00019879601917599957\n",
      "0.001 0.001002757583354224 26154.5 0.00019467550381150193\n",
      "0.001 0.0010445391493273167 27452.75 0.00020358265517119966\n",
      "0.001 0.0010863207153004094 29281.875 0.00020529610815627579\n",
      "bad epsilon\n",
      "0.005 0.004783989303919111 17965.375 0.00020459555808569622\n",
      "0.005 0.004919779393331662 17207.875 0.00021260610208123252\n",
      "0.005 0.004982451742291301 17023.875 0.00021636426533494784\n",
      "0.005 0.004867552435865296 17086.125 0.00020701311739742024\n",
      "0.005 0.0045332999080805545 17382.75 0.00020124988068990005\n",
      "0.005 0.004773543912425838 17886.75 0.000210768767862359\n",
      "0.005 0.0047422077379460185 18561.5 0.0002161610656447246\n",
      "0.005 0.004898888610345116 19569.0 0.00020895776687294377\n",
      "0.005 0.0048257708698922035 21356.5 0.00020507559537628575\n",
      "bad epsilon\n",
      "0.01 0.01018425670594134 14680.0 0.00020610228998973633\n",
      "0.01 0.012336007353555611 14200.25 0.00020250227802567008\n",
      "0.01 0.01308807554107128 14279.25 0.000209694345204406\n",
      "0.01 0.011949527868304504 14490.25 0.00019836424287024762\n",
      "0.01 0.01018425670594134 14781.0 0.0002096766710102065\n",
      "0.01 0.009609760173811314 15091.375 0.00020662806053413447\n",
      "0.01 0.010821425587031003 15318.75 0.00020732380916094675\n",
      "0.01 0.009881340352636417 15840.875 0.00020967454671999203\n",
      "0.01 0.00989178574412969 17031.25 0.00020950429469628412\n",
      "bad epsilon\n",
      "0.02 0.02126681708030417 11814.25 0.00021021339671598038\n",
      "0.02 0.01921952034762263 11710.0 0.0002096944946269299\n",
      "0.02 0.01822720815576168 11663.625 0.0002104429545394159\n",
      "0.02 0.01964778139884683 11267.75 0.00019326020105944806\n",
      "0.02 0.02175775048048801 10948.5 0.00019205101671758388\n",
      "0.02 0.02054608506726832 10764.875 0.0001900610449001924\n",
      "0.02 0.02001337010111139 10564.5 0.00019081776787824894\n",
      "0.02 0.019940252360658477 10635.0 0.0001905977432118369\n",
      "0.02 0.02004470627559121 11205.875 0.0001899220595396062\n",
      "bad epsilon\n",
      "0.001 0.0009191944514080388 24301.625 0.00016890121420752468\n",
      "0.001 0.00105498454082059 24054.5 0.00016807771430354653\n",
      "0.001 0.0010340937578340436 23856.375 0.00017042443737745025\n",
      "0.001 0.0010132029748474974 24319.875 0.000188021026498803\n",
      "0.001 0.0012116654132196874 24881.625 0.00018813169878148948\n",
      "0.001 0.0008983036684214925 25593.5 0.00017523556123393873\n",
      "0.001 0.0008983036684214925 26513.125 0.00017733281842347544\n",
      "0.001 0.0009191944514080388 27667.625 0.00018421940619439282\n",
      "0.001 0.0010340937578340436 29727.5 0.00018593387774300672\n",
      "bad epsilon\n",
      "0.005 0.005348040444555862 17688.5 0.00018083304104534438\n",
      "0.005 0.00481532547839893 17724.875 0.00018110728865529675\n",
      "0.005 0.005107796440210579 17718.125 0.00018017225977949523\n",
      "0.005 0.005379376619035681 17960.875 0.0001811882208749805\n",
      "0.005 0.005243586529623131 18119.75 0.00018189153277187644\n",
      "0.005 0.00547338514247514 18433.0 0.0001792946016817371\n",
      "0.005 0.005295813487089496 18882.75 0.00017752604665060515\n",
      "0.005 0.005118241831703852 19881.625 0.00017955476372843846\n",
      "0.005 0.005536057491434779 21749.75 0.00018154582633025427\n",
      "bad epsilon\n",
      "0.01 0.009682877914264226 15121.125 0.00017673590532508302\n",
      "0.01 0.009390406952452577 14927.25 0.00017877874532179833\n",
      "0.01 0.010779644021057909 14715.375 0.00018288639540699\n",
      "0.01 0.010330492186847163 14721.625 0.00018511138395068937\n",
      "0.01 0.009985794267569148 15107.5 0.00018011571331570856\n",
      "0.01 0.010267819837887524 15684.0 0.0001861431315358225\n",
      "0.01 0.009839558786663325 16398.125 0.00018259327573227167\n",
      "0.01 0.00966198713127768 17457.25 0.0001760167571310313\n",
      "0.01 0.01032004679535389 19310.75 0.00018243417062884515\n",
      "bad epsilon\n",
      "0.02 0.020598312024734687 12419.125 0.00017857087866807926\n",
      "0.02 0.020525194284281775 11897.0 0.00016981952519327953\n",
      "0.02 0.018979276343277347 12121.625 0.00017551255821833048\n",
      "0.02 0.019961143143645024 12417.5 0.00017594382399712587\n",
      "0.02 0.01921952034762263 12685.625 0.0001760940235181292\n",
      "0.02 0.01932397426255536 12743.375 0.00017818144372484384\n",
      "0.02 0.02021183253948358 12694.875 0.00018029488088334126\n",
      "0.02 0.02030584106292304 12779.125 0.0001788952450829161\n",
      "0.02 0.02036851341188268 13635.375 0.00017578940578019838\n",
      "bad epsilon\n",
      "0.001 0.0010132029748474974 24557.0 0.00014481831286259738\n",
      "0.001 0.0010445391493273167 24906.0 0.00013680986576314618\n",
      "0.001 0.00125344697919278 25336.125 0.00013909646121344093\n",
      "0.001 0.0011803292387398679 25786.625 0.00013751249529718308\n",
      "0.001 0.0013996824600986046 26339.0 0.00013527285836539274\n",
      "0.001 0.0009296398429013119 27111.875 0.00013764362103301322\n",
      "0.001 0.001128102281273502 27990.375 0.000136863234507925\n",
      "0.001 0.0009505306258878582 29320.5 0.0001387440033641148\n",
      "0.001 0.0009714214088744046 31637.125 0.000134037139073663\n",
      "bad epsilon\n",
      "0.005 0.005055569482744213 18724.5 0.00013768561623334944\n",
      "0.005 0.00444973677613437 18888.25 0.00013780253188715869\n",
      "0.005 0.00527492270410295 19342.0 0.0001334460434922003\n",
      "0.005 0.004752653129439292 19774.0 0.00013126058716756854\n",
      "0.005 0.004491518342107462 20380.625 0.00013146927066441815\n",
      "0.005 0.004961560959304755 20889.375 0.0001352684404394367\n",
      "0.005 0.004951115567811482 21716.5 0.00013131493462987878\n",
      "0.005 0.004888443218851842 22803.875 0.00013250795892578543\n",
      "0.005 0.005201804963650037 24844.75 0.00013551009401618024\n",
      "bad epsilon\n",
      "0.01 0.00929639842901312 16113.625 0.000139922526204079\n",
      "0.01 0.010236483663407705 16434.125 0.00014128120030995806\n",
      "0.01 0.009338179994986212 16676.375 0.000143049048074477\n",
      "0.01 0.010884097935990641 16885.5 0.0001320730372759058\n",
      "0.01 0.009714214088744046 17144.25 0.00013732058945938969\n",
      "0.01 0.010633408540152085 17655.625 0.00013912970523462863\n",
      "0.01 0.010382719144313528 18401.25 0.00013620965540772683\n",
      "0.01 0.010382719144313528 19498.25 0.00013810607378291758\n",
      "0.01 0.010236483663407705 19158.125 0.0001339183257538005\n",
      "bad epsilon\n",
      "0.02 0.021527951867635998 13672.75 0.00013739029506677932\n",
      "0.02 0.01957466365839392 13645.75 0.00013634126427638417\n",
      "0.02 0.023366340770452076 13645.375 0.00013466858869807467\n",
      "0.02 0.0188017046878917 13869.375 0.0001331640408532586\n",
      "0.02 0.02060875741622796 12468.0 0.00013794342736567512\n",
      "0.02 0.021120581599398346 12747.125 0.0001354971739486155\n",
      "0.02 0.022927634327734602 13276.25 0.00013388304958628804\n",
      "0.02 0.020452076543828863 14114.125 0.00013540373755405847\n",
      "0.02 0.020692320548174145 15660.25 0.0001359244576171495\n",
      "bad epsilon\n"
     ]
    }
   ],
   "source": [
    "LBF_backups = {}\n",
    "\n",
    "# Per ognuno dei modelli salvo il filtro di backup costruito sulla base del fpr e fpr_ratio target\n",
    "for i in range(3):\n",
    "  LBF_backups[i] = {}\n",
    "  for fpr in fprs:\n",
    "    for fpr_ratio in fpr_ratios:\n",
    "      try:\n",
    "        LBF_backups[i][(fpr,fpr_ratio)] = build_LBF_backup(false_negs[i][(fpr,fpr_ratio)], fpr, fpr*fpr_ratio)\n",
    "        if(LBF_backups[i][(fpr,fpr_ratio)] =='error'):\n",
    "          print(\"bad epsilon\")\n",
    "          continue\n",
    "        fpr0, BF_size, t = test_LBF(models[i], LBF_backups[i][(fpr,fpr_ratio)], taus[i][(fpr,fpr_ratio)])\n",
    "        print(fpr, fpr0, BF_size, t)\n",
    "        LBF = {\"FPR\": fpr0, \"size\": BF_size+model_sizes[i], \"time\": t}\n",
    "        np.save(loc+\"LBF_hid\"+str(h_sizes[i])+\"_FPR\"+str(fpr)+\"_ratio\"+str(fpr_ratio), LBF)\n",
    "      except:\n",
    "        # Se il numero di falsi negativi é 0 sollevo eccezione e non salvo\n",
    "        # Non controllata inizialmente probabilbente perché é stata esclusa la possibilitá di avere fn = 0 con dataset grandi\n",
    "        print(\"Numero falsi negativi = 0\")"
   ]
  },
  {
   "cell_type": "code",
   "execution_count": 31,
   "metadata": {
    "id": "79ihIfTvvqJb"
   },
   "outputs": [],
   "source": [
    "fnrs = {}\n",
    "# Per ognuno dei modelli costruisco un dataframe in cui salvo il rate di falsi negativi per ogni fpr e fprs_ratio\n",
    "for i in range(3):\n",
    "  fnrs[i] = pd.DataFrame(index=fpr_ratios, columns=fprs)\n",
    "  for fpr in fprs:\n",
    "    for fpr_ratio in fpr_ratios:\n",
    "      fnrs[i].loc[fpr_ratio,fpr] = len(false_negs[i][(fpr,fpr_ratio)])/len(phishing_URLs)"
   ]
  },
  {
   "cell_type": "code",
   "execution_count": 32,
   "metadata": {
    "colab": {
     "base_uri": "https://localhost:8080/"
    },
    "id": "l5BO4R76ex2f",
    "outputId": "a55dd412-1096-47cb-ccbb-c80a9e415be4"
   },
   "outputs": [
    {
     "name": "stdout",
     "output_type": "stream",
     "text": [
      "0.0012743377621793265 34429.0 0.0001968804996215063\n",
      "0.000741622796022395 34456.875 0.00019950933491086925\n",
      "0.00105498454082059 34727.125 0.00019808381663893282\n",
      "0.0009296398429013119 35088.75 0.00019575102472500544\n",
      "0.00105498454082059 35486.125 0.0002039657496186718\n",
      "0.0012221108047129605 35863.5 0.00019879601917599957\n",
      "0.001002757583354224 36369.5 0.00019467550381150193\n",
      "0.0010445391493273167 37667.75 0.00020358265517119966\n",
      "0.0010863207153004094 39496.875 0.00020529610815627579\n",
      "error / numero falsi negativi 0\n",
      "0.004783989303919111 28180.375 0.00020459555808569622\n",
      "0.004919779393331662 27422.875 0.00021260610208123252\n",
      "0.004982451742291301 27238.875 0.00021636426533494784\n",
      "0.004867552435865296 27301.125 0.00020701311739742024\n",
      "0.0045332999080805545 27597.75 0.00020124988068990005\n",
      "0.004773543912425838 28101.75 0.000210768767862359\n",
      "0.0047422077379460185 28776.5 0.0002161610656447246\n",
      "0.004898888610345116 29784.0 0.00020895776687294377\n",
      "0.0048257708698922035 31571.5 0.00020507559537628575\n",
      "error / numero falsi negativi 0\n",
      "0.01018425670594134 24895.0 0.00020610228998973633\n",
      "0.012336007353555611 24415.25 0.00020250227802567008\n",
      "0.01308807554107128 24494.25 0.000209694345204406\n",
      "0.011949527868304504 24705.25 0.00019836424287024762\n",
      "0.01018425670594134 24996.0 0.0002096766710102065\n",
      "0.009609760173811314 25306.375 0.00020662806053413447\n",
      "0.010821425587031003 25533.75 0.00020732380916094675\n",
      "0.009881340352636417 26055.875 0.00020967454671999203\n",
      "0.00989178574412969 27246.25 0.00020950429469628412\n",
      "error / numero falsi negativi 0\n",
      "0.02126681708030417 22029.25 0.00021021339671598038\n",
      "0.01921952034762263 21925.0 0.0002096944946269299\n",
      "0.01822720815576168 21878.625 0.0002104429545394159\n",
      "0.01964778139884683 21482.75 0.00019326020105944806\n",
      "0.02175775048048801 21163.5 0.00019205101671758388\n",
      "0.02054608506726832 20979.875 0.0001900610449001924\n",
      "0.02001337010111139 20779.5 0.00019081776787824894\n",
      "0.019940252360658477 20850.0 0.0001905977432118369\n",
      "0.02004470627559121 21420.875 0.0001899220595396062\n",
      "error / numero falsi negativi 0\n",
      "0.0009191944514080388 31316.625 0.00016890121420752468\n",
      "0.00105498454082059 31069.5 0.00016807771430354653\n",
      "0.0010340937578340436 30871.375 0.00017042443737745025\n",
      "0.0010132029748474974 31334.875 0.000188021026498803\n",
      "0.0012116654132196874 31896.625 0.00018813169878148948\n",
      "0.0008983036684214925 32608.5 0.00017523556123393873\n",
      "0.0008983036684214925 33528.125 0.00017733281842347544\n",
      "0.0009191944514080388 34682.625 0.00018421940619439282\n",
      "0.0010340937578340436 36742.5 0.00018593387774300672\n",
      "error / numero falsi negativi 0\n",
      "0.005348040444555862 24703.5 0.00018083304104534438\n",
      "0.00481532547839893 24739.875 0.00018110728865529675\n",
      "0.005107796440210579 24733.125 0.00018017225977949523\n",
      "0.005379376619035681 24975.875 0.0001811882208749805\n",
      "0.005243586529623131 25134.75 0.00018189153277187644\n",
      "0.00547338514247514 25448.0 0.0001792946016817371\n",
      "0.005295813487089496 25897.75 0.00017752604665060515\n",
      "0.005118241831703852 26896.625 0.00017955476372843846\n",
      "0.005536057491434779 28764.75 0.00018154582633025427\n",
      "error / numero falsi negativi 0\n",
      "0.009682877914264226 22136.125 0.00017673590532508302\n",
      "0.009390406952452577 21942.25 0.00017877874532179833\n",
      "0.010779644021057909 21730.375 0.00018288639540699\n",
      "0.010330492186847163 21736.625 0.00018511138395068937\n",
      "0.009985794267569148 22122.5 0.00018011571331570856\n",
      "0.010267819837887524 22699.0 0.0001861431315358225\n",
      "0.009839558786663325 23413.125 0.00018259327573227167\n",
      "0.00966198713127768 24472.25 0.0001760167571310313\n",
      "0.01032004679535389 26325.75 0.00018243417062884515\n",
      "error / numero falsi negativi 0\n",
      "0.020598312024734687 19434.125 0.00017857087866807926\n",
      "0.020525194284281775 18912.0 0.00016981952519327953\n",
      "0.018979276343277347 19136.625 0.00017551255821833048\n",
      "0.019961143143645024 19432.5 0.00017594382399712587\n",
      "0.01921952034762263 19700.625 0.0001760940235181292\n",
      "0.01932397426255536 19758.375 0.00017818144372484384\n",
      "0.02021183253948358 19709.875 0.00018029488088334126\n",
      "0.02030584106292304 19794.125 0.0001788952450829161\n",
      "0.02036851341188268 20650.375 0.00017578940578019838\n",
      "error / numero falsi negativi 0\n",
      "0.0010132029748474974 30612.0 0.00014481831286259738\n",
      "0.0010445391493273167 30961.0 0.00013680986576314618\n",
      "0.00125344697919278 31391.125 0.00013909646121344093\n",
      "0.0011803292387398679 31841.625 0.00013751249529718308\n",
      "0.0013996824600986046 32394.0 0.00013527285836539274\n",
      "0.0009296398429013119 33166.875 0.00013764362103301322\n",
      "0.001128102281273502 34045.375 0.000136863234507925\n",
      "0.0009505306258878582 35375.5 0.0001387440033641148\n",
      "0.0009714214088744046 37692.125 0.000134037139073663\n",
      "error / numero falsi negativi 0\n",
      "0.005055569482744213 24779.5 0.00013768561623334944\n",
      "0.00444973677613437 24943.25 0.00013780253188715869\n",
      "0.00527492270410295 25397.0 0.0001334460434922003\n",
      "0.004752653129439292 25829.0 0.00013126058716756854\n",
      "0.004491518342107462 26435.625 0.00013146927066441815\n",
      "0.004961560959304755 26944.375 0.0001352684404394367\n",
      "0.004951115567811482 27771.5 0.00013131493462987878\n",
      "0.004888443218851842 28858.875 0.00013250795892578543\n",
      "0.005201804963650037 30899.75 0.00013551009401618024\n",
      "error / numero falsi negativi 0\n",
      "0.00929639842901312 22168.625 0.000139922526204079\n",
      "0.010236483663407705 22489.125 0.00014128120030995806\n",
      "0.009338179994986212 22731.375 0.000143049048074477\n",
      "0.010884097935990641 22940.5 0.0001320730372759058\n",
      "0.009714214088744046 23199.25 0.00013732058945938969\n",
      "0.010633408540152085 23710.625 0.00013912970523462863\n",
      "0.010382719144313528 24456.25 0.00013620965540772683\n",
      "0.010382719144313528 25553.25 0.00013810607378291758\n",
      "0.010236483663407705 25213.125 0.0001339183257538005\n",
      "error / numero falsi negativi 0\n",
      "0.021527951867635998 19727.75 0.00013739029506677932\n",
      "0.01957466365839392 19700.75 0.00013634126427638417\n",
      "0.023366340770452076 19700.375 0.00013466858869807467\n",
      "0.0188017046878917 19924.375 0.0001331640408532586\n",
      "0.02060875741622796 18523.0 0.00013794342736567512\n",
      "0.021120581599398346 18802.125 0.0001354971739486155\n",
      "0.022927634327734602 19331.25 0.00013388304958628804\n",
      "0.020452076543828863 20169.125 0.00013540373755405847\n",
      "0.020692320548174145 21715.25 0.0001359244576171495\n",
      "error / numero falsi negativi 0\n"
     ]
    }
   ],
   "source": [
    "true_fpr_LBF = {}\n",
    "sizes_LBF = {}\n",
    "times_LBF = {}\n",
    "# Per ogni modello salvo in base a fpr, fpr_ratio target l'frp empirico, la grandezza ed il tempo di accesso per elemento\n",
    "# del LBF relativa\n",
    "# Utile per i grafici successivi\n",
    "for i in range(3):\n",
    "  true_fpr_LBF[i] = pd.DataFrame(index = fpr_ratios, columns = fprs)\n",
    "  sizes_LBF[i] = pd.DataFrame(index = fpr_ratios, columns = fprs)\n",
    "  times_LBF[i] = pd.DataFrame(index = fpr_ratios, columns = fprs)\n",
    "  for fpr in fprs:\n",
    "    for fpr_ratio in fpr_ratios:\n",
    "      try:\n",
    "        LBF = np.load(loc+\"LBF_hid\"+str(h_sizes[i])+\"_FPR\"+str(fpr)+\"_ratio\"+str(fpr_ratio)+\".npy\", allow_pickle=True).item()\n",
    "        true_fpr_LBF[i].loc[fpr_ratio,fpr] = LBF['FPR']\n",
    "        sizes_LBF[i].loc[fpr_ratio,fpr] = LBF['size']\n",
    "        times_LBF[i].loc[fpr_ratio,fpr] = LBF['time']\n",
    "        print(LBF['FPR'], LBF['size'], LBF['time'])\n",
    "      except:\n",
    "        # Aggiunta except utile nel caso in cui il file non fosse stato salvato perché fn = 0\n",
    "        print(\"error / numero falsi negativi 0\")\n",
    "        continue"
   ]
  },
  {
   "cell_type": "code",
   "execution_count": 33,
   "metadata": {
    "id": "S8kiqjdpZt3A"
   },
   "outputs": [],
   "source": [
    "#plot_loc = \"/content/gdrive/My Drive/College/current classes/CS 222 fall 2018/CS222 Project/plots/\"\n",
    "plot_loc = \"trained_NN/plots/\""
   ]
  },
  {
   "cell_type": "code",
   "execution_count": 34,
   "metadata": {
    "colab": {
     "base_uri": "https://localhost:8080/",
     "height": 175
    },
    "id": "DitHYBkDv1jA",
    "outputId": "e9a9a343-18f3-4af4-a936-166e2dc066ba"
   },
   "outputs": [
    {
     "data": {
      "image/png": "[encoded data removed]",
      "text/plain": [
       "<Figure size 864x216 with 3 Axes>"
      ]
     },
     "metadata": {
      "needs_background": "light"
     },
     "output_type": "display_data"
    }
   ],
   "source": [
    "f,ax = plt.subplots(1,3,figsize=(12,3))\n",
    "for i in range(3):\n",
    "  fnrs[i].plot(ax=ax[i])\n",
    "  ax[i].set_xlabel(\"Classifier FPR ratio \"+r\"$\\epsilon_\\tau/\\epsilon$\")\n",
    "  ax[i].set_ylabel(\"Classifier False Negative Rate\")\n",
    "  ax[i].set_title(\"LBF with \"+str(h_sizes[i])+\" dimensional GRU\")\n",
    "  ax[i].legend(fontsize='xx-small')\n",
    "plt.tight_layout()\n",
    "plt.show()\n",
    "f.savefig(plot_loc+\"LBF_classifier_FNR.png\")\n",
    "# FPR_tau/FPR forced to stay between 0 and 1, "
   ]
  },
  {
   "cell_type": "code",
   "execution_count": 35,
   "metadata": {
    "colab": {
     "base_uri": "https://localhost:8080/",
     "height": 175
    },
    "id": "KS1bR-N7XO9P",
    "outputId": "f07a4e8e-321e-43bc-aa2e-41d3fabdcabc"
   },
   "outputs": [
    {
     "data": {
      "image/png": "[encoded data removed]",
      "text/plain": [
       "<Figure size 864x216 with 3 Axes>"
      ]
     },
     "metadata": {
      "needs_background": "light"
     },
     "output_type": "display_data"
    }
   ],
   "source": [
    "f, ax = plt.subplots(1,3,figsize=(12,3))\n",
    "for i in range(3):\n",
    "  true_fpr_LBF[i].plot(ax=ax[i])\n",
    "  ax[i].set_xlabel(\"Classifier FPR ratio \"+r\"$\\epsilon_\\tau/\\epsilon$\")\n",
    "  ax[i].set_ylabel(\"Overall FPR\")\n",
    "  ax[i].set_title(\"LBF with \"+str(h_sizes[i])+\" dimensional GRU\")\n",
    "  ax[i].legend(fontsize='xx-small', loc='upper right')\n",
    "plt.tight_layout()\n",
    "plt.show()\n",
    "f.savefig(plot_loc+\"LBF_fpr.png\")\n",
    "#regardless of what the desired FPR is, the curve looks the same??"
   ]
  },
  {
   "cell_type": "code",
   "execution_count": 36,
   "metadata": {
    "colab": {
     "base_uri": "https://localhost:8080/",
     "height": 175
    },
    "id": "h60T3arRYVkz",
    "outputId": "63309f88-167a-4a03-a6fb-304bbd69365a"
   },
   "outputs": [
    {
     "data": {
      "image/png": "[encoded data removed]",
      "text/plain": [
       "<Figure size 864x216 with 3 Axes>"
      ]
     },
     "metadata": {
      "needs_background": "light"
     },
     "output_type": "display_data"
    }
   ],
   "source": [
    "f, ax = plt.subplots(1,3,figsize=(12,3))\n",
    "for i in range(3):\n",
    "  sizes_LBF[i].plot(ax=ax[i])\n",
    "  ax[i].set_xlabel(\"Classifier FPR ratio \"+r\"$\\epsilon_\\tau/\\epsilon$\")\n",
    "  ax[i].set_ylabel(\"Total Size of LBF\")\n",
    "  ax[i].set_title(\"LBF with \"+str(h_sizes[i])+\" dimensional GRU\")\n",
    "  ax[i].legend(fontsize='xx-small', loc='upper left')\n",
    "plt.tight_layout()\n",
    "plt.show()\n",
    "f.savefig(plot_loc+\"LBF_size.png\")\n",
    "# seems most optimal at 0.5"
   ]
  },
  {
   "cell_type": "markdown",
   "metadata": {
    "id": "RkeB2L-UXxvZ"
   },
   "source": [
    "# $\\tau$ analysis for SLBF"
   ]
  },
  {
   "cell_type": "code",
   "execution_count": 37,
   "metadata": {
    "colab": {
     "base_uri": "https://localhost:8080/"
    },
    "id": "kxM8obK41gHT",
    "outputId": "7c73f4fd-cbb3-481a-a4f9-5f6a314df1fe"
   },
   "outputs": [
    {
     "name": "stdout",
     "output_type": "stream",
     "text": [
      "Modello 0: 0.001, 1.00, 0.88860045983831492666, 0.6523137124\n",
      "Modello 0: 0.001, 2.00, 0.83875991989913223357, 0.6434255736\n",
      "Modello 0: 0.001, 3.00, 0.82088555959356224179, 0.6398395115\n",
      "Modello 0: 0.001, 4.00, 0.80805458725802858932, 0.6369703021\n",
      "Modello 0: 0.001, 5.00, 0.79603945709411849663, 0.6337306017\n",
      "Modello 0: 0.001, 6.00, 0.78001928354223837303, 0.6295743940\n",
      "Modello 0: 0.001, 7.00, 0.75265148705777651372, 0.6236402653\n",
      "Modello 0: 0.001, 8.00, 0.72758288214788990889, 0.6187152882\n",
      "Modello 0: 0.001, 9.00, 0.70377512423051247215, 0.6142882698\n",
      "Modello 0: 0.001, 10.00, 0.67922569161165913254, 0.6087452805\n",
      "Modello 0: 0.005, 1.00, 0.79603945709411849663, 0.6337306017\n",
      "Modello 0: 0.005, 2.00, 0.67922569161165913254, 0.6087452805\n",
      "Modello 0: 0.005, 3.00, 0.56975450567381147327, 0.5724982554\n",
      "Modello 0: 0.005, 4.00, 0.46962842097456053425, 0.5272582245\n",
      "Modello 0: 0.005, 5.00, 0.40717941111028704837, 0.4829563767\n",
      "Modello 0: 0.005, 6.00, 0.36423644589483050726, 0.4496590275\n",
      "Modello 0: 0.005, 7.00, 0.33501446265667877977, 0.4207548201\n",
      "Modello 0: 0.005, 8.00, 0.31202254691092484729, 0.3973239362\n",
      "Modello 0: 0.005, 9.00, 0.28851145887413781610, 0.3735851148\n",
      "Modello 0: 0.005, 10.00, 0.27664466365052287067, 0.3612266779\n",
      "Modello 0: 0.010, 1.00, 0.67922569161165913254, 0.6087452805\n",
      "Modello 0: 0.010, 2.00, 0.46962842097456053425, 0.5272582245\n",
      "Modello 0: 0.010, 3.00, 0.36423644589483050726, 0.4496590275\n",
      "Modello 0: 0.010, 4.00, 0.31202254691092484729, 0.3973239362\n",
      "Modello 0: 0.010, 5.00, 0.27664466365052287067, 0.3612266779\n",
      "Modello 0: 0.010, 6.00, 0.24675517318104278619, 0.3283797503\n",
      "Modello 0: 0.010, 7.00, 0.23822591411406957018, 0.3179263061\n",
      "Modello 0: 0.010, 8.00, 0.21375064896536380421, 0.2876742482\n",
      "Modello 0: 0.010, 9.00, 0.19446710672698955258, 0.2665075564\n",
      "Modello 0: 0.010, 10.00, 0.17770525847363347061, 0.2478797764\n",
      "Modello 0: 0.020, 1.00, 0.46962842097456053425, 0.5272582245\n",
      "Modello 0: 0.020, 2.00, 0.31202254691092484729, 0.3973239362\n",
      "Modello 0: 0.020, 3.00, 0.24675517318104278619, 0.3283797503\n",
      "Modello 0: 0.020, 4.00, 0.21375064896536380421, 0.2876742482\n",
      "Modello 0: 0.020, 5.00, 0.17770525847363347061, 0.2478797764\n",
      "Modello 0: 0.020, 6.00, 0.15018912704887635301, 0.2143391585\n",
      "Modello 0: 0.020, 7.00, 0.12979307275828821933, 0.1940054595\n",
      "Modello 0: 0.020, 8.00, 0.11295705703478454984, 0.1744022900\n",
      "Modello 0: 0.020, 9.00, 0.09767855818438032911, 0.1581159741\n",
      "Modello 0: 0.020, 10.00, 0.08551509308017503364, 0.1451869041\n",
      "Modello 1: 0.001, 1.00, 0.91530074909144854001, 0.6548737884\n",
      "Modello 1: 0.001, 2.00, 0.88170288511458871916, 0.6460961854\n",
      "Modello 1: 0.001, 3.00, 0.84595416450344873560, 0.6387209109\n",
      "Modello 1: 0.001, 4.00, 0.82095972706370989869, 0.6328965106\n",
      "Modello 1: 0.001, 5.00, 0.81361714751909808285, 0.6306188703\n",
      "Modello 1: 0.001, 6.00, 0.81065044871319436037, 0.6295290201\n",
      "Modello 1: 0.001, 7.00, 0.80568122821330567795, 0.6277095077\n",
      "Modello 1: 0.001, 8.00, 0.80182451976563084983, 0.6259877086\n",
      "Modello 1: 0.001, 9.00, 0.79796781131795591069, 0.6244272250\n",
      "Modello 1: 0.001, 10.00, 0.78699102573611212641, 0.6197105753\n",
      "Modello 1: 0.005, 1.00, 0.81361714751909808285, 0.6306188703\n",
      "Modello 1: 0.005, 2.00, 0.78699102573611212641, 0.6197105753\n",
      "Modello 1: 0.005, 3.00, 0.68196988800712010637, 0.5933935463\n",
      "Modello 1: 0.005, 4.00, 0.62701179262775341705, 0.5808237791\n",
      "Modello 1: 0.005, 5.00, 0.60854409256100272518, 0.5739153862\n",
      "Modello 1: 0.005, 6.00, 0.59059556478528518753, 0.5655372739\n",
      "Modello 1: 0.005, 7.00, 0.55974189720388634051, 0.5460278141\n",
      "Modello 1: 0.005, 8.00, 0.53919750797300303180, 0.5291182995\n",
      "Modello 1: 0.005, 9.00, 0.53044574649558706714, 0.5203421199\n",
      "Modello 1: 0.005, 10.00, 0.51880145368241492587, 0.5091962218\n",
      "Modello 1: 0.010, 1.00, 0.78699102573611212641, 0.6197105753\n",
      "Modello 1: 0.010, 2.00, 0.62701179262775341705, 0.5808237791\n",
      "Modello 1: 0.010, 3.00, 0.59059556478528518753, 0.5655372739\n",
      "Modello 1: 0.010, 4.00, 0.53919750797300303180, 0.5291182995\n",
      "Modello 1: 0.010, 5.00, 0.51880145368241492587, 0.5091962218\n",
      "Modello 1: 0.010, 6.00, 0.48498108729511235637, 0.4816743171\n",
      "Modello 1: 0.010, 7.00, 0.46970258844470813564, 0.4725132883\n",
      "Modello 1: 0.010, 8.00, 0.44240895943039382221, 0.4564416111\n",
      "Modello 1: 0.010, 9.00, 0.41845286657272118269, 0.4426477069\n",
      "Modello 1: 0.010, 10.00, 0.38619001705851813133, 0.4260338604\n",
      "Modello 1: 0.020, 1.00, 0.62701179262775341705, 0.5808237791\n",
      "Modello 1: 0.020, 2.00, 0.53919750797300303180, 0.5291182995\n",
      "Modello 1: 0.020, 3.00, 0.48498108729511235637, 0.4816743171\n",
      "Modello 1: 0.020, 4.00, 0.44240895943039382221, 0.4564416111\n",
      "Modello 1: 0.020, 5.00, 0.38619001705851813133, 0.4260338604\n",
      "Modello 1: 0.020, 6.00, 0.34146703255951937894, 0.4033480120\n",
      "Modello 1: 0.020, 7.00, 0.29948824445598160038, 0.3839193690\n",
      "Modello 1: 0.020, 8.00, 0.27538381665801381359, 0.3730913949\n",
      "Modello 1: 0.020, 9.00, 0.24638433583030483476, 0.3615159810\n",
      "Modello 1: 0.020, 10.00, 0.22539494177853594548, 0.3522002101\n",
      "Modello 2: 0.001, 1.00, 0.97537639991099900350, 0.7477505803\n",
      "Modello 2: 0.001, 2.00, 0.97070384929170061561, 0.7393654585\n",
      "Modello 2: 0.001, 3.00, 0.95868871912779052291, 0.7162969558\n",
      "Modello 2: 0.001, 4.00, 0.94163020099384409090, 0.6877235641\n",
      "Modello 2: 0.001, 5.00, 0.92331083586738860181, 0.6618172050\n",
      "Modello 2: 0.001, 6.00, 0.91255655269598756618, 0.6489303753\n",
      "Modello 2: 0.001, 7.00, 0.90410146109916189605, 0.6407875723\n",
      "Modello 2: 0.001, 8.00, 0.89557220203218868004, 0.6354167991\n",
      "Modello 2: 0.001, 9.00, 0.79166357635541051430, 0.6297286749\n",
      "Modello 2: 0.001, 10.00, 0.77349254616925011696, 0.6242501128\n",
      "Modello 2: 0.005, 1.00, 0.92331083586738860181, 0.6618172050\n",
      "Modello 2: 0.005, 2.00, 0.77349254616925011696, 0.6242501128\n",
      "Modello 2: 0.005, 3.00, 0.73581547133427283036, 0.6115469337\n",
      "Modello 2: 0.005, 4.00, 0.71141437365571458251, 0.6015165520\n",
      "Modello 2: 0.005, 5.00, 0.69265000370837348509, 0.5930328488\n",
      "Modello 2: 0.005, 6.00, 0.67833568196988802690, 0.5848155415\n",
      "Modello 2: 0.005, 7.00, 0.66602388192538752865, 0.5786227399\n",
      "Modello 2: 0.005, 8.00, 0.65386041682118223317, 0.5722861290\n",
      "Modello 2: 0.005, 9.00, 0.64369947341096189763, 0.5672671223\n",
      "Modello 2: 0.005, 10.00, 0.63109100348587110485, 0.5595765114\n",
      "Modello 2: 0.010, 1.00, 0.77349254616925011696, 0.6242501128\n",
      "Modello 2: 0.010, 2.00, 0.71141437365571458251, 0.6015165520\n",
      "Modello 2: 0.010, 3.00, 0.67833568196988802690, 0.5848155415\n",
      "Modello 2: 0.010, 4.00, 0.65386041682118223317, 0.5722861290\n",
      "Modello 2: 0.010, 5.00, 0.63109100348587110485, 0.5595765114\n",
      "Modello 2: 0.010, 6.00, 0.60275902988949048300, 0.5454720855\n",
      "Modello 2: 0.010, 7.00, 0.58799970333011941648, 0.5371352434\n",
      "Modello 2: 0.010, 8.00, 0.57709708521842317808, 0.5318574119\n",
      "Modello 2: 0.010, 9.00, 0.55959356226359113773, 0.5231039822\n",
      "Modello 2: 0.010, 10.00, 0.54238670918934950294, 0.5152685761\n",
      "Modello 2: 0.020, 1.00, 0.71141437365571458251, 0.6015165520\n",
      "Modello 2: 0.020, 2.00, 0.65386041682118223317, 0.5722861290\n",
      "Modello 2: 0.020, 3.00, 0.60275902988949048300, 0.5454720855\n",
      "Modello 2: 0.020, 4.00, 0.57709708521842317808, 0.5318574119\n",
      "Modello 2: 0.020, 5.00, 0.54238670918934950294, 0.5152685761\n",
      "Modello 2: 0.020, 6.00, 0.49618037528739894482, 0.5034034848\n",
      "Modello 2: 0.020, 7.00, 0.46925758362382258282, 0.4939299524\n",
      "Modello 2: 0.020, 8.00, 0.44493065341541199187, 0.4866276383\n",
      "Modello 2: 0.020, 9.00, 0.42601794852777569167, 0.4817326427\n",
      "Modello 2: 0.020, 10.00, 0.40317436772231701747, 0.4762442291\n"
     ]
    }
   ],
   "source": [
    "fpr_ratios2 = [1.*i for i in range(1,11)]\n",
    "\n",
    "# Per ognuno dei modelli salvo numero di falsi negativi del classificatore e tau ottimale nelle relative strutture sulla\n",
    "# base del fprs e fpr_ratio target.\n",
    "for i in range(3):\n",
    "  for fpr in fprs:\n",
    "    for fpr_ratio in fpr_ratios2:\n",
    "      false_negs[i][(fpr,fpr_ratio)], taus[i][(fpr,fpr_ratio)] = build_LBF_classifier(models[i], fpr*fpr_ratio)\n",
    "      print(\"Modello %d: %.3f, %.2f, %.20f, %.10f\" % (i, fpr, fpr_ratio, len(false_negs[i][(fpr,fpr_ratio)])/len(phishing_URLs), taus[i][(fpr,fpr_ratio)]))\n",
    "      # print(len(false_negs[i][(fpr,fpr_ratio)])/len(phishing_URLs), taus[i][(fpr,fpr_ratio)])"
   ]
  },
  {
   "cell_type": "code",
   "execution_count": 38,
   "metadata": {
    "id": "7nFKQ5xHPHzH"
   },
   "outputs": [],
   "source": [
    "np.save(loc+\"false_negs2\", false_negs)\n",
    "np.save(loc+\"taus2\", taus)"
   ]
  },
  {
   "cell_type": "code",
   "execution_count": 39,
   "metadata": {
    "colab": {
     "base_uri": "https://localhost:8080/"
    },
    "id": "_FgSypqOX0eo",
    "outputId": "622c93c9-422c-42e6-b69a-a576faa52b4d"
   },
   "outputs": [
    {
     "name": "stdout",
     "output_type": "stream",
     "text": [
      "0.001 0.0008042951449820339 24007.0 0.0003120293690565187\n",
      "0.001 0.0008565221024483998 23792.0 0.000266604027752491\n",
      "0.001 0.0015041363750313362 23715.0 0.00029348335917993946\n",
      "0.001 0.0008878582769282192 23653.375 0.0002673874973623219\n",
      "0.001 0.0008983036684214925 23557.875 0.000307775857684267\n",
      "0.001 0.0008669674939416729 23374.75 0.0003663880654501817\n",
      "0.001 0.0009714214088744046 23155.5 0.00027192083727579285\n",
      "0.001 0.0010758753238071363 23188.125 0.0004344044611688504\n",
      "0.001 0.0008565221024483998 23016.25 0.0003250312603953449\n",
      "0.001 0.0038230132865379796 22754.75 0.0002471197041949603\n",
      "0.005 0.009672432522770953 17912.125 0.00025381416448467387\n",
      "0.005 0.011030333416896465 17109.0 0.0002474526325204154\n",
      "0.005 0.005431603576502048 16782.375 0.00024460282373161375\n",
      "0.005 0.004951115567811482 16614.375 0.00023971163181570466\n",
      "0.005 0.006914849168546837 16564.625 0.00024197977856505113\n",
      "0.005 0.0079802791008607 16576.0 0.00024294252780940765\n",
      "0.005 0.00547338514247514 16574.25 0.00024016116698841967\n",
      "0.005 0.005953873151165706 16572.125 0.00024084109675070393\n",
      "0.005 0.004804880086905657 16557.75 0.0002400797815204135\n",
      "0.005 0.004763098520932565 16555.375 0.00023746526588958896\n",
      "0.1 0.01 bad fpr_tau\n",
      "0.01 0.012252444221609426 14182.875 0.00024474784576216464\n",
      "0.01 0.019167293390156263 14144.5 0.00024553677676524336\n",
      "0.01 0.010434946101779894 14140.625 0.00024662295897582567\n",
      "0.01 0.009724659480237319 14123.875 0.00025629657815251223\n",
      "0.01 0.010309601403860617 14038.25 0.0002456809172029034\n",
      "0.01 0.010487173059246261 13792.875 0.00023967910253225617\n",
      "0.01 0.011500376034093757 13574.125 0.00024150984472745123\n",
      "0.01 0.010800534804044455 13368.625 0.0002472982690917466\n",
      "0.01 0.01045583688476644 13149.5 0.00024696137359828254\n",
      "0.1 0.02 bad fpr_tau\n",
      "0.02 0.021684632740035098 11709.125 0.00032036770871381485\n",
      "0.02 0.028077212333918276 11606.75 0.00036122543755814457\n",
      "0.02 0.030145399849586363 11142.625 0.00034916378745082784\n",
      "0.02 0.02996782819420072 10718.0 0.00033120279663974024\n",
      "0.02 0.03204646110136208 10364.375 0.0003805389886035092\n",
      "0.02 0.038261469039859615 9932.75 0.00034715395738001283\n",
      "0.02 0.037582518592796856 9587.5 0.0003186418013613734\n",
      "0.02 0.03805256120999415 9292.5 0.0003328563212312392\n",
      "0.02 0.03967159689145149 8836.25 0.00021200617064785776\n",
      "0.001 0.0008147405364753071 22260.125 0.00021095069974668345\n",
      "0.001 0.0010445391493273167 22221.75 0.00021349378643034295\n",
      "0.001 0.0008669674939416729 22217.875 0.00021421193847423548\n",
      "0.001 0.0008042951449820339 22201.125 0.00021571693209624783\n",
      "0.001 0.0008460767109551266 22115.375 0.00021477747035223788\n",
      "0.001 0.0009087490599147656 21870.125 0.00019659065977118713\n",
      "0.001 0.001243001587699507 21651.375 0.00019094228664814824\n",
      "0.001 0.0008774128854349461 21445.875 0.00019031246074849604\n",
      "0.001 0.0012116654132196874 21226.625 0.00019114036114580243\n",
      "0.005 0.004940670176318209 15581.0 0.00019092709037746972\n",
      "0.005 0.005389822010528954 14614.375 0.00019131722760656737\n",
      "0.005 0.005922536976685886 13699.25 0.00019123050028333253\n",
      "0.005 0.00461686304002674 13249.0 0.00018935783759906316\n",
      "0.005 0.005786746887273335 13027.0 0.00019008788118548108\n",
      "0.005 0.0056091752318876914 12960.625 0.000190172324834476\n",
      "0.005 0.00461686304002674 12950.25 0.00018941684704411844\n",
      "0.005 0.005034678699757667 12907.0 0.00018962998831293043\n",
      "0.005 0.004554190691067102 13003.375 0.00019100274549168513\n",
      "0.01 0.011646611514999582 11267.75 0.00018997241243977808\n",
      "0.01 0.011124341940335923 10595.625 0.00019066197995485254\n",
      "0.01 0.01091543411047046 10518.75 0.00019115294252231306\n",
      "0.01 0.00943218851842567 10571.875 0.0001897996675502968\n",
      "0.01 0.011552602991560124 10626.875 0.00019009683906578764\n",
      "0.01 0.008805465028829281 10913.5 0.00019072995226096517\n",
      "0.01 0.008648784156430183 10945.875 0.00018873271850891317\n",
      "0.01 0.011093005765856104 11013.875 0.0001890035792083243\n",
      "0.01 0.009223280688560207 11088.125 0.00019044712032701593\n",
      "0.02 0.021392161778223447 8087.25 0.00019162549623483164\n",
      "0.02 0.02143394334419654 8195.375 0.0001905307421521295\n",
      "0.02 0.01807052728336258 8514.375 0.00018978093992730395\n",
      "0.02 0.02780563215509317 8656.625 0.00018965585833256472\n",
      "0.02 0.020389404194869225 8818.875 0.00018739353408089873\n",
      "0.02 0.01727667752987382 9006.375 0.0001890416520674087\n",
      "0.02 0.02178908665496783 9188.5 0.0001892101832417166\n",
      "0.02 0.01902105790925044 9349.375 0.00019086450475334294\n",
      "0.02 0.020232723322470125 9517.375 0.00018780407495563208\n",
      "0.001 0.0010445391493273167 24068.75 0.00016899559196398214\n",
      "0.001 0.0008983036684214925 23655.625 0.00016950844244081553\n",
      "0.001 0.0009714214088744046 23247.75 0.00016900765036165918\n",
      "0.001 0.0008460767109551266 23282.25 0.00016804168106191307\n",
      "0.001 0.0009296398429013119 23310.125 0.0001679585772348823\n",
      "0.001 0.0009714214088744046 23341.25 0.0001687611206298864\n",
      "0.001 0.0008460767109551266 23365.25 0.00016849275030587324\n",
      "0.001 0.0011072114982869558 23305.5 0.00016913257755312374\n",
      "0.001 0.0013474555026322386 23241.5 0.0001685522603163835\n",
      "0.001 0.000741622796022395 23193.5 0.00016815988174942768\n",
      "0.005 0.007290883262304671 17664.375 0.00017128902100436896\n",
      "0.005 0.004700426171972925 17547.875 0.00017022662934996366\n",
      "0.005 0.004940670176318209 17340.375 0.00016840824688786878\n",
      "0.005 0.005452494359488594 17275.875 0.00016987721722974927\n",
      "0.005 0.006162780981031169 17092.75 0.00016891519517500897\n",
      "0.005 0.0056091752318876914 16944.875 0.00016904675921690916\n",
      "0.005 0.005254031921116404 16778.25 0.00016869320311203252\n",
      "0.005 0.005525612099941506 16755.0 0.0001684526179063347\n",
      "0.005 0.005327149661569316 16762.625 0.00016918012380022208\n",
      "0.005 0.004501963733600735 16794.375 0.00016917535473133494\n",
      "0.01 0.010988551850923373 15116.375 0.00017188935836893362\n",
      "0.01 0.01669173560625052 14844.375 0.00017194103116806642\n",
      "0.01 0.02027450488844322 14513.375 0.00017018765248460977\n",
      "0.01 0.009599314782318041 14323.5 0.00016919392546067773\n",
      "0.01 0.009975348876075875 14362.875 0.00016940207103644138\n",
      "0.01 0.0088368012033091 14441.375 0.00016945818915565958\n",
      "0.01 0.010330492186847163 14479.625 0.00016834635607847805\n",
      "0.01 0.009212835297066934 14521.625 0.00016899482243798417\n",
      "0.01 0.010904988718977188 14555.875 0.0001697040888224567\n",
      "0.01 0.013349210328403109 14502.375 0.00016917877152638098\n",
      "0.1 0.02 bad fpr_tau\n",
      "0.02 0.022906743544748056 11892.0 0.0001703240005376495\n",
      "0.02 0.028453246427676108 12009.875 0.0001716345605908395\n",
      "0.02 0.01925085652210245 12090.25 0.0001698999294533789\n",
      "0.02 0.022708281106375867 12070.875 0.00016862476759609587\n",
      "0.02 0.022697835714882594 11834.5 0.00016823825635357769\n",
      "0.02 0.01991936157767193 11449.75 0.00016829804777650792\n",
      "0.02 0.021768195871981283 11023.125 0.00016919391300880074\n",
      "0.02 0.019000167126263894 10747.125 0.0001683695340023071\n",
      "0.02 0.02044163115233559 10877.0 0.00016772313963513212\n",
      "0.001 0.0007834043619954876 22921.625 0.00016687819759897733\n",
      "0.001 0.0014101278515918777 22590.625 0.0001674219884997553\n",
      "0.001 0.0008147405364753071 22400.75 0.00016753505154282384\n",
      "0.001 0.0009400852343945851 22440.125 0.0001669249693393269\n",
      "0.001 0.0009609760173811315 22518.5 0.0001675306435783694\n",
      "0.001 0.00105498454082059 22556.75 0.00016722148339571268\n",
      "0.001 0.0006893958385560291 22598.875 0.0001671831266338329\n",
      "0.001 0.0008356313194618534 22633.125 0.00016722061923544958\n",
      "0.001 0.0009296398429013119 22579.625 0.00016732228383032155\n",
      "0.005 0.004627308431520013 16933.875 0.00016791940612024737\n",
      "0.005 0.004366173644188184 16058.125 0.00016735117467531356\n",
      "0.005 0.004282610512241999 15739.875 0.0001678437186311518\n",
      "0.005 0.004460182167627643 15814.375 0.00016653936210307818\n",
      "0.005 0.008387649369098353 15860.375 0.00016638285446119176\n",
      "0.005 0.004564636082560375 15744.875 0.00016713150364220804\n",
      "0.005 0.0048257708698922035 15726.125 0.00016752067958640207\n",
      "0.005 0.003603660065179243 15817.125 0.00016736331027462795\n",
      "0.005 0.004689980780479652 15864.75 0.00016708787973636154\n",
      "0.01 0.009766441046210411 13308.375 0.00016750685800294326\n",
      "0.01 0.009306843820506392 13428.875 0.00016694098743388674\n",
      "0.01 0.008398094760591626 13294.625 0.00016687889739446416\n",
      "0.01 0.009369516169466031 13433.25 0.00016683438691497595\n",
      "0.01 0.008492103284031086 13396.125 0.0001676719723822051\n",
      "0.01 0.013004512409125094 13513.0 0.00016701839079163154\n",
      "0.01 0.008450321718057993 13492.875 0.00016773480455349628\n",
      "0.01 0.00963065095679786 13488.25 0.00016817313054654496\n"
     ]
    },
    {
     "name": "stdout",
     "output_type": "stream",
     "text": [
      "0.01 0.021256371688810897 13393.5 0.0001678460745262783\n",
      "0.02 0.02054608506726832 10863.125 0.0001665696400871669\n",
      "0.02 0.022426255536057493 10964.625 0.0001675514581359458\n",
      "0.02 0.01860324224951951 11061.375 0.00016879874771177455\n",
      "0.02 0.020598312024734687 10962.0 0.0001674430097584897\n",
      "0.02 0.01707821509150163 10923.875 0.0001668425005580226\n",
      "0.02 0.020076042450071028 10874.375 0.00016725918518886279\n",
      "0.02 0.02126681708030417 10960.75 0.00016783662853239373\n",
      "0.02 0.02172641430600819 10976.625 0.00016859904201823467\n",
      "0.02 0.01877036851341188 11045.25 0.00016743847976564077\n",
      "0.001 0.0008042951449820339 24219.375 0.00012737392054331715\n",
      "0.001 0.0008774128854349461 24199.5 0.0001285443222691085\n",
      "0.001 0.0009087490599147656 24191.375 0.00012737836835377794\n",
      "0.001 0.0013996824600986046 24162.75 0.00012856202634781277\n",
      "0.001 0.0014414640260716973 24136.75 0.00012959087015523182\n",
      "0.001 0.0009609760173811315 24144.25 0.00012884100816139672\n",
      "0.001 0.0011907746302331412 24106.375 0.00012780921823988186\n",
      "0.001 0.0007729589705022144 24088.75 0.00012830980859863099\n",
      "0.001 0.0010967661067936827 24072.75 0.00013078002440777\n",
      "0.001 0.0010236483663407705 24036.75 0.0001384879354945677\n",
      "0.005 0.004303501295228545 18491.125 0.00013430414467195805\n",
      "0.005 0.004783989303919111 18391.0 0.0001463394092519331\n",
      "0.005 0.00504512409125094 18423.5 0.0001520311323395247\n",
      "0.005 0.005849419236232974 18404.375 0.0001510060938257138\n",
      "0.005 0.004658644605999833 18420.375 0.0001504628134518924\n",
      "0.005 0.004961560959304755 18337.5 0.00015047143264114484\n",
      "0.005 0.005222695746636584 18303.125 0.00014565921301948125\n",
      "0.005 0.005536057491434779 18222.25 0.00014036036159317426\n",
      "0.005 0.005442048967995321 18157.0 0.00014448687129125487\n",
      "0.005 0.005744965321300242 18093.375 0.00014080274938849704\n",
      "0.01 0.009839558786663325 15959.5 0.0001436726928623914\n",
      "0.01 0.011521266817080305 15972.875 0.0001466914138529368\n",
      "0.01 0.009996239659062421 15906.0 0.00014359018672545611\n",
      "0.01 0.014028160775465865 15790.875 0.00014610244256168855\n",
      "0.01 0.013464109634829113 15662.0 0.00014426962837416237\n",
      "0.01 0.010340937578340436 15606.125 0.0001429831577221971\n",
      "0.01 0.011155678114815742 15571.25 0.00013836036850518128\n",
      "0.01 0.014644438873568982 15534.375 0.00013932403918843505\n",
      "0.01 0.01005891200802206 14481.875 0.0001361648062371845\n",
      "0.01 0.011197459680788837 14344.75 0.00014328763599910562\n",
      "0.02 0.022676944931896047 13541.375 0.0001444726014402244\n",
      "0.02 0.023460349293891535 13359.375 0.0001438068219909515\n",
      "0.02 0.021141472382384893 13174.625 0.00014213502302478208\n",
      "0.02 0.022593381799949862 13102.875 0.00014994826951978839\n",
      "0.02 0.026667084482326398 11913.25 0.00014618372841467881\n",
      "0.02 0.01932397426255536 11837.125 0.00014099521805113036\n",
      "0.02 0.020128269407537393 11823.75 0.00014040241158176924\n",
      "0.02 0.020190941756497032 11820.25 0.0001394078278687003\n",
      "0.02 0.020347622628896132 11816.0 0.0001465693879488109\n",
      "0.02 0.022833625804295144 11819.875 0.0001473058567037556\n",
      "0.001 0.0007520681875156681 24050.0 0.00014368593169800708\n",
      "0.001 0.0009609760173811315 23983.125 0.0001468652296038392\n",
      "0.001 0.001357900894125512 23868.0 0.00014557056561681454\n",
      "0.001 0.0009087490599147656 23739.125 0.00014234464539315673\n",
      "0.001 0.0009714214088744046 23683.375 0.00014393982546983172\n",
      "0.001 0.0013474555026322386 23648.5 0.00014433735413311058\n",
      "0.001 0.001357900894125512 23611.625 0.00014450405488150095\n",
      "0.001 0.0007729589705022144 22559.0 0.0001493986884962101\n",
      "0.001 0.0010967661067936827 22421.875 0.00014369537022076545\n",
      "0.005 0.0046377538230132865 16776.125 0.00014448173115643343\n",
      "0.005 0.005327149661569316 16680.25 0.00014952089121698925\n",
      "0.005 0.0051286872231971255 16682.875 0.0001519898568576785\n",
      "0.005 0.004366173644188184 16711.25 0.00014965055012170996\n",
      "0.005 0.0051286872231971255 16760.0 0.00014876585173270173\n",
      "0.005 0.004679535388986379 16809.375 0.00014294768481502818\n",
      "0.005 0.005034678699757667 16846.5 0.00015247867272154595\n",
      "0.005 0.004491518342107462 16890.375 0.00014651240815970496\n",
      "0.005 0.00418860198880254 16905.0 0.00014193524760073106\n",
      "0.01 0.013965488426506226 14251.375 0.00014740212216476475\n",
      "0.01 0.009212835297066934 14328.5 0.00015209589953250012\n",
      "0.01 0.0096933233057575 14415.0 0.00014327884248357533\n",
      "0.01 0.012095763349210328 14473.5 0.00014418671630603722\n",
      "0.01 0.010654299323138631 14459.875 0.00014495534825924696\n",
      "0.01 0.009860449569649871 14538.125 0.00014692720259561808\n",
      "0.01 0.008857691986295647 14628.25 0.00014663447141946185\n",
      "0.01 0.010048466616528787 14655.625 0.0001429553327578754\n",
      "0.01 0.009390406952452577 14676.5 0.00014233730376648346\n",
      "0.02 0.02140260716971672 11983.5 0.00014259994124633045\n",
      "0.02 0.024504888443218853 12028.375 0.0001433984527235652\n",
      "0.02 0.024483997660232307 12196.75 0.0001441854213108303\n",
      "0.02 0.0226560541489095 12245.0 0.0001424517514582733\n",
      "0.02 0.020566975850254868 12184.5 0.00014274532936206486\n",
      "0.02 0.01995069775215175 12238.875 0.00014169613420689345\n",
      "0.02 0.020765438288627057 12292.625 0.00014301622990748234\n",
      "0.02 0.02033717723740286 12366.5 0.00014209817294001808\n",
      "0.02 0.018133199632322218 12403.0 0.0001433601258461902\n"
     ]
    }
   ],
   "source": [
    "SLBF_initials = {}\n",
    "SLBF_backups = {}\n",
    "\n",
    "# Per ognuno dei modelli salvo il filtro di backup e quello iniziale costruito sulla base del fpr e fpr_ratio target\n",
    "for i in range(3):\n",
    "  SLBF_initials[i] = {}\n",
    "  SLBF_backups[i] = {}\n",
    "  for fpr, fpr_ratio in false_negs[i].keys():\n",
    "    c=(1.-len(false_negs[i][(fpr,fpr_ratio)])/len(phishing_URLs))\n",
    "    # Se la tau non rispetta i bound\n",
    "    if(fpr_ratio < c or fpr*fpr_ratio > c):\n",
    "      print(fpr_ratio, fpr, \"bad fpr_tau\")\n",
    "      continue\n",
    "    # try:\n",
    "    SLBF_initials[i][(fpr,fpr_ratio)] = build_SLBF_initial(false_negs[i][(fpr,fpr_ratio)], fpr, fpr*fpr_ratio)\n",
    "    SLBF_backups[i][(fpr,fpr_ratio)] = build_SLBF_backup(false_negs[i][(fpr,fpr_ratio)], fpr*fpr_ratio)\n",
    "    if(SLBF_backups[i][(fpr,fpr_ratio)] =='error' or SLBF_initials[i][(fpr,fpr_ratio)]=='error'):\n",
    "        continue\n",
    "    fpr0, BF_size, t = test_SLBF(SLBF_initials[i][(fpr,fpr_ratio)], models[i], SLBF_backups[i][(fpr,fpr_ratio)], taus[i][(fpr,fpr_ratio)])\n",
    "    print(fpr, fpr0, BF_size, t)\n",
    "    SLBF = {\"FPR\": fpr0, \"size\": BF_size+model_sizes[i], \"time\": t}\n",
    "    np.save(loc+\"SLBF_hid\"+str(h_sizes[i])+\"_FPR\"+str(fpr)+\"_ratio\"+str(fpr_ratio), SLBF)\n",
    "    # except:\n",
    "      # Eccezione aggiunta per fn =0\n",
    "      # print(\"Numero di falsi negativi = 0\")\n",
    "\n",
    "# for fpr, fpr_ratio in false_negs2.keys():\n",
    "#   c=(1.-len(false_negs2[(fpr,fpr_ratio)])/len(phishing_URLs))\n",
    "#   if(fpr_ratio < c or fpr*fpr_ratio > c):\n",
    "#     print(fpr_ratio, fpr, \"bad fpr_tau\")\n",
    "#     continue\n",
    "#   SLBF_keys += [(fpr,fpr_ratio)]\n",
    "#   SLBF_initials[(fpr,fpr_ratio)] = build_SLBF_initial(false_negs2[(fpr,fpr_ratio)], fpr, fpr*fpr_ratio)\n",
    "#   SLBF_backups[(fpr,fpr_ratio)] = build_SLBF_backup(false_negs2[(fpr,fpr_ratio)], fpr*fpr_ratio)\n",
    "#   if(SLBF_backups[(fpr,fpr_ratio)] =='error' or SLBF_initials[(fpr,fpr_ratio)]=='error'):\n",
    "#     continue\n",
    "#   fpr0, BF_size, t = test_SLBF(SLBF_initials[(fpr,fpr_ratio)], models[2], SLBF_backups[(fpr,fpr_ratio)], taus[(fpr,fpr_ratio)])\n",
    "#   print(fpr, fpr0, BF_size, t)\n",
    "#   SLBF = {\"FPR\": fpr0, \"size\": BF_size+model_sizes[2], \"time\": t}\n",
    "#   np.save(loc+\"SLBF_hid\"+str(h_sizes[2])+\"_FPR\"+str(fpr)+\"_ratio\"+str(fpr_ratio), SLBF)"
   ]
  },
  {
   "cell_type": "code",
   "execution_count": 40,
   "metadata": {
    "id": "vHnVBihNRELn"
   },
   "outputs": [],
   "source": [
    "fnrs2 = {}\n",
    "# Per ognuno dei modelli costruisco un dataframe in cui salvo il rate di falsi negativi per ogni fpr e fprs_ratio\n",
    "for i in range(3):\n",
    "  fnrs2[i] = pd.DataFrame(index=fpr_ratios+fpr_ratios2, columns=fprs)\n",
    "  for fpr,fpr_ratio in false_negs[i].keys():\n",
    "      fnrs2[i].loc[fpr_ratio,fpr] = len(false_negs[i][(fpr,fpr_ratio)])/len(phishing_URLs)\n",
    "  # for fpr,fpr_ratio in false_negs2.keys():\n",
    "      # fnrs2[i].loc[fpr_ratio,fpr] = len(false_negs2[i][(fpr,fpr_ratio)])/len(phishing_URLs)"
   ]
  },
  {
   "cell_type": "code",
   "execution_count": 42,
   "metadata": {
    "colab": {
     "base_uri": "https://localhost:8080/"
    },
    "id": "D5GCjbHza7Fp",
    "outputId": "1be4a37f-222b-4c2d-a745-03664b303066"
   },
   "outputs": [
    {
     "name": "stdout",
     "output_type": "stream",
     "text": [
      "0.0008042951449820339 34222.0 0.0003120293690565187\n",
      "0.0008565221024483998 34007.0 0.000266604027752491\n",
      "0.0015041363750313362 33930.0 0.00029348335917993946\n",
      "0.0008878582769282192 33868.375 0.0002673874973623219\n",
      "0.0008983036684214925 33772.875 0.000307775857684267\n",
      "0.0008669674939416729 33589.75 0.0003663880654501817\n",
      "0.0009714214088744046 33370.5 0.00027192083727579285\n",
      "0.0010758753238071363 33403.125 0.0004344044611688504\n",
      "0.0008565221024483998 33231.25 0.0003250312603953449\n",
      "0.0038230132865379796 32969.75 0.0002471197041949603\n",
      "0.009672432522770953 28127.125 0.00025381416448467387\n",
      "0.011030333416896465 27324.0 0.0002474526325204154\n",
      "0.005431603576502048 26997.375 0.00024460282373161375\n",
      "0.004951115567811482 26829.375 0.00023971163181570466\n",
      "0.006914849168546837 26779.625 0.00024197977856505113\n",
      "0.0079802791008607 26791.0 0.00024294252780940765\n",
      "0.00547338514247514 26789.25 0.00024016116698841967\n",
      "0.005953873151165706 26787.125 0.00024084109675070393\n",
      "0.004804880086905657 26772.75 0.0002400797815204135\n",
      "0.004763098520932565 26770.375 0.00023746526588958896\n",
      "error 0.1 0.01\n",
      "0.012252444221609426 24397.875 0.00024474784576216464\n",
      "0.019167293390156263 24359.5 0.00024553677676524336\n",
      "0.010434946101779894 24355.625 0.00024662295897582567\n",
      "0.009724659480237319 24338.875 0.00025629657815251223\n",
      "0.010309601403860617 24253.25 0.0002456809172029034\n",
      "0.010487173059246261 24007.875 0.00023967910253225617\n",
      "0.011500376034093757 23789.125 0.00024150984472745123\n",
      "0.010800534804044455 23583.625 0.0002472982690917466\n",
      "0.01045583688476644 23364.5 0.00024696137359828254\n",
      "error 0.1 0.02\n",
      "0.021684632740035098 21924.125 0.00032036770871381485\n",
      "0.028077212333918276 21821.75 0.00036122543755814457\n",
      "0.030145399849586363 21357.625 0.00034916378745082784\n",
      "0.02996782819420072 20933.0 0.00033120279663974024\n",
      "0.03204646110136208 20579.375 0.0003805389886035092\n",
      "0.038261469039859615 20147.75 0.00034715395738001283\n",
      "0.037582518592796856 19802.5 0.0003186418013613734\n",
      "0.03805256120999415 19507.5 0.0003328563212312392\n",
      "0.03967159689145149 19051.25 0.00021200617064785776\n",
      "0.0008147405364753071 32475.125 0.00021095069974668345\n",
      "0.0010445391493273167 32436.75 0.00021349378643034295\n",
      "0.0008669674939416729 32432.875 0.00021421193847423548\n",
      "0.0008042951449820339 32416.125 0.00021571693209624783\n",
      "0.0008460767109551266 32330.375 0.00021477747035223788\n",
      "0.0009087490599147656 32085.125 0.00019659065977118713\n",
      "0.001243001587699507 31866.375 0.00019094228664814824\n",
      "0.0008774128854349461 31660.875 0.00019031246074849604\n",
      "0.0012116654132196874 31441.625 0.00019114036114580243\n",
      "0.004940670176318209 25796.0 0.00019092709037746972\n",
      "0.005389822010528954 24829.375 0.00019131722760656737\n",
      "0.005922536976685886 23914.25 0.00019123050028333253\n",
      "0.00461686304002674 23464.0 0.00018935783759906316\n",
      "0.005786746887273335 23242.0 0.00019008788118548108\n",
      "0.0056091752318876914 23175.625 0.000190172324834476\n",
      "0.00461686304002674 23165.25 0.00018941684704411844\n",
      "0.005034678699757667 23122.0 0.00018962998831293043\n",
      "0.004554190691067102 23218.375 0.00019100274549168513\n",
      "0.011646611514999582 21482.75 0.00018997241243977808\n",
      "0.011124341940335923 20810.625 0.00019066197995485254\n",
      "0.01091543411047046 20733.75 0.00019115294252231306\n",
      "0.00943218851842567 20786.875 0.0001897996675502968\n",
      "0.011552602991560124 20841.875 0.00019009683906578764\n",
      "0.008805465028829281 21128.5 0.00019072995226096517\n",
      "0.008648784156430183 21160.875 0.00018873271850891317\n",
      "0.011093005765856104 21228.875 0.0001890035792083243\n",
      "0.009223280688560207 21303.125 0.00019044712032701593\n",
      "0.021392161778223447 18302.25 0.00019162549623483164\n",
      "0.02143394334419654 18410.375 0.0001905307421521295\n",
      "0.01807052728336258 18729.375 0.00018978093992730395\n",
      "0.02780563215509317 18871.625 0.00018965585833256472\n",
      "0.020389404194869225 19033.875 0.00018739353408089873\n",
      "0.01727667752987382 19221.375 0.0001890416520674087\n",
      "0.02178908665496783 19403.5 0.0001892101832417166\n",
      "0.01902105790925044 19564.375 0.00019086450475334294\n",
      "0.020232723322470125 19732.375 0.00018780407495563208\n",
      "0.0010445391493273167 31083.75 0.00016899559196398214\n",
      "0.0008983036684214925 30670.625 0.00016950844244081553\n",
      "0.0009714214088744046 30262.75 0.00016900765036165918\n",
      "0.0008460767109551266 30297.25 0.00016804168106191307\n",
      "0.0009296398429013119 30325.125 0.0001679585772348823\n",
      "0.0009714214088744046 30356.25 0.0001687611206298864\n",
      "0.0008460767109551266 30380.25 0.00016849275030587324\n",
      "0.0011072114982869558 30320.5 0.00016913257755312374\n",
      "0.0013474555026322386 30256.5 0.0001685522603163835\n",
      "0.000741622796022395 30208.5 0.00016815988174942768\n",
      "0.007290883262304671 24679.375 0.00017128902100436896\n",
      "0.004700426171972925 24562.875 0.00017022662934996366\n",
      "0.004940670176318209 24355.375 0.00016840824688786878\n",
      "0.005452494359488594 24290.875 0.00016987721722974927\n",
      "0.006162780981031169 24107.75 0.00016891519517500897\n",
      "0.0056091752318876914 23959.875 0.00016904675921690916\n",
      "0.005254031921116404 23793.25 0.00016869320311203252\n",
      "0.005525612099941506 23770.0 0.0001684526179063347\n",
      "0.005327149661569316 23777.625 0.00016918012380022208\n",
      "0.004501963733600735 23809.375 0.00016917535473133494\n",
      "0.010988551850923373 22131.375 0.00017188935836893362\n",
      "0.01669173560625052 21859.375 0.00017194103116806642\n",
      "0.02027450488844322 21528.375 0.00017018765248460977\n",
      "0.009599314782318041 21338.5 0.00016919392546067773\n",
      "0.009975348876075875 21377.875 0.00016940207103644138\n",
      "0.0088368012033091 21456.375 0.00016945818915565958\n",
      "0.010330492186847163 21494.625 0.00016834635607847805\n",
      "0.009212835297066934 21536.625 0.00016899482243798417\n",
      "0.010904988718977188 21570.875 0.0001697040888224567\n",
      "0.013349210328403109 21517.375 0.00016917877152638098\n",
      "error 0.1 0.02\n",
      "0.022906743544748056 18907.0 0.0001703240005376495\n",
      "0.028453246427676108 19024.875 0.0001716345605908395\n",
      "0.01925085652210245 19105.25 0.0001698999294533789\n",
      "0.022708281106375867 19085.875 0.00016862476759609587\n",
      "0.022697835714882594 18849.5 0.00016823825635357769\n",
      "0.01991936157767193 18464.75 0.00016829804777650792\n",
      "0.021768195871981283 18038.125 0.00016919391300880074\n",
      "0.019000167126263894 17762.125 0.0001683695340023071\n",
      "0.02044163115233559 17892.0 0.00016772313963513212\n",
      "0.0007834043619954876 29936.625 0.00016687819759897733\n",
      "0.0014101278515918777 29605.625 0.0001674219884997553\n",
      "0.0008147405364753071 29415.75 0.00016753505154282384\n",
      "0.0009400852343945851 29455.125 0.0001669249693393269\n",
      "0.0009609760173811315 29533.5 0.0001675306435783694\n",
      "0.00105498454082059 29571.75 0.00016722148339571268\n",
      "0.0006893958385560291 29613.875 0.0001671831266338329\n",
      "0.0008356313194618534 29648.125 0.00016722061923544958\n",
      "0.0009296398429013119 29594.625 0.00016732228383032155\n",
      "0.004627308431520013 23948.875 0.00016791940612024737\n",
      "0.004366173644188184 23073.125 0.00016735117467531356\n",
      "0.004282610512241999 22754.875 0.0001678437186311518\n",
      "0.004460182167627643 22829.375 0.00016653936210307818\n",
      "0.008387649369098353 22875.375 0.00016638285446119176\n",
      "0.004564636082560375 22759.875 0.00016713150364220804\n",
      "0.0048257708698922035 22741.125 0.00016752067958640207\n",
      "0.003603660065179243 22832.125 0.00016736331027462795\n",
      "0.004689980780479652 22879.75 0.00016708787973636154\n",
      "0.009766441046210411 20323.375 0.00016750685800294326\n",
      "0.009306843820506392 20443.875 0.00016694098743388674\n",
      "0.008398094760591626 20309.625 0.00016687889739446416\n",
      "0.009369516169466031 20448.25 0.00016683438691497595\n",
      "0.008492103284031086 20411.125 0.0001676719723822051\n",
      "0.013004512409125094 20528.0 0.00016701839079163154\n",
      "0.008450321718057993 20507.875 0.00016773480455349628\n",
      "0.00963065095679786 20503.25 0.00016817313054654496\n",
      "0.021256371688810897 20408.5 0.0001678460745262783\n",
      "0.02054608506726832 17878.125 0.0001665696400871669\n",
      "0.022426255536057493 17979.625 0.0001675514581359458\n",
      "0.01860324224951951 18076.375 0.00016879874771177455\n",
      "0.020598312024734687 17977.0 0.0001674430097584897\n",
      "0.01707821509150163 17938.875 0.0001668425005580226\n",
      "0.020076042450071028 17889.375 0.00016725918518886279\n",
      "0.02126681708030417 17975.75 0.00016783662853239373\n",
      "0.02172641430600819 17991.625 0.00016859904201823467\n",
      "0.01877036851341188 18060.25 0.00016743847976564077\n",
      "0.0008042951449820339 30274.375 0.00012737392054331715\n",
      "0.0008774128854349461 30254.5 0.0001285443222691085\n",
      "0.0009087490599147656 30246.375 0.00012737836835377794\n",
      "0.0013996824600986046 30217.75 0.00012856202634781277\n",
      "0.0014414640260716973 30191.75 0.00012959087015523182\n",
      "0.0009609760173811315 30199.25 0.00012884100816139672\n",
      "0.0011907746302331412 30161.375 0.00012780921823988186\n",
      "0.0007729589705022144 30143.75 0.00012830980859863099\n"
     ]
    },
    {
     "name": "stdout",
     "output_type": "stream",
     "text": [
      "0.0010967661067936827 30127.75 0.00013078002440777\n",
      "0.0010236483663407705 30091.75 0.0001384879354945677\n",
      "0.004303501295228545 24546.125 0.00013430414467195805\n",
      "0.004783989303919111 24446.0 0.0001463394092519331\n",
      "0.00504512409125094 24478.5 0.0001520311323395247\n",
      "0.005849419236232974 24459.375 0.0001510060938257138\n",
      "0.004658644605999833 24475.375 0.0001504628134518924\n",
      "0.004961560959304755 24392.5 0.00015047143264114484\n",
      "0.005222695746636584 24358.125 0.00014565921301948125\n",
      "0.005536057491434779 24277.25 0.00014036036159317426\n",
      "0.005442048967995321 24212.0 0.00014448687129125487\n",
      "0.005744965321300242 24148.375 0.00014080274938849704\n",
      "0.009839558786663325 22014.5 0.0001436726928623914\n",
      "0.011521266817080305 22027.875 0.0001466914138529368\n",
      "0.009996239659062421 21961.0 0.00014359018672545611\n",
      "0.014028160775465865 21845.875 0.00014610244256168855\n",
      "0.013464109634829113 21717.0 0.00014426962837416237\n",
      "0.010340937578340436 21661.125 0.0001429831577221971\n",
      "0.011155678114815742 21626.25 0.00013836036850518128\n",
      "0.014644438873568982 21589.375 0.00013932403918843505\n",
      "0.01005891200802206 20536.875 0.0001361648062371845\n",
      "0.011197459680788837 20399.75 0.00014328763599910562\n",
      "0.022676944931896047 19596.375 0.0001444726014402244\n",
      "0.023460349293891535 19414.375 0.0001438068219909515\n",
      "0.021141472382384893 19229.625 0.00014213502302478208\n",
      "0.022593381799949862 19157.875 0.00014994826951978839\n",
      "0.026667084482326398 17968.25 0.00014618372841467881\n",
      "0.01932397426255536 17892.125 0.00014099521805113036\n",
      "0.020128269407537393 17878.75 0.00014040241158176924\n",
      "0.020190941756497032 17875.25 0.0001394078278687003\n",
      "0.020347622628896132 17871.0 0.0001465693879488109\n",
      "0.022833625804295144 17874.875 0.0001473058567037556\n",
      "0.0007520681875156681 30105.0 0.00014368593169800708\n",
      "0.0009609760173811315 30038.125 0.0001468652296038392\n",
      "0.001357900894125512 29923.0 0.00014557056561681454\n",
      "0.0009087490599147656 29794.125 0.00014234464539315673\n",
      "0.0009714214088744046 29738.375 0.00014393982546983172\n",
      "0.0013474555026322386 29703.5 0.00014433735413311058\n",
      "0.001357900894125512 29666.625 0.00014450405488150095\n",
      "0.0007729589705022144 28614.0 0.0001493986884962101\n",
      "0.0010967661067936827 28476.875 0.00014369537022076545\n",
      "0.0046377538230132865 22831.125 0.00014448173115643343\n",
      "0.005327149661569316 22735.25 0.00014952089121698925\n",
      "0.0051286872231971255 22737.875 0.0001519898568576785\n",
      "0.004366173644188184 22766.25 0.00014965055012170996\n",
      "0.0051286872231971255 22815.0 0.00014876585173270173\n",
      "0.004679535388986379 22864.375 0.00014294768481502818\n",
      "0.005034678699757667 22901.5 0.00015247867272154595\n",
      "0.004491518342107462 22945.375 0.00014651240815970496\n",
      "0.00418860198880254 22960.0 0.00014193524760073106\n",
      "0.013965488426506226 20306.375 0.00014740212216476475\n",
      "0.009212835297066934 20383.5 0.00015209589953250012\n",
      "0.0096933233057575 20470.0 0.00014327884248357533\n",
      "0.012095763349210328 20528.5 0.00014418671630603722\n",
      "0.010654299323138631 20514.875 0.00014495534825924696\n",
      "0.009860449569649871 20593.125 0.00014692720259561808\n",
      "0.008857691986295647 20683.25 0.00014663447141946185\n",
      "0.010048466616528787 20710.625 0.0001429553327578754\n",
      "0.009390406952452577 20731.5 0.00014233730376648346\n",
      "0.02140260716971672 18038.5 0.00014259994124633045\n",
      "0.024504888443218853 18083.375 0.0001433984527235652\n",
      "0.024483997660232307 18251.75 0.0001441854213108303\n",
      "0.0226560541489095 18300.0 0.0001424517514582733\n",
      "0.020566975850254868 18239.5 0.00014274532936206486\n",
      "0.01995069775215175 18293.875 0.00014169613420689345\n",
      "0.020765438288627057 18347.625 0.00014301622990748234\n",
      "0.02033717723740286 18421.5 0.00014209817294001808\n",
      "0.018133199632322218 18458.0 0.0001433601258461902\n"
     ]
    }
   ],
   "source": [
    "true_fpr_SLBF = {}\n",
    "sizes_SLBF = {}\n",
    "times_SLBF = {}\n",
    "\n",
    "# Per ogni modello salvo in base a fpr, fpr_ratio target l'frp empirico, la grandezza ed il tempo di accesso per elemento\n",
    "# del SLBF relativo\n",
    "# Utile per i grafici successivi\n",
    "for i in range(3):\n",
    "  true_fpr_SLBF[i] = pd.DataFrame(index = fpr_ratios+fpr_ratios2, columns = fprs)\n",
    "  sizes_SLBF[i] = pd.DataFrame(index = fpr_ratios+fpr_ratios2, columns = fprs)\n",
    "  times_SLBF[i] = pd.DataFrame(index = fpr_ratios+fpr_ratios2, columns = fprs)\n",
    "  for fpr,fpr_ratio in false_negs[i].keys():\n",
    "    try:\n",
    "      SLBF = np.load(loc+\"SLBF_hid\"+str(h_sizes[i])+\"_FPR\"+str(fpr)+\"_ratio\"+str(fpr_ratio)+\".npy\", allow_pickle=True).item()\n",
    "      true_fpr_SLBF[i].loc[fpr_ratio,fpr] = SLBF['FPR']\n",
    "      sizes_SLBF[i].loc[fpr_ratio,fpr] = SLBF['size']\n",
    "      times_SLBF[i].loc[fpr_ratio,fpr] = SLBF['time']\n",
    "      print(SLBF['FPR'], SLBF['size'], SLBF['time'])\n",
    "    except:\n",
    "      print(\"error\", fpr_ratio, fpr) # Bad tau + false negs = 0\n",
    "      continue\n",
    "\n",
    "# for fpr,fpr_ratio in false_negs2.keys():\n",
    "#   try:\n",
    "#     SLBF = np.load(loc+\"SLBF_hid\"+str(h_sizes[2])+\"_FPR\"+str(fpr)+\"_ratio\"+str(fpr_ratio)+\".npy\").item()\n",
    "#     true_fpr_SLBF.loc[fpr_ratio,fpr] = SLBF['FPR']\n",
    "#     sizes_SLBF.loc[fpr_ratio,fpr] = SLBF['size']\n",
    "#     times_SLBF.loc[fpr_ratio,fpr] = SLBF['time']\n",
    "#     print(SLBF['FPR'], SLBF['size'], SLBF['time'])\n",
    "#   except:\n",
    "#     print(\"error\")\n",
    "#     continue"
   ]
  },
  {
   "cell_type": "code",
   "execution_count": 43,
   "metadata": {
    "colab": {
     "base_uri": "https://localhost:8080/",
     "height": 175
    },
    "id": "BzobK5D4_2zU",
    "outputId": "b9d572e1-1827-43d7-82d3-710c96feeea9"
   },
   "outputs": [
    {
     "data": {
      "image/png": "[encoded data removed]",
      "text/plain": [
       "<Figure size 864x216 with 3 Axes>"
      ]
     },
     "metadata": {
      "needs_background": "light"
     },
     "output_type": "display_data"
    }
   ],
   "source": [
    "f,ax = plt.subplots(1,3,figsize=(12,3))\n",
    "for i in range(3):\n",
    "  fnrs2[i].plot(ax=ax[i])\n",
    "  ax[i].legend(fontsize='xx-small')\n",
    "  ax[i].set_xlabel(\"Classifier FPR ratio\")\n",
    "  ax[i].set_ylabel(\"Classifier False Negative Rate\")\n",
    "  ax[i].set_title(\"SLBF with \"+str(h_sizes[i])+\" dimensional GRU\")\n",
    "plt.tight_layout()\n",
    "plt.show()\n",
    "f.savefig(plot_loc+\"SLBF_classifier_FNR.png\")\n",
    "\n",
    "# FPR_tau/FPR forced to stay between 0 and 1, "
   ]
  },
  {
   "cell_type": "code",
   "execution_count": 44,
   "metadata": {
    "colab": {
     "base_uri": "https://localhost:8080/",
     "height": 175
    },
    "id": "QNiur-d0a7js",
    "outputId": "52527139-4d8c-42f8-a30c-72e9ef0c5b4c"
   },
   "outputs": [
    {
     "data": {
      "image/png": "[encoded data removed]",
      "text/plain": [
       "<Figure size 864x216 with 3 Axes>"
      ]
     },
     "metadata": {
      "needs_background": "light"
     },
     "output_type": "display_data"
    }
   ],
   "source": [
    "f,ax=plt.subplots(1,3,figsize=(12,3))\n",
    "for i in range(3):\n",
    "  true_fpr_SLBF[i].plot(ax=ax[i])\n",
    "  ax[i].legend(fontsize='xx-small')\n",
    "  ax[i].set_xlabel(\"Classifier FPR ratio\")\n",
    "  ax[i].set_ylabel(\"Overall FPR\")\n",
    "  ax[i].set_title(\"SLBF with \"+str(h_sizes[i])+\" dimensional GRU\")\n",
    "plt.tight_layout()\n",
    "plt.show()\n",
    "f.savefig(plot_loc+\"SLBF_fpr.png\")\n"
   ]
  },
  {
   "cell_type": "code",
   "execution_count": 45,
   "metadata": {
    "colab": {
     "base_uri": "https://localhost:8080/",
     "height": 175
    },
    "id": "_pNg7Rysbh5c",
    "outputId": "83c31800-4a59-4960-9826-7a4a492c79e9"
   },
   "outputs": [
    {
     "data": {
      "image/png": "[encoded data removed]",
      "text/plain": [
       "<Figure size 864x216 with 3 Axes>"
      ]
     },
     "metadata": {
      "needs_background": "light"
     },
     "output_type": "display_data"
    }
   ],
   "source": [
    "f, ax = plt.subplots(1,3,figsize=(12,3))\n",
    "for i in range(3):\n",
    "  sizes_SLBF[i].plot(ax=ax[i])\n",
    "  ax[i].legend(fontsize='xx-small')\n",
    "  ax[i].set_xlabel(\"Classifier FPR ratio\")\n",
    "  ax[i].set_ylabel(\"Total Size of SLBF\")\n",
    "  ax[i].set_title(\"SLBF with \"+str(h_sizes[i])+\" dimensional GRU\")\n",
    "plt.tight_layout()\n",
    "plt.show()\n",
    "f.savefig(plot_loc+\"SLBF_size.png\")\n",
    "\n",
    "\n",
    "#size is best when ratio = 1"
   ]
  },
  {
   "cell_type": "code",
   "execution_count": 90,
   "metadata": {
    "colab": {
     "base_uri": "https://localhost:8080/"
    },
    "id": "GpK6Q5xbh87k",
    "outputId": "c54ed12e-8c6c-4188-95d1-61c8bbdf5c67"
   },
   "outputs": [
    {
     "name": "stdout",
     "output_type": "stream",
     "text": [
      "error\n",
      "error\n",
      "error\n",
      "error\n",
      "error\n",
      "error\n",
      "error\n",
      "error\n",
      "error\n",
      "error\n",
      "error\n",
      "error\n",
      "error\n",
      "error\n",
      "error\n",
      "error\n",
      "error\n",
      "error\n",
      "error\n",
      "error\n",
      "error\n",
      "error\n",
      "error\n",
      "error\n",
      "error\n",
      "error\n",
      "error\n",
      "error\n",
      "error\n",
      "error\n",
      "error\n",
      "error\n",
      "error\n",
      "error\n",
      "error\n",
      "error\n",
      "error\n",
      "error\n",
      "error\n",
      "error\n",
      "error\n",
      "error\n",
      "error\n",
      "error\n",
      "error\n",
      "error\n",
      "error\n",
      "error\n",
      "error\n",
      "error\n",
      "error\n",
      "error\n",
      "error\n",
      "error\n",
      "error\n",
      "error\n",
      "error\n",
      "error\n",
      "error\n",
      "error\n",
      "error\n",
      "error\n",
      "error\n",
      "error\n",
      "error\n",
      "error\n",
      "error\n",
      "error\n",
      "error\n",
      "error\n",
      "error\n",
      "error\n",
      "error\n",
      "error\n",
      "error\n",
      "error\n",
      "error\n",
      "error\n",
      "error\n",
      "error\n",
      "error\n",
      "error\n",
      "error\n",
      "error\n",
      "error\n",
      "error\n",
      "error\n",
      "error\n",
      "error\n",
      "error\n",
      "error\n",
      "error\n",
      "error\n",
      "error\n",
      "error\n",
      "error\n",
      "error\n",
      "error\n",
      "error\n",
      "error\n",
      "error\n",
      "error\n",
      "error\n",
      "error\n",
      "error\n",
      "error\n",
      "error\n",
      "error\n",
      "error\n",
      "error\n",
      "error\n",
      "error\n",
      "error\n",
      "error\n",
      "error\n",
      "error\n",
      "error\n",
      "error\n",
      "error\n",
      "error\n"
     ]
    }
   ],
   "source": [
    "true_fpr_LBF_LH = {}\n",
    "sizes_LBF_LH = {}\n",
    "times_LBF_LH = {}\n",
    "for i in range(3):\n",
    "  true_fpr_LBF_LH[i] = pd.DataFrame(index = fpr_ratios, columns = fprs)\n",
    "  sizes_LBF_LH[i] = pd.DataFrame(index = fpr_ratios, columns = fprs)\n",
    "  times_LBF_LH[i] = pd.DataFrame(index = fpr_ratios, columns = fprs)\n",
    "  for fpr in fprs:\n",
    "    for fpr_ratio in fpr_ratios:\n",
    "      try:\n",
    "        LBF = np.load(loc+\"LBF_LH_hid\"+str(h_sizes[i])+\"_FPR\"+str(fpr)+\"_ratio\"+str(fpr_ratio)+\".npy\", allow_pickle=True).item()\n",
    "        true_fpr_LBF_LH[i].loc[fpr_ratio,fpr] = LBF['FPR']\n",
    "        sizes_LBF_LH[i].loc[fpr_ratio,fpr] = LBF['size']\n",
    "        times_LBF_LH[i].loc[fpr_ratio,fpr] = LBF['time']\n",
    "        print(LBF['FPR'], LBF['size'], LBF['time'])\n",
    "      except:\n",
    "        print(\"error\")\n",
    "        continue\n"
   ]
  },
  {
   "cell_type": "code",
   "execution_count": 47,
   "metadata": {
    "id": "n-iz_0jFgLjh"
   },
   "outputs": [],
   "source": [
    "# Grafici attualmente non funzionanti, da sistemare\n",
    "\n",
    "x_BF = []\n",
    "y_BF = []\n",
    "for b in BF_sizes.keys():\n",
    "  x_BF += [b]\n",
    "  y_BF += [BF_sizes[b]]"
   ]
  },
  {
   "cell_type": "code",
   "execution_count": 48,
   "metadata": {
    "colab": {
     "base_uri": "https://localhost:8080/",
     "height": 570
    },
    "id": "yzcEpD4rsuoh",
    "outputId": "9c7a94af-6bba-44bd-d209-ee2e320ef217"
   },
   "outputs": [
    {
     "ename": "ValueError",
     "evalue": "x and y must have same first dimension, but have shapes (4,) and (80,)",
     "output_type": "error",
     "traceback": [
      "\u001b[1;31m---------------------------------------------------------------------------\u001b[0m",
      "\u001b[1;31mValueError\u001b[0m                                Traceback (most recent call last)",
      "\u001b[1;32m<ipython-input-48-fcea6bf66efe>\u001b[0m in \u001b[0;36m<module>\u001b[1;34m\u001b[0m\n\u001b[0;32m     24\u001b[0m   \u001b[0max\u001b[0m\u001b[1;33m[\u001b[0m\u001b[0mi\u001b[0m\u001b[1;33m]\u001b[0m\u001b[1;33m.\u001b[0m\u001b[0mscatter\u001b[0m\u001b[1;33m(\u001b[0m\u001b[0mx_SLBF\u001b[0m\u001b[1;33m,\u001b[0m\u001b[0my_SLBF\u001b[0m\u001b[1;33m,\u001b[0m \u001b[0mlabel\u001b[0m \u001b[1;33m=\u001b[0m \u001b[1;34m'SLBF'\u001b[0m\u001b[1;33m,\u001b[0m \u001b[0mmarker\u001b[0m\u001b[1;33m=\u001b[0m\u001b[1;34m'.'\u001b[0m\u001b[1;33m)\u001b[0m\u001b[1;33m\u001b[0m\u001b[1;33m\u001b[0m\u001b[0m\n\u001b[0;32m     25\u001b[0m   \u001b[0max\u001b[0m\u001b[1;33m[\u001b[0m\u001b[0mi\u001b[0m\u001b[1;33m]\u001b[0m\u001b[1;33m.\u001b[0m\u001b[0mplot\u001b[0m\u001b[1;33m(\u001b[0m\u001b[0mtrue_fpr_LBF\u001b[0m\u001b[1;33m[\u001b[0m\u001b[0mi\u001b[0m\u001b[1;33m]\u001b[0m\u001b[1;33m.\u001b[0m\u001b[0mcolumns\u001b[0m\u001b[1;33m,\u001b[0m\u001b[0mz_LBF\u001b[0m\u001b[1;33m)\u001b[0m\u001b[1;33m\u001b[0m\u001b[1;33m\u001b[0m\u001b[0m\n\u001b[1;32m---> 26\u001b[1;33m   \u001b[0max\u001b[0m\u001b[1;33m[\u001b[0m\u001b[0mi\u001b[0m\u001b[1;33m]\u001b[0m\u001b[1;33m.\u001b[0m\u001b[0mplot\u001b[0m\u001b[1;33m(\u001b[0m\u001b[0mtrue_fpr_SLBF\u001b[0m\u001b[1;33m[\u001b[0m\u001b[0mi\u001b[0m\u001b[1;33m]\u001b[0m\u001b[1;33m.\u001b[0m\u001b[0mcolumns\u001b[0m\u001b[1;33m,\u001b[0m\u001b[0mz_SLBF\u001b[0m\u001b[1;33m)\u001b[0m\u001b[1;33m\u001b[0m\u001b[1;33m\u001b[0m\u001b[0m\n\u001b[0m\u001b[0;32m     27\u001b[0m   \u001b[0max\u001b[0m\u001b[1;33m[\u001b[0m\u001b[0mi\u001b[0m\u001b[1;33m]\u001b[0m\u001b[1;33m.\u001b[0m\u001b[0mset_title\u001b[0m\u001b[1;33m(\u001b[0m\u001b[0mstr\u001b[0m\u001b[1;33m(\u001b[0m\u001b[0mh_sizes\u001b[0m\u001b[1;33m[\u001b[0m\u001b[0mi\u001b[0m\u001b[1;33m]\u001b[0m\u001b[1;33m)\u001b[0m\u001b[1;33m+\u001b[0m\u001b[1;34m\" dimensional GRU\"\u001b[0m\u001b[1;33m)\u001b[0m\u001b[1;33m\u001b[0m\u001b[1;33m\u001b[0m\u001b[0m\n\u001b[0;32m     28\u001b[0m   \u001b[0max\u001b[0m\u001b[1;33m[\u001b[0m\u001b[0mi\u001b[0m\u001b[1;33m]\u001b[0m\u001b[1;33m.\u001b[0m\u001b[0mset_xlabel\u001b[0m\u001b[1;33m(\u001b[0m\u001b[1;34m\"Observed FPR\"\u001b[0m\u001b[1;33m)\u001b[0m\u001b[1;33m\u001b[0m\u001b[1;33m\u001b[0m\u001b[0m\n",
      "\u001b[1;32mc:\\users\\giacomo\\anaconda3\\envs\\tirocinio2\\lib\\site-packages\\matplotlib\\axes\\_axes.py\u001b[0m in \u001b[0;36mplot\u001b[1;34m(self, scalex, scaley, data, *args, **kwargs)\u001b[0m\n\u001b[0;32m   1741\u001b[0m         \"\"\"\n\u001b[0;32m   1742\u001b[0m         \u001b[0mkwargs\u001b[0m \u001b[1;33m=\u001b[0m \u001b[0mcbook\u001b[0m\u001b[1;33m.\u001b[0m\u001b[0mnormalize_kwargs\u001b[0m\u001b[1;33m(\u001b[0m\u001b[0mkwargs\u001b[0m\u001b[1;33m,\u001b[0m \u001b[0mmlines\u001b[0m\u001b[1;33m.\u001b[0m\u001b[0mLine2D\u001b[0m\u001b[1;33m)\u001b[0m\u001b[1;33m\u001b[0m\u001b[1;33m\u001b[0m\u001b[0m\n\u001b[1;32m-> 1743\u001b[1;33m         \u001b[0mlines\u001b[0m \u001b[1;33m=\u001b[0m \u001b[1;33m[\u001b[0m\u001b[1;33m*\u001b[0m\u001b[0mself\u001b[0m\u001b[1;33m.\u001b[0m\u001b[0m_get_lines\u001b[0m\u001b[1;33m(\u001b[0m\u001b[1;33m*\u001b[0m\u001b[0margs\u001b[0m\u001b[1;33m,\u001b[0m \u001b[0mdata\u001b[0m\u001b[1;33m=\u001b[0m\u001b[0mdata\u001b[0m\u001b[1;33m,\u001b[0m \u001b[1;33m**\u001b[0m\u001b[0mkwargs\u001b[0m\u001b[1;33m)\u001b[0m\u001b[1;33m]\u001b[0m\u001b[1;33m\u001b[0m\u001b[1;33m\u001b[0m\u001b[0m\n\u001b[0m\u001b[0;32m   1744\u001b[0m         \u001b[1;32mfor\u001b[0m \u001b[0mline\u001b[0m \u001b[1;32min\u001b[0m \u001b[0mlines\u001b[0m\u001b[1;33m:\u001b[0m\u001b[1;33m\u001b[0m\u001b[1;33m\u001b[0m\u001b[0m\n\u001b[0;32m   1745\u001b[0m             \u001b[0mself\u001b[0m\u001b[1;33m.\u001b[0m\u001b[0madd_line\u001b[0m\u001b[1;33m(\u001b[0m\u001b[0mline\u001b[0m\u001b[1;33m)\u001b[0m\u001b[1;33m\u001b[0m\u001b[1;33m\u001b[0m\u001b[0m\n",
      "\u001b[1;32mc:\\users\\giacomo\\anaconda3\\envs\\tirocinio2\\lib\\site-packages\\matplotlib\\axes\\_base.py\u001b[0m in \u001b[0;36m__call__\u001b[1;34m(self, data, *args, **kwargs)\u001b[0m\n\u001b[0;32m    271\u001b[0m                 \u001b[0mthis\u001b[0m \u001b[1;33m+=\u001b[0m \u001b[0margs\u001b[0m\u001b[1;33m[\u001b[0m\u001b[1;36m0\u001b[0m\u001b[1;33m]\u001b[0m\u001b[1;33m,\u001b[0m\u001b[1;33m\u001b[0m\u001b[1;33m\u001b[0m\u001b[0m\n\u001b[0;32m    272\u001b[0m                 \u001b[0margs\u001b[0m \u001b[1;33m=\u001b[0m \u001b[0margs\u001b[0m\u001b[1;33m[\u001b[0m\u001b[1;36m1\u001b[0m\u001b[1;33m:\u001b[0m\u001b[1;33m]\u001b[0m\u001b[1;33m\u001b[0m\u001b[1;33m\u001b[0m\u001b[0m\n\u001b[1;32m--> 273\u001b[1;33m             \u001b[1;32myield\u001b[0m \u001b[1;32mfrom\u001b[0m \u001b[0mself\u001b[0m\u001b[1;33m.\u001b[0m\u001b[0m_plot_args\u001b[0m\u001b[1;33m(\u001b[0m\u001b[0mthis\u001b[0m\u001b[1;33m,\u001b[0m \u001b[0mkwargs\u001b[0m\u001b[1;33m)\u001b[0m\u001b[1;33m\u001b[0m\u001b[1;33m\u001b[0m\u001b[0m\n\u001b[0m\u001b[0;32m    274\u001b[0m \u001b[1;33m\u001b[0m\u001b[0m\n\u001b[0;32m    275\u001b[0m     \u001b[1;32mdef\u001b[0m \u001b[0mget_next_color\u001b[0m\u001b[1;33m(\u001b[0m\u001b[0mself\u001b[0m\u001b[1;33m)\u001b[0m\u001b[1;33m:\u001b[0m\u001b[1;33m\u001b[0m\u001b[1;33m\u001b[0m\u001b[0m\n",
      "\u001b[1;32mc:\\users\\giacomo\\anaconda3\\envs\\tirocinio2\\lib\\site-packages\\matplotlib\\axes\\_base.py\u001b[0m in \u001b[0;36m_plot_args\u001b[1;34m(self, tup, kwargs)\u001b[0m\n\u001b[0;32m    397\u001b[0m \u001b[1;33m\u001b[0m\u001b[0m\n\u001b[0;32m    398\u001b[0m         \u001b[1;32mif\u001b[0m \u001b[0mx\u001b[0m\u001b[1;33m.\u001b[0m\u001b[0mshape\u001b[0m\u001b[1;33m[\u001b[0m\u001b[1;36m0\u001b[0m\u001b[1;33m]\u001b[0m \u001b[1;33m!=\u001b[0m \u001b[0my\u001b[0m\u001b[1;33m.\u001b[0m\u001b[0mshape\u001b[0m\u001b[1;33m[\u001b[0m\u001b[1;36m0\u001b[0m\u001b[1;33m]\u001b[0m\u001b[1;33m:\u001b[0m\u001b[1;33m\u001b[0m\u001b[1;33m\u001b[0m\u001b[0m\n\u001b[1;32m--> 399\u001b[1;33m             raise ValueError(f\"x and y must have same first dimension, but \"\n\u001b[0m\u001b[0;32m    400\u001b[0m                              f\"have shapes {x.shape} and {y.shape}\")\n\u001b[0;32m    401\u001b[0m         \u001b[1;32mif\u001b[0m \u001b[0mx\u001b[0m\u001b[1;33m.\u001b[0m\u001b[0mndim\u001b[0m \u001b[1;33m>\u001b[0m \u001b[1;36m2\u001b[0m \u001b[1;32mor\u001b[0m \u001b[0my\u001b[0m\u001b[1;33m.\u001b[0m\u001b[0mndim\u001b[0m \u001b[1;33m>\u001b[0m \u001b[1;36m2\u001b[0m\u001b[1;33m:\u001b[0m\u001b[1;33m\u001b[0m\u001b[1;33m\u001b[0m\u001b[0m\n",
      "\u001b[1;31mValueError\u001b[0m: x and y must have same first dimension, but have shapes (4,) and (80,)"
     ]
    },
    {
     "data": {
      "image/png": "[encoded data removed]",
      "text/plain": [
       "<Figure size 864x216 with 3 Axes>"
      ]
     },
     "metadata": {
      "needs_background": "light"
     },
     "output_type": "display_data"
    }
   ],
   "source": [
    "f,ax = plt.subplots(1,3,figsize=(12,3))\n",
    "for i in range(3):\n",
    "  x_LBF = []\n",
    "  y_LBF = []\n",
    "  z_LBF = []\n",
    "  x_SLBF = []\n",
    "  y_SLBF = []\n",
    "  z_SLBF = []\n",
    "  for j1 in range(true_fpr_LBF[i].shape[1]):\n",
    "    for j0 in range(true_fpr_LBF[i].shape[0]):\n",
    "      x_LBF += [true_fpr_LBF[i].iloc[j0,j1]]\n",
    "      y_LBF += [sizes_LBF[i].iloc[j0,j1]]\n",
    "    z_LBF += [min(sizes_LBF[i].iloc[:,j1])]\n",
    "  \n",
    "  for j1 in range(true_fpr_SLBF[i].shape[1]):\n",
    "    for j0 in range(true_fpr_SLBF[i].shape[0]):\n",
    "      if sizes_SLBF[i].dropna().iloc[:,j1].size != 0:\n",
    "        if(true_fpr_SLBF[i].index[j0] >= 1.):\n",
    "          x_SLBF += [true_fpr_SLBF[i].iloc[j0,j1]]\n",
    "          y_SLBF += [sizes_SLBF[i].iloc[j0,j1]]\n",
    "        z_SLBF += [min(sizes_SLBF[i].dropna().iloc[:,j1])]\n",
    "        \n",
    "  ax[i].scatter(x_LBF,y_LBF, label = 'LBF', marker='.')\n",
    "  ax[i].scatter(x_SLBF,y_SLBF, label = 'SLBF', marker='.')\n",
    "  ax[i].plot(true_fpr_LBF[i].columns,z_LBF)\n",
    "  ax[i].plot(true_fpr_SLBF[i].columns,z_SLBF)\n",
    "  ax[i].set_title(str(h_sizes[i])+\" dimensional GRU\")\n",
    "  ax[i].set_xlabel(\"Observed FPR\")\n",
    "  ax[i].set_ylabel(\"Total Size (bytes)\")\n",
    "  ax[i].set_xlim(left=0, right=0.03)\n",
    "  ax[i].legend(fontsize='xx-small')\n",
    "plt.tight_layout()\n",
    "plt.show()\n",
    "f.savefig(plot_loc+\"comparison_size_min.png\")"
   ]
  }
 ],
 "metadata": {
  "accelerator": "GPU",
  "colab": {
   "collapsed_sections": [],
   "name": "Copia di phishing_RNN.ipynb",
   "provenance": [],
   "toc_visible": true
  },
  "kernelspec": {
   "display_name": "Python 3",
   "language": "python",
   "name": "python3"
  },
  "language_info": {
   "codemirror_mode": {
    "name": "ipython",
    "version": 3
   },
   "file_extension": ".py",
   "mimetype": "text/x-python",
   "name": "python",
   "nbconvert_exporter": "python",
   "pygments_lexer": "ipython3",
   "version": "3.8.5"
  }
 },
 "nbformat": 4,
 "nbformat_minor": 1
}
