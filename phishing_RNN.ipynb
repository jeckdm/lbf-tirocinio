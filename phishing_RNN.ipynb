{
 "cells": [
  {
   "cell_type": "code",
   "execution_count": 2,
   "metadata": {
    "colab": {
     "base_uri": "https://localhost:8080/"
    },
    "id": "t8Zku3fHZnnH",
    "outputId": "2d47e2ab-05ea-4ad5-ce82-7a25fbbd83a1"
   },
   "outputs": [
    {
     "output_type": "error",
     "ename": "ModuleNotFoundError",
     "evalue": "No module named 'google'",
     "traceback": [
      "\u001b[0;31m---------------------------------------------------------------------------\u001b[0m",
      "\u001b[0;31mModuleNotFoundError\u001b[0m                       Traceback (most recent call last)",
      "\u001b[0;32m<ipython-input-2-4996ee3d8d09>\u001b[0m in \u001b[0;36m<module>\u001b[0;34m\u001b[0m\n\u001b[0;32m----> 1\u001b[0;31m \u001b[0;32mfrom\u001b[0m \u001b[0mgoogle\u001b[0m\u001b[0;34m.\u001b[0m\u001b[0mcolab\u001b[0m \u001b[0;32mimport\u001b[0m \u001b[0mdrive\u001b[0m\u001b[0;34m\u001b[0m\u001b[0;34m\u001b[0m\u001b[0m\n\u001b[0m\u001b[1;32m      2\u001b[0m \u001b[0mdrive\u001b[0m\u001b[0;34m.\u001b[0m\u001b[0mmount\u001b[0m\u001b[0;34m(\u001b[0m\u001b[0;34m'/content/gdrive'\u001b[0m\u001b[0;34m)\u001b[0m\u001b[0;34m\u001b[0m\u001b[0;34m\u001b[0m\u001b[0m\n",
      "\u001b[0;31mModuleNotFoundError\u001b[0m: No module named 'google'"
     ]
    }
   ],
   "source": [
    "from google.colab import drive\n",
    "drive.mount('/content/gdrive')"
   ]
  },
  {
   "cell_type": "code",
   "execution_count": 2,
   "metadata": {
    "colab": {
     "base_uri": "https://localhost:8080/"
    },
    "id": "7H3jyNpSHD49",
    "outputId": "b3815eab-97d3-4bfc-ba99-54a1341b345e"
   },
   "outputs": [],
   "source": [
    "from os.path import exists\n",
    "from wheel.pep425tags import get_abbr_impl, get_impl_ver, get_abi_tag\n",
    "platform = '{}{}-{}'.format(get_abbr_impl(), get_impl_ver(), get_abi_tag())\n",
    "cuda_output = !ldconfig -p|grep cudart.so|sed -e 's/.*\\.\\([0-9]*\\)\\.\\([0-9]*\\)$/cu\\1\\2/'\n",
    "accelerator = cuda_output[0] if exists('/dev/nvidia0') else 'cpu'\n",
    "import torch"
   ]
  },
  {
   "cell_type": "code",
   "execution_count": 3,
   "metadata": {
    "id": "SuuuJZd7ZuIU"
   },
   "outputs": [],
   "source": [
    "# Libraries\n",
    "import torch\n",
    "import torch.nn as nn\n",
    "import torch.nn.functional as F\n",
    "import numpy as np\n",
    "import os\n",
    "import time\n",
    "import pandas as pd\n",
    "import matplotlib.pyplot as plt\n",
    "import seaborn as sns\n",
    "\n",
    "# GPU\n",
    "device = torch.device('cuda')"
   ]
  },
  {
   "cell_type": "markdown",
   "metadata": {
    "id": "Cx8AbI2LjfE7"
   },
   "source": [
    "# Load and clean data"
   ]
  },
  {
   "cell_type": "code",
   "execution_count": 8,
   "metadata": {
    "id": "VOE9X9BTxOvw"
   },
   "outputs": [],
   "source": [
    "# Download data\n",
    "legitimate_URLs = np.load(\"small_data/legit.npy\")\n",
    "# legitimate_URLs = np.concatenate((legitimate_URLs,np.load(\"/content/gdrive/My Drive/legitimate_URLs2.npy\")))\n",
    "phishing_URLs = np.load(\"small_data/phishing.npy\")\n",
    "# phishing_URLs = np.concatenate((phishing_URLs,np.load(\"/content/gdrive/My Drive/phishing_URLs2.npy\")))\n",
    "\n",
    "# randomly permute URLs\n",
    "np.random.seed(0)\n",
    "legitimate_URLs = list(legitimate_URLs[np.random.permutation(len(legitimate_URLs))])\n",
    "phishing_URLs = list(phishing_URLs[np.random.permutation(len(phishing_URLs))])\n",
    "\n",
    "# clean URLs\n",
    "legitimate_URLs = [l.split('http://')[-1].split('www.')[-1].split('https://')[-1] for l in legitimate_URLs]\n",
    "phishing_URLs = [p.split('http://')[-1].split('www.')[-1].split('https://')[-1] for p in phishing_URLs]\n",
    "phishing_URLs = list(set(phishing_URLs) - set(legitimate_URLs))"
   ]
  },
  {
   "cell_type": "code",
   "execution_count": 9,
   "metadata": {
    "colab": {
     "base_uri": "https://localhost:8080/"
    },
    "id": "8vMg_EszoYdJ",
    "outputId": "66765996-bf40-40e3-fab6-d7b98c23c0e9"
   },
   "outputs": [
    {
     "output_type": "execute_result",
     "data": {
      "text/plain": [
       "(100, 965)"
      ]
     },
     "metadata": {},
     "execution_count": 9
    }
   ],
   "source": [
    "len(legitimate_URLs), len(phishing_URLs)\n",
    "\n",
    "# Phishing > Legit, Dataset troppo piccolo"
   ]
  },
  {
   "cell_type": "code",
   "execution_count": null,
   "metadata": {
    "id": "faSrZGAEK7wr"
   },
   "outputs": [],
   "source": [
    "# map to numbers\n",
    "letters = ''.join(legitimate_URLs+phishing_URLs) #String unica di URL senza spazi\n",
    "from collections import Counter\n",
    "c = Counter(letters) # Dizionario con occorrenze delle lettere\n",
    "d = {}\n",
    "for i, (l, _) in enumerate(c.most_common(128)):\n",
    "    d[l] = i + 1 # Dizionario ordinato per numero di occorrenze"
   ]
  },
  {
   "cell_type": "code",
   "execution_count": null,
   "metadata": {
    "id": "W5dbZ30soiBV"
   },
   "outputs": [],
   "source": [
    "# training set: all keys plus non-keys\n",
    "# testing set: remaining non-keys \n",
    "training_list = legitimate_URLs[:int(len(legitimate_URLs)/2)]+phishing_URLs\n",
    "testing_list = legitimate_URLs[int(len(legitimate_URLs)/2):]\n",
    "    \n",
    "# cut off at 150 chars\n",
    "char_cutoff = 150\n",
    "\n",
    "# Matrice con entry i vari URL del training set portati a 150 char con eventuale padding/troncatura.\n",
    "# Gli URL vengono rappresentati sostiuendo ad ogni lettera l'int rappresentante la posizione nelle occorrenze\n",
    "X_train = torch.tensor([[d.get(l,0) for l in url[:min([len(url),char_cutoff])]]+[0 for l in range(char_cutoff-len(url))] \n",
    "                        for url in training_list])\n",
    "y_train = torch.tensor([0]*int(len(legitimate_URLs)/2)+[1]*int(len(phishing_URLs)))\n",
    "\n",
    "X_test = torch.tensor([[d.get(l,0) for l in url[:min([len(url),char_cutoff])]]+[0 for l in range(char_cutoff-len(url))] \n",
    "                        for url in testing_list])\n",
    "y_test = torch.tensor([0]*(len(testing_list)))"
   ]
  },
  {
   "cell_type": "code",
   "execution_count": null,
   "metadata": {
    "id": "RSiIBBk2e8-s"
   },
   "outputs": [],
   "source": [
    "# Batch data\n",
    "def make_batch_train(X_t, y_t, B):\n",
    "  sample = torch.randint(0, X_t.shape[0], [B]).long()\n",
    "  batch_X0 = torch.stack([X_t[s] for s in sample])\n",
    "  batch_X = batch_X0.to(device)\n",
    "  batch_y0 = torch.stack([y_t[s]*torch.ones(len(X_t[s])).long() for s in sample]).to(device)     #\n",
    "  batch_y = batch_y0.to(device)\n",
    "  return batch_X, batch_y\n",
    "  \n",
    "def make_batch_test(X_t, y_t, B):\n",
    "  sample = torch.randint(0, X_t.shape[0], [B]).long()\n",
    "  batch_X0 = torch.stack([X_t[s] for s in sample])\n",
    "  batch_X = batch_X0.to(device)\n",
    "  batch_y0 = torch.stack([y_t[s] for s in sample]).to(device)\n",
    "  batch_y = batch_y0.to(device)\n",
    "  return batch_X, batch_y\n"
   ]
  },
  {
   "cell_type": "code",
   "execution_count": null,
   "metadata": {
    "id": "IydI_DuQzvQj"
   },
   "outputs": [],
   "source": [
    "class RNN(nn.Module):\n",
    "    def __init__(self, input_size=150, output_size=2, emb_size=128, h_size=128, layers=1, dropout=0.3):\n",
    "        super(RNN, self).__init__()\n",
    "        self.embedding = nn.Embedding(input_size, emb_size)\n",
    "        self.rnn = nn.GRU(emb_size, h_size, num_layers=layers, batch_first=True)\n",
    "        self.dropout = nn.Dropout(dropout)\n",
    "        self.linear = nn.Linear(h_size, output_size)\n",
    "        \n",
    "    def forward(self, x, h=None):\n",
    "        x = self.embedding(x)\n",
    "        x, h = self.rnn(x, h)\n",
    "        x = self.linear(x)\n",
    "        return x, h"
   ]
  },
  {
   "cell_type": "code",
   "execution_count": null,
   "metadata": {
    "id": "k4jkGELPzx72"
   },
   "outputs": [],
   "source": [
    "def val(model, X_t, y_t):\n",
    "    model.eval()\n",
    "    with torch.no_grad():\n",
    "        total = 0\n",
    "        total_right = 0\n",
    "        total_loss = 0\n",
    "        for batch in range(50):\n",
    "            x,y = make_batch_test(X_t, y_t, 256)\n",
    "            y_hat, _ = model(x)\n",
    "            optimizer.zero_grad()\n",
    "            preds = y_hat.max(dim=2)[1][:,149]\n",
    "            preds_eq = preds.eq(y)\n",
    "            total_right += preds_eq.sum().item()\n",
    "            total += preds_eq.numel()\n",
    "            loss = criterion(y_hat[:,149].view(-1,2), y.view(-1).long()).detach().item()\n",
    "            total_loss += loss\n",
    "    return total_right / total, total_loss / 50"
   ]
  },
  {
   "cell_type": "code",
   "execution_count": null,
   "metadata": {
    "id": "iUpOjBikzzi3"
   },
   "outputs": [],
   "source": [
    "def train(model):\n",
    "    model.train()\n",
    "    total_loss = 0\n",
    "    for batch in range(50):\n",
    "        x, y = make_batch_train(X_train, y_train, 256)\n",
    "        y_hat, _ = model(x)\n",
    "        optimizer.zero_grad()\n",
    "        y_hat = y_hat.view(-1,2)\n",
    "        y = y.view(-1).long()\n",
    "        loss = criterion(y_hat, y)\n",
    "        loss.backward()\n",
    "        optimizer.step()\n",
    "    total_loss += loss.item()\n",
    "    return total_loss / 50"
   ]
  },
  {
   "cell_type": "code",
   "execution_count": null,
   "metadata": {
    "id": "MRU8Nn49Q_3-"
   },
   "outputs": [],
   "source": [
    "emb_size=5\n",
    "h_sizes = [16,8,4]\n",
    "layers = 1\n",
    "criterion = nn.CrossEntropyLoss()\n",
    "#loc = \"/content/gdrive/My Drive/College/current classes/CS 222 fall 2018/CS222 Project/simulations/\"\n",
    "loc = \"trained_NN/simulations/\"\n",
    "#plot_loc = \"/content/gdrive/My Drive/College/current classes/CS 222 fall 2018/CS222 Project/plots/\"\n",
    "plot_loc = \"/content/gdrive/My Drive/trained_NN/plots/\""
   ]
  },
  {
   "cell_type": "markdown",
   "metadata": {
    "id": "ttM9ANfpjlVn"
   },
   "source": [
    "# Train (don't need to run this)"
   ]
  },
  {
   "cell_type": "code",
   "execution_count": null,
   "metadata": {
    "colab": {
     "base_uri": "https://localhost:8080/"
    },
    "id": "mrO8gtMOz1tw",
    "outputId": "e943f287-f597-48cc-f76d-9f257bdf889a"
   },
   "outputs": [
    {
     "name": "stdout",
     "output_type": "stream",
     "text": [
      "[E   0] Loss: 0.2102 | Acc: 0.9513\n",
      "[E  10] Loss: 0.0508 | Acc: 0.9809\n",
      "[E  20] Loss: 0.0304 | Acc: 0.9912\n",
      "23.225558280944824\n",
      "[E   0] Loss: 0.3961 | Acc: 0.9530\n",
      "[E  10] Loss: 0.1909 | Acc: 0.9477\n",
      "[E  20] Loss: 0.0498 | Acc: 0.9823\n",
      "22.529762268066406\n",
      "[E   0] Loss: 0.2644 | Acc: 0.9520\n",
      "[E  10] Loss: 0.1928 | Acc: 0.9528\n",
      "[E  20] Loss: 0.1382 | Acc: 0.9518\n",
      "22.629263877868652\n"
     ]
    }
   ],
   "source": [
    "models = {}\n",
    "for i in range(3):\n",
    "  h_size = h_sizes[i]\n",
    "  # Create model, loss function, optimizer\n",
    "  models[i] = RNN(emb_size=emb_size, h_size=h_size, layers=layers).to(device)\n",
    "  optimizer = torch.optim.Adamax(models[i].parameters())\n",
    "\n",
    "  # Train and validate\n",
    "  start = time.time()\n",
    "  for epoch in range(30):\n",
    "      train_loss = train(models[i])\n",
    "      val_acc, val_loss = val(models[i],X_train,y_train)\n",
    "      if(epoch%10 == 0):\n",
    "        print('[E{:4d}] Loss: {:.4f} | Acc: {:.4f}'.format(epoch, val_loss, val_acc))\n",
    "  end = time.time()\n",
    "  print(end-start)\n",
    "  torch.save(models[i].state_dict(), loc+\"RNN_emb\"+str(emb_size)+\"_hid\"+str(h_size))  "
   ]
  },
  {
   "cell_type": "markdown",
   "metadata": {
    "id": "r1M9slR3joT1"
   },
   "source": [
    "# Load trained RNNs and evaluate (change paths)"
   ]
  },
  {
   "cell_type": "code",
   "execution_count": null,
   "metadata": {
    "colab": {
     "base_uri": "https://localhost:8080/"
    },
    "id": "pYcTnDiDZyBq",
    "outputId": "f9e9b186-6c18-4143-b961-fa49b8058fc5"
   },
   "outputs": [
    {
     "name": "stdout",
     "output_type": "stream",
     "text": [
      "hidden size 16\n",
      "model size (bytes) 9683\n",
      "(0.960078125, 0.3610967943072319)\n",
      "time to evaluate 0.00177016019821167\n",
      "==============================\n",
      "hidden size 8\n",
      "model size (bytes) 6547\n",
      "(0.9609375, 0.25764593333005903)\n",
      "time to evaluate 0.0017371463775634765\n",
      "==============================\n",
      "hidden size 4\n",
      "model size (bytes) 5587\n",
      "(0.980078125, 0.16486318975687028)\n",
      "time to evaluate 0.0017729783058166504\n",
      "==============================\n"
     ]
    }
   ],
   "source": [
    "# sizes of RNN models\n",
    "models = {}\n",
    "model_sizes = {}\n",
    "for i,h_size in enumerate(h_sizes):\n",
    "  print(\"hidden size\", h_size)\n",
    "  model_sizes[i] = os.path.getsize(loc+\"RNN_emb\"+str(emb_size)+\"_hid\"+str(h_size))\n",
    "  print(\"model size (bytes)\", model_sizes[i])\n",
    "  models[i] = RNN(emb_size=emb_size, h_size=h_size, layers=layers).to(device)\n",
    "  models[i].load_state_dict(torch.load(loc+\"RNN_emb\"+str(emb_size)+\"_hid\"+str(h_size)))\n",
    "  models[i].eval()\n",
    "  print(val(models[i], X_test,y_test))\n",
    "  \n",
    "  avg_time = 0\n",
    "  for t in range(100):\n",
    "    x,y = make_batch_test(X_test, y_test,1)\n",
    "    start = time.time()\n",
    "    models[i](x)\n",
    "    total = time.time()-start\n",
    "    avg_time += total\n",
    "  avg_time /= 100\n",
    "  print(\"time to evaluate\", avg_time)\n",
    "  print(\"=\"*30)"
   ]
  },
  {
   "cell_type": "markdown",
   "metadata": {
    "id": "5FnUFpczkQG4"
   },
   "source": [
    "# Bloom Filter Class"
   ]
  },
  {
   "cell_type": "code",
   "execution_count": null,
   "metadata": {
    "colab": {
     "base_uri": "https://localhost:8080/"
    },
    "id": "n3Jr-ymVkZBM",
    "outputId": "a492b556-10e9-45b4-9811-e555b8410d84"
   },
   "outputs": [
    {
     "name": "stdout",
     "output_type": "stream",
     "text": [
      "Collecting mmh3\n",
      "\u001b[?25l  Downloading https://files.pythonhosted.org/packages/d9/46/0e568554c7f70ebc3de0c2b2effd3f7b25e66e0e4e0eacaeb7c9145949f2/mmh3-3.0.0-cp37-cp37m-manylinux2010_x86_64.whl (50kB)\n",
      "\r",
      "\u001b[K     |██████▍                         | 10kB 20.8MB/s eta 0:00:01\r",
      "\u001b[K     |████████████▉                   | 20kB 16.0MB/s eta 0:00:01\r",
      "\u001b[K     |███████████████████▎            | 30kB 13.5MB/s eta 0:00:01\r",
      "\u001b[K     |█████████████████████████▊      | 40kB 12.2MB/s eta 0:00:01\r",
      "\u001b[K     |████████████████████████████████| 51kB 4.3MB/s \n",
      "\u001b[?25hInstalling collected packages: mmh3\n",
      "Successfully installed mmh3-3.0.0\n",
      "Collecting bitarray\n",
      "\u001b[?25l  Downloading https://files.pythonhosted.org/packages/25/21/4302e1a66afc314b067904f39d29b0e9784b0de705446bd1f9aafb2a06b4/bitarray-1.7.0.tar.gz (58kB)\n",
      "\u001b[K     |████████████████████████████████| 61kB 5.1MB/s \n",
      "\u001b[?25hBuilding wheels for collected packages: bitarray\n",
      "  Building wheel for bitarray (setup.py) ... \u001b[?25l\u001b[?25hdone\n",
      "  Created wheel for bitarray: filename=bitarray-1.7.0-cp37-cp37m-linux_x86_64.whl size=121691 sha256=def102dc90c828ec373c3a3b45bc5d912262ddd6cc3a50abd3b0634d421ac13d\n",
      "  Stored in directory: /root/.cache/pip/wheels/79/aa/19/771e86a167d7102e4b395c4854afebe01e0a53b321bcd49176\n",
      "Successfully built bitarray\n",
      "Installing collected packages: bitarray\n",
      "Successfully installed bitarray-1.7.0\n"
     ]
    }
   ],
   "source": [
    "!pip install mmh3\n",
    "!pip install bitarray"
   ]
  },
  {
   "cell_type": "code",
   "execution_count": null,
   "metadata": {
    "id": "Ce4oNOg9XKJr"
   },
   "outputs": [],
   "source": [
    "import mmh3\n",
    "import math\n",
    "import torch\n",
    "from bitarray import bitarray \n",
    "\n",
    "class BloomFilter(object): \n",
    "  \n",
    "    def __init__(self, items_count,fp_prob): \n",
    "        ''' \n",
    "        items_count : int \n",
    "            Number of items expected to be stored in bloom filter \n",
    "        fp_prob : float \n",
    "            False Positive probability in decimal \n",
    "        '''\n",
    "        # False posible probability in decimal \n",
    "        self.fp_prob = fp_prob \n",
    "  \n",
    "        # Size of bit array to use \n",
    "        self.size = self.get_size(items_count,fp_prob) \n",
    "  \n",
    "        # number of hash functions to use \n",
    "        self.hash_count = self.get_hash_count(self.size,items_count) \n",
    "  \n",
    "        # Bit array of given size \n",
    "        self.bit_array = bitarray(self.size) \n",
    "  \n",
    "        # initialize all bits as 0 \n",
    "        self.bit_array.setall(0) \n",
    "  \n",
    "    def add(self, item): \n",
    "        ''' \n",
    "        Add an item in the filter \n",
    "        '''\n",
    "        digests = [] \n",
    "        for i in range(self.hash_count): \n",
    "            # i works as seed to mmh3.hash() function \n",
    "            digest = mmh3.hash(item,i) % self.size \n",
    "            digests.append(digest) \n",
    "  \n",
    "            # set the bit True in bit_array \n",
    "            self.bit_array[digest] = True\n",
    "  \n",
    "    def check(self, item): \n",
    "        ''' \n",
    "        Check for existence of an item in filter \n",
    "        '''\n",
    "        for i in range(self.hash_count): \n",
    "            digest = mmh3.hash(item,i) % self.size \n",
    "            if self.bit_array[digest] == False: \n",
    "  \n",
    "                # if any of bit is False then,its not present \n",
    "                # in filter \n",
    "                # else there is probability that it exist \n",
    "                return False\n",
    "        return True\n",
    "  \n",
    "    @classmethod\n",
    "    def get_size(self,n,p): \n",
    "        ''' \n",
    "        Return the size of bit array(m) to used using \n",
    "        following formula \n",
    "        m = -(n * lg(p)) / (lg(2)^2) \n",
    "        n : int \n",
    "            number of items expected to be stored in filter \n",
    "        p : float \n",
    "            False Positive probability in decimal \n",
    "        '''\n",
    "        m = -(n * math.log(p))/(math.log(2)**2) \n",
    "        return int(m) \n",
    "  \n",
    "    @classmethod\n",
    "    def get_hash_count(self, m, n): \n",
    "        ''' \n",
    "        Return the hash function(k) to be used using \n",
    "        following formula \n",
    "        k = (m/n) * lg(2) \n",
    "  \n",
    "        m : int \n",
    "            size of bit array \n",
    "        n : int \n",
    "            number of items expected to be stored in filter \n",
    "        '''\n",
    "\n",
    "        k = (m/n) * math.log(2) \n",
    "        return int(k)"
   ]
  },
  {
   "cell_type": "markdown",
   "metadata": {
    "id": "kAhcFnszkflF"
   },
   "source": [
    "# BF"
   ]
  },
  {
   "cell_type": "code",
   "execution_count": null,
   "metadata": {
    "id": "aNrQv0I2kxJp"
   },
   "outputs": [],
   "source": [
    "def run_BF(FPR):\n",
    "  # Crea BF su un set di Key pari al numero di phishing e con target FPR\n",
    "  BF = BloomFilter(len(phishing_URLs), FPR)\n",
    "  for url in phishing_URLs:\n",
    "    BF.add(url)\n",
    "  \n",
    "  \n",
    "  fps = 0\n",
    "  total = 0\n",
    "  total_time = 0\n",
    "  # Testa il filtro di bloom su l'insieme dei legit per calcolare il tasso di FPR\n",
    "  for url in testing_list:\n",
    "    total += 1\n",
    "    start = time.time()\n",
    "    result = BF.check(url)\n",
    "    end = time.time()\n",
    "    total_time += (end-start)\n",
    "    # Se elemento presente allora falso positivo\n",
    "    if result == True:\n",
    "      fps += 1\n",
    "  \n",
    "  avg_fp = fps/total\n",
    "\n",
    "  # returns empirical FPR, BF size in bytes, and access time per element\n",
    "  return avg_fp, BF.size/8, (total_time)/len(testing_list)"
   ]
  },
  {
   "cell_type": "code",
   "execution_count": null,
   "metadata": {
    "colab": {
     "base_uri": "https://localhost:8080/"
    },
    "id": "Geiultr4yIQe",
    "outputId": "dabf2d32-a4cf-450b-a41b-5ea8e6c1e9cd"
   },
   "outputs": [
    {
     "name": "stdout",
     "output_type": "stream",
     "text": [
      "FPR 0.0 size 982.125 time 2.0313262939453124e-06\n"
     ]
    }
   ],
   "source": [
    "FPR, BF_size, t = run_BF(0.02)\n",
    "print(\"FPR\", FPR, \"size\", BF_size, \"time\", t)\n",
    "BF = {\"FPR\": FPR, \"size\": BF_size, \"time\": t}\n",
    "np.save(loc+\"BF\", BF)"
   ]
  },
  {
   "cell_type": "code",
   "execution_count": null,
   "metadata": {
    "colab": {
     "base_uri": "https://localhost:8080/"
    },
    "id": "JnWwuu0lvXbO",
    "outputId": "795e0d50-b6e3-4275-a418-8506ffa8ceae"
   },
   "outputs": [
    {
     "name": "stdout",
     "output_type": "stream",
     "text": [
      "{0.001: 1734.25, 0.005: 1330.125, 0.01: 1156.125, 0.02: 982.125}\n"
     ]
    }
   ],
   "source": [
    "BF_sizes = {}\n",
    "# Aggiungo alcuni fpr\n",
    "fprs = [0.001,0.005,0.01,0.02]\n",
    "# Stampa grandezza del filtro in relazione al target fpr\n",
    "for fpr in fprs:\n",
    "  BF = BloomFilter(len(phishing_URLs), fpr)\n",
    "  BF_sizes[fpr] = BF.size / 8\n",
    "  \n",
    "print(BF_sizes)"
   ]
  },
  {
   "cell_type": "markdown",
   "metadata": {
    "id": "XGPXONP--51O"
   },
   "source": [
    "# Classifier"
   ]
  },
  {
   "cell_type": "code",
   "execution_count": null,
   "metadata": {
    "id": "jtyF49pSjvFv"
   },
   "outputs": [],
   "source": [
    "# Esegue modello in input precedentemente addestrato suddividendo i risultati in due liste \n",
    "# probs1 contiene risultati per le entry phishing\n",
    "# probs0 contiene risultati per le entru legit\n",
    "def get_classifier_probs(model):\n",
    "  probs1 = []\n",
    "  probs0 = []\n",
    "  # Divisione in batch da 100\n",
    "  for i in range(int(len(y_train)/100)+1):\n",
    "    x0 = torch.stack([X_train[s] for s in range(100*i, min(100*(i+1), len(y_train)))])\n",
    "    x = x0.to(device)\n",
    "    y0 = torch.stack([y_train[s] for s in range(100*i, min(100*(i+1), len(y_train)))])\n",
    "    y = y0.to(device)  \n",
    "    y_hat, _ = model(x)\n",
    "    ps = torch.sigmoid(y_hat[:,:,1])[:,149]\n",
    "    probs1 += list(ps[y==1].squeeze().detach().cpu().numpy())\n",
    "    probs0 += list(ps[y==0].squeeze().detach().cpu().numpy())\n",
    "  return probs1, probs0"
   ]
  },
  {
   "cell_type": "code",
   "execution_count": null,
   "metadata": {
    "id": "4rI1KgZQe6U8"
   },
   "outputs": [],
   "source": [
    "# Grafici precedentemente commentati, non molto significativi?\n",
    "probs = {}\n",
    "urls = {}\n",
    "probs[0] = get_classifier_probs(models[0])\n",
    "probs[1] = get_classifier_probs(models[1])\n",
    "probs[2] = get_classifier_probs(models[2])"
   ]
  },
  {
   "cell_type": "code",
   "execution_count": null,
   "metadata": {
    "colab": {
     "base_uri": "https://localhost:8080/",
     "height": 1000
    },
    "id": "GL782j87fPXW",
    "outputId": "6b448ca1-d126-4771-e6e7-5ae596d6d170"
   },
   "outputs": [
    {
     "data": {
      "image/png": "[encoded data removed]",
      "text/plain": [
       "<Figure size 402.375x360 with 1 Axes>"
      ]
     },
     "metadata": {
      "needs_background": "light",
      "tags": []
     },
     "output_type": "display_data"
    },
    {
     "data": {
      "image/png": "[encoded data removed]",
      "text/plain": [
       "<Figure size 402.375x360 with 1 Axes>"
      ]
     },
     "metadata": {
      "needs_background": "light",
      "tags": []
     },
     "output_type": "display_data"
    },
    {
     "data": {
      "image/png": "[encoded data removed]",
      "text/plain": [
       "<Figure size 402.375x360 with 1 Axes>"
      ]
     },
     "metadata": {
      "needs_background": "light",
      "tags": []
     },
     "output_type": "display_data"
    }
   ],
   "source": [
    "sns.displot(probs[0], label = \"GRU, 128 dimensions\")\n",
    "sns.displot(probs[1], label = \"GRU, 32 dimensions\")\n",
    "sns.displot(probs[2], label = \"GRU, 16 dimensions\")\n",
    "plt.title(\"Distribution of classifier output probabilities for non-keys\")\n",
    "plt.legend()\n",
    "plt.show()"
   ]
  },
  {
   "cell_type": "code",
   "execution_count": null,
   "metadata": {
    "id": "jffNHR2fgdRI"
   },
   "outputs": [],
   "source": [
    "def determine_tau(FPR_tau, prob_list):\n",
    "  return np.percentile(np.array(prob_list),100*(1.-FPR_tau))"
   ]
  },
  {
   "cell_type": "markdown",
   "metadata": {
    "id": "wskpqti-kGxL"
   },
   "source": [
    "# LBF"
   ]
  },
  {
   "cell_type": "code",
   "execution_count": null,
   "metadata": {
    "id": "c0VjG9_Yj8Ym"
   },
   "outputs": [],
   "source": [
    "# Costruisce classificatore per LBF e ritorna relativo numero di falsi negativi e tau ottimale\n",
    "def build_LBF_classifier(model,FPR_tau):\n",
    "  probs1, probs0 = get_classifier_probs(model)\n",
    "  tau = determine_tau(FPR_tau,probs0)\n",
    "  false_negs = []\n",
    "  for i,url in enumerate(phishing_URLs):\n",
    "    if(probs1[i] < tau):\n",
    "      false_negs += [url]\n",
    "  return false_negs, tau"
   ]
  },
  {
   "cell_type": "code",
   "execution_count": null,
   "metadata": {
    "id": "rjycaqWhPQsC"
   },
   "outputs": [],
   "source": [
    "def build_LBF_backup(false_negs, FPR, FPR_tau):\n",
    "  num_false_negs = len(false_negs)\n",
    "  FPR_B = (FPR-FPR_tau)/(1-FPR_tau)\n",
    "  if(FPR_B <= 0):\n",
    "    return \"error\"\n",
    "  LBF_backup = BloomFilter(num_false_negs, FPR_B)\n",
    "  for url in false_negs:\n",
    "    LBF_backup.add(url)\n",
    "  return LBF_backup"
   ]
  },
  {
   "cell_type": "code",
   "execution_count": null,
   "metadata": {
    "id": "XLuM9cKq-kD4"
   },
   "outputs": [],
   "source": [
    "def test_LBF(model, LBF_backup, tau):\n",
    "  # test on testing data\n",
    "  fps = 0\n",
    "  total = 0\n",
    "  total_time = 0\n",
    "  for i in range(int(len(y_test)/100)+1):\n",
    "    x0 = torch.stack([X_test[s] for s in range(100*i, min(100*(i+1), len(y_test)))])\n",
    "    x = x0.to(device)\n",
    "    y0 = torch.stack([y_test[s] for s in range(100*i, min(100*(i+1), len(y_test)))])\n",
    "    y = y0.to(device)  \n",
    "    total += len(y)\n",
    "    \n",
    "    start = time.time()\n",
    "    y_hat, _ = model(x)\n",
    "    ps = torch.sigmoid(y_hat[:,:,1])[:,149].squeeze().detach().cpu().numpy()\n",
    "    for ix, p in enumerate(ps):\n",
    "      if(p > tau):\n",
    "        result = True        \n",
    "      else:\n",
    "        result = LBF_backup.check(testing_list[100*i+ix])\n",
    "      if(result):\n",
    "        fps += 1\n",
    "    end = time.time()\n",
    "    total_time += (end-start)\n",
    "\n",
    "  avg_fp = fps/total\n",
    "  \n",
    "  # returns empirical FPR, BF size, and avg access time\n",
    "  return avg_fp, LBF_backup.size / 8, (total_time)/len(y_test)"
   ]
  },
  {
   "cell_type": "markdown",
   "metadata": {
    "id": "xVTsU-kgOEMn"
   },
   "source": [
    "# SBF.py equivalent"
   ]
  },
  {
   "cell_type": "code",
   "execution_count": null,
   "metadata": {
    "id": "aH-aAi8aOJgM"
   },
   "outputs": [],
   "source": [
    "def build_SLBF_initial(false_negs, FPR, FPR_tau):\n",
    "  num_false_negs = len(false_negs)\n",
    "  FPR_B0 = FPR/FPR_tau*(1.-num_false_negs/len(phishing_URLs))\n",
    "  if(FPR_B0 <= 0 or FPR_B0 >= 1):\n",
    "    return \"error\"\n",
    "  SLBF_initial = BloomFilter(len(phishing_URLs), FPR_B0)\n",
    "  for url in phishing_URLs:\n",
    "    SLBF_initial.add(url)\n",
    "  return SLBF_initial"
   ]
  },
  {
   "cell_type": "code",
   "execution_count": null,
   "metadata": {
    "id": "F1bQENYNShk3"
   },
   "outputs": [],
   "source": [
    "def build_SLBF_backup(false_negs, FPR_tau):\n",
    "  num_false_negs = len(false_negs)\n",
    "  FPR_B = FPR_tau/((1-FPR_tau)*(len(phishing_URLs)/num_false_negs - 1))\n",
    "  if(FPR_B <= 0):\n",
    "    return \"error\"\n",
    "  SLBF_backup = BloomFilter(num_false_negs, FPR_B)\n",
    "  for url in false_negs:\n",
    "    SLBF_backup.add(url)\n",
    "  return SLBF_backup"
   ]
  },
  {
   "cell_type": "code",
   "execution_count": null,
   "metadata": {
    "id": "UF-srG_ZW0vP"
   },
   "outputs": [],
   "source": [
    "def test_SLBF(SLBF_initial, model, SLBF_backup, tau):\n",
    "  # test on testing data\n",
    "  fps = 0\n",
    "  total = 0\n",
    "  total_time = 0\n",
    "  for i in range(int(len(y_test)/100)+1):\n",
    "    x0 = torch.stack([X_test[s] for s in range(100*i, min(100*(i+1), len(y_test)))])\n",
    "    x = x0.to(device)\n",
    "    y0 = torch.stack([y_test[s] for s in range(100*i, min(100*(i+1), len(y_test)))])\n",
    "    y = y0.to(device)  \n",
    "    total += len(y)\n",
    "    \n",
    "    start = time.time()\n",
    "    y_hat, _ = model(x)\n",
    "    ps = torch.sigmoid(y_hat[:,:,1])[:,149].squeeze().detach().cpu().numpy()\n",
    "    for ix, p in enumerate(ps):\n",
    "      result = SLBF_initial.check(testing_list[100*i+ix])\n",
    "      if(result):\n",
    "        if(p>tau):\n",
    "          result = True\n",
    "        else:\n",
    "          result = SLBF_backup.check(testing_list[100*i+ix])\n",
    "      if(result):\n",
    "        fps += 1\n",
    "    end = time.time()\n",
    "    total_time += (end-start)\n",
    "\n",
    "  avg_fp = fps/total\n",
    "  \n",
    "  # returns empirical FPR, BF size, and avg access time\n",
    "  return avg_fp, (SLBF_initial.size+SLBF_backup.size) / 8, (total_time)/len(y_test)"
   ]
  },
  {
   "cell_type": "markdown",
   "metadata": {
    "id": "heV-YOqpOJ1R"
   },
   "source": [
    "# $\\tau$ analysis for LBF"
   ]
  },
  {
   "cell_type": "code",
   "execution_count": null,
   "metadata": {
    "colab": {
     "base_uri": "https://localhost:8080/"
    },
    "id": "19IzVQ40ODJ4",
    "outputId": "faca231f-a115-43c5-afec-48c77ac0a2f7"
   },
   "outputs": [
    {
     "name": "stdout",
     "output_type": "stream",
     "text": [
      "Modello 0: 0.001, 0.10, 0.00000000000000000000, 0.2252341062\n",
      "Modello 0: 0.001, 0.20, 0.00000000000000000000, 0.2252341062\n",
      "Modello 0: 0.001, 0.30, 0.00000000000000000000, 0.2252341062\n",
      "Modello 0: 0.001, 0.40, 0.00000000000000000000, 0.2252341062\n",
      "Modello 0: 0.001, 0.50, 0.00000000000000000000, 0.2252341062\n",
      "Modello 0: 0.001, 0.60, 0.00000000000000000000, 0.2252341062\n",
      "Modello 0: 0.001, 0.70, 0.00000000000000000000, 0.2252341062\n",
      "Modello 0: 0.001, 0.80, 0.00000000000000000000, 0.2252341062\n",
      "Modello 0: 0.001, 0.90, 0.00000000000000000000, 0.2252341062\n",
      "Modello 0: 0.001, 1.00, 0.00000000000000000000, 0.2252341062\n",
      "Modello 0: 0.005, 0.10, 0.00000000000000000000, 0.2252341062\n",
      "Modello 0: 0.005, 0.20, 0.00000000000000000000, 0.2252341062\n",
      "Modello 0: 0.005, 0.30, 0.00000000000000000000, 0.2252341062\n",
      "Modello 0: 0.005, 0.40, 0.00000000000000000000, 0.2252341062\n",
      "Modello 0: 0.005, 0.50, 0.00000000000000000000, 0.2252341062\n",
      "Modello 0: 0.005, 0.60, 0.00000000000000000000, 0.2252341062\n",
      "Modello 0: 0.005, 0.70, 0.00000000000000000000, 0.2252341062\n",
      "Modello 0: 0.005, 0.80, 0.00000000000000000000, 0.2252341062\n",
      "Modello 0: 0.005, 0.90, 0.00000000000000000000, 0.2252341062\n",
      "Modello 0: 0.005, 1.00, 0.00000000000000000000, 0.2252341062\n",
      "Modello 0: 0.010, 0.10, 0.00000000000000000000, 0.2252341062\n",
      "Modello 0: 0.010, 0.20, 0.00000000000000000000, 0.2252341062\n",
      "Modello 0: 0.010, 0.30, 0.00000000000000000000, 0.2252341062\n",
      "Modello 0: 0.010, 0.40, 0.00000000000000000000, 0.2252341062\n",
      "Modello 0: 0.010, 0.50, 0.00000000000000000000, 0.2252341062\n",
      "Modello 0: 0.010, 0.60, 0.00000000000000000000, 0.2252341062\n",
      "Modello 0: 0.010, 0.70, 0.00000000000000000000, 0.2252341062\n",
      "Modello 0: 0.010, 0.80, 0.00000000000000000000, 0.2252341062\n",
      "Modello 0: 0.010, 0.90, 0.00000000000000000000, 0.2252341062\n",
      "Modello 0: 0.010, 1.00, 0.00000000000000000000, 0.2252341062\n",
      "Modello 0: 0.020, 0.10, 0.00000000000000000000, 0.2252341062\n",
      "Modello 0: 0.020, 0.20, 0.00000000000000000000, 0.2252341062\n",
      "Modello 0: 0.020, 0.30, 0.00000000000000000000, 0.2252341062\n",
      "Modello 0: 0.020, 0.40, 0.00000000000000000000, 0.2252341062\n",
      "Modello 0: 0.020, 0.50, 0.00000000000000000000, 0.2252341062\n",
      "Modello 0: 0.020, 0.60, 0.00000000000000000000, 0.2252341062\n",
      "Modello 0: 0.020, 0.70, 0.00000000000000000000, 0.2252341062\n",
      "Modello 0: 0.020, 0.80, 0.00000000000000000000, 0.2252341062\n",
      "Modello 0: 0.020, 0.90, 0.00000000000000000000, 0.2252341062\n",
      "Modello 0: 0.020, 1.00, 0.00000000000000000000, 0.2252341062\n",
      "Modello 1: 0.001, 0.10, 0.00518134715025906755, 0.2168015093\n",
      "Modello 1: 0.001, 0.20, 0.00518134715025906755, 0.2168015093\n",
      "Modello 1: 0.001, 0.30, 0.00518134715025906755, 0.2168015093\n",
      "Modello 1: 0.001, 0.40, 0.00518134715025906755, 0.2168015093\n",
      "Modello 1: 0.001, 0.50, 0.00518134715025906755, 0.2168015093\n",
      "Modello 1: 0.001, 0.60, 0.00518134715025906755, 0.2168015093\n",
      "Modello 1: 0.001, 0.70, 0.00518134715025906755, 0.2168015093\n",
      "Modello 1: 0.001, 0.80, 0.00518134715025906755, 0.2168015093\n",
      "Modello 1: 0.001, 0.90, 0.00518134715025906755, 0.2168015093\n",
      "Modello 1: 0.001, 1.00, 0.00518134715025906755, 0.2168015093\n",
      "Modello 1: 0.005, 0.10, 0.00518134715025906755, 0.2168015093\n",
      "Modello 1: 0.005, 0.20, 0.00518134715025906755, 0.2168015093\n",
      "Modello 1: 0.005, 0.30, 0.00518134715025906755, 0.2168015093\n",
      "Modello 1: 0.005, 0.40, 0.00518134715025906755, 0.2168015093\n",
      "Modello 1: 0.005, 0.50, 0.00518134715025906755, 0.2168015093\n",
      "Modello 1: 0.005, 0.60, 0.00518134715025906755, 0.2168015093\n",
      "Modello 1: 0.005, 0.70, 0.00518134715025906755, 0.2168015093\n",
      "Modello 1: 0.005, 0.80, 0.00518134715025906755, 0.2168015093\n",
      "Modello 1: 0.005, 0.90, 0.00518134715025906755, 0.2168015093\n",
      "Modello 1: 0.005, 1.00, 0.00518134715025906755, 0.2168015093\n",
      "Modello 1: 0.010, 0.10, 0.00518134715025906755, 0.2168015093\n",
      "Modello 1: 0.010, 0.20, 0.00518134715025906755, 0.2168015093\n",
      "Modello 1: 0.010, 0.30, 0.00518134715025906755, 0.2168015093\n",
      "Modello 1: 0.010, 0.40, 0.00518134715025906755, 0.2168015093\n",
      "Modello 1: 0.010, 0.50, 0.00518134715025906755, 0.2168015093\n",
      "Modello 1: 0.010, 0.60, 0.00518134715025906755, 0.2168015093\n",
      "Modello 1: 0.010, 0.70, 0.00518134715025906755, 0.2168015093\n",
      "Modello 1: 0.010, 0.80, 0.00518134715025906755, 0.2168015093\n",
      "Modello 1: 0.010, 0.90, 0.00518134715025906755, 0.2168015093\n",
      "Modello 1: 0.010, 1.00, 0.00518134715025906755, 0.2168015093\n",
      "Modello 1: 0.020, 0.10, 0.00518134715025906755, 0.2168015093\n",
      "Modello 1: 0.020, 0.20, 0.00518134715025906755, 0.2168015093\n",
      "Modello 1: 0.020, 0.30, 0.00518134715025906755, 0.2168015093\n",
      "Modello 1: 0.020, 0.40, 0.00518134715025906755, 0.2168015093\n",
      "Modello 1: 0.020, 0.50, 0.00518134715025906755, 0.2168015093\n",
      "Modello 1: 0.020, 0.60, 0.00518134715025906755, 0.2168015093\n",
      "Modello 1: 0.020, 0.70, 0.00518134715025906755, 0.2168015093\n",
      "Modello 1: 0.020, 0.80, 0.00518134715025906755, 0.2168015093\n",
      "Modello 1: 0.020, 0.90, 0.00518134715025906755, 0.2168015093\n",
      "Modello 1: 0.020, 1.00, 0.00518134715025906755, 0.2168015093\n",
      "Modello 2: 0.001, 0.10, 0.02072538860103627020, 0.8918007856\n",
      "Modello 2: 0.001, 0.20, 0.01243523316062176108, 0.8884643207\n",
      "Modello 2: 0.001, 0.30, 0.01036269430051813510, 0.8851278558\n",
      "Modello 2: 0.001, 0.40, 0.00932642487046632038, 0.8817913909\n",
      "Modello 2: 0.001, 0.50, 0.00725388601036269440, 0.8784549261\n",
      "Modello 2: 0.001, 0.60, 0.00518134715025906755, 0.8751184612\n",
      "Modello 2: 0.001, 0.70, 0.00518134715025906755, 0.8717819963\n",
      "Modello 2: 0.001, 0.80, 0.00414507772020725369, 0.8684455315\n",
      "Modello 2: 0.001, 0.90, 0.00414507772020725369, 0.8651090666\n",
      "Modello 2: 0.001, 1.00, 0.00414507772020725369, 0.8617726017\n",
      "Modello 2: 0.005, 0.10, 0.00725388601036269440, 0.8784549261\n",
      "Modello 2: 0.005, 0.20, 0.00414507772020725369, 0.8617726017\n",
      "Modello 2: 0.005, 0.30, 0.00414507772020725369, 0.8450902774\n",
      "Modello 2: 0.005, 0.40, 0.00414507772020725369, 0.8284079530\n",
      "Modello 2: 0.005, 0.50, 0.00414507772020725369, 0.8117256286\n",
      "Modello 2: 0.005, 0.60, 0.00414507772020725369, 0.7950433043\n",
      "Modello 2: 0.005, 0.70, 0.00414507772020725369, 0.7783609799\n",
      "Modello 2: 0.005, 0.80, 0.00414507772020725369, 0.7616786556\n",
      "Modello 2: 0.005, 0.90, 0.00414507772020725369, 0.7449963312\n",
      "Modello 2: 0.005, 1.00, 0.00414507772020725369, 0.7283140069\n",
      "Modello 2: 0.010, 0.10, 0.00414507772020725369, 0.8617726017\n",
      "Modello 2: 0.010, 0.20, 0.00414507772020725369, 0.8284079530\n",
      "Modello 2: 0.010, 0.30, 0.00414507772020725369, 0.7950433043\n",
      "Modello 2: 0.010, 0.40, 0.00414507772020725369, 0.7616786556\n",
      "Modello 2: 0.010, 0.50, 0.00414507772020725369, 0.7283140069\n",
      "Modello 2: 0.010, 0.60, 0.00414507772020725369, 0.6949493581\n",
      "Modello 2: 0.010, 0.70, 0.00414507772020725369, 0.6615847094\n",
      "Modello 2: 0.010, 0.80, 0.00414507772020725369, 0.6282200607\n",
      "Modello 2: 0.010, 0.90, 0.00414507772020725369, 0.5948554120\n",
      "Modello 2: 0.010, 1.00, 0.00414507772020725369, 0.5614907633\n",
      "Modello 2: 0.020, 0.10, 0.00414507772020725369, 0.8284079530\n",
      "Modello 2: 0.020, 0.20, 0.00414507772020725369, 0.7616786556\n",
      "Modello 2: 0.020, 0.30, 0.00414507772020725369, 0.6949493581\n",
      "Modello 2: 0.020, 0.40, 0.00414507772020725369, 0.6282200607\n",
      "Modello 2: 0.020, 0.50, 0.00414507772020725369, 0.5614907633\n",
      "Modello 2: 0.020, 0.60, 0.00310880829015544027, 0.4947614658\n",
      "Modello 2: 0.020, 0.70, 0.00310880829015544027, 0.4280321684\n",
      "Modello 2: 0.020, 0.80, 0.00310880829015544027, 0.3613028710\n",
      "Modello 2: 0.020, 0.90, 0.00310880829015544027, 0.2945735736\n",
      "Modello 2: 0.020, 1.00, 0.00310880829015544027, 0.2278442761\n"
     ]
    }
   ],
   "source": [
    "fprs = [0.001,0.005,0.01,0.02]\n",
    "fpr_ratios = [0.1*i for i in range(1,11)]\n",
    "false_negs = {}\n",
    "taus = {}\n",
    "\n",
    "# Per ognuno dei modelli salvo numero di falsi negativi del classificatore e tau ottimale nelle relative strutture sulla\n",
    "# base del fprs e fpr_ratio target.\n",
    "for i in range(3):\n",
    "  false_negs[i] = {}\n",
    "  taus[i] = {}\n",
    "  for fpr in fprs:\n",
    "    for fpr_ratio in fpr_ratios:\n",
    "      false_negs[i][(fpr,fpr_ratio)], taus[i][(fpr,fpr_ratio)] = build_LBF_classifier(models[i], fpr*fpr_ratio)\n",
    "      # Cambiata print\n",
    "      print(\"Modello %d: %.3f, %.2f, %.20f, %.10f\" % (i, fpr, fpr_ratio, len(false_negs[i][(fpr,fpr_ratio)])/len(phishing_URLs), taus[i][(fpr,fpr_ratio)]))\n",
    "      # print(len(false_negs[i][(fpr,fpr_ratio)])/len(phishing_URLs), taus[i][(fpr,fpr_ratio)])"
   ]
  },
  {
   "cell_type": "code",
   "execution_count": null,
   "metadata": {
    "id": "OYaqTtedNTmR"
   },
   "outputs": [],
   "source": [
    "# Salva risultati della cella precedente, ma poi li usa?\n",
    "np.save(loc+\"false_negs\", false_negs)\n",
    "np.save(loc+\"taus\", taus)"
   ]
  },
  {
   "cell_type": "code",
   "execution_count": null,
   "metadata": {
    "colab": {
     "base_uri": "https://localhost:8080/"
    },
    "id": "sPpIL6MEVW_A",
    "outputId": "64e2b502-ee55-4022-abb2-361596b4d9d3"
   },
   "outputs": [
    {
     "name": "stdout",
     "output_type": "stream",
     "text": [
      "Numero falsi negativi = 0\n",
      "Numero falsi negativi = 0\n",
      "Numero falsi negativi = 0\n",
      "Numero falsi negativi = 0\n",
      "Numero falsi negativi = 0\n",
      "Numero falsi negativi = 0\n",
      "Numero falsi negativi = 0\n",
      "Numero falsi negativi = 0\n",
      "Numero falsi negativi = 0\n",
      "Numero falsi negativi = 0\n",
      "Numero falsi negativi = 0\n",
      "Numero falsi negativi = 0\n",
      "Numero falsi negativi = 0\n",
      "Numero falsi negativi = 0\n",
      "Numero falsi negativi = 0\n",
      "Numero falsi negativi = 0\n",
      "Numero falsi negativi = 0\n",
      "Numero falsi negativi = 0\n",
      "Numero falsi negativi = 0\n",
      "Numero falsi negativi = 0\n",
      "Numero falsi negativi = 0\n",
      "Numero falsi negativi = 0\n",
      "Numero falsi negativi = 0\n",
      "Numero falsi negativi = 0\n",
      "Numero falsi negativi = 0\n",
      "Numero falsi negativi = 0\n",
      "Numero falsi negativi = 0\n",
      "Numero falsi negativi = 0\n",
      "Numero falsi negativi = 0\n",
      "Numero falsi negativi = 0\n",
      "Numero falsi negativi = 0\n",
      "Numero falsi negativi = 0\n",
      "Numero falsi negativi = 0\n",
      "Numero falsi negativi = 0\n",
      "Numero falsi negativi = 0\n",
      "Numero falsi negativi = 0\n",
      "0.001 0.04 9.0 6.628990173339844e-05\n",
      "0.001 0.04 9.25 5.859375e-05\n",
      "0.001 0.04 9.375 5.1140785217285156e-05\n",
      "0.001 0.04 9.625 4.8198699951171874e-05\n",
      "0.001 0.04 9.875 4.8947334289550784e-05\n",
      "0.001 0.04 10.125 5.010128021240234e-05\n",
      "0.001 0.04 10.5 4.75311279296875e-05\n",
      "0.001 0.04 11.0 4.953384399414062e-05\n",
      "0.001 0.04 11.875 5.2623748779296875e-05\n",
      "0.005 0.04 7.0 7.960319519042969e-05\n",
      "0.005 0.04 7.125 5.085945129394531e-05\n",
      "0.005 0.04 7.25 4.919052124023437e-05\n",
      "0.005 0.04 7.5 4.923820495605469e-05\n",
      "0.005 0.04 7.75 4.8317909240722655e-05\n",
      "0.005 0.04 8.0 4.8575401306152346e-05\n",
      "0.005 0.04 8.375 4.9567222595214845e-05\n",
      "0.005 0.04 8.875 4.8003196716308595e-05\n",
      "0.005 0.04 9.875 5.283832550048828e-05\n",
      "0.01 0.04 6.125 5.31768798828125e-05\n",
      "0.01 0.04 6.25 5.470752716064453e-05\n",
      "0.01 0.06 6.375 5.6290626525878905e-05\n",
      "0.01 0.06 6.625 5.069732666015625e-05\n",
      "0.01 0.04 6.875 5.105495452880859e-05\n",
      "0.01 0.04 7.125 5.0754547119140624e-05\n",
      "0.01 0.04 7.5 5.0325393676757815e-05\n",
      "0.01 0.04 8.0 5.220413208007813e-05\n",
      "0.01 0.04 8.875 8.034229278564454e-05\n",
      "0.02 0.06 5.125 5.001544952392578e-05\n",
      "0.02 0.04 5.25 5.293369293212891e-05\n",
      "0.02 0.04 5.5 5.1069259643554685e-05\n",
      "0.02 0.04 5.625 5.166530609130859e-05\n",
      "0.02 0.06 5.875 5.131244659423828e-05\n",
      "0.02 0.04 6.25 7.250785827636719e-05\n",
      "0.02 0.06 6.625 5.1622390747070315e-05\n",
      "0.02 0.04 7.125 5.1512718200683594e-05\n",
      "0.02 0.04 8.0 5.3353309631347657e-05\n",
      "0.001 0.0 36.375 8.18777084350586e-05\n",
      "0.001 0.0 22.25 5.475521087646484e-05\n",
      "0.001 0.0 18.875 5.302906036376953e-05\n",
      "0.001 0.02 17.25 5.728721618652344e-05\n",
      "0.001 0.02 13.75 5.5594444274902345e-05\n",
      "0.001 0.02 10.125 5.215644836425781e-05\n",
      "0.001 0.02 10.5 5.272388458251953e-05\n",
      "0.001 0.02 8.75 5.0725936889648435e-05\n",
      "0.001 0.02 9.5 5.679607391357422e-05\n",
      "0.005 0.04 9.75 5.513668060302734e-05\n",
      "0.005 0.02 5.625 5.177021026611328e-05\n",
      "0.005 0.04 5.875 5.1069259643554685e-05\n",
      "0.005 0.02 6.0 9.682178497314454e-05\n",
      "0.005 0.02 6.125 5.300521850585937e-05\n",
      "0.005 0.02 6.375 5.3734779357910155e-05\n",
      "0.005 0.02 6.75 5.8641433715820314e-05\n",
      "0.005 0.04 7.125 9.876728057861328e-05\n",
      "0.005 0.02 7.875 5.412578582763672e-05\n",
      "0.01 0.02 4.875 5.6695938110351565e-05\n",
      "0.01 0.02 5.0 4.891395568847656e-05\n",
      "0.01 0.04 5.125 5.33294677734375e-05\n",
      "0.01 0.04 5.25 5.0244331359863283e-05\n",
      "0.01 0.02 5.5 4.946231842041016e-05\n",
      "0.01 0.02 5.625 4.8542022705078124e-05\n",
      "0.01 0.02 6.0 4.976749420166016e-05\n",
      "0.01 0.02 6.375 4.95147705078125e-05\n",
      "0.01 0.04 7.125 5.132198333740234e-05\n",
      "0.02 0.02 4.125 4.856586456298828e-05\n",
      "0.02 0.06 4.25 4.981517791748047e-05\n",
      "0.02 0.1 4.375 4.966259002685547e-05\n",
      "0.02 0.06 4.5 7.56692886352539e-05\n",
      "0.02 0.06 4.75 5.354404449462891e-05\n",
      "0.02 0.02 3.75 5.10406494140625e-05\n",
      "0.02 0.02 3.875 0.00010576725006103516\n",
      "0.02 0.04 4.25 5.04302978515625e-05\n",
      "0.02 0.02 4.75 4.9114227294921875e-05\n"
     ]
    }
   ],
   "source": [
    "LBF_backups = {}\n",
    "\n",
    "# Per ognuno dei modelli salvo il filtro di backup costruito sulla base del fpr e fpr_ratio target\n",
    "for i in range(3):\n",
    "  LBF_backups[i] = {}\n",
    "  for fpr in fprs:\n",
    "    for fpr_ratio in fpr_ratios:#\n",
    "      try:\n",
    "        LBF_backups[i][(fpr,fpr_ratio)] = build_LBF_backup(false_negs[i][(fpr,fpr_ratio)], fpr, fpr*fpr_ratio)\n",
    "        if(LBF_backups[i][(fpr,fpr_ratio)] =='error'):\n",
    "          continue\n",
    "        fpr0, BF_size, t = test_LBF(models[i], LBF_backups[i][(fpr,fpr_ratio)], taus[i][(fpr,fpr_ratio)])\n",
    "        print(fpr, fpr0, BF_size, t)\n",
    "        LBF = {\"FPR\": fpr0, \"size\": BF_size+model_sizes[i], \"time\": t}\n",
    "        np.save(loc+\"LBF_hid\"+str(h_sizes[i])+\"_FPR\"+str(fpr)+\"_ratio\"+str(fpr_ratio), LBF)\n",
    "      except:\n",
    "        # Se il numero di falsi negativi é 0 sollevo eccezione e non salvo\n",
    "        # Non controllata inizialmente probabilbente perché é stata esclusa la possibilitá di avere fn = 0 con dataset grandi\n",
    "        print(\"Numero falsi negativi = 0\")"
   ]
  },
  {
   "cell_type": "code",
   "execution_count": null,
   "metadata": {
    "id": "79ihIfTvvqJb"
   },
   "outputs": [],
   "source": [
    "fnrs = {}\n",
    "# Per ognuno dei modelli costruisco un dataframe in cui salvo il rate di falsi negativi per ogni fpr e fprs_ratio\n",
    "for i in range(3):\n",
    "  fnrs[i] = pd.DataFrame(index=fpr_ratios, columns=fprs)\n",
    "  for fpr in fprs:\n",
    "    for fpr_ratio in fpr_ratios:\n",
    "      fnrs[i].loc[fpr_ratio,fpr] = len(false_negs[i][(fpr,fpr_ratio)])/len(phishing_URLs)"
   ]
  },
  {
   "cell_type": "code",
   "execution_count": null,
   "metadata": {
    "colab": {
     "base_uri": "https://localhost:8080/"
    },
    "id": "l5BO4R76ex2f",
    "outputId": "a55dd412-1096-47cb-ccbb-c80a9e415be4"
   },
   "outputs": [
    {
     "name": "stdout",
     "output_type": "stream",
     "text": [
      "1.0 9683.0 7.746219635009765e-05\n",
      "1.0 9683.0 5.694389343261719e-05\n",
      "1.0 9683.0 7.113456726074219e-05\n",
      "1.0 9683.0 0.00012012004852294922\n",
      "1.0 9683.0 4.9104690551757814e-05\n",
      "1.0 9683.0 4.896163940429688e-05\n",
      "1.0 9683.0 4.830360412597656e-05\n",
      "1.0 9683.0 5.179405212402344e-05\n",
      "1.0 9683.0 4.70733642578125e-05\n",
      "File assente, numero falsi negativi 0\n",
      "1.0 9683.0 4.7965049743652345e-05\n",
      "1.0 9683.0 4.890918731689453e-05\n",
      "1.0 9683.0 4.711151123046875e-05\n",
      "1.0 9683.0 4.708290100097656e-05\n",
      "1.0 9683.0 4.835128784179688e-05\n",
      "1.0 9683.0 4.786968231201172e-05\n",
      "1.0 9683.0 4.6677589416503907e-05\n",
      "1.0 9683.0 4.98199462890625e-05\n",
      "1.0 9683.0 4.9223899841308596e-05\n",
      "File assente, numero falsi negativi 0\n",
      "1.0 9683.0 4.7659873962402345e-05\n",
      "1.0 9683.0 4.7059059143066405e-05\n",
      "1.0 9683.0 5.043506622314453e-05\n",
      "1.0 9683.0 4.72259521484375e-05\n",
      "1.0 9683.0 5.466461181640625e-05\n",
      "1.0 9683.0 4.838943481445313e-05\n",
      "1.0 9683.0 5.798816680908203e-05\n",
      "1.0 9683.0 4.985809326171875e-05\n",
      "1.0 9683.0 4.9467086791992185e-05\n",
      "File assente, numero falsi negativi 0\n",
      "1.0 9683.0 5.161762237548828e-05\n",
      "1.0 9683.0 4.914760589599609e-05\n",
      "1.0 9683.0 5.3195953369140626e-05\n",
      "1.0 9683.0 5.017280578613281e-05\n",
      "1.0 9683.0 5.011081695556641e-05\n",
      "1.0 9683.0 5.458354949951172e-05\n",
      "1.0 9683.0 4.900932312011719e-05\n",
      "1.0 9683.0 4.838943481445313e-05\n",
      "1.0 9683.0 4.9810409545898435e-05\n",
      "File assente, numero falsi negativi 0\n",
      "0.04 6556.0 6.628990173339844e-05\n",
      "0.04 6556.25 5.859375e-05\n",
      "0.04 6556.375 5.1140785217285156e-05\n",
      "0.04 6556.625 4.8198699951171874e-05\n",
      "0.04 6556.875 4.8947334289550784e-05\n",
      "0.04 6557.125 5.010128021240234e-05\n",
      "0.04 6557.5 4.75311279296875e-05\n",
      "0.04 6558.0 4.953384399414062e-05\n",
      "0.04 6558.875 5.2623748779296875e-05\n",
      "File assente, numero falsi negativi 0\n",
      "0.04 6554.0 7.960319519042969e-05\n",
      "0.04 6554.125 5.085945129394531e-05\n",
      "0.04 6554.25 4.919052124023437e-05\n",
      "0.04 6554.5 4.923820495605469e-05\n",
      "0.04 6554.75 4.8317909240722655e-05\n",
      "0.04 6555.0 4.8575401306152346e-05\n",
      "0.04 6555.375 4.9567222595214845e-05\n",
      "0.04 6555.875 4.8003196716308595e-05\n",
      "0.04 6556.875 5.283832550048828e-05\n",
      "File assente, numero falsi negativi 0\n",
      "0.04 6553.125 5.31768798828125e-05\n",
      "0.04 6553.25 5.470752716064453e-05\n",
      "0.06 6553.375 5.6290626525878905e-05\n",
      "0.06 6553.625 5.069732666015625e-05\n",
      "0.04 6553.875 5.105495452880859e-05\n",
      "0.04 6554.125 5.0754547119140624e-05\n",
      "0.04 6554.5 5.0325393676757815e-05\n",
      "0.04 6555.0 5.220413208007813e-05\n",
      "0.04 6555.875 8.034229278564454e-05\n",
      "File assente, numero falsi negativi 0\n",
      "0.06 6552.125 5.001544952392578e-05\n",
      "0.04 6552.25 5.293369293212891e-05\n",
      "0.04 6552.5 5.1069259643554685e-05\n",
      "0.04 6552.625 5.166530609130859e-05\n",
      "0.06 6552.875 5.131244659423828e-05\n",
      "0.04 6553.25 7.250785827636719e-05\n",
      "0.06 6553.625 5.1622390747070315e-05\n",
      "0.04 6554.125 5.1512718200683594e-05\n",
      "0.04 6555.0 5.3353309631347657e-05\n",
      "File assente, numero falsi negativi 0\n",
      "0.0 5623.375 8.18777084350586e-05\n",
      "0.0 5609.25 5.475521087646484e-05\n",
      "0.0 5605.875 5.302906036376953e-05\n",
      "0.02 5604.25 5.728721618652344e-05\n",
      "0.02 5600.75 5.5594444274902345e-05\n",
      "0.02 5597.125 5.215644836425781e-05\n",
      "0.02 5597.5 5.272388458251953e-05\n",
      "0.02 5595.75 5.0725936889648435e-05\n",
      "0.02 5596.5 5.679607391357422e-05\n",
      "File assente, numero falsi negativi 0\n",
      "0.04 5596.75 5.513668060302734e-05\n",
      "0.02 5592.625 5.177021026611328e-05\n",
      "0.04 5592.875 5.1069259643554685e-05\n",
      "0.02 5593.0 9.682178497314454e-05\n",
      "0.02 5593.125 5.300521850585937e-05\n",
      "0.02 5593.375 5.3734779357910155e-05\n",
      "0.02 5593.75 5.8641433715820314e-05\n",
      "0.04 5594.125 9.876728057861328e-05\n",
      "0.02 5594.875 5.412578582763672e-05\n",
      "File assente, numero falsi negativi 0\n",
      "0.02 5591.875 5.6695938110351565e-05\n",
      "0.02 5592.0 4.891395568847656e-05\n",
      "0.04 5592.125 5.33294677734375e-05\n",
      "0.04 5592.25 5.0244331359863283e-05\n",
      "0.02 5592.5 4.946231842041016e-05\n",
      "0.02 5592.625 4.8542022705078124e-05\n",
      "0.02 5593.0 4.976749420166016e-05\n",
      "0.02 5593.375 4.95147705078125e-05\n",
      "0.04 5594.125 5.132198333740234e-05\n",
      "File assente, numero falsi negativi 0\n",
      "0.02 5591.125 4.856586456298828e-05\n",
      "0.06 5591.25 4.981517791748047e-05\n",
      "0.1 5591.375 4.966259002685547e-05\n",
      "0.06 5591.5 7.56692886352539e-05\n",
      "0.06 5591.75 5.354404449462891e-05\n",
      "0.02 5590.75 5.10406494140625e-05\n",
      "0.02 5590.875 0.00010576725006103516\n",
      "0.04 5591.25 5.04302978515625e-05\n",
      "0.02 5591.75 4.9114227294921875e-05\n",
      "File assente, numero falsi negativi 0\n"
     ]
    }
   ],
   "source": [
    "true_fpr_LBF = {}\n",
    "sizes_LBF = {}\n",
    "times_LBF = {}\n",
    "# Per ogni modello salvo in base a fpr, fpr_ratio target l'frp empirico, la grandezza ed il tempo di accesso per elemento\n",
    "# del LBF relativa\n",
    "# Utile per i grafici successivi\n",
    "for i in range(3):\n",
    "  true_fpr_LBF[i] = pd.DataFrame(index = fpr_ratios, columns = fprs)\n",
    "  sizes_LBF[i] = pd.DataFrame(index = fpr_ratios, columns = fprs)\n",
    "  times_LBF[i] = pd.DataFrame(index = fpr_ratios, columns = fprs)\n",
    "  for fpr in fprs:\n",
    "    for fpr_ratio in fpr_ratios:\n",
    "      try:\n",
    "        LBF = np.load(loc+\"LBF_hid\"+str(h_sizes[i])+\"_FPR\"+str(fpr)+\"_ratio\"+str(fpr_ratio)+\".npy\", allow_pickle=True).item()\n",
    "        true_fpr_LBF[i].loc[fpr_ratio,fpr] = LBF['FPR']\n",
    "        sizes_LBF[i].loc[fpr_ratio,fpr] = LBF['size']\n",
    "        times_LBF[i].loc[fpr_ratio,fpr] = LBF['time']\n",
    "        print(LBF['FPR'], LBF['size'], LBF['time'])\n",
    "      except:\n",
    "        # Aggiunta except utile nel caso in cui il file non fosse stato salvato perché fn = 0\n",
    "        print(\"File assente, numero falsi negativi 0\")\n",
    "        continue\n"
   ]
  },
  {
   "cell_type": "code",
   "execution_count": null,
   "metadata": {
    "id": "S8kiqjdpZt3A"
   },
   "outputs": [],
   "source": [
    "#plot_loc = \"/content/gdrive/My Drive/College/current classes/CS 222 fall 2018/CS222 Project/plots/\"\n",
    "plot_loc = \"/content/gdrive/My Drive/trained_NN/plots/\""
   ]
  },
  {
   "cell_type": "code",
   "execution_count": null,
   "metadata": {
    "colab": {
     "base_uri": "https://localhost:8080/",
     "height": 175
    },
    "id": "DitHYBkDv1jA",
    "outputId": "e9a9a343-18f3-4af4-a936-166e2dc066ba"
   },
   "outputs": [
    {
     "data": {
      "image/png": "[encoded data removed]",
      "text/plain": [
       "<Figure size 864x216 with 3 Axes>"
      ]
     },
     "metadata": {
      "needs_background": "light",
      "tags": []
     },
     "output_type": "display_data"
    }
   ],
   "source": [
    "f,ax = plt.subplots(1,3,figsize=(12,3))\n",
    "for i in range(3):\n",
    "  fnrs[i].plot(ax=ax[i])\n",
    "  ax[i].set_xlabel(\"Classifier FPR ratio \"+r\"$\\epsilon_\\tau/\\epsilon$\")\n",
    "  ax[i].set_ylabel(\"Classifier False Negative Rate\")\n",
    "  ax[i].set_title(\"LBF with \"+str(h_sizes[i])+\" dimensional GRU\")\n",
    "  ax[i].legend(fontsize='xx-small')\n",
    "plt.tight_layout()\n",
    "plt.show()\n",
    "f.savefig(plot_loc+\"LBF_classifier_FNR.png\")\n",
    "# FPR_tau/FPR forced to stay between 0 and 1, "
   ]
  },
  {
   "cell_type": "code",
   "execution_count": null,
   "metadata": {
    "colab": {
     "base_uri": "https://localhost:8080/",
     "height": 175
    },
    "id": "KS1bR-N7XO9P",
    "outputId": "f07a4e8e-321e-43bc-aa2e-41d3fabdcabc"
   },
   "outputs": [
    {
     "data": {
      "image/png": "[encoded data removed]",
      "text/plain": [
       "<Figure size 864x216 with 3 Axes>"
      ]
     },
     "metadata": {
      "needs_background": "light",
      "tags": []
     },
     "output_type": "display_data"
    }
   ],
   "source": [
    "f, ax = plt.subplots(1,3,figsize=(12,3))\n",
    "for i in range(3):\n",
    "  true_fpr_LBF[i].plot(ax=ax[i])\n",
    "  ax[i].set_xlabel(\"Classifier FPR ratio \"+r\"$\\epsilon_\\tau/\\epsilon$\")\n",
    "  ax[i].set_ylabel(\"Overall FPR\")\n",
    "  ax[i].set_title(\"LBF with \"+str(h_sizes[i])+\" dimensional GRU\")\n",
    "  ax[i].legend(fontsize='xx-small', loc='upper right')\n",
    "plt.tight_layout()\n",
    "plt.show()\n",
    "f.savefig(plot_loc+\"LBF_fpr.png\")\n",
    "#regardless of what the desired FPR is, the curve looks the same??"
   ]
  },
  {
   "cell_type": "code",
   "execution_count": null,
   "metadata": {
    "colab": {
     "base_uri": "https://localhost:8080/",
     "height": 175
    },
    "id": "h60T3arRYVkz",
    "outputId": "63309f88-167a-4a03-a6fb-304bbd69365a"
   },
   "outputs": [
    {
     "data": {
      "image/png": "[encoded data removed]",
      "text/plain": [
       "<Figure size 864x216 with 3 Axes>"
      ]
     },
     "metadata": {
      "needs_background": "light",
      "tags": []
     },
     "output_type": "display_data"
    }
   ],
   "source": [
    "f, ax = plt.subplots(1,3,figsize=(12,3))\n",
    "for i in range(3):\n",
    "  sizes_LBF[i].plot(ax=ax[i])\n",
    "  ax[i].set_xlabel(\"Classifier FPR ratio \"+r\"$\\epsilon_\\tau/\\epsilon$\")\n",
    "  ax[i].set_ylabel(\"Total Size of LBF\")\n",
    "  ax[i].set_title(\"LBF with \"+str(h_sizes[i])+\" dimensional GRU\")\n",
    "  ax[i].legend(fontsize='xx-small', loc='upper left')\n",
    "plt.tight_layout()\n",
    "plt.show()\n",
    "f.savefig(plot_loc+\"LBF_size.png\")\n",
    "# seems most optimal at 0.5"
   ]
  },
  {
   "cell_type": "markdown",
   "metadata": {
    "id": "RkeB2L-UXxvZ"
   },
   "source": [
    "# $\\tau$ analysis for SLBF"
   ]
  },
  {
   "cell_type": "code",
   "execution_count": null,
   "metadata": {
    "colab": {
     "base_uri": "https://localhost:8080/"
    },
    "id": "kxM8obK41gHT",
    "outputId": "7c73f4fd-cbb3-481a-a4f9-5f6a314df1fe"
   },
   "outputs": [
    {
     "name": "stdout",
     "output_type": "stream",
     "text": [
      "Modello 0: 0.001, 1.00, 0.00000000000000000000, 0.2252341062\n",
      "Modello 0: 0.001, 2.00, 0.00000000000000000000, 0.2252341062\n",
      "Modello 0: 0.001, 3.00, 0.00000000000000000000, 0.2252341062\n",
      "Modello 0: 0.001, 4.00, 0.00000000000000000000, 0.2252341062\n",
      "Modello 0: 0.001, 5.00, 0.00000000000000000000, 0.2252341062\n",
      "Modello 0: 0.001, 6.00, 0.00000000000000000000, 0.2252341062\n",
      "Modello 0: 0.001, 7.00, 0.00000000000000000000, 0.2252341062\n",
      "Modello 0: 0.001, 8.00, 0.00000000000000000000, 0.2252341062\n",
      "Modello 0: 0.001, 9.00, 0.00000000000000000000, 0.2252341062\n",
      "Modello 0: 0.001, 10.00, 0.00000000000000000000, 0.2252341062\n",
      "Modello 0: 0.005, 1.00, 0.00000000000000000000, 0.2252341062\n",
      "Modello 0: 0.005, 2.00, 0.00000000000000000000, 0.2252341062\n",
      "Modello 0: 0.005, 3.00, 0.00000000000000000000, 0.2252341062\n",
      "Modello 0: 0.005, 4.00, 0.00000000000000000000, 0.2252341062\n",
      "Modello 0: 0.005, 5.00, 0.00000000000000000000, 0.2252341062\n",
      "Modello 0: 0.005, 6.00, 0.00000000000000000000, 0.2252341062\n",
      "Modello 0: 0.005, 7.00, 0.00000000000000000000, 0.2252341062\n",
      "Modello 0: 0.005, 8.00, 0.00000000000000000000, 0.2252341062\n",
      "Modello 0: 0.005, 9.00, 0.00000000000000000000, 0.2252341062\n",
      "Modello 0: 0.005, 10.00, 0.00000000000000000000, 0.2252341062\n",
      "Modello 0: 0.010, 1.00, 0.00000000000000000000, 0.2252341062\n",
      "Modello 0: 0.010, 2.00, 0.00000000000000000000, 0.2252341062\n",
      "Modello 0: 0.010, 3.00, 0.00000000000000000000, 0.2252341062\n",
      "Modello 0: 0.010, 4.00, 0.00000000000000000000, 0.2252341062\n",
      "Modello 0: 0.010, 5.00, 0.00000000000000000000, 0.2252341062\n",
      "Modello 0: 0.010, 6.00, 0.00000000000000000000, 0.2252341062\n",
      "Modello 0: 0.010, 7.00, 0.00000000000000000000, 0.2252341062\n",
      "Modello 0: 0.010, 8.00, 0.00000000000000000000, 0.2252341062\n",
      "Modello 0: 0.010, 9.00, 0.00000000000000000000, 0.2252341062\n",
      "Modello 0: 0.010, 10.00, 0.00000000000000000000, 0.2252341062\n",
      "Modello 0: 0.020, 1.00, 0.00000000000000000000, 0.2252341062\n",
      "Modello 0: 0.020, 2.00, 0.00000000000000000000, 0.2252341062\n",
      "Modello 0: 0.020, 3.00, 0.00000000000000000000, 0.2252341062\n",
      "Modello 0: 0.020, 4.00, 0.00000000000000000000, 0.2252341062\n",
      "Modello 0: 0.020, 5.00, 0.00000000000000000000, 0.2252341062\n",
      "Modello 0: 0.020, 6.00, 0.00000000000000000000, 0.2252341062\n",
      "Modello 0: 0.020, 7.00, 0.00000000000000000000, 0.2252341062\n",
      "Modello 0: 0.020, 8.00, 0.00000000000000000000, 0.2252341062\n",
      "Modello 0: 0.020, 9.00, 0.00000000000000000000, 0.2252341062\n",
      "Modello 0: 0.020, 10.00, 0.00000000000000000000, 0.2252341062\n",
      "Modello 1: 0.001, 1.00, 0.00518134715025906755, 0.2168015093\n",
      "Modello 1: 0.001, 2.00, 0.00518134715025906755, 0.2168015093\n",
      "Modello 1: 0.001, 3.00, 0.00518134715025906755, 0.2168015093\n",
      "Modello 1: 0.001, 4.00, 0.00518134715025906755, 0.2168015093\n",
      "Modello 1: 0.001, 5.00, 0.00518134715025906755, 0.2168015093\n",
      "Modello 1: 0.001, 6.00, 0.00518134715025906755, 0.2168015093\n",
      "Modello 1: 0.001, 7.00, 0.00518134715025906755, 0.2168015093\n",
      "Modello 1: 0.001, 8.00, 0.00518134715025906755, 0.2168015093\n",
      "Modello 1: 0.001, 9.00, 0.00518134715025906755, 0.2168015093\n",
      "Modello 1: 0.001, 10.00, 0.00518134715025906755, 0.2168015093\n",
      "Modello 1: 0.005, 1.00, 0.00518134715025906755, 0.2168015093\n",
      "Modello 1: 0.005, 2.00, 0.00518134715025906755, 0.2168015093\n",
      "Modello 1: 0.005, 3.00, 0.00518134715025906755, 0.2168015093\n",
      "Modello 1: 0.005, 4.00, 0.00518134715025906755, 0.2168015093\n",
      "Modello 1: 0.005, 5.00, 0.00518134715025906755, 0.2168015093\n",
      "Modello 1: 0.005, 6.00, 0.00518134715025906755, 0.2168015093\n",
      "Modello 1: 0.005, 7.00, 0.00518134715025906755, 0.2168015093\n",
      "Modello 1: 0.005, 8.00, 0.00518134715025906755, 0.2168015093\n",
      "Modello 1: 0.005, 9.00, 0.00518134715025906755, 0.2168015093\n",
      "Modello 1: 0.005, 10.00, 0.00518134715025906755, 0.2168015093\n",
      "Modello 1: 0.010, 1.00, 0.00518134715025906755, 0.2168015093\n",
      "Modello 1: 0.010, 2.00, 0.00518134715025906755, 0.2168015093\n",
      "Modello 1: 0.010, 3.00, 0.00518134715025906755, 0.2168015093\n",
      "Modello 1: 0.010, 4.00, 0.00518134715025906755, 0.2168015093\n",
      "Modello 1: 0.010, 5.00, 0.00518134715025906755, 0.2168015093\n",
      "Modello 1: 0.010, 6.00, 0.00518134715025906755, 0.2168015093\n",
      "Modello 1: 0.010, 7.00, 0.00518134715025906755, 0.2168015093\n",
      "Modello 1: 0.010, 8.00, 0.00518134715025906755, 0.2168015093\n",
      "Modello 1: 0.010, 9.00, 0.00518134715025906755, 0.2168015093\n",
      "Modello 1: 0.010, 10.00, 0.00518134715025906755, 0.2168015093\n",
      "Modello 1: 0.020, 1.00, 0.00518134715025906755, 0.2168015093\n",
      "Modello 1: 0.020, 2.00, 0.00518134715025906755, 0.2168015093\n",
      "Modello 1: 0.020, 3.00, 0.00518134715025906755, 0.2168015093\n",
      "Modello 1: 0.020, 4.00, 0.00518134715025906755, 0.2168015093\n",
      "Modello 1: 0.020, 5.00, 0.00518134715025906755, 0.2168015093\n",
      "Modello 1: 0.020, 6.00, 0.00518134715025906755, 0.2168015093\n",
      "Modello 1: 0.020, 7.00, 0.00518134715025906755, 0.2168015093\n",
      "Modello 1: 0.020, 8.00, 0.00518134715025906755, 0.2168015093\n",
      "Modello 1: 0.020, 9.00, 0.00518134715025906755, 0.2168015093\n",
      "Modello 1: 0.020, 10.00, 0.00518134715025906755, 0.2168015093\n",
      "Modello 2: 0.001, 1.00, 0.00414507772020725369, 0.8617726017\n",
      "Modello 2: 0.001, 2.00, 0.00414507772020725369, 0.8284079530\n",
      "Modello 2: 0.001, 3.00, 0.00414507772020725369, 0.7950433043\n",
      "Modello 2: 0.001, 4.00, 0.00414507772020725369, 0.7616786556\n",
      "Modello 2: 0.001, 5.00, 0.00414507772020725369, 0.7283140069\n",
      "Modello 2: 0.001, 6.00, 0.00414507772020725369, 0.6949493581\n",
      "Modello 2: 0.001, 7.00, 0.00414507772020725369, 0.6615847094\n",
      "Modello 2: 0.001, 8.00, 0.00414507772020725369, 0.6282200607\n",
      "Modello 2: 0.001, 9.00, 0.00414507772020725369, 0.5948554120\n",
      "Modello 2: 0.001, 10.00, 0.00414507772020725369, 0.5614907633\n",
      "Modello 2: 0.005, 1.00, 0.00414507772020725369, 0.7283140069\n",
      "Modello 2: 0.005, 2.00, 0.00414507772020725369, 0.5614907633\n",
      "Modello 2: 0.005, 3.00, 0.00310880829015544027, 0.3946675197\n",
      "Modello 2: 0.005, 4.00, 0.00310880829015544027, 0.2278442761\n",
      "Modello 2: 0.005, 5.00, 0.00000000000000000000, 0.2142260522\n",
      "Modello 2: 0.005, 6.00, 0.00000000000000000000, 0.2142260522\n",
      "Modello 2: 0.005, 7.00, 0.00000000000000000000, 0.2142260522\n",
      "Modello 2: 0.005, 8.00, 0.00000000000000000000, 0.2142260522\n",
      "Modello 2: 0.005, 9.00, 0.00000000000000000000, 0.2142260522\n",
      "Modello 2: 0.005, 10.00, 0.00000000000000000000, 0.2142260522\n",
      "Modello 2: 0.010, 1.00, 0.00414507772020725369, 0.5614907633\n",
      "Modello 2: 0.010, 2.00, 0.00310880829015544027, 0.2278442761\n",
      "Modello 2: 0.010, 3.00, 0.00000000000000000000, 0.2142260522\n",
      "Modello 2: 0.010, 4.00, 0.00000000000000000000, 0.2142260522\n",
      "Modello 2: 0.010, 5.00, 0.00000000000000000000, 0.2142260522\n",
      "Modello 2: 0.010, 6.00, 0.00000000000000000000, 0.2142260522\n",
      "Modello 2: 0.010, 7.00, 0.00000000000000000000, 0.2142260522\n",
      "Modello 2: 0.010, 8.00, 0.00000000000000000000, 0.2142260522\n",
      "Modello 2: 0.010, 9.00, 0.00000000000000000000, 0.2142260522\n",
      "Modello 2: 0.010, 10.00, 0.00000000000000000000, 0.2142260522\n",
      "Modello 2: 0.020, 1.00, 0.00310880829015544027, 0.2278442761\n",
      "Modello 2: 0.020, 2.00, 0.00000000000000000000, 0.2142260522\n",
      "Modello 2: 0.020, 3.00, 0.00000000000000000000, 0.2142260522\n",
      "Modello 2: 0.020, 4.00, 0.00000000000000000000, 0.2142260522\n",
      "Modello 2: 0.020, 5.00, 0.00000000000000000000, 0.2142260522\n",
      "Modello 2: 0.020, 6.00, 0.00000000000000000000, 0.2142260522\n",
      "Modello 2: 0.020, 7.00, 0.00000000000000000000, 0.2142260522\n",
      "Modello 2: 0.020, 8.00, 0.00000000000000000000, 0.2142260522\n",
      "Modello 2: 0.020, 9.00, 0.00000000000000000000, 0.2142260522\n",
      "Modello 2: 0.020, 10.00, 0.00000000000000000000, 0.2142260522\n"
     ]
    }
   ],
   "source": [
    "fpr_ratios2 = [1.*i for i in range(1,11)]\n",
    "\n",
    "# Per ognuno dei modelli salvo numero di falsi negativi del classificatore e tau ottimale nelle relative strutture sulla\n",
    "# base del fprs e fpr_ratio target.\n",
    "for i in range(3):\n",
    "  for fpr in fprs:\n",
    "    for fpr_ratio in fpr_ratios2:\n",
    "      false_negs[i][(fpr,fpr_ratio)], taus[i][(fpr,fpr_ratio)] = build_LBF_classifier(models[i], fpr*fpr_ratio)\n",
    "      print(\"Modello %d: %.3f, %.2f, %.20f, %.10f\" % (i, fpr, fpr_ratio, len(false_negs[i][(fpr,fpr_ratio)])/len(phishing_URLs), taus[i][(fpr,fpr_ratio)]))\n",
    "      # print(len(false_negs[i][(fpr,fpr_ratio)])/len(phishing_URLs), taus[i][(fpr,fpr_ratio)])"
   ]
  },
  {
   "cell_type": "code",
   "execution_count": null,
   "metadata": {
    "id": "7nFKQ5xHPHzH"
   },
   "outputs": [],
   "source": [
    "np.save(loc+\"false_negs2\", false_negs)\n",
    "np.save(loc+\"taus2\", taus)"
   ]
  },
  {
   "cell_type": "code",
   "execution_count": null,
   "metadata": {
    "colab": {
     "base_uri": "https://localhost:8080/"
    },
    "id": "_FgSypqOX0eo",
    "outputId": "622c93c9-422c-42e6-b69a-a576faa52b4d"
   },
   "outputs": [
    {
     "name": "stdout",
     "output_type": "stream",
     "text": [
      "0.1 0.001 bad fpr_tau\n",
      "0.2 0.001 bad fpr_tau\n",
      "0.30000000000000004 0.001 bad fpr_tau\n",
      "0.4 0.001 bad fpr_tau\n",
      "0.5 0.001 bad fpr_tau\n",
      "0.6000000000000001 0.001 bad fpr_tau\n",
      "0.7000000000000001 0.001 bad fpr_tau\n",
      "0.8 0.001 bad fpr_tau\n",
      "0.9 0.001 bad fpr_tau\n",
      "Numero di falsi negativi = 0\n",
      "0.1 0.005 bad fpr_tau\n",
      "0.2 0.005 bad fpr_tau\n",
      "0.30000000000000004 0.005 bad fpr_tau\n",
      "0.4 0.005 bad fpr_tau\n",
      "0.5 0.005 bad fpr_tau\n",
      "0.6000000000000001 0.005 bad fpr_tau\n",
      "0.7000000000000001 0.005 bad fpr_tau\n",
      "0.8 0.005 bad fpr_tau\n",
      "0.9 0.005 bad fpr_tau\n",
      "Numero di falsi negativi = 0\n",
      "0.1 0.01 bad fpr_tau\n",
      "0.2 0.01 bad fpr_tau\n",
      "0.30000000000000004 0.01 bad fpr_tau\n",
      "0.4 0.01 bad fpr_tau\n",
      "0.5 0.01 bad fpr_tau\n",
      "0.6000000000000001 0.01 bad fpr_tau\n",
      "0.7000000000000001 0.01 bad fpr_tau\n",
      "0.8 0.01 bad fpr_tau\n",
      "0.9 0.01 bad fpr_tau\n",
      "Numero di falsi negativi = 0\n",
      "0.1 0.02 bad fpr_tau\n",
      "0.2 0.02 bad fpr_tau\n",
      "0.30000000000000004 0.02 bad fpr_tau\n",
      "0.4 0.02 bad fpr_tau\n",
      "0.5 0.02 bad fpr_tau\n",
      "0.6000000000000001 0.02 bad fpr_tau\n",
      "0.7000000000000001 0.02 bad fpr_tau\n",
      "0.8 0.02 bad fpr_tau\n",
      "0.9 0.02 bad fpr_tau\n",
      "Numero di falsi negativi = 0\n",
      "Numero di falsi negativi = 0\n",
      "Numero di falsi negativi = 0\n",
      "Numero di falsi negativi = 0\n",
      "Numero di falsi negativi = 0\n",
      "Numero di falsi negativi = 0\n",
      "Numero di falsi negativi = 0\n",
      "Numero di falsi negativi = 0\n",
      "Numero di falsi negativi = 0\n",
      "Numero di falsi negativi = 0\n",
      "Numero di falsi negativi = 0\n",
      "Numero di falsi negativi = 0\n",
      "Numero di falsi negativi = 0\n",
      "Numero di falsi negativi = 0\n",
      "Numero di falsi negativi = 0\n",
      "Numero di falsi negativi = 0\n",
      "Numero di falsi negativi = 0\n",
      "Numero di falsi negativi = 0\n",
      "Numero di falsi negativi = 0\n",
      "Numero di falsi negativi = 0\n",
      "Numero di falsi negativi = 0\n",
      "Numero di falsi negativi = 0\n",
      "Numero di falsi negativi = 0\n",
      "Numero di falsi negativi = 0\n",
      "Numero di falsi negativi = 0\n",
      "Numero di falsi negativi = 0\n",
      "Numero di falsi negativi = 0\n",
      "Numero di falsi negativi = 0\n",
      "Numero di falsi negativi = 0\n",
      "Numero di falsi negativi = 0\n",
      "Numero di falsi negativi = 0\n",
      "Numero di falsi negativi = 0\n",
      "Numero di falsi negativi = 0\n",
      "Numero di falsi negativi = 0\n",
      "Numero di falsi negativi = 0\n",
      "Numero di falsi negativi = 0\n",
      "Numero di falsi negativi = 0\n",
      "0.1 0.001 bad fpr_tau\n",
      "0.2 0.001 bad fpr_tau\n",
      "0.30000000000000004 0.001 bad fpr_tau\n",
      "0.4 0.001 bad fpr_tau\n",
      "0.5 0.001 bad fpr_tau\n",
      "0.6000000000000001 0.001 bad fpr_tau\n",
      "0.7000000000000001 0.001 bad fpr_tau\n",
      "0.8 0.001 bad fpr_tau\n",
      "0.9 0.001 bad fpr_tau\n",
      "0.001 0.04 17.0 0.00012180805206298828\n",
      "0.1 0.005 bad fpr_tau\n",
      "0.2 0.005 bad fpr_tau\n",
      "0.30000000000000004 0.005 bad fpr_tau\n",
      "0.4 0.005 bad fpr_tau\n",
      "0.5 0.005 bad fpr_tau\n",
      "0.6000000000000001 0.005 bad fpr_tau\n",
      "0.7000000000000001 0.005 bad fpr_tau\n",
      "0.8 0.005 bad fpr_tau\n",
      "0.9 0.005 bad fpr_tau\n",
      "0.005 0.04 14.875 7.654190063476563e-05\n",
      "0.1 0.01 bad fpr_tau\n",
      "0.2 0.01 bad fpr_tau\n",
      "0.30000000000000004 0.01 bad fpr_tau\n",
      "0.4 0.01 bad fpr_tau\n",
      "0.5 0.01 bad fpr_tau\n",
      "0.6000000000000001 0.01 bad fpr_tau\n",
      "0.7000000000000001 0.01 bad fpr_tau\n",
      "0.8 0.01 bad fpr_tau\n",
      "0.9 0.01 bad fpr_tau\n",
      "0.01 0.04 14.0 6.784439086914063e-05\n",
      "0.1 0.02 bad fpr_tau\n",
      "0.2 0.02 bad fpr_tau\n",
      "0.30000000000000004 0.02 bad fpr_tau\n",
      "0.4 0.02 bad fpr_tau\n",
      "0.5 0.02 bad fpr_tau\n",
      "0.6000000000000001 0.02 bad fpr_tau\n",
      "0.7000000000000001 0.02 bad fpr_tau\n",
      "0.8 0.02 bad fpr_tau\n",
      "0.9 0.02 bad fpr_tau\n",
      "0.02 0.04 13.125 7.277965545654297e-05\n",
      "0.001 0.04 190.125 5.497932434082031e-05\n",
      "0.001 0.02 291.5 5.43212890625e-05\n",
      "0.001 0.02 363.25 5.266666412353516e-05\n",
      "0.001 0.0 419.0 5.481719970703125e-05\n",
      "0.001 0.02 464.5 4.826068878173828e-05\n",
      "0.001 0.02 503.0 8.809566497802734e-05\n",
      "0.001 0.02 536.375 5.068302154541016e-05\n",
      "0.001 0.0 565.75 5.172252655029297e-05\n",
      "0.001 0.0 592.125 4.774093627929688e-05\n",
      "0.005 0.04 188.0 5.136966705322266e-05\n",
      "0.005 0.02 289.375 5.0244331359863283e-05\n",
      "0.005 0.02 361.125 4.9347877502441404e-05\n",
      "0.005 0.0 416.875 6.34145736694336e-05\n",
      "0.005 0.02 462.375 5.263805389404297e-05\n",
      "0.005 0.02 500.875 5.013465881347656e-05\n",
      "0.005 0.02 534.25 5.240917205810547e-05\n",
      "0.005 0.0 563.625 4.7254562377929685e-05\n",
      "0.005 0.0 590.0 4.909515380859375e-05\n",
      "0.01 0.04 187.125 4.913806915283203e-05\n",
      "0.01 0.02 288.375 4.893302917480469e-05\n",
      "0.01 0.02 360.125 5.236148834228516e-05\n",
      "0.01 0.0 416.0 4.98199462890625e-05\n",
      "0.01 0.02 461.5 4.7760009765625e-05\n",
      "0.01 0.02 499.875 6.315231323242187e-05\n",
      "0.01 0.02 533.375 4.810810089111328e-05\n",
      "0.01 0.0 562.625 4.8370361328125e-05\n",
      "0.01 0.0 589.0 4.945278167724609e-05\n",
      "0.02 0.04 186.125 5.4297447204589846e-05\n",
      "0.02 0.02 287.5 5.5761337280273436e-05\n",
      "0.02 0.02 359.25 7.275104522705078e-05\n",
      "0.02 0.0 415.0 4.764556884765625e-05\n",
      "0.02 0.02 460.5 4.694461822509766e-05\n",
      "0.02 0.02 498.875 5.03396987915039e-05\n",
      "0.02 0.02 532.25 4.801750183105469e-05\n",
      "0.02 0.0 561.625 4.979133605957031e-05\n",
      "0.02 0.0 588.0 5.935192108154297e-05\n",
      "0.1 0.001 bad fpr_tau\n",
      "0.2 0.001 bad fpr_tau\n",
      "0.30000000000000004 0.001 bad fpr_tau\n",
      "0.4 0.001 bad fpr_tau\n",
      "0.5 0.001 bad fpr_tau\n",
      "0.6000000000000001 0.001 bad fpr_tau\n",
      "0.7000000000000001 0.001 bad fpr_tau\n",
      "0.8 0.001 bad fpr_tau\n",
      "0.9 0.001 bad fpr_tau\n",
      "0.001 0.02 13.875 7.434368133544922e-05\n",
      "0.1 0.005 bad fpr_tau\n",
      "0.2 0.005 bad fpr_tau\n",
      "0.30000000000000004 0.005 bad fpr_tau\n",
      "0.4 0.005 bad fpr_tau\n",
      "0.5 0.005 bad fpr_tau\n",
      "0.6000000000000001 0.005 bad fpr_tau\n",
      "0.7000000000000001 0.005 bad fpr_tau\n",
      "0.8 0.005 bad fpr_tau\n",
      "0.9 0.005 bad fpr_tau\n",
      "0.005 0.02 12.125 6.981849670410156e-05\n",
      "0.1 0.01 bad fpr_tau\n",
      "0.2 0.01 bad fpr_tau\n",
      "0.30000000000000004 0.01 bad fpr_tau\n",
      "0.4 0.01 bad fpr_tau\n",
      "0.5 0.01 bad fpr_tau\n",
      "0.6000000000000001 0.01 bad fpr_tau\n",
      "0.7000000000000001 0.01 bad fpr_tau\n",
      "0.8 0.01 bad fpr_tau\n",
      "0.9 0.01 bad fpr_tau\n",
      "0.01 0.02 11.375 7.5531005859375e-05\n",
      "0.1 0.02 bad fpr_tau\n",
      "0.2 0.02 bad fpr_tau\n",
      "0.30000000000000004 0.02 bad fpr_tau\n",
      "0.4 0.02 bad fpr_tau\n",
      "0.5 0.02 bad fpr_tau\n",
      "0.6000000000000001 0.02 bad fpr_tau\n",
      "0.7000000000000001 0.02 bad fpr_tau\n",
      "0.8 0.02 bad fpr_tau\n",
      "0.9 0.02 bad fpr_tau\n",
      "0.02 0.02 8.25 8.573532104492188e-05\n",
      "0.001 0.02 187.125 5.988121032714844e-05\n",
      "0.001 0.0 288.375 5.0449371337890624e-05\n",
      "0.001 0.02 360.375 5.1670074462890625e-05\n",
      "0.001 0.0 416.125 4.879474639892578e-05\n",
      "0.001 0.0 461.875 5.3501129150390626e-05\n",
      "0.001 0.0 500.25 4.9896240234375e-05\n",
      "0.001 0.0 533.625 5.600452423095703e-05\n",
      "0.001 0.0 563.125 4.976749420166016e-05\n",
      "0.001 0.0 589.5 4.749774932861328e-05\n",
      "0.005 0.02 185.375 5.0067901611328125e-05\n",
      "0.005 0.0 284.25 5.069732666015625e-05\n",
      "0.005 0.02 356.25 4.90570068359375e-05\n",
      "Numero di falsi negativi = 0\n",
      "Numero di falsi negativi = 0\n",
      "Numero di falsi negativi = 0\n",
      "Numero di falsi negativi = 0\n",
      "Numero di falsi negativi = 0\n",
      "Numero di falsi negativi = 0\n",
      "0.01 0.02 182.25 5.126953125e-05\n",
      "Numero di falsi negativi = 0\n",
      "Numero di falsi negativi = 0\n",
      "Numero di falsi negativi = 0\n",
      "Numero di falsi negativi = 0\n",
      "Numero di falsi negativi = 0\n",
      "Numero di falsi negativi = 0\n",
      "Numero di falsi negativi = 0\n",
      "Numero di falsi negativi = 0\n",
      "Numero di falsi negativi = 0\n",
      "Numero di falsi negativi = 0\n",
      "Numero di falsi negativi = 0\n",
      "Numero di falsi negativi = 0\n",
      "Numero di falsi negativi = 0\n",
      "Numero di falsi negativi = 0\n",
      "Numero di falsi negativi = 0\n",
      "Numero di falsi negativi = 0\n",
      "Numero di falsi negativi = 0\n"
     ]
    }
   ],
   "source": [
    "SLBF_initials = {}\n",
    "SLBF_backups = {}\n",
    "\n",
    "# Per ognuno dei modelli salvo il filtro di backup e quello iniziale costruito sulla base del fpr e fpr_ratio target\n",
    "for i in range(3):\n",
    "  SLBF_initials[i] = {}\n",
    "  SLBF_backups[i] = {}\n",
    "  for fpr, fpr_ratio in false_negs[i].keys():\n",
    "    c=(1.-len(false_negs[i][(fpr,fpr_ratio)])/len(phishing_URLs))\n",
    "    # Se la tau non rispetta i bound\n",
    "    if(fpr_ratio < c or fpr*fpr_ratio > c):\n",
    "      print(fpr_ratio, fpr, \"bad fpr_tau\")\n",
    "      continue\n",
    "    try:\n",
    "      SLBF_initials[i][(fpr,fpr_ratio)] = build_SLBF_initial(false_negs[i][(fpr,fpr_ratio)], fpr, fpr*fpr_ratio)\n",
    "      SLBF_backups[i][(fpr,fpr_ratio)] = build_SLBF_backup(false_negs[i][(fpr,fpr_ratio)], fpr*fpr_ratio)\n",
    "      if(SLBF_backups[i][(fpr,fpr_ratio)] =='error' or SLBF_initials[i][(fpr,fpr_ratio)]=='error'):\n",
    "        continue\n",
    "      fpr0, BF_size, t = test_SLBF(SLBF_initials[i][(fpr,fpr_ratio)], models[i], SLBF_backups[i][(fpr,fpr_ratio)], taus[i][(fpr,fpr_ratio)])\n",
    "      print(fpr, fpr0, BF_size, t)\n",
    "      SLBF = {\"FPR\": fpr0, \"size\": BF_size+model_sizes[i], \"time\": t}\n",
    "      np.save(loc+\"SLBF_hid\"+str(h_sizes[i])+\"_FPR\"+str(fpr)+\"_ratio\"+str(fpr_ratio), SLBF)\n",
    "    except:\n",
    "      # Eccezione aggiunta per fn =0\n",
    "      print(\"Numero di falsi negativi = 0\")\n",
    "\n",
    "# for fpr, fpr_ratio in false_negs2.keys():\n",
    "#   c=(1.-len(false_negs2[(fpr,fpr_ratio)])/len(phishing_URLs))\n",
    "#   if(fpr_ratio < c or fpr*fpr_ratio > c):\n",
    "#     print(fpr_ratio, fpr, \"bad fpr_tau\")\n",
    "#     continue\n",
    "#   SLBF_keys += [(fpr,fpr_ratio)]\n",
    "#   SLBF_initials[(fpr,fpr_ratio)] = build_SLBF_initial(false_negs2[(fpr,fpr_ratio)], fpr, fpr*fpr_ratio)\n",
    "#   SLBF_backups[(fpr,fpr_ratio)] = build_SLBF_backup(false_negs2[(fpr,fpr_ratio)], fpr*fpr_ratio)\n",
    "#   if(SLBF_backups[(fpr,fpr_ratio)] =='error' or SLBF_initials[(fpr,fpr_ratio)]=='error'):\n",
    "#     continue\n",
    "#   fpr0, BF_size, t = test_SLBF(SLBF_initials[(fpr,fpr_ratio)], models[2], SLBF_backups[(fpr,fpr_ratio)], taus[(fpr,fpr_ratio)])\n",
    "#   print(fpr, fpr0, BF_size, t)\n",
    "#   SLBF = {\"FPR\": fpr0, \"size\": BF_size+model_sizes[2], \"time\": t}\n",
    "#   np.save(loc+\"SLBF_hid\"+str(h_sizes[2])+\"_FPR\"+str(fpr)+\"_ratio\"+str(fpr_ratio), SLBF)"
   ]
  },
  {
   "cell_type": "code",
   "execution_count": null,
   "metadata": {
    "id": "vHnVBihNRELn"
   },
   "outputs": [],
   "source": [
    "fnrs2 = {}\n",
    "# Per ognuno dei modelli costruisco un dataframe in cui salvo il rate di falsi negativi per ogni fpr e fprs_ratio\n",
    "for i in range(3):\n",
    "  fnrs2[i] = pd.DataFrame(index=fpr_ratios+fpr_ratios2, columns=fprs)\n",
    "  for fpr,fpr_ratio in false_negs[i].keys():\n",
    "      fnrs2[i].loc[fpr_ratio,fpr] = len(false_negs[i][(fpr,fpr_ratio)])/len(phishing_URLs)\n",
    "  # for fpr,fpr_ratio in false_negs2.keys():\n",
    "      # fnrs2[i].loc[fpr_ratio,fpr] = len(false_negs2[i][(fpr,fpr_ratio)])/len(phishing_URLs)"
   ]
  },
  {
   "cell_type": "code",
   "execution_count": null,
   "metadata": {
    "colab": {
     "base_uri": "https://localhost:8080/"
    },
    "id": "D5GCjbHza7Fp",
    "outputId": "1be4a37f-222b-4c2d-a745-03664b303066"
   },
   "outputs": [
    {
     "name": "stdout",
     "output_type": "stream",
     "text": [
      "error 0.1 0.001\n",
      "error 0.2 0.001\n",
      "error 0.30000000000000004 0.001\n",
      "error 0.4 0.001\n",
      "error 0.5 0.001\n",
      "error 0.6000000000000001 0.001\n",
      "error 0.7000000000000001 0.001\n",
      "error 0.8 0.001\n",
      "error 0.9 0.001\n",
      "error 1.0 0.001\n",
      "error 0.1 0.005\n",
      "error 0.2 0.005\n",
      "error 0.30000000000000004 0.005\n",
      "error 0.4 0.005\n",
      "error 0.5 0.005\n",
      "error 0.6000000000000001 0.005\n",
      "error 0.7000000000000001 0.005\n",
      "error 0.8 0.005\n",
      "error 0.9 0.005\n",
      "error 1.0 0.005\n",
      "error 0.1 0.01\n",
      "error 0.2 0.01\n",
      "error 0.30000000000000004 0.01\n",
      "error 0.4 0.01\n",
      "error 0.5 0.01\n",
      "error 0.6000000000000001 0.01\n",
      "error 0.7000000000000001 0.01\n",
      "error 0.8 0.01\n",
      "error 0.9 0.01\n",
      "error 1.0 0.01\n",
      "error 0.1 0.02\n",
      "error 0.2 0.02\n",
      "error 0.30000000000000004 0.02\n",
      "error 0.4 0.02\n",
      "error 0.5 0.02\n",
      "error 0.6000000000000001 0.02\n",
      "error 0.7000000000000001 0.02\n",
      "error 0.8 0.02\n",
      "error 0.9 0.02\n",
      "error 1.0 0.02\n",
      "error 2.0 0.001\n",
      "error 3.0 0.001\n",
      "error 4.0 0.001\n",
      "error 5.0 0.001\n",
      "error 6.0 0.001\n",
      "error 7.0 0.001\n",
      "error 8.0 0.001\n",
      "error 9.0 0.001\n",
      "error 10.0 0.001\n",
      "error 2.0 0.005\n",
      "error 3.0 0.005\n",
      "error 4.0 0.005\n",
      "error 5.0 0.005\n",
      "error 6.0 0.005\n",
      "error 7.0 0.005\n",
      "error 8.0 0.005\n",
      "error 9.0 0.005\n",
      "error 10.0 0.005\n",
      "error 2.0 0.01\n",
      "error 3.0 0.01\n",
      "error 4.0 0.01\n",
      "error 5.0 0.01\n",
      "error 6.0 0.01\n",
      "error 7.0 0.01\n",
      "error 8.0 0.01\n",
      "error 9.0 0.01\n",
      "error 10.0 0.01\n",
      "error 2.0 0.02\n",
      "error 3.0 0.02\n",
      "error 4.0 0.02\n",
      "error 5.0 0.02\n",
      "error 6.0 0.02\n",
      "error 7.0 0.02\n",
      "error 8.0 0.02\n",
      "error 9.0 0.02\n",
      "error 10.0 0.02\n",
      "error 0.1 0.001\n",
      "error 0.2 0.001\n",
      "error 0.30000000000000004 0.001\n",
      "error 0.4 0.001\n",
      "error 0.5 0.001\n",
      "error 0.6000000000000001 0.001\n",
      "error 0.7000000000000001 0.001\n",
      "error 0.8 0.001\n",
      "error 0.9 0.001\n",
      "0.04 6564.0 0.00012180805206298828\n",
      "error 0.1 0.005\n",
      "error 0.2 0.005\n",
      "error 0.30000000000000004 0.005\n",
      "error 0.4 0.005\n",
      "error 0.5 0.005\n",
      "error 0.6000000000000001 0.005\n",
      "error 0.7000000000000001 0.005\n",
      "error 0.8 0.005\n",
      "error 0.9 0.005\n",
      "0.04 6561.875 7.654190063476563e-05\n",
      "error 0.1 0.01\n",
      "error 0.2 0.01\n",
      "error 0.30000000000000004 0.01\n",
      "error 0.4 0.01\n",
      "error 0.5 0.01\n",
      "error 0.6000000000000001 0.01\n",
      "error 0.7000000000000001 0.01\n",
      "error 0.8 0.01\n",
      "error 0.9 0.01\n",
      "0.04 6561.0 6.784439086914063e-05\n",
      "error 0.1 0.02\n",
      "error 0.2 0.02\n",
      "error 0.30000000000000004 0.02\n",
      "error 0.4 0.02\n",
      "error 0.5 0.02\n",
      "error 0.6000000000000001 0.02\n",
      "error 0.7000000000000001 0.02\n",
      "error 0.8 0.02\n",
      "error 0.9 0.02\n",
      "0.04 6560.125 7.277965545654297e-05\n",
      "0.04 6737.125 5.497932434082031e-05\n",
      "0.02 6838.5 5.43212890625e-05\n",
      "0.02 6910.25 5.266666412353516e-05\n",
      "0.0 6966.0 5.481719970703125e-05\n",
      "0.02 7011.5 4.826068878173828e-05\n",
      "0.02 7050.0 8.809566497802734e-05\n",
      "0.02 7083.375 5.068302154541016e-05\n",
      "0.0 7112.75 5.172252655029297e-05\n",
      "0.0 7139.125 4.774093627929688e-05\n",
      "0.04 6735.0 5.136966705322266e-05\n",
      "0.02 6836.375 5.0244331359863283e-05\n",
      "0.02 6908.125 4.9347877502441404e-05\n",
      "0.0 6963.875 6.34145736694336e-05\n",
      "0.02 7009.375 5.263805389404297e-05\n",
      "0.02 7047.875 5.013465881347656e-05\n",
      "0.02 7081.25 5.240917205810547e-05\n",
      "0.0 7110.625 4.7254562377929685e-05\n",
      "0.0 7137.0 4.909515380859375e-05\n",
      "0.04 6734.125 4.913806915283203e-05\n",
      "0.02 6835.375 4.893302917480469e-05\n",
      "0.02 6907.125 5.236148834228516e-05\n",
      "0.0 6963.0 4.98199462890625e-05\n",
      "0.02 7008.5 4.7760009765625e-05\n",
      "0.02 7046.875 6.315231323242187e-05\n",
      "0.02 7080.375 4.810810089111328e-05\n",
      "0.0 7109.625 4.8370361328125e-05\n",
      "0.0 7136.0 4.945278167724609e-05\n",
      "0.04 6733.125 5.4297447204589846e-05\n",
      "0.02 6834.5 5.5761337280273436e-05\n",
      "0.02 6906.25 7.275104522705078e-05\n",
      "0.0 6962.0 4.764556884765625e-05\n",
      "0.02 7007.5 4.694461822509766e-05\n",
      "0.02 7045.875 5.03396987915039e-05\n",
      "0.02 7079.25 4.801750183105469e-05\n",
      "0.0 7108.625 4.979133605957031e-05\n",
      "0.0 7135.0 5.935192108154297e-05\n",
      "error 0.1 0.001\n",
      "error 0.2 0.001\n",
      "error 0.30000000000000004 0.001\n",
      "error 0.4 0.001\n",
      "error 0.5 0.001\n",
      "error 0.6000000000000001 0.001\n",
      "error 0.7000000000000001 0.001\n",
      "error 0.8 0.001\n",
      "error 0.9 0.001\n",
      "0.02 5600.875 7.434368133544922e-05\n",
      "error 0.1 0.005\n",
      "error 0.2 0.005\n",
      "error 0.30000000000000004 0.005\n",
      "error 0.4 0.005\n",
      "error 0.5 0.005\n",
      "error 0.6000000000000001 0.005\n",
      "error 0.7000000000000001 0.005\n",
      "error 0.8 0.005\n",
      "error 0.9 0.005\n",
      "0.02 5599.125 6.981849670410156e-05\n",
      "error 0.1 0.01\n",
      "error 0.2 0.01\n",
      "error 0.30000000000000004 0.01\n",
      "error 0.4 0.01\n",
      "error 0.5 0.01\n",
      "error 0.6000000000000001 0.01\n",
      "error 0.7000000000000001 0.01\n",
      "error 0.8 0.01\n",
      "error 0.9 0.01\n",
      "0.02 5598.375 7.5531005859375e-05\n",
      "error 0.1 0.02\n",
      "error 0.2 0.02\n",
      "error 0.30000000000000004 0.02\n",
      "error 0.4 0.02\n",
      "error 0.5 0.02\n",
      "error 0.6000000000000001 0.02\n",
      "error 0.7000000000000001 0.02\n",
      "error 0.8 0.02\n",
      "error 0.9 0.02\n",
      "0.02 5595.25 8.573532104492188e-05\n",
      "0.02 5774.125 5.988121032714844e-05\n",
      "0.0 5875.375 5.0449371337890624e-05\n",
      "0.02 5947.375 5.1670074462890625e-05\n",
      "0.0 6003.125 4.879474639892578e-05\n",
      "0.0 6048.875 5.3501129150390626e-05\n",
      "0.0 6087.25 4.9896240234375e-05\n",
      "0.0 6120.625 5.600452423095703e-05\n",
      "0.0 6150.125 4.976749420166016e-05\n",
      "0.0 6176.5 4.749774932861328e-05\n",
      "0.02 5772.375 5.0067901611328125e-05\n",
      "0.0 5871.25 5.069732666015625e-05\n",
      "0.02 5943.25 4.90570068359375e-05\n",
      "error 5.0 0.005\n",
      "error 6.0 0.005\n",
      "error 7.0 0.005\n",
      "error 8.0 0.005\n",
      "error 9.0 0.005\n",
      "error 10.0 0.005\n",
      "0.02 5769.25 5.126953125e-05\n",
      "error 3.0 0.01\n",
      "error 4.0 0.01\n",
      "error 5.0 0.01\n",
      "error 6.0 0.01\n",
      "error 7.0 0.01\n",
      "error 8.0 0.01\n",
      "error 9.0 0.01\n",
      "error 10.0 0.01\n",
      "error 2.0 0.02\n",
      "error 3.0 0.02\n",
      "error 4.0 0.02\n",
      "error 5.0 0.02\n",
      "error 6.0 0.02\n",
      "error 7.0 0.02\n",
      "error 8.0 0.02\n",
      "error 9.0 0.02\n",
      "error 10.0 0.02\n"
     ]
    }
   ],
   "source": [
    "true_fpr_SLBF = {}\n",
    "sizes_SLBF = {}\n",
    "times_SLBF = {}\n",
    "\n",
    "# Per ogni modello salvo in base a fpr, fpr_ratio target l'frp empirico, la grandezza ed il tempo di accesso per elemento\n",
    "# del SLBF relativo\n",
    "# Utile per i grafici successivi\n",
    "for i in range(3):\n",
    "  true_fpr_SLBF[i] = pd.DataFrame(index = fpr_ratios+fpr_ratios2, columns = fprs)\n",
    "  sizes_SLBF[i] = pd.DataFrame(index = fpr_ratios+fpr_ratios2, columns = fprs)\n",
    "  times_SLBF[i] = pd.DataFrame(index = fpr_ratios+fpr_ratios2, columns = fprs)\n",
    "  for fpr,fpr_ratio in false_negs[i].keys():\n",
    "    try:\n",
    "      SLBF = np.load(loc+\"SLBF_hid\"+str(h_sizes[i])+\"_FPR\"+str(fpr)+\"_ratio\"+str(fpr_ratio)+\".npy\", allow_pickle=True).item()\n",
    "      true_fpr_SLBF[i].loc[fpr_ratio,fpr] = SLBF['FPR']\n",
    "      sizes_SLBF[i].loc[fpr_ratio,fpr] = SLBF['size']\n",
    "      times_SLBF[i].loc[fpr_ratio,fpr] = SLBF['time']\n",
    "      print(SLBF['FPR'], SLBF['size'], SLBF['time'])\n",
    "    except:\n",
    "      print(\"error\", fpr_ratio, fpr) # Bad tau + false negs = 0\n",
    "      continue\n",
    "\n",
    "# for fpr,fpr_ratio in false_negs2.keys():\n",
    "#   try:\n",
    "#     SLBF = np.load(loc+\"SLBF_hid\"+str(h_sizes[2])+\"_FPR\"+str(fpr)+\"_ratio\"+str(fpr_ratio)+\".npy\").item()\n",
    "#     true_fpr_SLBF.loc[fpr_ratio,fpr] = SLBF['FPR']\n",
    "#     sizes_SLBF.loc[fpr_ratio,fpr] = SLBF['size']\n",
    "#     times_SLBF.loc[fpr_ratio,fpr] = SLBF['time']\n",
    "#     print(SLBF['FPR'], SLBF['size'], SLBF['time'])\n",
    "#   except:\n",
    "#     print(\"error\")\n",
    "#     continue\n"
   ]
  },
  {
   "cell_type": "code",
   "execution_count": null,
   "metadata": {
    "colab": {
     "base_uri": "https://localhost:8080/",
     "height": 175
    },
    "id": "BzobK5D4_2zU",
    "outputId": "b9d572e1-1827-43d7-82d3-710c96feeea9"
   },
   "outputs": [
    {
     "data": {
      "image/png": "[encoded data removed]",
      "text/plain": [
       "<Figure size 864x216 with 3 Axes>"
      ]
     },
     "metadata": {
      "needs_background": "light",
      "tags": []
     },
     "output_type": "display_data"
    }
   ],
   "source": [
    "f,ax = plt.subplots(1,3,figsize=(12,3))\n",
    "for i in range(3):\n",
    "  fnrs2[i].plot(ax=ax[i])\n",
    "  ax[i].legend(fontsize='xx-small')\n",
    "  ax[i].set_xlabel(\"Classifier FPR ratio\")\n",
    "  ax[i].set_ylabel(\"Classifier False Negative Rate\")\n",
    "  ax[i].set_title(\"SLBF with \"+str(h_sizes[i])+\" dimensional GRU\")\n",
    "plt.tight_layout()\n",
    "plt.show()\n",
    "f.savefig(plot_loc+\"SLBF_classifier_FNR.png\")\n",
    "\n",
    "# FPR_tau/FPR forced to stay between 0 and 1, "
   ]
  },
  {
   "cell_type": "code",
   "execution_count": null,
   "metadata": {
    "colab": {
     "base_uri": "https://localhost:8080/",
     "height": 175
    },
    "id": "QNiur-d0a7js",
    "outputId": "52527139-4d8c-42f8-a30c-72e9ef0c5b4c"
   },
   "outputs": [
    {
     "data": {
      "image/png": "[encoded data removed]",
      "text/plain": [
       "<Figure size 864x216 with 3 Axes>"
      ]
     },
     "metadata": {
      "needs_background": "light",
      "tags": []
     },
     "output_type": "display_data"
    }
   ],
   "source": [
    "f,ax=plt.subplots(1,3,figsize=(12,3))\n",
    "for i in range(3):\n",
    "  true_fpr_SLBF[i].plot(ax=ax[i])\n",
    "  ax[i].legend(fontsize='xx-small')\n",
    "  ax[i].set_xlabel(\"Classifier FPR ratio\")\n",
    "  ax[i].set_ylabel(\"Overall FPR\")\n",
    "  ax[i].set_title(\"SLBF with \"+str(h_sizes[i])+\" dimensional GRU\")\n",
    "plt.tight_layout()\n",
    "plt.show()\n",
    "f.savefig(plot_loc+\"SLBF_fpr.png\")\n"
   ]
  },
  {
   "cell_type": "code",
   "execution_count": null,
   "metadata": {
    "colab": {
     "base_uri": "https://localhost:8080/",
     "height": 175
    },
    "id": "_pNg7Rysbh5c",
    "outputId": "83c31800-4a59-4960-9826-7a4a492c79e9"
   },
   "outputs": [
    {
     "data": {
      "image/png": "[encoded data removed]",
      "text/plain": [
       "<Figure size 864x216 with 3 Axes>"
      ]
     },
     "metadata": {
      "needs_background": "light",
      "tags": []
     },
     "output_type": "display_data"
    }
   ],
   "source": [
    "f, ax = plt.subplots(1,3,figsize=(12,3))\n",
    "for i in range(3):\n",
    "  sizes_SLBF[i].plot(ax=ax[i])\n",
    "  ax[i].legend(fontsize='xx-small')\n",
    "  ax[i].set_xlabel(\"Classifier FPR ratio\")\n",
    "  ax[i].set_ylabel(\"Total Size of SLBF\")\n",
    "  ax[i].set_title(\"SLBF with \"+str(h_sizes[i])+\" dimensional GRU\")\n",
    "plt.tight_layout()\n",
    "plt.show()\n",
    "f.savefig(plot_loc+\"SLBF_size.png\")\n",
    "\n",
    "\n",
    "#size is best when ratio = 1"
   ]
  },
  {
   "cell_type": "code",
   "execution_count": null,
   "metadata": {
    "colab": {
     "base_uri": "https://localhost:8080/"
    },
    "id": "GpK6Q5xbh87k",
    "outputId": "c54ed12e-8c6c-4188-95d1-61c8bbdf5c67"
   },
   "outputs": [
    {
     "name": "stdout",
     "output_type": "stream",
     "text": [
      "error\n",
      "error\n",
      "error\n",
      "error\n",
      "error\n",
      "error\n",
      "error\n",
      "error\n",
      "error\n",
      "error\n",
      "error\n",
      "error\n",
      "error\n",
      "error\n",
      "error\n",
      "error\n",
      "error\n",
      "error\n",
      "error\n",
      "error\n",
      "error\n",
      "error\n",
      "error\n",
      "error\n",
      "error\n",
      "error\n",
      "error\n",
      "error\n",
      "error\n",
      "error\n",
      "error\n",
      "error\n",
      "error\n",
      "error\n",
      "error\n",
      "error\n",
      "error\n",
      "error\n",
      "error\n",
      "error\n",
      "error\n",
      "error\n",
      "error\n",
      "error\n",
      "error\n",
      "error\n",
      "error\n",
      "error\n",
      "error\n",
      "error\n",
      "error\n",
      "error\n",
      "error\n",
      "error\n",
      "error\n",
      "error\n",
      "error\n",
      "error\n",
      "error\n",
      "error\n",
      "error\n",
      "error\n",
      "error\n",
      "error\n",
      "error\n",
      "error\n",
      "error\n",
      "error\n",
      "error\n",
      "error\n",
      "error\n",
      "error\n",
      "error\n",
      "error\n",
      "error\n",
      "error\n",
      "error\n",
      "error\n",
      "error\n",
      "error\n",
      "error\n",
      "error\n",
      "error\n",
      "error\n",
      "error\n",
      "error\n",
      "error\n",
      "error\n",
      "error\n",
      "error\n",
      "error\n",
      "error\n",
      "error\n",
      "error\n",
      "error\n",
      "error\n",
      "error\n",
      "error\n",
      "error\n",
      "error\n",
      "error\n",
      "error\n",
      "error\n",
      "error\n",
      "error\n",
      "error\n",
      "error\n",
      "error\n",
      "error\n",
      "error\n",
      "error\n",
      "error\n",
      "error\n",
      "error\n",
      "error\n",
      "error\n",
      "error\n",
      "error\n",
      "error\n",
      "error\n"
     ]
    }
   ],
   "source": [
    "true_fpr_LBF_LH = {}\n",
    "sizes_LBF_LH = {}\n",
    "times_LBF_LH = {}\n",
    "for i in range(3):\n",
    "  true_fpr_LBF_LH[i] = pd.DataFrame(index = fpr_ratios, columns = fprs)\n",
    "  sizes_LBF_LH[i] = pd.DataFrame(index = fpr_ratios, columns = fprs)\n",
    "  times_LBF_LH[i] = pd.DataFrame(index = fpr_ratios, columns = fprs)\n",
    "  for fpr in fprs:\n",
    "    for fpr_ratio in fpr_ratios:\n",
    "      try:\n",
    "        LBF = np.load(loc+\"LBF_LH_hid\"+str(h_sizes[i])+\"_FPR\"+str(fpr)+\"_ratio\"+str(fpr_ratio)+\".npy\", allow_pickle=True).item()\n",
    "        true_fpr_LBF_LH[i].loc[fpr_ratio,fpr] = LBF['FPR']\n",
    "        sizes_LBF_LH[i].loc[fpr_ratio,fpr] = LBF['size']\n",
    "        times_LBF_LH[i].loc[fpr_ratio,fpr] = LBF['time']\n",
    "        print(LBF['FPR'], LBF['size'], LBF['time'])\n",
    "      except:\n",
    "        print(\"error\")\n",
    "        continue\n"
   ]
  },
  {
   "cell_type": "code",
   "execution_count": null,
   "metadata": {
    "id": "n-iz_0jFgLjh"
   },
   "outputs": [],
   "source": [
    "# Grafici attualmente non funzionanti, da sistemare\n",
    "\n",
    "x_BF = []\n",
    "y_BF = []\n",
    "for b in BF_sizes.keys():\n",
    "  x_BF += [b]\n",
    "  y_BF += [BF_sizes[b]]"
   ]
  },
  {
   "cell_type": "code",
   "execution_count": null,
   "metadata": {
    "colab": {
     "base_uri": "https://localhost:8080/",
     "height": 570
    },
    "id": "yzcEpD4rsuoh",
    "outputId": "9c7a94af-6bba-44bd-d209-ee2e320ef217"
   },
   "outputs": [
    {
     "ename": "ValueError",
     "evalue": "ignored",
     "output_type": "error",
     "traceback": [
      "\u001b[0;31m---------------------------------------------------------------------------\u001b[0m",
      "\u001b[0;31mValueError\u001b[0m                                Traceback (most recent call last)",
      "\u001b[0;32m<ipython-input-180-fcea6bf66efe>\u001b[0m in \u001b[0;36m<module>\u001b[0;34m()\u001b[0m\n\u001b[1;32m     24\u001b[0m   \u001b[0max\u001b[0m\u001b[0;34m[\u001b[0m\u001b[0mi\u001b[0m\u001b[0;34m]\u001b[0m\u001b[0;34m.\u001b[0m\u001b[0mscatter\u001b[0m\u001b[0;34m(\u001b[0m\u001b[0mx_SLBF\u001b[0m\u001b[0;34m,\u001b[0m\u001b[0my_SLBF\u001b[0m\u001b[0;34m,\u001b[0m \u001b[0mlabel\u001b[0m \u001b[0;34m=\u001b[0m \u001b[0;34m'SLBF'\u001b[0m\u001b[0;34m,\u001b[0m \u001b[0mmarker\u001b[0m\u001b[0;34m=\u001b[0m\u001b[0;34m'.'\u001b[0m\u001b[0;34m)\u001b[0m\u001b[0;34m\u001b[0m\u001b[0;34m\u001b[0m\u001b[0m\n\u001b[1;32m     25\u001b[0m   \u001b[0max\u001b[0m\u001b[0;34m[\u001b[0m\u001b[0mi\u001b[0m\u001b[0;34m]\u001b[0m\u001b[0;34m.\u001b[0m\u001b[0mplot\u001b[0m\u001b[0;34m(\u001b[0m\u001b[0mtrue_fpr_LBF\u001b[0m\u001b[0;34m[\u001b[0m\u001b[0mi\u001b[0m\u001b[0;34m]\u001b[0m\u001b[0;34m.\u001b[0m\u001b[0mcolumns\u001b[0m\u001b[0;34m,\u001b[0m\u001b[0mz_LBF\u001b[0m\u001b[0;34m)\u001b[0m\u001b[0;34m\u001b[0m\u001b[0;34m\u001b[0m\u001b[0m\n\u001b[0;32m---> 26\u001b[0;31m   \u001b[0max\u001b[0m\u001b[0;34m[\u001b[0m\u001b[0mi\u001b[0m\u001b[0;34m]\u001b[0m\u001b[0;34m.\u001b[0m\u001b[0mplot\u001b[0m\u001b[0;34m(\u001b[0m\u001b[0mtrue_fpr_SLBF\u001b[0m\u001b[0;34m[\u001b[0m\u001b[0mi\u001b[0m\u001b[0;34m]\u001b[0m\u001b[0;34m.\u001b[0m\u001b[0mcolumns\u001b[0m\u001b[0;34m,\u001b[0m\u001b[0mz_SLBF\u001b[0m\u001b[0;34m)\u001b[0m\u001b[0;34m\u001b[0m\u001b[0;34m\u001b[0m\u001b[0m\n\u001b[0m\u001b[1;32m     27\u001b[0m   \u001b[0max\u001b[0m\u001b[0;34m[\u001b[0m\u001b[0mi\u001b[0m\u001b[0;34m]\u001b[0m\u001b[0;34m.\u001b[0m\u001b[0mset_title\u001b[0m\u001b[0;34m(\u001b[0m\u001b[0mstr\u001b[0m\u001b[0;34m(\u001b[0m\u001b[0mh_sizes\u001b[0m\u001b[0;34m[\u001b[0m\u001b[0mi\u001b[0m\u001b[0;34m]\u001b[0m\u001b[0;34m)\u001b[0m\u001b[0;34m+\u001b[0m\u001b[0;34m\" dimensional GRU\"\u001b[0m\u001b[0;34m)\u001b[0m\u001b[0;34m\u001b[0m\u001b[0;34m\u001b[0m\u001b[0m\n\u001b[1;32m     28\u001b[0m   \u001b[0max\u001b[0m\u001b[0;34m[\u001b[0m\u001b[0mi\u001b[0m\u001b[0;34m]\u001b[0m\u001b[0;34m.\u001b[0m\u001b[0mset_xlabel\u001b[0m\u001b[0;34m(\u001b[0m\u001b[0;34m\"Observed FPR\"\u001b[0m\u001b[0;34m)\u001b[0m\u001b[0;34m\u001b[0m\u001b[0;34m\u001b[0m\u001b[0m\n",
      "\u001b[0;32m/usr/local/lib/python3.7/dist-packages/matplotlib/axes/_axes.py\u001b[0m in \u001b[0;36mplot\u001b[0;34m(self, scalex, scaley, data, *args, **kwargs)\u001b[0m\n\u001b[1;32m   1645\u001b[0m         \"\"\"\n\u001b[1;32m   1646\u001b[0m         \u001b[0mkwargs\u001b[0m \u001b[0;34m=\u001b[0m \u001b[0mcbook\u001b[0m\u001b[0;34m.\u001b[0m\u001b[0mnormalize_kwargs\u001b[0m\u001b[0;34m(\u001b[0m\u001b[0mkwargs\u001b[0m\u001b[0;34m,\u001b[0m \u001b[0mmlines\u001b[0m\u001b[0;34m.\u001b[0m\u001b[0mLine2D\u001b[0m\u001b[0;34m)\u001b[0m\u001b[0;34m\u001b[0m\u001b[0;34m\u001b[0m\u001b[0m\n\u001b[0;32m-> 1647\u001b[0;31m         \u001b[0mlines\u001b[0m \u001b[0;34m=\u001b[0m \u001b[0;34m[\u001b[0m\u001b[0;34m*\u001b[0m\u001b[0mself\u001b[0m\u001b[0;34m.\u001b[0m\u001b[0m_get_lines\u001b[0m\u001b[0;34m(\u001b[0m\u001b[0;34m*\u001b[0m\u001b[0margs\u001b[0m\u001b[0;34m,\u001b[0m \u001b[0mdata\u001b[0m\u001b[0;34m=\u001b[0m\u001b[0mdata\u001b[0m\u001b[0;34m,\u001b[0m \u001b[0;34m**\u001b[0m\u001b[0mkwargs\u001b[0m\u001b[0;34m)\u001b[0m\u001b[0;34m]\u001b[0m\u001b[0;34m\u001b[0m\u001b[0;34m\u001b[0m\u001b[0m\n\u001b[0m\u001b[1;32m   1648\u001b[0m         \u001b[0;32mfor\u001b[0m \u001b[0mline\u001b[0m \u001b[0;32min\u001b[0m \u001b[0mlines\u001b[0m\u001b[0;34m:\u001b[0m\u001b[0;34m\u001b[0m\u001b[0;34m\u001b[0m\u001b[0m\n\u001b[1;32m   1649\u001b[0m             \u001b[0mself\u001b[0m\u001b[0;34m.\u001b[0m\u001b[0madd_line\u001b[0m\u001b[0;34m(\u001b[0m\u001b[0mline\u001b[0m\u001b[0;34m)\u001b[0m\u001b[0;34m\u001b[0m\u001b[0;34m\u001b[0m\u001b[0m\n",
      "\u001b[0;32m/usr/local/lib/python3.7/dist-packages/matplotlib/axes/_base.py\u001b[0m in \u001b[0;36m__call__\u001b[0;34m(self, *args, **kwargs)\u001b[0m\n\u001b[1;32m    214\u001b[0m                 \u001b[0mthis\u001b[0m \u001b[0;34m+=\u001b[0m \u001b[0margs\u001b[0m\u001b[0;34m[\u001b[0m\u001b[0;36m0\u001b[0m\u001b[0;34m]\u001b[0m\u001b[0;34m,\u001b[0m\u001b[0;34m\u001b[0m\u001b[0;34m\u001b[0m\u001b[0m\n\u001b[1;32m    215\u001b[0m                 \u001b[0margs\u001b[0m \u001b[0;34m=\u001b[0m \u001b[0margs\u001b[0m\u001b[0;34m[\u001b[0m\u001b[0;36m1\u001b[0m\u001b[0;34m:\u001b[0m\u001b[0;34m]\u001b[0m\u001b[0;34m\u001b[0m\u001b[0;34m\u001b[0m\u001b[0m\n\u001b[0;32m--> 216\u001b[0;31m             \u001b[0;32myield\u001b[0m \u001b[0;32mfrom\u001b[0m \u001b[0mself\u001b[0m\u001b[0;34m.\u001b[0m\u001b[0m_plot_args\u001b[0m\u001b[0;34m(\u001b[0m\u001b[0mthis\u001b[0m\u001b[0;34m,\u001b[0m \u001b[0mkwargs\u001b[0m\u001b[0;34m)\u001b[0m\u001b[0;34m\u001b[0m\u001b[0;34m\u001b[0m\u001b[0m\n\u001b[0m\u001b[1;32m    217\u001b[0m \u001b[0;34m\u001b[0m\u001b[0m\n\u001b[1;32m    218\u001b[0m     \u001b[0;32mdef\u001b[0m \u001b[0mget_next_color\u001b[0m\u001b[0;34m(\u001b[0m\u001b[0mself\u001b[0m\u001b[0;34m)\u001b[0m\u001b[0;34m:\u001b[0m\u001b[0;34m\u001b[0m\u001b[0;34m\u001b[0m\u001b[0m\n",
      "\u001b[0;32m/usr/local/lib/python3.7/dist-packages/matplotlib/axes/_base.py\u001b[0m in \u001b[0;36m_plot_args\u001b[0;34m(self, tup, kwargs)\u001b[0m\n\u001b[1;32m    340\u001b[0m \u001b[0;34m\u001b[0m\u001b[0m\n\u001b[1;32m    341\u001b[0m         \u001b[0;32mif\u001b[0m \u001b[0mx\u001b[0m\u001b[0;34m.\u001b[0m\u001b[0mshape\u001b[0m\u001b[0;34m[\u001b[0m\u001b[0;36m0\u001b[0m\u001b[0;34m]\u001b[0m \u001b[0;34m!=\u001b[0m \u001b[0my\u001b[0m\u001b[0;34m.\u001b[0m\u001b[0mshape\u001b[0m\u001b[0;34m[\u001b[0m\u001b[0;36m0\u001b[0m\u001b[0;34m]\u001b[0m\u001b[0;34m:\u001b[0m\u001b[0;34m\u001b[0m\u001b[0;34m\u001b[0m\u001b[0m\n\u001b[0;32m--> 342\u001b[0;31m             raise ValueError(f\"x and y must have same first dimension, but \"\n\u001b[0m\u001b[1;32m    343\u001b[0m                              f\"have shapes {x.shape} and {y.shape}\")\n\u001b[1;32m    344\u001b[0m         \u001b[0;32mif\u001b[0m \u001b[0mx\u001b[0m\u001b[0;34m.\u001b[0m\u001b[0mndim\u001b[0m \u001b[0;34m>\u001b[0m \u001b[0;36m2\u001b[0m \u001b[0;32mor\u001b[0m \u001b[0my\u001b[0m\u001b[0;34m.\u001b[0m\u001b[0mndim\u001b[0m \u001b[0;34m>\u001b[0m \u001b[0;36m2\u001b[0m\u001b[0;34m:\u001b[0m\u001b[0;34m\u001b[0m\u001b[0;34m\u001b[0m\u001b[0m\n",
      "\u001b[0;31mValueError\u001b[0m: x and y must have same first dimension, but have shapes (4,) and (0,)"
     ]
    },
    {
     "data": {
      "image/png": "[encoded data removed]",
      "text/plain": [
       "<Figure size 864x216 with 3 Axes>"
      ]
     },
     "metadata": {
      "needs_background": "light",
      "tags": []
     },
     "output_type": "display_data"
    }
   ],
   "source": [
    "f,ax = plt.subplots(1,3,figsize=(12,3))\n",
    "for i in range(3):\n",
    "  x_LBF = []\n",
    "  y_LBF = []\n",
    "  z_LBF = []\n",
    "  x_SLBF = []\n",
    "  y_SLBF = []\n",
    "  z_SLBF = []\n",
    "  for j1 in range(true_fpr_LBF[i].shape[1]):\n",
    "    for j0 in range(true_fpr_LBF[i].shape[0]):\n",
    "      x_LBF += [true_fpr_LBF[i].iloc[j0,j1]]\n",
    "      y_LBF += [sizes_LBF[i].iloc[j0,j1]]\n",
    "    z_LBF += [min(sizes_LBF[i].iloc[:,j1])]\n",
    "  \n",
    "  for j1 in range(true_fpr_SLBF[i].shape[1]):\n",
    "    for j0 in range(true_fpr_SLBF[i].shape[0]):\n",
    "      if sizes_SLBF[i].dropna().iloc[:,j1].size != 0:\n",
    "        if(true_fpr_SLBF[i].index[j0] >= 1.):\n",
    "          x_SLBF += [true_fpr_SLBF[i].iloc[j0,j1]]\n",
    "          y_SLBF += [sizes_SLBF[i].iloc[j0,j1]]\n",
    "        z_SLBF += [min(sizes_SLBF[i].dropna().iloc[:,j1])]\n",
    "        \n",
    "  ax[i].scatter(x_LBF,y_LBF, label = 'LBF', marker='.')\n",
    "  ax[i].scatter(x_SLBF,y_SLBF, label = 'SLBF', marker='.')\n",
    "  ax[i].plot(true_fpr_LBF[i].columns,z_LBF)\n",
    "  ax[i].plot(true_fpr_SLBF[i].columns,z_SLBF)\n",
    "  ax[i].set_title(str(h_sizes[i])+\" dimensional GRU\")\n",
    "  ax[i].set_xlabel(\"Observed FPR\")\n",
    "  ax[i].set_ylabel(\"Total Size (bytes)\")\n",
    "  ax[i].set_xlim(left=0, right=0.03)\n",
    "  ax[i].legend(fontsize='xx-small')\n",
    "plt.tight_layout()\n",
    "plt.show()\n",
    "f.savefig(plot_loc+\"comparison_size_min.png\")"
   ]
  }
 ],
 "metadata": {
  "accelerator": "GPU",
  "colab": {
   "collapsed_sections": [],
   "name": "Copia di phishing_RNN.ipynb",
   "provenance": [],
   "toc_visible": true
  },
  "kernelspec": {
   "name": "python3",
   "display_name": "Python 3.8.8 64-bit ('LBF_env': conda)",
   "metadata": {
    "interpreter": {
     "hash": "fc960bd88b6de3be2e933676e1dddaf4ceced8c89382de2c723adef30de2b147"
    }
   }
  },
  "language_info": {
   "codemirror_mode": {
    "name": "ipython",
    "version": 3
   },
   "file_extension": ".py",
   "mimetype": "text/x-python",
   "name": "python",
   "nbconvert_exporter": "python",
   "pygments_lexer": "ipython3",
   "version": "3.8.8-final"
  }
 },
 "nbformat": 4,
 "nbformat_minor": 1
}